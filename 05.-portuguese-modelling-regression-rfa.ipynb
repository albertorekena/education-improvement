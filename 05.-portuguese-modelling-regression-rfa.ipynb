{
 "cells": [
  {
   "cell_type": "code",
   "execution_count": 1,
   "metadata": {},
   "outputs": [],
   "source": [
    "import numpy as np\n",
    "import pandas as pd\n",
    "\n",
    "import matplotlib.pyplot as plt\n",
    "import seaborn as sns\n",
    "%matplotlib inline\n",
    "\n",
    "from sklearn.preprocessing import MinMaxScaler\n",
    "\n",
    "from sklearn.model_selection import train_test_split\n",
    "from sklearn.model_selection import GridSearchCV\n",
    "\n",
    "from sklearn.linear_model import LinearRegression\n",
    "from sklearn.tree import DecisionTreeRegressor\n",
    "from sklearn.ensemble import RandomForestRegressor\n",
    "import xgboost\n",
    "import tensorflow as tf\n",
    "from tensorflow.keras.models import Sequential\n",
    "from tensorflow.keras.layers import Dense,Dropout\n",
    "\n",
    "from sklearn.metrics import make_scorer,mean_squared_error,mean_absolute_error\n",
    "\n",
    "import warnings\n",
    "warnings.filterwarnings('ignore')\n",
    "\n",
    "pd.set_option('display.max_columns',100)\n",
    "pd.set_option('display.max_rows',1000)"
   ]
  },
  {
   "cell_type": "code",
   "execution_count": 2,
   "metadata": {},
   "outputs": [
    {
     "data": {
      "text/html": [
       "<div>\n",
       "<style scoped>\n",
       "    .dataframe tbody tr th:only-of-type {\n",
       "        vertical-align: middle;\n",
       "    }\n",
       "\n",
       "    .dataframe tbody tr th {\n",
       "        vertical-align: top;\n",
       "    }\n",
       "\n",
       "    .dataframe thead th {\n",
       "        text-align: right;\n",
       "    }\n",
       "</style>\n",
       "<table border=\"1\" class=\"dataframe\">\n",
       "  <thead>\n",
       "    <tr style=\"text-align: right;\">\n",
       "      <th></th>\n",
       "      <th>school</th>\n",
       "      <th>sex</th>\n",
       "      <th>age</th>\n",
       "      <th>address</th>\n",
       "      <th>Pstatus</th>\n",
       "      <th>studytime</th>\n",
       "      <th>failures</th>\n",
       "      <th>schoolsup</th>\n",
       "      <th>paid</th>\n",
       "      <th>higher</th>\n",
       "      <th>romantic</th>\n",
       "      <th>famrel</th>\n",
       "      <th>Dalc</th>\n",
       "      <th>health</th>\n",
       "      <th>absences</th>\n",
       "      <th>Mjob_at_home</th>\n",
       "      <th>Mjob_health</th>\n",
       "      <th>Mjob_other</th>\n",
       "      <th>Mjob_services</th>\n",
       "      <th>Mjob_teacher</th>\n",
       "      <th>Fjob_at_home</th>\n",
       "      <th>Fjob_health</th>\n",
       "      <th>Fjob_other</th>\n",
       "      <th>Fjob_services</th>\n",
       "      <th>Fjob_teacher</th>\n",
       "      <th>reason_course</th>\n",
       "      <th>reason_home</th>\n",
       "      <th>reason_other</th>\n",
       "      <th>reason_reputation</th>\n",
       "      <th>guardian_father</th>\n",
       "      <th>guardian_mother</th>\n",
       "      <th>guardian_other</th>\n",
       "      <th>G3</th>\n",
       "    </tr>\n",
       "  </thead>\n",
       "  <tbody>\n",
       "    <tr>\n",
       "      <th>0</th>\n",
       "      <td>1</td>\n",
       "      <td>1</td>\n",
       "      <td>18</td>\n",
       "      <td>1</td>\n",
       "      <td>0</td>\n",
       "      <td>2</td>\n",
       "      <td>0</td>\n",
       "      <td>1</td>\n",
       "      <td>0</td>\n",
       "      <td>1</td>\n",
       "      <td>0</td>\n",
       "      <td>4</td>\n",
       "      <td>1</td>\n",
       "      <td>3</td>\n",
       "      <td>2</td>\n",
       "      <td>1</td>\n",
       "      <td>0</td>\n",
       "      <td>0</td>\n",
       "      <td>0</td>\n",
       "      <td>0</td>\n",
       "      <td>0</td>\n",
       "      <td>0</td>\n",
       "      <td>0</td>\n",
       "      <td>0</td>\n",
       "      <td>1</td>\n",
       "      <td>1</td>\n",
       "      <td>0</td>\n",
       "      <td>0</td>\n",
       "      <td>0</td>\n",
       "      <td>0</td>\n",
       "      <td>1</td>\n",
       "      <td>0</td>\n",
       "      <td>3</td>\n",
       "    </tr>\n",
       "    <tr>\n",
       "      <th>1</th>\n",
       "      <td>1</td>\n",
       "      <td>1</td>\n",
       "      <td>17</td>\n",
       "      <td>1</td>\n",
       "      <td>1</td>\n",
       "      <td>2</td>\n",
       "      <td>0</td>\n",
       "      <td>0</td>\n",
       "      <td>0</td>\n",
       "      <td>1</td>\n",
       "      <td>0</td>\n",
       "      <td>5</td>\n",
       "      <td>1</td>\n",
       "      <td>3</td>\n",
       "      <td>2</td>\n",
       "      <td>1</td>\n",
       "      <td>0</td>\n",
       "      <td>0</td>\n",
       "      <td>0</td>\n",
       "      <td>0</td>\n",
       "      <td>0</td>\n",
       "      <td>0</td>\n",
       "      <td>1</td>\n",
       "      <td>0</td>\n",
       "      <td>0</td>\n",
       "      <td>1</td>\n",
       "      <td>0</td>\n",
       "      <td>0</td>\n",
       "      <td>0</td>\n",
       "      <td>1</td>\n",
       "      <td>0</td>\n",
       "      <td>0</td>\n",
       "      <td>3</td>\n",
       "    </tr>\n",
       "    <tr>\n",
       "      <th>2</th>\n",
       "      <td>1</td>\n",
       "      <td>1</td>\n",
       "      <td>15</td>\n",
       "      <td>1</td>\n",
       "      <td>1</td>\n",
       "      <td>2</td>\n",
       "      <td>0</td>\n",
       "      <td>1</td>\n",
       "      <td>0</td>\n",
       "      <td>1</td>\n",
       "      <td>0</td>\n",
       "      <td>4</td>\n",
       "      <td>2</td>\n",
       "      <td>3</td>\n",
       "      <td>1</td>\n",
       "      <td>1</td>\n",
       "      <td>0</td>\n",
       "      <td>0</td>\n",
       "      <td>0</td>\n",
       "      <td>0</td>\n",
       "      <td>0</td>\n",
       "      <td>0</td>\n",
       "      <td>1</td>\n",
       "      <td>0</td>\n",
       "      <td>0</td>\n",
       "      <td>0</td>\n",
       "      <td>0</td>\n",
       "      <td>1</td>\n",
       "      <td>0</td>\n",
       "      <td>0</td>\n",
       "      <td>1</td>\n",
       "      <td>0</td>\n",
       "      <td>3</td>\n",
       "    </tr>\n",
       "    <tr>\n",
       "      <th>3</th>\n",
       "      <td>1</td>\n",
       "      <td>1</td>\n",
       "      <td>15</td>\n",
       "      <td>1</td>\n",
       "      <td>1</td>\n",
       "      <td>3</td>\n",
       "      <td>0</td>\n",
       "      <td>0</td>\n",
       "      <td>0</td>\n",
       "      <td>1</td>\n",
       "      <td>1</td>\n",
       "      <td>3</td>\n",
       "      <td>1</td>\n",
       "      <td>5</td>\n",
       "      <td>2</td>\n",
       "      <td>0</td>\n",
       "      <td>1</td>\n",
       "      <td>0</td>\n",
       "      <td>0</td>\n",
       "      <td>0</td>\n",
       "      <td>0</td>\n",
       "      <td>0</td>\n",
       "      <td>0</td>\n",
       "      <td>1</td>\n",
       "      <td>0</td>\n",
       "      <td>0</td>\n",
       "      <td>1</td>\n",
       "      <td>0</td>\n",
       "      <td>0</td>\n",
       "      <td>0</td>\n",
       "      <td>1</td>\n",
       "      <td>0</td>\n",
       "      <td>4</td>\n",
       "    </tr>\n",
       "    <tr>\n",
       "      <th>4</th>\n",
       "      <td>1</td>\n",
       "      <td>1</td>\n",
       "      <td>16</td>\n",
       "      <td>1</td>\n",
       "      <td>1</td>\n",
       "      <td>2</td>\n",
       "      <td>0</td>\n",
       "      <td>0</td>\n",
       "      <td>0</td>\n",
       "      <td>1</td>\n",
       "      <td>0</td>\n",
       "      <td>4</td>\n",
       "      <td>1</td>\n",
       "      <td>5</td>\n",
       "      <td>2</td>\n",
       "      <td>0</td>\n",
       "      <td>0</td>\n",
       "      <td>1</td>\n",
       "      <td>0</td>\n",
       "      <td>0</td>\n",
       "      <td>0</td>\n",
       "      <td>0</td>\n",
       "      <td>1</td>\n",
       "      <td>0</td>\n",
       "      <td>0</td>\n",
       "      <td>0</td>\n",
       "      <td>1</td>\n",
       "      <td>0</td>\n",
       "      <td>0</td>\n",
       "      <td>1</td>\n",
       "      <td>0</td>\n",
       "      <td>0</td>\n",
       "      <td>4</td>\n",
       "    </tr>\n",
       "  </tbody>\n",
       "</table>\n",
       "</div>"
      ],
      "text/plain": [
       "   school  sex  age  address  Pstatus  studytime  failures  schoolsup  paid  \\\n",
       "0       1    1   18        1        0          2         0          1     0   \n",
       "1       1    1   17        1        1          2         0          0     0   \n",
       "2       1    1   15        1        1          2         0          1     0   \n",
       "3       1    1   15        1        1          3         0          0     0   \n",
       "4       1    1   16        1        1          2         0          0     0   \n",
       "\n",
       "   higher  romantic  famrel  Dalc  health  absences  Mjob_at_home  \\\n",
       "0       1         0       4     1       3         2             1   \n",
       "1       1         0       5     1       3         2             1   \n",
       "2       1         0       4     2       3         1             1   \n",
       "3       1         1       3     1       5         2             0   \n",
       "4       1         0       4     1       5         2             0   \n",
       "\n",
       "   Mjob_health  Mjob_other  Mjob_services  Mjob_teacher  Fjob_at_home  \\\n",
       "0            0           0              0             0             0   \n",
       "1            0           0              0             0             0   \n",
       "2            0           0              0             0             0   \n",
       "3            1           0              0             0             0   \n",
       "4            0           1              0             0             0   \n",
       "\n",
       "   Fjob_health  Fjob_other  Fjob_services  Fjob_teacher  reason_course  \\\n",
       "0            0           0              0             1              1   \n",
       "1            0           1              0             0              1   \n",
       "2            0           1              0             0              0   \n",
       "3            0           0              1             0              0   \n",
       "4            0           1              0             0              0   \n",
       "\n",
       "   reason_home  reason_other  reason_reputation  guardian_father  \\\n",
       "0            0             0                  0                0   \n",
       "1            0             0                  0                1   \n",
       "2            0             1                  0                0   \n",
       "3            1             0                  0                0   \n",
       "4            1             0                  0                1   \n",
       "\n",
       "   guardian_mother  guardian_other  G3  \n",
       "0                1               0   3  \n",
       "1                0               0   3  \n",
       "2                1               0   3  \n",
       "3                1               0   4  \n",
       "4                0               0   4  "
      ]
     },
     "execution_count": 2,
     "metadata": {},
     "output_type": "execute_result"
    }
   ],
   "source": [
    "df_por = pd.read_pickle('df_por-modelling-RFA-range_G3_5-repaired_G3_0_values.pkl')\n",
    "\n",
    "df_por.head()"
   ]
  },
  {
   "cell_type": "code",
   "execution_count": 3,
   "metadata": {},
   "outputs": [
    {
     "data": {
      "text/plain": [
       "(649, 33)"
      ]
     },
     "execution_count": 3,
     "metadata": {},
     "output_type": "execute_result"
    }
   ],
   "source": [
    "df_por.shape"
   ]
  },
  {
   "cell_type": "code",
   "execution_count": 4,
   "metadata": {},
   "outputs": [],
   "source": [
    "X = np.array(df_por.drop('G3',axis = 1))\n",
    "y = np.array(df_por['G3'])"
   ]
  },
  {
   "cell_type": "code",
   "execution_count": 5,
   "metadata": {},
   "outputs": [],
   "source": [
    "X_train,X_test,y_train,y_test = train_test_split(X,y,test_size = 0.2,random_state = 42)"
   ]
  },
  {
   "cell_type": "markdown",
   "metadata": {},
   "source": [
    "## Linear Regression "
   ]
  },
  {
   "cell_type": "code",
   "execution_count": 6,
   "metadata": {},
   "outputs": [
    {
     "data": {
      "text/plain": [
       "LinearRegression(copy_X=True, fit_intercept=True, n_jobs=None, normalize=False)"
      ]
     },
     "execution_count": 6,
     "metadata": {},
     "output_type": "execute_result"
    }
   ],
   "source": [
    "model = LinearRegression()\n",
    "model.fit(X_train,y_train)"
   ]
  },
  {
   "cell_type": "code",
   "execution_count": 7,
   "metadata": {},
   "outputs": [],
   "source": [
    "y_pred = model.predict(X_test)"
   ]
  },
  {
   "cell_type": "code",
   "execution_count": 8,
   "metadata": {},
   "outputs": [
    {
     "data": {
      "text/html": [
       "<div>\n",
       "<style scoped>\n",
       "    .dataframe tbody tr th:only-of-type {\n",
       "        vertical-align: middle;\n",
       "    }\n",
       "\n",
       "    .dataframe tbody tr th {\n",
       "        vertical-align: top;\n",
       "    }\n",
       "\n",
       "    .dataframe thead th {\n",
       "        text-align: right;\n",
       "    }\n",
       "</style>\n",
       "<table border=\"1\" class=\"dataframe\">\n",
       "  <thead>\n",
       "    <tr style=\"text-align: right;\">\n",
       "      <th></th>\n",
       "      <th>y_pred</th>\n",
       "      <th>y_test</th>\n",
       "    </tr>\n",
       "  </thead>\n",
       "  <tbody>\n",
       "    <tr>\n",
       "      <th>0</th>\n",
       "      <td>3.886230</td>\n",
       "      <td>5</td>\n",
       "    </tr>\n",
       "    <tr>\n",
       "      <th>1</th>\n",
       "      <td>3.616211</td>\n",
       "      <td>3</td>\n",
       "    </tr>\n",
       "    <tr>\n",
       "      <th>2</th>\n",
       "      <td>4.125977</td>\n",
       "      <td>5</td>\n",
       "    </tr>\n",
       "    <tr>\n",
       "      <th>3</th>\n",
       "      <td>3.364746</td>\n",
       "      <td>3</td>\n",
       "    </tr>\n",
       "    <tr>\n",
       "      <th>4</th>\n",
       "      <td>3.035156</td>\n",
       "      <td>3</td>\n",
       "    </tr>\n",
       "  </tbody>\n",
       "</table>\n",
       "</div>"
      ],
      "text/plain": [
       "     y_pred  y_test\n",
       "0  3.886230       5\n",
       "1  3.616211       3\n",
       "2  4.125977       5\n",
       "3  3.364746       3\n",
       "4  3.035156       3"
      ]
     },
     "execution_count": 8,
     "metadata": {},
     "output_type": "execute_result"
    }
   ],
   "source": [
    "y_test = pd.DataFrame(y_test)\n",
    "y_pred = pd.DataFrame(y_pred)\n",
    "\n",
    "df_temp = pd.concat([y_pred,y_test],axis = 1)\n",
    "df_temp.columns = ['y_pred','y_test']\n",
    "\n",
    "df_temp.head()"
   ]
  },
  {
   "cell_type": "code",
   "execution_count": 9,
   "metadata": {
    "scrolled": true
   },
   "outputs": [
    {
     "data": {
      "image/png": "[encoded data removed]",
      "text/plain": [
       "<Figure size 432x288 with 1 Axes>"
      ]
     },
     "metadata": {
      "needs_background": "light"
     },
     "output_type": "display_data"
    }
   ],
   "source": [
    "plt.scatter(df_temp['y_test'],df_temp['y_pred'])\n",
    "plt.xlabel('y_test',fontsize = 14)\n",
    "plt.ylabel('y_pred',fontsize = 14)\n",
    "plt.xlim(0,6)\n",
    "plt.ylim(0,6)\n",
    "plt.xticks(list(range(0,6)))\n",
    "plt.yticks(list(range(0,6)))\n",
    "plt.grid()\n",
    "y_lim = plt.ylim()\n",
    "x_lim = plt.xlim()\n",
    "plt.plot(x_lim,y_lim,color = 'g',linewidth = 0.5);"
   ]
  },
  {
   "cell_type": "code",
   "execution_count": 10,
   "metadata": {},
   "outputs": [],
   "source": [
    "def rmse(y_true,y_pred):\n",
    "    return np.sqrt(mean_squared_error(y_true,y_pred))"
   ]
  },
  {
   "cell_type": "code",
   "execution_count": 11,
   "metadata": {},
   "outputs": [
    {
     "data": {
      "text/plain": [
       "0.7105472877169895"
      ]
     },
     "execution_count": 11,
     "metadata": {},
     "output_type": "execute_result"
    }
   ],
   "source": [
    "rmse(y_pred,y_test)"
   ]
  },
  {
   "cell_type": "markdown",
   "metadata": {},
   "source": [
    "## Decision Tree Regression"
   ]
  },
  {
   "cell_type": "code",
   "execution_count": 12,
   "metadata": {},
   "outputs": [],
   "source": [
    "rmse_scorer = make_scorer(rmse,greater_is_better = False)"
   ]
  },
  {
   "cell_type": "code",
   "execution_count": 13,
   "metadata": {
    "scrolled": false
   },
   "outputs": [
    {
     "data": {
      "text/plain": [
       "GridSearchCV(cv=5, error_score=nan,\n",
       "             estimator=DecisionTreeRegressor(ccp_alpha=0.0, criterion='mse',\n",
       "                                             max_depth=None, max_features=None,\n",
       "                                             max_leaf_nodes=None,\n",
       "                                             min_impurity_decrease=0.0,\n",
       "                                             min_impurity_split=None,\n",
       "                                             min_samples_leaf=1,\n",
       "                                             min_samples_split=2,\n",
       "                                             min_weight_fraction_leaf=0.0,\n",
       "                                             presort='deprecated',\n",
       "                                             random_state=None,\n",
       "                                             splitter='best'),\n",
       "             iid='deprecated', n_jobs=None,\n",
       "             param_grid={'max_depth': [1, 2, 5, 10, 20, 30, 50],\n",
       "                         'min_samples_leaf': [1, 5, 10, 20, 50, 100]},\n",
       "             pre_dispatch='2*n_jobs', refit=True, return_train_score=False,\n",
       "             scoring=make_scorer(rmse, greater_is_better=False), verbose=0)"
      ]
     },
     "execution_count": 13,
     "metadata": {},
     "output_type": "execute_result"
    }
   ],
   "source": [
    "param_grid = {'min_samples_leaf':[1,5,10,20,50,100],'max_depth':[1,2,5,10,20,30,50]}\n",
    "\n",
    "grid_search_cv = GridSearchCV(estimator = DecisionTreeRegressor(),param_grid = param_grid,cv=5,scoring = rmse_scorer)\n",
    "grid_search_cv.fit(X_train,y_train)"
   ]
  },
  {
   "cell_type": "code",
   "execution_count": 14,
   "metadata": {},
   "outputs": [
    {
     "data": {
      "text/plain": [
       "DecisionTreeRegressor(ccp_alpha=0.0, criterion='mse', max_depth=2,\n",
       "                      max_features=None, max_leaf_nodes=None,\n",
       "                      min_impurity_decrease=0.0, min_impurity_split=None,\n",
       "                      min_samples_leaf=20, min_samples_split=2,\n",
       "                      min_weight_fraction_leaf=0.0, presort='deprecated',\n",
       "                      random_state=None, splitter='best')"
      ]
     },
     "execution_count": 14,
     "metadata": {},
     "output_type": "execute_result"
    }
   ],
   "source": [
    "grid_search_cv.best_estimator_"
   ]
  },
  {
   "cell_type": "code",
   "execution_count": 15,
   "metadata": {},
   "outputs": [],
   "source": [
    "y_pred = grid_search_cv.predict(X_test)"
   ]
  },
  {
   "cell_type": "code",
   "execution_count": 16,
   "metadata": {},
   "outputs": [
    {
     "data": {
      "text/html": [
       "<div>\n",
       "<style scoped>\n",
       "    .dataframe tbody tr th:only-of-type {\n",
       "        vertical-align: middle;\n",
       "    }\n",
       "\n",
       "    .dataframe tbody tr th {\n",
       "        vertical-align: top;\n",
       "    }\n",
       "\n",
       "    .dataframe thead th {\n",
       "        text-align: right;\n",
       "    }\n",
       "</style>\n",
       "<table border=\"1\" class=\"dataframe\">\n",
       "  <thead>\n",
       "    <tr style=\"text-align: right;\">\n",
       "      <th></th>\n",
       "      <th>y_pred</th>\n",
       "      <th>y_test</th>\n",
       "    </tr>\n",
       "  </thead>\n",
       "  <tbody>\n",
       "    <tr>\n",
       "      <th>0</th>\n",
       "      <td>3.564039</td>\n",
       "      <td>5</td>\n",
       "    </tr>\n",
       "    <tr>\n",
       "      <th>1</th>\n",
       "      <td>3.564039</td>\n",
       "      <td>3</td>\n",
       "    </tr>\n",
       "    <tr>\n",
       "      <th>2</th>\n",
       "      <td>3.564039</td>\n",
       "      <td>5</td>\n",
       "    </tr>\n",
       "    <tr>\n",
       "      <th>3</th>\n",
       "      <td>3.564039</td>\n",
       "      <td>3</td>\n",
       "    </tr>\n",
       "    <tr>\n",
       "      <th>4</th>\n",
       "      <td>3.564039</td>\n",
       "      <td>3</td>\n",
       "    </tr>\n",
       "  </tbody>\n",
       "</table>\n",
       "</div>"
      ],
      "text/plain": [
       "     y_pred  y_test\n",
       "0  3.564039       5\n",
       "1  3.564039       3\n",
       "2  3.564039       5\n",
       "3  3.564039       3\n",
       "4  3.564039       3"
      ]
     },
     "execution_count": 16,
     "metadata": {},
     "output_type": "execute_result"
    }
   ],
   "source": [
    "y_pred = pd.DataFrame(y_pred)\n",
    "\n",
    "df_temp = pd.concat([y_pred,y_test],axis = 1)\n",
    "df_temp.columns = ['y_pred','y_test']\n",
    "\n",
    "df_temp.head()"
   ]
  },
  {
   "cell_type": "code",
   "execution_count": 17,
   "metadata": {},
   "outputs": [
    {
     "data": {
      "image/png": "[encoded data removed]",
      "text/plain": [
       "<Figure size 432x288 with 1 Axes>"
      ]
     },
     "metadata": {
      "needs_background": "light"
     },
     "output_type": "display_data"
    }
   ],
   "source": [
    "plt.scatter(df_temp['y_test'],df_temp['y_pred'])\n",
    "plt.xlabel('y_test',fontsize = 14)\n",
    "plt.ylabel('y_pred',fontsize = 14)\n",
    "plt.xlim(0,6)\n",
    "plt.ylim(0,6)\n",
    "plt.xticks(list(range(0,6)))\n",
    "plt.yticks(list(range(0,6)))\n",
    "plt.grid()\n",
    "y_lim = plt.ylim()\n",
    "x_lim = plt.xlim()\n",
    "plt.plot(x_lim,y_lim,color = 'g',linewidth = 0.5);"
   ]
  },
  {
   "cell_type": "code",
   "execution_count": 18,
   "metadata": {},
   "outputs": [
    {
     "data": {
      "text/plain": [
       "0.7395077278988104"
      ]
     },
     "execution_count": 18,
     "metadata": {},
     "output_type": "execute_result"
    }
   ],
   "source": [
    "rmse(y_pred,y_test)"
   ]
  },
  {
   "cell_type": "markdown",
   "metadata": {},
   "source": [
    "## Random Forest Regression"
   ]
  },
  {
   "cell_type": "code",
   "execution_count": 19,
   "metadata": {},
   "outputs": [
    {
     "data": {
      "text/plain": [
       "GridSearchCV(cv=5, error_score=nan,\n",
       "             estimator=RandomForestRegressor(bootstrap=True, ccp_alpha=0.0,\n",
       "                                             criterion='mse', max_depth=None,\n",
       "                                             max_features='auto',\n",
       "                                             max_leaf_nodes=None,\n",
       "                                             max_samples=None,\n",
       "                                             min_impurity_decrease=0.0,\n",
       "                                             min_impurity_split=None,\n",
       "                                             min_samples_leaf=1,\n",
       "                                             min_samples_split=2,\n",
       "                                             min_weight_fraction_leaf=0.0,\n",
       "                                             n_estimators=100, n_jobs=None,\n",
       "                                             oob_score=False, random_state=None,\n",
       "                                             verbose=0, warm_start=False),\n",
       "             iid='deprecated', n_jobs=None,\n",
       "             param_grid={'max_depth': [1, 5, 30],\n",
       "                         'min_samples_leaf': [1, 10, 50],\n",
       "                         'n_estimators': [10, 50, 100]},\n",
       "             pre_dispatch='2*n_jobs', refit=True, return_train_score=False,\n",
       "             scoring=make_scorer(rmse, greater_is_better=False), verbose=0)"
      ]
     },
     "execution_count": 19,
     "metadata": {},
     "output_type": "execute_result"
    }
   ],
   "source": [
    "param_grid = {'min_samples_leaf':[1,10,50],'max_depth':[1,5,30],'n_estimators':[10,50,100]}\n",
    "\n",
    "grid_search_cv = GridSearchCV(estimator = RandomForestRegressor(),param_grid = param_grid,cv = 5,scoring = rmse_scorer)\n",
    "grid_search_cv.fit(X_train,y_train)"
   ]
  },
  {
   "cell_type": "code",
   "execution_count": 20,
   "metadata": {},
   "outputs": [
    {
     "data": {
      "text/plain": [
       "RandomForestRegressor(bootstrap=True, ccp_alpha=0.0, criterion='mse',\n",
       "                      max_depth=5, max_features='auto', max_leaf_nodes=None,\n",
       "                      max_samples=None, min_impurity_decrease=0.0,\n",
       "                      min_impurity_split=None, min_samples_leaf=10,\n",
       "                      min_samples_split=2, min_weight_fraction_leaf=0.0,\n",
       "                      n_estimators=10, n_jobs=None, oob_score=False,\n",
       "                      random_state=None, verbose=0, warm_start=False)"
      ]
     },
     "execution_count": 20,
     "metadata": {},
     "output_type": "execute_result"
    }
   ],
   "source": [
    "grid_search_cv.best_estimator_"
   ]
  },
  {
   "cell_type": "code",
   "execution_count": 21,
   "metadata": {},
   "outputs": [],
   "source": [
    "y_pred = grid_search_cv.predict(X_test)"
   ]
  },
  {
   "cell_type": "code",
   "execution_count": 22,
   "metadata": {},
   "outputs": [
    {
     "data": {
      "text/html": [
       "<div>\n",
       "<style scoped>\n",
       "    .dataframe tbody tr th:only-of-type {\n",
       "        vertical-align: middle;\n",
       "    }\n",
       "\n",
       "    .dataframe tbody tr th {\n",
       "        vertical-align: top;\n",
       "    }\n",
       "\n",
       "    .dataframe thead th {\n",
       "        text-align: right;\n",
       "    }\n",
       "</style>\n",
       "<table border=\"1\" class=\"dataframe\">\n",
       "  <thead>\n",
       "    <tr style=\"text-align: right;\">\n",
       "      <th></th>\n",
       "      <th>y_pred</th>\n",
       "      <th>y_test</th>\n",
       "    </tr>\n",
       "  </thead>\n",
       "  <tbody>\n",
       "    <tr>\n",
       "      <th>0</th>\n",
       "      <td>3.536710</td>\n",
       "      <td>5</td>\n",
       "    </tr>\n",
       "    <tr>\n",
       "      <th>1</th>\n",
       "      <td>3.522097</td>\n",
       "      <td>3</td>\n",
       "    </tr>\n",
       "    <tr>\n",
       "      <th>2</th>\n",
       "      <td>3.924866</td>\n",
       "      <td>5</td>\n",
       "    </tr>\n",
       "    <tr>\n",
       "      <th>3</th>\n",
       "      <td>3.317041</td>\n",
       "      <td>3</td>\n",
       "    </tr>\n",
       "    <tr>\n",
       "      <th>4</th>\n",
       "      <td>3.349354</td>\n",
       "      <td>3</td>\n",
       "    </tr>\n",
       "  </tbody>\n",
       "</table>\n",
       "</div>"
      ],
      "text/plain": [
       "     y_pred  y_test\n",
       "0  3.536710       5\n",
       "1  3.522097       3\n",
       "2  3.924866       5\n",
       "3  3.317041       3\n",
       "4  3.349354       3"
      ]
     },
     "execution_count": 22,
     "metadata": {},
     "output_type": "execute_result"
    }
   ],
   "source": [
    "y_pred = pd.DataFrame(y_pred)\n",
    "\n",
    "df_temp = pd.concat([y_pred,y_test],axis = 1)\n",
    "df_temp.columns = ['y_pred','y_test']\n",
    "\n",
    "df_temp.head()"
   ]
  },
  {
   "cell_type": "code",
   "execution_count": 23,
   "metadata": {
    "scrolled": true
   },
   "outputs": [
    {
     "data": {
      "image/png": "[encoded data removed]",
      "text/plain": [
       "<Figure size 432x288 with 1 Axes>"
      ]
     },
     "metadata": {
      "needs_background": "light"
     },
     "output_type": "display_data"
    }
   ],
   "source": [
    "plt.scatter(df_temp['y_test'],df_temp['y_pred'])\n",
    "plt.xlabel('y_test',fontsize = 14)\n",
    "plt.ylabel('y_pred',fontsize = 14)\n",
    "plt.xlim(0,6)\n",
    "plt.ylim(0,6)\n",
    "plt.xticks(list(range(0,6)))\n",
    "plt.yticks(list(range(0,6)))\n",
    "plt.grid()\n",
    "y_lim = plt.ylim()\n",
    "x_lim = plt.xlim()\n",
    "plt.plot(x_lim,y_lim,color = 'g',linewidth = 0.5);"
   ]
  },
  {
   "cell_type": "code",
   "execution_count": 24,
   "metadata": {},
   "outputs": [
    {
     "data": {
      "text/plain": [
       "0.7230951322974383"
      ]
     },
     "execution_count": 24,
     "metadata": {},
     "output_type": "execute_result"
    }
   ],
   "source": [
    "rmse(y_pred,y_test)"
   ]
  },
  {
   "cell_type": "markdown",
   "metadata": {},
   "source": [
    "## XGBoost "
   ]
  },
  {
   "cell_type": "code",
   "execution_count": 25,
   "metadata": {
    "scrolled": true
   },
   "outputs": [
    {
     "data": {
      "text/plain": [
       "GridSearchCV(cv=5, error_score=nan,\n",
       "             estimator=XGBRegressor(base_score=0.5, booster='gbtree',\n",
       "                                    colsample_bylevel=1, colsample_bynode=1,\n",
       "                                    colsample_bytree=1, gamma=0,\n",
       "                                    importance_type='gain', learning_rate=0.1,\n",
       "                                    max_delta_step=0, max_depth=3,\n",
       "                                    min_child_weight=1, missing=None,\n",
       "                                    n_estimators=100, n_jobs=1, nthread=None,\n",
       "                                    objective='reg:linear', random_state=0,\n",
       "                                    reg_alpha=0, reg_lambda=1,\n",
       "                                    scale_pos_weight=1, seed=None, silent=True,\n",
       "                                    subsample=1, verbosity=1),\n",
       "             iid='deprecated', n_jobs=None,\n",
       "             param_grid={'max_depth': [1, 5, 30],\n",
       "                         'min_samples_leaf': [1, 10, 50],\n",
       "                         'n_estimators': [10, 50, 100]},\n",
       "             pre_dispatch='2*n_jobs', refit=True, return_train_score=False,\n",
       "             scoring=make_scorer(rmse, greater_is_better=False), verbose=0)"
      ]
     },
     "execution_count": 25,
     "metadata": {},
     "output_type": "execute_result"
    }
   ],
   "source": [
    "parameters = {'max_depth':[1,5,30],'learning_rate':[0.01,0.1,0.3],'n_estimators':[10,50,100],'objective':'reg:squarederror'}\n",
    "\n",
    "grid_search_cv = GridSearchCV(estimator = xgboost.XGBRegressor(silent = True),param_grid = param_grid,\n",
    "                              cv = 5,scoring = rmse_scorer)\n",
    "grid_search_cv.fit(X_train,y_train)"
   ]
  },
  {
   "cell_type": "code",
   "execution_count": 26,
   "metadata": {
    "scrolled": false
   },
   "outputs": [
    {
     "data": {
      "text/plain": [
       "XGBRegressor(base_score=0.5, booster='gbtree', colsample_bylevel=1,\n",
       "             colsample_bynode=1, colsample_bytree=1, gamma=0,\n",
       "             importance_type='gain', learning_rate=0.1, max_delta_step=0,\n",
       "             max_depth=1, min_child_weight=1, min_samples_leaf=1, missing=None,\n",
       "             n_estimators=100, n_jobs=1, nthread=None, objective='reg:linear',\n",
       "             random_state=0, reg_alpha=0, reg_lambda=1, scale_pos_weight=1,\n",
       "             seed=None, silent=True, subsample=1, verbosity=1)"
      ]
     },
     "execution_count": 26,
     "metadata": {},
     "output_type": "execute_result"
    }
   ],
   "source": [
    "grid_search_cv.best_estimator_"
   ]
  },
  {
   "cell_type": "code",
   "execution_count": 27,
   "metadata": {},
   "outputs": [],
   "source": [
    "y_pred = grid_search_cv.predict(X_test)"
   ]
  },
  {
   "cell_type": "code",
   "execution_count": 28,
   "metadata": {},
   "outputs": [
    {
     "data": {
      "text/html": [
       "<div>\n",
       "<style scoped>\n",
       "    .dataframe tbody tr th:only-of-type {\n",
       "        vertical-align: middle;\n",
       "    }\n",
       "\n",
       "    .dataframe tbody tr th {\n",
       "        vertical-align: top;\n",
       "    }\n",
       "\n",
       "    .dataframe thead th {\n",
       "        text-align: right;\n",
       "    }\n",
       "</style>\n",
       "<table border=\"1\" class=\"dataframe\">\n",
       "  <thead>\n",
       "    <tr style=\"text-align: right;\">\n",
       "      <th></th>\n",
       "      <th>y_pred</th>\n",
       "      <th>y_test</th>\n",
       "    </tr>\n",
       "  </thead>\n",
       "  <tbody>\n",
       "    <tr>\n",
       "      <th>0</th>\n",
       "      <td>3.485154</td>\n",
       "      <td>5</td>\n",
       "    </tr>\n",
       "    <tr>\n",
       "      <th>1</th>\n",
       "      <td>3.486821</td>\n",
       "      <td>3</td>\n",
       "    </tr>\n",
       "    <tr>\n",
       "      <th>2</th>\n",
       "      <td>3.622827</td>\n",
       "      <td>5</td>\n",
       "    </tr>\n",
       "    <tr>\n",
       "      <th>3</th>\n",
       "      <td>3.420560</td>\n",
       "      <td>3</td>\n",
       "    </tr>\n",
       "    <tr>\n",
       "      <th>4</th>\n",
       "      <td>3.297237</td>\n",
       "      <td>3</td>\n",
       "    </tr>\n",
       "  </tbody>\n",
       "</table>\n",
       "</div>"
      ],
      "text/plain": [
       "     y_pred  y_test\n",
       "0  3.485154       5\n",
       "1  3.486821       3\n",
       "2  3.622827       5\n",
       "3  3.420560       3\n",
       "4  3.297237       3"
      ]
     },
     "execution_count": 28,
     "metadata": {},
     "output_type": "execute_result"
    }
   ],
   "source": [
    "y_pred = pd.DataFrame(y_pred)\n",
    "\n",
    "df_temp = pd.concat([y_pred,y_test],axis = 1)\n",
    "df_temp.columns = ['y_pred','y_test']\n",
    "\n",
    "df_temp.head()"
   ]
  },
  {
   "cell_type": "code",
   "execution_count": 29,
   "metadata": {},
   "outputs": [
    {
     "data": {
      "image/png": "[encoded data removed]",
      "text/plain": [
       "<Figure size 432x288 with 1 Axes>"
      ]
     },
     "metadata": {
      "needs_background": "light"
     },
     "output_type": "display_data"
    }
   ],
   "source": [
    "plt.scatter(df_temp['y_test'],df_temp['y_pred'])\n",
    "plt.xlabel('y_test',fontsize = 14)\n",
    "plt.ylabel('y_pred',fontsize = 14)\n",
    "plt.xlim(0,6)\n",
    "plt.ylim(0,6)\n",
    "plt.xticks(list(range(0,6)))\n",
    "plt.yticks(list(range(0,6)))\n",
    "plt.grid()\n",
    "y_lim = plt.ylim()\n",
    "x_lim = plt.xlim()\n",
    "plt.plot(x_lim,y_lim,color = 'g',linewidth = 0.5);"
   ]
  },
  {
   "cell_type": "code",
   "execution_count": 30,
   "metadata": {},
   "outputs": [
    {
     "data": {
      "text/plain": [
       "0.7156968934585118"
      ]
     },
     "execution_count": 30,
     "metadata": {},
     "output_type": "execute_result"
    }
   ],
   "source": [
    "rmse(y_pred,y_test)"
   ]
  },
  {
   "cell_type": "markdown",
   "metadata": {},
   "source": [
    "## Neural Network "
   ]
  },
  {
   "cell_type": "code",
   "execution_count": 31,
   "metadata": {},
   "outputs": [],
   "source": [
    "sc = MinMaxScaler()"
   ]
  },
  {
   "cell_type": "code",
   "execution_count": 32,
   "metadata": {},
   "outputs": [],
   "source": [
    "X_train= sc.fit_transform(X_train)\n",
    "X_test = sc.transform(X_test)"
   ]
  },
  {
   "cell_type": "code",
   "execution_count": 33,
   "metadata": {},
   "outputs": [
    {
     "data": {
      "text/plain": [
       "(519, 32)"
      ]
     },
     "execution_count": 33,
     "metadata": {},
     "output_type": "execute_result"
    }
   ],
   "source": [
    "X_train.shape"
   ]
  },
  {
   "cell_type": "code",
   "execution_count": 34,
   "metadata": {},
   "outputs": [],
   "source": [
    "model = Sequential()"
   ]
  },
  {
   "cell_type": "code",
   "execution_count": 35,
   "metadata": {},
   "outputs": [],
   "source": [
    "model.add(Dense(32,activation = 'relu'))\n",
    "model.add(Dropout(0.25))\n",
    "model.add(Dense(32,activation = 'relu'))\n",
    "model.add(Dropout(0.25))\n",
    "model.add(Dense(32,activation = 'relu'))\n",
    "model.add(Dropout(0.25))\n",
    "model.add(Dense(32,activation = 'relu'))\n",
    "model.add(Dropout(0.25))\n",
    "model.add(Dense(1))\n",
    "\n",
    "model.compile(optimizer = 'adam',loss = 'mse')"
   ]
  },
  {
   "cell_type": "code",
   "execution_count": 36,
   "metadata": {
    "scrolled": true
   },
   "outputs": [
    {
     "name": "stdout",
     "output_type": "stream",
     "text": [
      "Train on 519 samples, validate on 130 samples\n",
      "Epoch 1/250\n",
      "519/519 [==============================] - 1s 2ms/sample - loss: 8.9036 - val_loss: 7.4417\n",
      "Epoch 2/250\n",
      "519/519 [==============================] - 0s 102us/sample - loss: 5.5464 - val_loss: 3.4679\n",
      "Epoch 3/250\n",
      "519/519 [==============================] - 0s 77us/sample - loss: 3.0458 - val_loss: 0.7796\n",
      "Epoch 4/250\n",
      "519/519 [==============================] - 0s 81us/sample - loss: 2.7015 - val_loss: 0.6360\n",
      "Epoch 5/250\n",
      "519/519 [==============================] - 0s 71us/sample - loss: 2.2994 - val_loss: 1.2242\n",
      "Epoch 6/250\n",
      "519/519 [==============================] - 0s 73us/sample - loss: 2.0395 - val_loss: 1.5319\n",
      "Epoch 7/250\n",
      "519/519 [==============================] - 0s 67us/sample - loss: 2.2387 - val_loss: 1.1652\n",
      "Epoch 8/250\n",
      "519/519 [==============================] - 0s 66us/sample - loss: 1.8941 - val_loss: 0.9799\n",
      "Epoch 9/250\n",
      "519/519 [==============================] - 0s 64us/sample - loss: 1.9444 - val_loss: 0.9470\n",
      "Epoch 10/250\n",
      "519/519 [==============================] - 0s 66us/sample - loss: 1.8029 - val_loss: 1.1471\n",
      "Epoch 11/250\n",
      "519/519 [==============================] - 0s 75us/sample - loss: 1.7735 - val_loss: 1.1059\n",
      "Epoch 12/250\n",
      "519/519 [==============================] - 0s 66us/sample - loss: 1.6587 - val_loss: 1.0061\n",
      "Epoch 13/250\n",
      "519/519 [==============================] - 0s 67us/sample - loss: 1.7557 - val_loss: 0.9568\n",
      "Epoch 14/250\n",
      "519/519 [==============================] - 0s 73us/sample - loss: 1.5243 - val_loss: 1.1113\n",
      "Epoch 15/250\n",
      "519/519 [==============================] - 0s 75us/sample - loss: 1.5932 - val_loss: 1.0879\n",
      "Epoch 16/250\n",
      "519/519 [==============================] - 0s 73us/sample - loss: 1.5776 - val_loss: 1.1264\n",
      "Epoch 17/250\n",
      "519/519 [==============================] - 0s 71us/sample - loss: 1.4952 - val_loss: 1.1283\n",
      "Epoch 18/250\n",
      "519/519 [==============================] - 0s 77us/sample - loss: 1.4402 - val_loss: 0.9346\n",
      "Epoch 19/250\n",
      "519/519 [==============================] - 0s 71us/sample - loss: 1.3619 - val_loss: 1.0177\n",
      "Epoch 20/250\n",
      "519/519 [==============================] - 0s 75us/sample - loss: 1.3834 - val_loss: 1.1152\n",
      "Epoch 21/250\n",
      "519/519 [==============================] - 0s 68us/sample - loss: 1.1559 - val_loss: 0.9924\n",
      "Epoch 22/250\n",
      "519/519 [==============================] - 0s 69us/sample - loss: 1.2099 - val_loss: 0.9479\n",
      "Epoch 23/250\n",
      "519/519 [==============================] - 0s 75us/sample - loss: 1.1842 - val_loss: 1.1007\n",
      "Epoch 24/250\n",
      "519/519 [==============================] - 0s 71us/sample - loss: 1.2882 - val_loss: 0.9807\n",
      "Epoch 25/250\n",
      "519/519 [==============================] - 0s 71us/sample - loss: 1.3298 - val_loss: 1.0959\n",
      "Epoch 26/250\n",
      "519/519 [==============================] - 0s 77us/sample - loss: 1.2346 - val_loss: 0.9810\n",
      "Epoch 27/250\n",
      "519/519 [==============================] - 0s 98us/sample - loss: 1.2622 - val_loss: 0.9726\n",
      "Epoch 28/250\n",
      "519/519 [==============================] - 0s 85us/sample - loss: 1.0922 - val_loss: 0.9751\n",
      "Epoch 29/250\n",
      "519/519 [==============================] - ETA: 0s - loss: 1.009 - 0s 83us/sample - loss: 1.2549 - val_loss: 0.9988\n",
      "Epoch 30/250\n",
      "519/519 [==============================] - 0s 69us/sample - loss: 1.1108 - val_loss: 1.2334\n",
      "Epoch 31/250\n",
      "519/519 [==============================] - 0s 67us/sample - loss: 1.1003 - val_loss: 0.9730\n",
      "Epoch 32/250\n",
      "519/519 [==============================] - 0s 69us/sample - loss: 1.1105 - val_loss: 1.0934\n",
      "Epoch 33/250\n",
      "519/519 [==============================] - 0s 73us/sample - loss: 1.0866 - val_loss: 1.2077\n",
      "Epoch 34/250\n",
      "519/519 [==============================] - 0s 71us/sample - loss: 1.1050 - val_loss: 0.7986\n",
      "Epoch 35/250\n",
      "519/519 [==============================] - 0s 71us/sample - loss: 1.1216 - val_loss: 1.0448\n",
      "Epoch 36/250\n",
      "519/519 [==============================] - 0s 69us/sample - loss: 0.9937 - val_loss: 1.2321\n",
      "Epoch 37/250\n",
      "519/519 [==============================] - 0s 69us/sample - loss: 1.0602 - val_loss: 1.1174\n",
      "Epoch 38/250\n",
      "519/519 [==============================] - 0s 69us/sample - loss: 1.0356 - val_loss: 0.9615\n",
      "Epoch 39/250\n",
      "519/519 [==============================] - 0s 71us/sample - loss: 1.1795 - val_loss: 0.8189\n",
      "Epoch 40/250\n",
      "519/519 [==============================] - 0s 75us/sample - loss: 1.0018 - val_loss: 1.1405\n",
      "Epoch 41/250\n",
      "519/519 [==============================] - 0s 73us/sample - loss: 1.0989 - val_loss: 1.1487\n",
      "Epoch 42/250\n",
      "519/519 [==============================] - 0s 69us/sample - loss: 1.0267 - val_loss: 0.8954\n",
      "Epoch 43/250\n",
      "519/519 [==============================] - 0s 67us/sample - loss: 1.0026 - val_loss: 0.9123\n",
      "Epoch 44/250\n",
      "519/519 [==============================] - 0s 69us/sample - loss: 1.0410 - val_loss: 0.9387\n",
      "Epoch 45/250\n",
      "519/519 [==============================] - 0s 69us/sample - loss: 0.9565 - val_loss: 1.1573\n",
      "Epoch 46/250\n",
      "519/519 [==============================] - 0s 69us/sample - loss: 1.0231 - val_loss: 0.9602\n",
      "Epoch 47/250\n",
      "519/519 [==============================] - 0s 69us/sample - loss: 1.0394 - val_loss: 0.8671\n",
      "Epoch 48/250\n",
      "519/519 [==============================] - 0s 69us/sample - loss: 1.0494 - val_loss: 1.0438\n",
      "Epoch 49/250\n",
      "519/519 [==============================] - 0s 69us/sample - loss: 0.9249 - val_loss: 0.9546\n",
      "Epoch 50/250\n",
      "519/519 [==============================] - 0s 69us/sample - loss: 0.9501 - val_loss: 0.8728\n",
      "Epoch 51/250\n",
      "519/519 [==============================] - 0s 69us/sample - loss: 1.0059 - val_loss: 0.9624\n",
      "Epoch 52/250\n",
      "519/519 [==============================] - 0s 69us/sample - loss: 0.9551 - val_loss: 0.9689\n",
      "Epoch 53/250\n",
      "519/519 [==============================] - 0s 75us/sample - loss: 0.9431 - val_loss: 1.0086\n",
      "Epoch 54/250\n",
      "519/519 [==============================] - 0s 71us/sample - loss: 0.9224 - val_loss: 0.9192\n",
      "Epoch 55/250\n",
      "519/519 [==============================] - 0s 81us/sample - loss: 0.9102 - val_loss: 0.9357\n",
      "Epoch 56/250\n",
      "519/519 [==============================] - 0s 71us/sample - loss: 0.8981 - val_loss: 1.0590\n",
      "Epoch 57/250\n",
      "519/519 [==============================] - 0s 64us/sample - loss: 0.9107 - val_loss: 1.0070\n",
      "Epoch 58/250\n",
      "519/519 [==============================] - 0s 67us/sample - loss: 0.9049 - val_loss: 1.0079\n",
      "Epoch 59/250\n",
      "519/519 [==============================] - 0s 73us/sample - loss: 0.9135 - val_loss: 0.8317\n",
      "Epoch 60/250\n",
      "519/519 [==============================] - 0s 66us/sample - loss: 0.9014 - val_loss: 0.9708\n",
      "Epoch 61/250\n",
      "519/519 [==============================] - 0s 66us/sample - loss: 0.8898 - val_loss: 1.0271\n",
      "Epoch 62/250\n",
      "519/519 [==============================] - 0s 66us/sample - loss: 0.9482 - val_loss: 0.9964\n",
      "Epoch 63/250\n",
      "519/519 [==============================] - 0s 66us/sample - loss: 0.9586 - val_loss: 0.7690\n",
      "Epoch 64/250\n",
      "519/519 [==============================] - 0s 67us/sample - loss: 0.9080 - val_loss: 1.0367\n",
      "Epoch 65/250\n",
      "519/519 [==============================] - 0s 64us/sample - loss: 0.8684 - val_loss: 0.8334\n",
      "Epoch 66/250\n",
      "519/519 [==============================] - 0s 66us/sample - loss: 0.9254 - val_loss: 0.8013\n",
      "Epoch 67/250\n",
      "519/519 [==============================] - 0s 98us/sample - loss: 0.7965 - val_loss: 1.0074\n",
      "Epoch 68/250\n",
      "519/519 [==============================] - 0s 67us/sample - loss: 0.7916 - val_loss: 0.8334\n",
      "Epoch 69/250\n",
      "519/519 [==============================] - 0s 85us/sample - loss: 0.9126 - val_loss: 0.8165\n",
      "Epoch 70/250\n",
      "519/519 [==============================] - 0s 66us/sample - loss: 0.8973 - val_loss: 1.0200\n",
      "Epoch 71/250\n",
      "519/519 [==============================] - 0s 62us/sample - loss: 0.7740 - val_loss: 0.7796\n",
      "Epoch 72/250\n",
      "519/519 [==============================] - 0s 62us/sample - loss: 0.8286 - val_loss: 0.9147\n",
      "Epoch 73/250\n",
      "519/519 [==============================] - 0s 71us/sample - loss: 0.8152 - val_loss: 0.8968\n",
      "Epoch 74/250\n",
      "519/519 [==============================] - 0s 66us/sample - loss: 0.8033 - val_loss: 0.8935\n",
      "Epoch 75/250\n",
      "519/519 [==============================] - 0s 66us/sample - loss: 0.7571 - val_loss: 0.7384\n",
      "Epoch 76/250\n",
      "519/519 [==============================] - 0s 64us/sample - loss: 0.7452 - val_loss: 0.8305\n",
      "Epoch 77/250\n",
      "519/519 [==============================] - 0s 66us/sample - loss: 0.8201 - val_loss: 1.0772\n",
      "Epoch 78/250\n"
     ]
    },
    {
     "name": "stdout",
     "output_type": "stream",
     "text": [
      "519/519 [==============================] - 0s 64us/sample - loss: 0.8259 - val_loss: 0.7933\n",
      "Epoch 79/250\n",
      "519/519 [==============================] - 0s 66us/sample - loss: 0.8015 - val_loss: 0.7892\n",
      "Epoch 80/250\n",
      "519/519 [==============================] - 0s 66us/sample - loss: 0.7905 - val_loss: 0.8334\n",
      "Epoch 81/250\n",
      "519/519 [==============================] - 0s 66us/sample - loss: 0.7873 - val_loss: 0.8256\n",
      "Epoch 82/250\n",
      "519/519 [==============================] - 0s 67us/sample - loss: 0.8250 - val_loss: 0.8873\n",
      "Epoch 83/250\n",
      "519/519 [==============================] - 0s 73us/sample - loss: 0.7800 - val_loss: 0.8602\n",
      "Epoch 84/250\n",
      "519/519 [==============================] - 0s 71us/sample - loss: 0.8296 - val_loss: 0.8047\n",
      "Epoch 85/250\n",
      "519/519 [==============================] - 0s 67us/sample - loss: 0.8048 - val_loss: 0.7689\n",
      "Epoch 86/250\n",
      "519/519 [==============================] - 0s 67us/sample - loss: 0.7527 - val_loss: 0.8361\n",
      "Epoch 87/250\n",
      "519/519 [==============================] - 0s 66us/sample - loss: 0.7967 - val_loss: 0.7273\n",
      "Epoch 88/250\n",
      "519/519 [==============================] - 0s 66us/sample - loss: 0.7566 - val_loss: 0.7314\n",
      "Epoch 89/250\n",
      "519/519 [==============================] - 0s 64us/sample - loss: 0.7685 - val_loss: 0.9259\n",
      "Epoch 90/250\n",
      "519/519 [==============================] - 0s 64us/sample - loss: 0.7467 - val_loss: 0.7333\n",
      "Epoch 91/250\n",
      "519/519 [==============================] - 0s 64us/sample - loss: 0.7887 - val_loss: 0.7310\n",
      "Epoch 92/250\n",
      "519/519 [==============================] - 0s 64us/sample - loss: 0.7968 - val_loss: 0.7855\n",
      "Epoch 93/250\n",
      "519/519 [==============================] - 0s 71us/sample - loss: 0.6826 - val_loss: 0.7219\n",
      "Epoch 94/250\n",
      "519/519 [==============================] - 0s 66us/sample - loss: 0.7620 - val_loss: 0.7325\n",
      "Epoch 95/250\n",
      "519/519 [==============================] - 0s 67us/sample - loss: 0.7906 - val_loss: 0.8312\n",
      "Epoch 96/250\n",
      "519/519 [==============================] - 0s 64us/sample - loss: 0.7924 - val_loss: 0.7943\n",
      "Epoch 97/250\n",
      "519/519 [==============================] - 0s 64us/sample - loss: 0.7372 - val_loss: 0.7203\n",
      "Epoch 98/250\n",
      "519/519 [==============================] - 0s 64us/sample - loss: 0.7438 - val_loss: 0.7978\n",
      "Epoch 99/250\n",
      "519/519 [==============================] - 0s 64us/sample - loss: 0.6926 - val_loss: 0.8240\n",
      "Epoch 100/250\n",
      "519/519 [==============================] - 0s 64us/sample - loss: 0.7162 - val_loss: 0.6919\n",
      "Epoch 101/250\n",
      "519/519 [==============================] - 0s 67us/sample - loss: 0.7564 - val_loss: 0.6734\n",
      "Epoch 102/250\n",
      "519/519 [==============================] - 0s 66us/sample - loss: 0.7462 - val_loss: 0.6663\n",
      "Epoch 103/250\n",
      "519/519 [==============================] - 0s 66us/sample - loss: 0.7887 - val_loss: 0.8401\n",
      "Epoch 104/250\n",
      "519/519 [==============================] - 0s 66us/sample - loss: 0.7031 - val_loss: 0.7378\n",
      "Epoch 105/250\n",
      "519/519 [==============================] - 0s 64us/sample - loss: 0.7740 - val_loss: 0.7226\n",
      "Epoch 106/250\n",
      "519/519 [==============================] - 0s 66us/sample - loss: 0.7516 - val_loss: 0.7642\n",
      "Epoch 107/250\n",
      "519/519 [==============================] - 0s 64us/sample - loss: 0.7524 - val_loss: 0.7824\n",
      "Epoch 108/250\n",
      "519/519 [==============================] - 0s 67us/sample - loss: 0.7287 - val_loss: 0.6467\n",
      "Epoch 109/250\n",
      "519/519 [==============================] - 0s 66us/sample - loss: 0.7366 - val_loss: 0.7647\n",
      "Epoch 110/250\n",
      "519/519 [==============================] - 0s 66us/sample - loss: 0.7216 - val_loss: 0.7088\n",
      "Epoch 111/250\n",
      "519/519 [==============================] - 0s 64us/sample - loss: 0.7219 - val_loss: 0.6703\n",
      "Epoch 112/250\n",
      "519/519 [==============================] - 0s 71us/sample - loss: 0.7012 - val_loss: 0.7443\n",
      "Epoch 113/250\n",
      "519/519 [==============================] - 0s 71us/sample - loss: 0.6651 - val_loss: 0.7584\n",
      "Epoch 114/250\n",
      "519/519 [==============================] - 0s 67us/sample - loss: 0.7095 - val_loss: 0.6975\n",
      "Epoch 115/250\n",
      "519/519 [==============================] - 0s 64us/sample - loss: 0.6133 - val_loss: 0.6961\n",
      "Epoch 116/250\n",
      "519/519 [==============================] - 0s 66us/sample - loss: 0.6765 - val_loss: 0.7674\n",
      "Epoch 117/250\n",
      "519/519 [==============================] - 0s 64us/sample - loss: 0.7261 - val_loss: 0.7329\n",
      "Epoch 118/250\n",
      "519/519 [==============================] - 0s 64us/sample - loss: 0.6649 - val_loss: 0.6374\n",
      "Epoch 119/250\n",
      "519/519 [==============================] - 0s 64us/sample - loss: 0.6912 - val_loss: 0.7294\n",
      "Epoch 120/250\n",
      "519/519 [==============================] - 0s 67us/sample - loss: 0.6880 - val_loss: 0.6604\n",
      "Epoch 121/250\n",
      "519/519 [==============================] - 0s 62us/sample - loss: 0.6399 - val_loss: 0.6887\n",
      "Epoch 122/250\n",
      "519/519 [==============================] - 0s 67us/sample - loss: 0.6967 - val_loss: 0.7461\n",
      "Epoch 123/250\n",
      "519/519 [==============================] - 0s 69us/sample - loss: 0.6657 - val_loss: 0.6539\n",
      "Epoch 124/250\n",
      "519/519 [==============================] - 0s 64us/sample - loss: 0.6383 - val_loss: 0.6735\n",
      "Epoch 125/250\n",
      "519/519 [==============================] - 0s 66us/sample - loss: 0.6467 - val_loss: 0.6751\n",
      "Epoch 126/250\n",
      "519/519 [==============================] - 0s 64us/sample - loss: 0.6685 - val_loss: 0.7136\n",
      "Epoch 127/250\n",
      "519/519 [==============================] - 0s 66us/sample - loss: 0.7126 - val_loss: 0.7482\n",
      "Epoch 128/250\n",
      "519/519 [==============================] - 0s 66us/sample - loss: 0.6364 - val_loss: 0.6573\n",
      "Epoch 129/250\n",
      "519/519 [==============================] - 0s 66us/sample - loss: 0.7085 - val_loss: 0.6642\n",
      "Epoch 130/250\n",
      "519/519 [==============================] - 0s 64us/sample - loss: 0.6951 - val_loss: 0.7811\n",
      "Epoch 131/250\n",
      "519/519 [==============================] - 0s 66us/sample - loss: 0.6925 - val_loss: 0.7002\n",
      "Epoch 132/250\n",
      "519/519 [==============================] - 0s 62us/sample - loss: 0.7025 - val_loss: 0.6372\n",
      "Epoch 133/250\n",
      "519/519 [==============================] - 0s 64us/sample - loss: 0.6550 - val_loss: 0.6447\n",
      "Epoch 134/250\n",
      "519/519 [==============================] - 0s 64us/sample - loss: 0.6946 - val_loss: 0.6790\n",
      "Epoch 135/250\n",
      "519/519 [==============================] - 0s 64us/sample - loss: 0.6742 - val_loss: 0.7030\n",
      "Epoch 136/250\n",
      "519/519 [==============================] - 0s 67us/sample - loss: 0.6563 - val_loss: 0.6605\n",
      "Epoch 137/250\n",
      "519/519 [==============================] - 0s 83us/sample - loss: 0.6512 - val_loss: 0.6363\n",
      "Epoch 138/250\n",
      "519/519 [==============================] - 0s 64us/sample - loss: 0.6720 - val_loss: 0.6734\n",
      "Epoch 139/250\n",
      "519/519 [==============================] - 0s 69us/sample - loss: 0.6305 - val_loss: 0.6792\n",
      "Epoch 140/250\n",
      "519/519 [==============================] - 0s 67us/sample - loss: 0.6553 - val_loss: 0.6665\n",
      "Epoch 141/250\n",
      "519/519 [==============================] - 0s 67us/sample - loss: 0.6263 - val_loss: 0.6712\n",
      "Epoch 142/250\n",
      "519/519 [==============================] - 0s 77us/sample - loss: 0.7236 - val_loss: 0.6944\n",
      "Epoch 143/250\n",
      "519/519 [==============================] - 0s 66us/sample - loss: 0.6182 - val_loss: 0.7008\n",
      "Epoch 144/250\n",
      "519/519 [==============================] - 0s 66us/sample - loss: 0.6053 - val_loss: 0.6651\n",
      "Epoch 145/250\n",
      "519/519 [==============================] - 0s 66us/sample - loss: 0.6076 - val_loss: 0.6240\n",
      "Epoch 146/250\n",
      "519/519 [==============================] - 0s 64us/sample - loss: 0.6501 - val_loss: 0.6921\n",
      "Epoch 147/250\n",
      "519/519 [==============================] - 0s 64us/sample - loss: 0.6521 - val_loss: 0.6733\n",
      "Epoch 148/250\n",
      "519/519 [==============================] - 0s 64us/sample - loss: 0.6840 - val_loss: 0.6074\n",
      "Epoch 149/250\n",
      "519/519 [==============================] - 0s 66us/sample - loss: 0.6454 - val_loss: 0.6191\n",
      "Epoch 150/250\n",
      "519/519 [==============================] - 0s 67us/sample - loss: 0.6244 - val_loss: 0.6465\n",
      "Epoch 151/250\n",
      "519/519 [==============================] - 0s 69us/sample - loss: 0.6401 - val_loss: 0.6757\n",
      "Epoch 152/250\n",
      "519/519 [==============================] - 0s 67us/sample - loss: 0.6156 - val_loss: 0.6643\n",
      "Epoch 153/250\n",
      "519/519 [==============================] - 0s 66us/sample - loss: 0.6312 - val_loss: 0.6021\n",
      "Epoch 154/250\n",
      "519/519 [==============================] - 0s 62us/sample - loss: 0.6634 - val_loss: 0.6043\n",
      "Epoch 155/250\n"
     ]
    },
    {
     "name": "stdout",
     "output_type": "stream",
     "text": [
      "519/519 [==============================] - 0s 66us/sample - loss: 0.6392 - val_loss: 0.6309\n",
      "Epoch 156/250\n",
      "519/519 [==============================] - 0s 67us/sample - loss: 0.5966 - val_loss: 0.6690\n",
      "Epoch 157/250\n",
      "519/519 [==============================] - 0s 69us/sample - loss: 0.6101 - val_loss: 0.5830\n",
      "Epoch 158/250\n",
      "519/519 [==============================] - 0s 62us/sample - loss: 0.5952 - val_loss: 0.6382\n",
      "Epoch 159/250\n",
      "519/519 [==============================] - 0s 67us/sample - loss: 0.6257 - val_loss: 0.6627\n",
      "Epoch 160/250\n",
      "519/519 [==============================] - 0s 67us/sample - loss: 0.6134 - val_loss: 0.6026\n",
      "Epoch 161/250\n",
      "519/519 [==============================] - 0s 64us/sample - loss: 0.6153 - val_loss: 0.5865\n",
      "Epoch 162/250\n",
      "519/519 [==============================] - 0s 66us/sample - loss: 0.6415 - val_loss: 0.6152\n",
      "Epoch 163/250\n",
      "519/519 [==============================] - 0s 67us/sample - loss: 0.6434 - val_loss: 0.5979\n",
      "Epoch 164/250\n",
      "519/519 [==============================] - 0s 66us/sample - loss: 0.6494 - val_loss: 0.6218\n",
      "Epoch 165/250\n",
      "519/519 [==============================] - 0s 64us/sample - loss: 0.5932 - val_loss: 0.6381\n",
      "Epoch 166/250\n",
      "519/519 [==============================] - 0s 67us/sample - loss: 0.6556 - val_loss: 0.6205\n",
      "Epoch 167/250\n",
      "519/519 [==============================] - 0s 66us/sample - loss: 0.6080 - val_loss: 0.6084\n",
      "Epoch 168/250\n",
      "519/519 [==============================] - 0s 66us/sample - loss: 0.5928 - val_loss: 0.5791\n",
      "Epoch 169/250\n",
      "519/519 [==============================] - 0s 64us/sample - loss: 0.5627 - val_loss: 0.6422\n",
      "Epoch 170/250\n",
      "519/519 [==============================] - 0s 69us/sample - loss: 0.5906 - val_loss: 0.6305\n",
      "Epoch 171/250\n",
      "519/519 [==============================] - 0s 73us/sample - loss: 0.6284 - val_loss: 0.6235\n",
      "Epoch 172/250\n",
      "519/519 [==============================] - 0s 64us/sample - loss: 0.5925 - val_loss: 0.7077\n",
      "Epoch 173/250\n",
      "519/519 [==============================] - 0s 64us/sample - loss: 0.5674 - val_loss: 0.6478\n",
      "Epoch 174/250\n",
      "519/519 [==============================] - 0s 64us/sample - loss: 0.5801 - val_loss: 0.6039\n",
      "Epoch 175/250\n",
      "519/519 [==============================] - 0s 64us/sample - loss: 0.5921 - val_loss: 0.6326\n",
      "Epoch 176/250\n",
      "519/519 [==============================] - 0s 64us/sample - loss: 0.6192 - val_loss: 0.6219\n",
      "Epoch 177/250\n",
      "519/519 [==============================] - 0s 62us/sample - loss: 0.5997 - val_loss: 0.5931\n",
      "Epoch 178/250\n",
      "519/519 [==============================] - 0s 64us/sample - loss: 0.6159 - val_loss: 0.5953\n",
      "Epoch 179/250\n",
      "519/519 [==============================] - 0s 67us/sample - loss: 0.6783 - val_loss: 0.6142\n",
      "Epoch 180/250\n",
      "519/519 [==============================] - 0s 71us/sample - loss: 0.5908 - val_loss: 0.6037\n",
      "Epoch 181/250\n",
      "519/519 [==============================] - 0s 69us/sample - loss: 0.5726 - val_loss: 0.6144\n",
      "Epoch 182/250\n",
      "519/519 [==============================] - 0s 67us/sample - loss: 0.6663 - val_loss: 0.5981\n",
      "Epoch 183/250\n",
      "519/519 [==============================] - 0s 69us/sample - loss: 0.5611 - val_loss: 0.6657\n",
      "Epoch 184/250\n",
      "519/519 [==============================] - 0s 69us/sample - loss: 0.5977 - val_loss: 0.6523\n",
      "Epoch 185/250\n",
      "519/519 [==============================] - 0s 71us/sample - loss: 0.5796 - val_loss: 0.5444\n",
      "Epoch 186/250\n",
      "519/519 [==============================] - 0s 67us/sample - loss: 0.5699 - val_loss: 0.6043\n",
      "Epoch 187/250\n",
      "519/519 [==============================] - 0s 79us/sample - loss: 0.6098 - val_loss: 0.6440\n",
      "Epoch 188/250\n",
      "519/519 [==============================] - 0s 73us/sample - loss: 0.5973 - val_loss: 0.5819\n",
      "Epoch 189/250\n",
      "519/519 [==============================] - 0s 75us/sample - loss: 0.5765 - val_loss: 0.5928\n",
      "Epoch 190/250\n",
      "519/519 [==============================] - 0s 71us/sample - loss: 0.5816 - val_loss: 0.6467\n",
      "Epoch 191/250\n",
      "519/519 [==============================] - 0s 71us/sample - loss: 0.6010 - val_loss: 0.5932\n",
      "Epoch 192/250\n",
      "519/519 [==============================] - 0s 73us/sample - loss: 0.5904 - val_loss: 0.5960\n",
      "Epoch 193/250\n",
      "519/519 [==============================] - 0s 69us/sample - loss: 0.5357 - val_loss: 0.5874\n",
      "Epoch 194/250\n",
      "519/519 [==============================] - 0s 77us/sample - loss: 0.5913 - val_loss: 0.6394\n",
      "Epoch 195/250\n",
      "519/519 [==============================] - 0s 71us/sample - loss: 0.5610 - val_loss: 0.5859\n",
      "Epoch 196/250\n",
      "519/519 [==============================] - 0s 69us/sample - loss: 0.5880 - val_loss: 0.5673\n",
      "Epoch 197/250\n",
      "519/519 [==============================] - 0s 71us/sample - loss: 0.5894 - val_loss: 0.6558\n",
      "Epoch 198/250\n",
      "519/519 [==============================] - 0s 81us/sample - loss: 0.5371 - val_loss: 0.6208\n",
      "Epoch 199/250\n",
      "519/519 [==============================] - 0s 79us/sample - loss: 0.5846 - val_loss: 0.5873\n",
      "Epoch 200/250\n",
      "519/519 [==============================] - 0s 69us/sample - loss: 0.5712 - val_loss: 0.5752\n",
      "Epoch 201/250\n",
      "519/519 [==============================] - 0s 67us/sample - loss: 0.5330 - val_loss: 0.6256\n",
      "Epoch 202/250\n",
      "519/519 [==============================] - 0s 73us/sample - loss: 0.5410 - val_loss: 0.6365\n",
      "Epoch 203/250\n",
      "519/519 [==============================] - 0s 69us/sample - loss: 0.5753 - val_loss: 0.5848\n",
      "Epoch 204/250\n",
      "519/519 [==============================] - 0s 67us/sample - loss: 0.5323 - val_loss: 0.5658\n",
      "Epoch 205/250\n",
      "519/519 [==============================] - 0s 69us/sample - loss: 0.5589 - val_loss: 0.7053\n",
      "Epoch 206/250\n",
      "519/519 [==============================] - 0s 85us/sample - loss: 0.5888 - val_loss: 0.6099\n",
      "Epoch 207/250\n",
      "519/519 [==============================] - 0s 83us/sample - loss: 0.5166 - val_loss: 0.5409\n",
      "Epoch 208/250\n",
      "519/519 [==============================] - 0s 67us/sample - loss: 0.5755 - val_loss: 0.6000\n",
      "Epoch 209/250\n",
      "519/519 [==============================] - 0s 66us/sample - loss: 0.5809 - val_loss: 0.6580\n",
      "Epoch 210/250\n",
      "519/519 [==============================] - 0s 67us/sample - loss: 0.5432 - val_loss: 0.6337\n",
      "Epoch 211/250\n",
      "519/519 [==============================] - 0s 69us/sample - loss: 0.5215 - val_loss: 0.5435\n",
      "Epoch 212/250\n",
      "519/519 [==============================] - 0s 66us/sample - loss: 0.6074 - val_loss: 0.5591\n",
      "Epoch 213/250\n",
      "519/519 [==============================] - 0s 66us/sample - loss: 0.5712 - val_loss: 0.6125\n",
      "Epoch 214/250\n",
      "519/519 [==============================] - 0s 64us/sample - loss: 0.5036 - val_loss: 0.5960\n",
      "Epoch 215/250\n",
      "519/519 [==============================] - 0s 64us/sample - loss: 0.5054 - val_loss: 0.5589\n",
      "Epoch 216/250\n",
      "519/519 [==============================] - 0s 67us/sample - loss: 0.5162 - val_loss: 0.5925\n",
      "Epoch 217/250\n",
      "519/519 [==============================] - 0s 69us/sample - loss: 0.5047 - val_loss: 0.5939\n",
      "Epoch 218/250\n",
      "519/519 [==============================] - 0s 66us/sample - loss: 0.5159 - val_loss: 0.5728\n",
      "Epoch 219/250\n",
      "519/519 [==============================] - 0s 67us/sample - loss: 0.5314 - val_loss: 0.6299\n",
      "Epoch 220/250\n",
      "519/519 [==============================] - 0s 66us/sample - loss: 0.6061 - val_loss: 0.6132\n",
      "Epoch 221/250\n",
      "519/519 [==============================] - 0s 66us/sample - loss: 0.5242 - val_loss: 0.5420\n",
      "Epoch 222/250\n",
      "519/519 [==============================] - 0s 67us/sample - loss: 0.5606 - val_loss: 0.5532\n",
      "Epoch 223/250\n",
      "519/519 [==============================] - 0s 66us/sample - loss: 0.4872 - val_loss: 0.5923\n",
      "Epoch 224/250\n",
      "519/519 [==============================] - 0s 66us/sample - loss: 0.5574 - val_loss: 0.5987\n",
      "Epoch 225/250\n",
      "519/519 [==============================] - 0s 66us/sample - loss: 0.5247 - val_loss: 0.5750\n",
      "Epoch 226/250\n",
      "519/519 [==============================] - 0s 77us/sample - loss: 0.4975 - val_loss: 0.5946\n",
      "Epoch 227/250\n",
      "519/519 [==============================] - 0s 69us/sample - loss: 0.5060 - val_loss: 0.6231\n",
      "Epoch 228/250\n",
      "519/519 [==============================] - 0s 66us/sample - loss: 0.5763 - val_loss: 0.5933\n",
      "Epoch 229/250\n",
      "519/519 [==============================] - 0s 67us/sample - loss: 0.5304 - val_loss: 0.5551\n",
      "Epoch 230/250\n",
      "519/519 [==============================] - 0s 64us/sample - loss: 0.5281 - val_loss: 0.5575\n",
      "Epoch 231/250\n",
      "519/519 [==============================] - 0s 64us/sample - loss: 0.5458 - val_loss: 0.5915\n",
      "Epoch 232/250\n"
     ]
    },
    {
     "name": "stdout",
     "output_type": "stream",
     "text": [
      "519/519 [==============================] - 0s 65us/sample - loss: 0.5440 - val_loss: 0.6406\n",
      "Epoch 233/250\n",
      "519/519 [==============================] - 0s 67us/sample - loss: 0.5545 - val_loss: 0.5532\n",
      "Epoch 234/250\n",
      "519/519 [==============================] - 0s 67us/sample - loss: 0.5205 - val_loss: 0.5811\n",
      "Epoch 235/250\n",
      "519/519 [==============================] - 0s 64us/sample - loss: 0.5284 - val_loss: 0.5950\n",
      "Epoch 236/250\n",
      "519/519 [==============================] - 0s 64us/sample - loss: 0.4966 - val_loss: 0.6127\n",
      "Epoch 237/250\n",
      "519/519 [==============================] - 0s 66us/sample - loss: 0.4951 - val_loss: 0.5997\n",
      "Epoch 238/250\n",
      "519/519 [==============================] - 0s 64us/sample - loss: 0.4944 - val_loss: 0.5825\n",
      "Epoch 239/250\n",
      "519/519 [==============================] - 0s 62us/sample - loss: 0.5245 - val_loss: 0.6026\n",
      "Epoch 240/250\n",
      "519/519 [==============================] - 0s 66us/sample - loss: 0.5117 - val_loss: 0.5830\n",
      "Epoch 241/250\n",
      "519/519 [==============================] - 0s 66us/sample - loss: 0.4869 - val_loss: 0.6028\n",
      "Epoch 242/250\n",
      "519/519 [==============================] - 0s 67us/sample - loss: 0.5459 - val_loss: 0.6251\n",
      "Epoch 243/250\n",
      "519/519 [==============================] - 0s 66us/sample - loss: 0.4555 - val_loss: 0.5890\n",
      "Epoch 244/250\n",
      "519/519 [==============================] - 0s 67us/sample - loss: 0.4893 - val_loss: 0.5742\n",
      "Epoch 245/250\n",
      "519/519 [==============================] - 0s 66us/sample - loss: 0.4973 - val_loss: 0.5935\n",
      "Epoch 246/250\n",
      "519/519 [==============================] - 0s 64us/sample - loss: 0.4675 - val_loss: 0.6016\n",
      "Epoch 247/250\n",
      "519/519 [==============================] - 0s 67us/sample - loss: 0.4699 - val_loss: 0.6018\n",
      "Epoch 248/250\n",
      "519/519 [==============================] - 0s 67us/sample - loss: 0.4870 - val_loss: 0.5896\n",
      "Epoch 249/250\n",
      "519/519 [==============================] - 0s 66us/sample - loss: 0.5303 - val_loss: 0.6080\n",
      "Epoch 250/250\n",
      "519/519 [==============================] - 0s 66us/sample - loss: 0.4852 - val_loss: 0.6109\n"
     ]
    },
    {
     "data": {
      "text/plain": [
       "<tensorflow.python.keras.callbacks.History at 0x2c1c4e56ec8>"
      ]
     },
     "execution_count": 36,
     "metadata": {},
     "output_type": "execute_result"
    }
   ],
   "source": [
    "model.fit(X_train,y_train,validation_data = (X_test,y_test.values),batch_size = 64,epochs = 250)"
   ]
  },
  {
   "cell_type": "code",
   "execution_count": 37,
   "metadata": {},
   "outputs": [
    {
     "data": {
      "image/png": "[encoded data removed]",
      "text/plain": [
       "<Figure size 432x288 with 1 Axes>"
      ]
     },
     "metadata": {
      "needs_background": "light"
     },
     "output_type": "display_data"
    }
   ],
   "source": [
    "losses = pd.DataFrame(model.history.history)\n",
    "\n",
    "losses.plot();"
   ]
  },
  {
   "cell_type": "code",
   "execution_count": 38,
   "metadata": {},
   "outputs": [],
   "source": [
    "y_pred = model.predict(X_test)"
   ]
  },
  {
   "cell_type": "code",
   "execution_count": 39,
   "metadata": {},
   "outputs": [
    {
     "data": {
      "text/html": [
       "<div>\n",
       "<style scoped>\n",
       "    .dataframe tbody tr th:only-of-type {\n",
       "        vertical-align: middle;\n",
       "    }\n",
       "\n",
       "    .dataframe tbody tr th {\n",
       "        vertical-align: top;\n",
       "    }\n",
       "\n",
       "    .dataframe thead th {\n",
       "        text-align: right;\n",
       "    }\n",
       "</style>\n",
       "<table border=\"1\" class=\"dataframe\">\n",
       "  <thead>\n",
       "    <tr style=\"text-align: right;\">\n",
       "      <th></th>\n",
       "      <th>y_pred</th>\n",
       "      <th>y_test</th>\n",
       "    </tr>\n",
       "  </thead>\n",
       "  <tbody>\n",
       "    <tr>\n",
       "      <th>0</th>\n",
       "      <td>3.461435</td>\n",
       "      <td>5</td>\n",
       "    </tr>\n",
       "    <tr>\n",
       "      <th>1</th>\n",
       "      <td>2.846671</td>\n",
       "      <td>3</td>\n",
       "    </tr>\n",
       "    <tr>\n",
       "      <th>2</th>\n",
       "      <td>3.782087</td>\n",
       "      <td>5</td>\n",
       "    </tr>\n",
       "    <tr>\n",
       "      <th>3</th>\n",
       "      <td>3.075646</td>\n",
       "      <td>3</td>\n",
       "    </tr>\n",
       "    <tr>\n",
       "      <th>4</th>\n",
       "      <td>2.763461</td>\n",
       "      <td>3</td>\n",
       "    </tr>\n",
       "  </tbody>\n",
       "</table>\n",
       "</div>"
      ],
      "text/plain": [
       "     y_pred  y_test\n",
       "0  3.461435       5\n",
       "1  2.846671       3\n",
       "2  3.782087       5\n",
       "3  3.075646       3\n",
       "4  2.763461       3"
      ]
     },
     "execution_count": 39,
     "metadata": {},
     "output_type": "execute_result"
    }
   ],
   "source": [
    "y_pred = pd.DataFrame(y_pred)\n",
    "\n",
    "df_temp = pd.concat([y_pred,y_test],axis = 1)\n",
    "df_temp.columns = ['y_pred','y_test']\n",
    "\n",
    "df_temp.head()"
   ]
  },
  {
   "cell_type": "code",
   "execution_count": 40,
   "metadata": {},
   "outputs": [
    {
     "data": {
      "image/png": "[encoded data removed]",
      "text/plain": [
       "<Figure size 432x288 with 1 Axes>"
      ]
     },
     "metadata": {
      "needs_background": "light"
     },
     "output_type": "display_data"
    }
   ],
   "source": [
    "plt.scatter(df_temp['y_test'],df_temp['y_pred'])\n",
    "plt.xlabel('y_test',fontsize = 14)\n",
    "plt.ylabel('y_pred',fontsize = 14)\n",
    "plt.xlim(0,6)\n",
    "plt.ylim(0,6)\n",
    "plt.xticks(list(range(0,6)))\n",
    "plt.yticks(list(range(0,6)))\n",
    "plt.grid()\n",
    "y_lim = plt.ylim()\n",
    "x_lim = plt.xlim()\n",
    "plt.plot(x_lim,y_lim,color = 'g',linewidth = 0.5);"
   ]
  },
  {
   "cell_type": "code",
   "execution_count": 41,
   "metadata": {},
   "outputs": [
    {
     "data": {
      "text/plain": [
       "0.7816301340323177"
      ]
     },
     "execution_count": 41,
     "metadata": {},
     "output_type": "execute_result"
    }
   ],
   "source": [
    "rmse(y_pred,y_test)"
   ]
  },
  {
   "cell_type": "markdown",
   "metadata": {},
   "source": [
    "## Stacking "
   ]
  },
  {
   "cell_type": "code",
   "execution_count": 42,
   "metadata": {},
   "outputs": [],
   "source": [
    "X_base,X_meta,y_base,y_meta = train_test_split(X_train,y_train,test_size = 0.5,random_state = 42)"
   ]
  },
  {
   "cell_type": "markdown",
   "metadata": {},
   "source": [
    "### Base Models "
   ]
  },
  {
   "cell_type": "code",
   "execution_count": 43,
   "metadata": {},
   "outputs": [],
   "source": [
    "model = DecisionTreeRegressor(min_samples_leaf = 20,max_depth = 10)\n",
    "model.fit(X_base,y_base)\n",
    "\n",
    "y_pred_dt_meta = model.predict(X_meta)\n",
    "y_pred_dt_test = model.predict(X_test)"
   ]
  },
  {
   "cell_type": "code",
   "execution_count": 44,
   "metadata": {},
   "outputs": [],
   "source": [
    "model = RandomForestRegressor(min_samples_leaf = 1,n_estimators = 100)\n",
    "model.fit(X_base,y_base)\n",
    "\n",
    "y_pred_rf_meta = model.predict(X_meta)\n",
    "y_pred_rf_test = model.predict(X_test)"
   ]
  },
  {
   "cell_type": "code",
   "execution_count": 45,
   "metadata": {},
   "outputs": [],
   "source": [
    "model = xgboost.XGBRegressor(silent = True,max_depth = 1,learning_rate = 0.1,n_estimators = 100)\n",
    "model.fit(X_base,y_base)\n",
    "\n",
    "y_pred_xgb_meta = model.predict(X_meta)\n",
    "y_pred_xgb_test = model.predict(X_test)"
   ]
  },
  {
   "cell_type": "code",
   "execution_count": 46,
   "metadata": {},
   "outputs": [
    {
     "name": "stdout",
     "output_type": "stream",
     "text": [
      "Train on 519 samples, validate on 259 samples\n",
      "Epoch 1/250\n",
      "519/519 [==============================] - 1s 2ms/sample - loss: 9.3514 - val_loss: 7.2345\n",
      "Epoch 2/250\n",
      "519/519 [==============================] - 0s 77us/sample - loss: 6.0465 - val_loss: 3.5739\n",
      "Epoch 3/250\n",
      "519/519 [==============================] - 0s 73us/sample - loss: 2.9396 - val_loss: 1.1723\n",
      "Epoch 4/250\n",
      "519/519 [==============================] - 0s 81us/sample - loss: 2.7895 - val_loss: 1.0348\n",
      "Epoch 5/250\n",
      "519/519 [==============================] - 0s 77us/sample - loss: 2.4614 - val_loss: 1.2271\n",
      "Epoch 6/250\n",
      "519/519 [==============================] - 0s 79us/sample - loss: 2.0976 - val_loss: 1.5904\n",
      "Epoch 7/250\n",
      "519/519 [==============================] - 0s 100us/sample - loss: 2.0408 - val_loss: 1.0274\n",
      "Epoch 8/250\n",
      "519/519 [==============================] - 0s 75us/sample - loss: 2.0762 - val_loss: 0.8066\n",
      "Epoch 9/250\n",
      "519/519 [==============================] - 0s 69us/sample - loss: 1.9525 - val_loss: 1.0130\n",
      "Epoch 10/250\n",
      "519/519 [==============================] - 0s 73us/sample - loss: 1.7734 - val_loss: 1.1008\n",
      "Epoch 11/250\n",
      "519/519 [==============================] - 0s 69us/sample - loss: 1.4085 - val_loss: 0.8648\n",
      "Epoch 12/250\n",
      "519/519 [==============================] - 0s 69us/sample - loss: 1.7020 - val_loss: 1.0362\n",
      "Epoch 13/250\n",
      "519/519 [==============================] - 0s 81us/sample - loss: 1.5918 - val_loss: 1.0207\n",
      "Epoch 14/250\n",
      "519/519 [==============================] - 0s 75us/sample - loss: 1.5115 - val_loss: 1.0277\n",
      "Epoch 15/250\n",
      "519/519 [==============================] - 0s 83us/sample - loss: 1.4782 - val_loss: 0.9724\n",
      "Epoch 16/250\n",
      "519/519 [==============================] - 0s 77us/sample - loss: 1.3821 - val_loss: 0.8595\n",
      "Epoch 17/250\n",
      "519/519 [==============================] - 0s 75us/sample - loss: 1.3090 - val_loss: 0.9436\n",
      "Epoch 18/250\n",
      "519/519 [==============================] - 0s 67us/sample - loss: 1.3809 - val_loss: 0.9497\n",
      "Epoch 19/250\n",
      "519/519 [==============================] - 0s 68us/sample - loss: 1.3364 - val_loss: 0.8350\n",
      "Epoch 20/250\n",
      "519/519 [==============================] - 0s 73us/sample - loss: 1.3012 - val_loss: 0.8438\n",
      "Epoch 21/250\n",
      "519/519 [==============================] - 0s 73us/sample - loss: 1.2717 - val_loss: 1.0406\n",
      "Epoch 22/250\n",
      "519/519 [==============================] - 0s 69us/sample - loss: 1.3222 - val_loss: 0.8890\n",
      "Epoch 23/250\n",
      "519/519 [==============================] - 0s 71us/sample - loss: 1.1792 - val_loss: 0.8960\n",
      "Epoch 24/250\n",
      "519/519 [==============================] - 0s 73us/sample - loss: 1.2219 - val_loss: 0.9578\n",
      "Epoch 25/250\n",
      "519/519 [==============================] - 0s 75us/sample - loss: 1.1590 - val_loss: 1.0117\n",
      "Epoch 26/250\n",
      "519/519 [==============================] - 0s 73us/sample - loss: 1.0998 - val_loss: 0.8095\n",
      "Epoch 27/250\n",
      "519/519 [==============================] - 0s 71us/sample - loss: 1.1853 - val_loss: 0.8525\n",
      "Epoch 28/250\n",
      "519/519 [==============================] - 0s 69us/sample - loss: 1.2096 - val_loss: 0.9312\n",
      "Epoch 29/250\n",
      "519/519 [==============================] - 0s 75us/sample - loss: 0.9984 - val_loss: 0.9743\n",
      "Epoch 30/250\n",
      "519/519 [==============================] - 0s 79us/sample - loss: 1.0909 - val_loss: 0.8271\n",
      "Epoch 31/250\n",
      "519/519 [==============================] - 0s 87us/sample - loss: 1.1155 - val_loss: 0.8264\n",
      "Epoch 32/250\n",
      "519/519 [==============================] - 0s 91us/sample - loss: 1.1431 - val_loss: 0.8977\n",
      "Epoch 33/250\n",
      "519/519 [==============================] - 0s 91us/sample - loss: 1.1703 - val_loss: 0.7277\n",
      "Epoch 34/250\n",
      "519/519 [==============================] - 0s 73us/sample - loss: 1.0685 - val_loss: 0.7698\n",
      "Epoch 35/250\n",
      "519/519 [==============================] - 0s 73us/sample - loss: 1.0154 - val_loss: 0.7108\n",
      "Epoch 36/250\n",
      "519/519 [==============================] - 0s 71us/sample - loss: 1.0777 - val_loss: 0.7891\n",
      "Epoch 37/250\n",
      "519/519 [==============================] - 0s 75us/sample - loss: 1.0931 - val_loss: 0.7434\n",
      "Epoch 38/250\n",
      "519/519 [==============================] - 0s 71us/sample - loss: 1.0139 - val_loss: 0.9012\n",
      "Epoch 39/250\n",
      "519/519 [==============================] - 0s 71us/sample - loss: 1.0115 - val_loss: 0.7428\n",
      "Epoch 40/250\n",
      "519/519 [==============================] - 0s 73us/sample - loss: 1.0458 - val_loss: 0.6513\n",
      "Epoch 41/250\n",
      "519/519 [==============================] - 0s 71us/sample - loss: 1.0247 - val_loss: 0.9131\n",
      "Epoch 42/250\n",
      "519/519 [==============================] - 0s 71us/sample - loss: 1.0161 - val_loss: 0.7749\n",
      "Epoch 43/250\n",
      "519/519 [==============================] - 0s 75us/sample - loss: 0.9556 - val_loss: 0.6977\n",
      "Epoch 44/250\n",
      "519/519 [==============================] - 0s 71us/sample - loss: 1.0051 - val_loss: 0.7644\n",
      "Epoch 45/250\n",
      "519/519 [==============================] - 0s 69us/sample - loss: 0.9601 - val_loss: 0.9046\n",
      "Epoch 46/250\n",
      "519/519 [==============================] - 0s 75us/sample - loss: 0.9842 - val_loss: 0.8139\n",
      "Epoch 47/250\n",
      "519/519 [==============================] - 0s 69us/sample - loss: 1.0627 - val_loss: 0.7310\n",
      "Epoch 48/250\n",
      "519/519 [==============================] - 0s 85us/sample - loss: 0.8670 - val_loss: 0.6453\n",
      "Epoch 49/250\n",
      "519/519 [==============================] - 0s 77us/sample - loss: 0.8807 - val_loss: 0.8013\n",
      "Epoch 50/250\n",
      "519/519 [==============================] - 0s 71us/sample - loss: 0.8722 - val_loss: 0.7888\n",
      "Epoch 51/250\n",
      "519/519 [==============================] - 0s 69us/sample - loss: 0.8783 - val_loss: 0.6686\n",
      "Epoch 52/250\n",
      "519/519 [==============================] - 0s 67us/sample - loss: 0.8829 - val_loss: 0.7927\n",
      "Epoch 53/250\n",
      "519/519 [==============================] - 0s 69us/sample - loss: 0.9358 - val_loss: 0.7042\n",
      "Epoch 54/250\n",
      "519/519 [==============================] - 0s 75us/sample - loss: 0.9366 - val_loss: 0.6928\n",
      "Epoch 55/250\n",
      "519/519 [==============================] - 0s 71us/sample - loss: 0.9481 - val_loss: 0.6939\n",
      "Epoch 56/250\n",
      "519/519 [==============================] - 0s 69us/sample - loss: 0.8163 - val_loss: 0.7049\n",
      "Epoch 57/250\n",
      "519/519 [==============================] - 0s 71us/sample - loss: 0.8977 - val_loss: 0.7735\n",
      "Epoch 58/250\n",
      "519/519 [==============================] - 0s 71us/sample - loss: 0.8824 - val_loss: 0.6754\n",
      "Epoch 59/250\n",
      "519/519 [==============================] - 0s 83us/sample - loss: 0.8837 - val_loss: 0.7020\n",
      "Epoch 60/250\n",
      "519/519 [==============================] - 0s 75us/sample - loss: 0.8963 - val_loss: 0.6295\n",
      "Epoch 61/250\n",
      "519/519 [==============================] - 0s 71us/sample - loss: 0.9460 - val_loss: 0.5624\n",
      "Epoch 62/250\n",
      "519/519 [==============================] - 0s 75us/sample - loss: 0.8151 - val_loss: 0.5827\n",
      "Epoch 63/250\n",
      "519/519 [==============================] - 0s 69us/sample - loss: 0.7896 - val_loss: 0.5714\n",
      "Epoch 64/250\n",
      "519/519 [==============================] - 0s 69us/sample - loss: 0.8576 - val_loss: 0.6547\n",
      "Epoch 65/250\n",
      "519/519 [==============================] - 0s 77us/sample - loss: 0.8520 - val_loss: 0.7133\n",
      "Epoch 66/250\n",
      "519/519 [==============================] - 0s 69us/sample - loss: 0.9401 - val_loss: 0.5904\n",
      "Epoch 67/250\n",
      "519/519 [==============================] - 0s 69us/sample - loss: 0.8376 - val_loss: 0.5816\n",
      "Epoch 68/250\n",
      "519/519 [==============================] - 0s 73us/sample - loss: 0.8411 - val_loss: 0.5627\n",
      "Epoch 69/250\n",
      "519/519 [==============================] - 0s 71us/sample - loss: 0.8489 - val_loss: 0.5460\n",
      "Epoch 70/250\n",
      "519/519 [==============================] - 0s 71us/sample - loss: 0.7798 - val_loss: 0.5759\n",
      "Epoch 71/250\n",
      "519/519 [==============================] - 0s 71us/sample - loss: 0.9081 - val_loss: 0.6150\n",
      "Epoch 72/250\n",
      "519/519 [==============================] - 0s 69us/sample - loss: 0.8466 - val_loss: 0.5526\n",
      "Epoch 73/250\n",
      "519/519 [==============================] - 0s 69us/sample - loss: 0.9044 - val_loss: 0.5310\n",
      "Epoch 74/250\n",
      "519/519 [==============================] - 0s 71us/sample - loss: 0.9029 - val_loss: 0.5687\n",
      "Epoch 75/250\n",
      "519/519 [==============================] - 0s 75us/sample - loss: 0.8642 - val_loss: 0.5646\n",
      "Epoch 76/250\n",
      "519/519 [==============================] - 0s 67us/sample - loss: 0.7966 - val_loss: 0.5556\n",
      "Epoch 77/250\n",
      "519/519 [==============================] - 0s 67us/sample - loss: 0.8213 - val_loss: 0.5622\n",
      "Epoch 78/250\n"
     ]
    },
    {
     "name": "stdout",
     "output_type": "stream",
     "text": [
      "519/519 [==============================] - 0s 73us/sample - loss: 0.7795 - val_loss: 0.5042\n",
      "Epoch 79/250\n",
      "519/519 [==============================] - 0s 69us/sample - loss: 0.7904 - val_loss: 0.4810\n",
      "Epoch 80/250\n",
      "519/519 [==============================] - 0s 67us/sample - loss: 0.8393 - val_loss: 0.5259\n",
      "Epoch 81/250\n",
      "519/519 [==============================] - 0s 69us/sample - loss: 0.8072 - val_loss: 0.5370\n",
      "Epoch 82/250\n",
      "519/519 [==============================] - 0s 71us/sample - loss: 0.7214 - val_loss: 0.5375\n",
      "Epoch 83/250\n",
      "519/519 [==============================] - 0s 71us/sample - loss: 0.7659 - val_loss: 0.5595\n",
      "Epoch 84/250\n",
      "519/519 [==============================] - 0s 69us/sample - loss: 0.8161 - val_loss: 0.5191\n",
      "Epoch 85/250\n",
      "519/519 [==============================] - 0s 74us/sample - loss: 0.8021 - val_loss: 0.4716\n",
      "Epoch 86/250\n",
      "519/519 [==============================] - 0s 89us/sample - loss: 0.7861 - val_loss: 0.5337\n",
      "Epoch 87/250\n",
      "519/519 [==============================] - 0s 71us/sample - loss: 0.7632 - val_loss: 0.5278\n",
      "Epoch 88/250\n",
      "519/519 [==============================] - 0s 67us/sample - loss: 0.8064 - val_loss: 0.5067\n",
      "Epoch 89/250\n",
      "519/519 [==============================] - 0s 69us/sample - loss: 0.8105 - val_loss: 0.5395\n",
      "Epoch 90/250\n",
      "519/519 [==============================] - 0s 71us/sample - loss: 0.7373 - val_loss: 0.5065\n",
      "Epoch 91/250\n",
      "519/519 [==============================] - 0s 71us/sample - loss: 0.7577 - val_loss: 0.5059\n",
      "Epoch 92/250\n",
      "519/519 [==============================] - 0s 75us/sample - loss: 0.7876 - val_loss: 0.4786\n",
      "Epoch 93/250\n",
      "519/519 [==============================] - 0s 73us/sample - loss: 0.7518 - val_loss: 0.5373\n",
      "Epoch 94/250\n",
      "519/519 [==============================] - 0s 71us/sample - loss: 0.7858 - val_loss: 0.5379\n",
      "Epoch 95/250\n",
      "519/519 [==============================] - 0s 73us/sample - loss: 0.7852 - val_loss: 0.4834\n",
      "Epoch 96/250\n",
      "519/519 [==============================] - 0s 77us/sample - loss: 0.7569 - val_loss: 0.4716\n",
      "Epoch 97/250\n",
      "519/519 [==============================] - 0s 85us/sample - loss: 0.7399 - val_loss: 0.5060\n",
      "Epoch 98/250\n",
      "519/519 [==============================] - 0s 75us/sample - loss: 0.7844 - val_loss: 0.5594\n",
      "Epoch 99/250\n",
      "519/519 [==============================] - 0s 75us/sample - loss: 0.8433 - val_loss: 0.4580\n",
      "Epoch 100/250\n",
      "519/519 [==============================] - 0s 73us/sample - loss: 0.7450 - val_loss: 0.4559\n",
      "Epoch 101/250\n",
      "519/519 [==============================] - 0s 77us/sample - loss: 0.7580 - val_loss: 0.4999\n",
      "Epoch 102/250\n",
      "519/519 [==============================] - 0s 71us/sample - loss: 0.7165 - val_loss: 0.5062\n",
      "Epoch 103/250\n",
      "519/519 [==============================] - 0s 73us/sample - loss: 0.7791 - val_loss: 0.5188\n",
      "Epoch 104/250\n",
      "519/519 [==============================] - 0s 75us/sample - loss: 0.7270 - val_loss: 0.4644\n",
      "Epoch 105/250\n",
      "519/519 [==============================] - 0s 69us/sample - loss: 0.7093 - val_loss: 0.4462\n",
      "Epoch 106/250\n",
      "519/519 [==============================] - 0s 69us/sample - loss: 0.7653 - val_loss: 0.5053\n",
      "Epoch 107/250\n",
      "519/519 [==============================] - 0s 77us/sample - loss: 0.7141 - val_loss: 0.4953\n",
      "Epoch 108/250\n",
      "519/519 [==============================] - 0s 73us/sample - loss: 0.6796 - val_loss: 0.4346\n",
      "Epoch 109/250\n",
      "519/519 [==============================] - 0s 73us/sample - loss: 0.7328 - val_loss: 0.4488\n",
      "Epoch 110/250\n",
      "519/519 [==============================] - 0s 71us/sample - loss: 0.7965 - val_loss: 0.4766\n",
      "Epoch 111/250\n",
      "519/519 [==============================] - 0s 71us/sample - loss: 0.7231 - val_loss: 0.4933\n",
      "Epoch 112/250\n",
      "519/519 [==============================] - 0s 79us/sample - loss: 0.7130 - val_loss: 0.4865\n",
      "Epoch 113/250\n",
      "519/519 [==============================] - 0s 98us/sample - loss: 0.7216 - val_loss: 0.4618\n",
      "Epoch 114/250\n",
      "519/519 [==============================] - 0s 110us/sample - loss: 0.6533 - val_loss: 0.4496\n",
      "Epoch 115/250\n",
      "519/519 [==============================] - 0s 79us/sample - loss: 0.6715 - val_loss: 0.4936\n",
      "Epoch 116/250\n",
      "519/519 [==============================] - 0s 69us/sample - loss: 0.7513 - val_loss: 0.4509\n",
      "Epoch 117/250\n",
      "519/519 [==============================] - 0s 69us/sample - loss: 0.7022 - val_loss: 0.4485\n",
      "Epoch 118/250\n",
      "519/519 [==============================] - 0s 71us/sample - loss: 0.6920 - val_loss: 0.4644\n",
      "Epoch 119/250\n",
      "519/519 [==============================] - 0s 67us/sample - loss: 0.6304 - val_loss: 0.4572\n",
      "Epoch 120/250\n",
      "519/519 [==============================] - 0s 71us/sample - loss: 0.7637 - val_loss: 0.4220\n",
      "Epoch 121/250\n",
      "519/519 [==============================] - 0s 75us/sample - loss: 0.6993 - val_loss: 0.4628\n",
      "Epoch 122/250\n",
      "519/519 [==============================] - 0s 81us/sample - loss: 0.6682 - val_loss: 0.4603\n",
      "Epoch 123/250\n",
      "519/519 [==============================] - 0s 79us/sample - loss: 0.6916 - val_loss: 0.4375\n",
      "Epoch 124/250\n",
      "519/519 [==============================] - 0s 84us/sample - loss: 0.6382 - val_loss: 0.4235\n",
      "Epoch 125/250\n",
      "519/519 [==============================] - 0s 75us/sample - loss: 0.6511 - val_loss: 0.4493\n",
      "Epoch 126/250\n",
      "519/519 [==============================] - 0s 75us/sample - loss: 0.6774 - val_loss: 0.4724\n",
      "Epoch 127/250\n",
      "519/519 [==============================] - 0s 77us/sample - loss: 0.6820 - val_loss: 0.4275\n",
      "Epoch 128/250\n",
      "519/519 [==============================] - 0s 77us/sample - loss: 0.6776 - val_loss: 0.4257\n",
      "Epoch 129/250\n",
      "519/519 [==============================] - 0s 69us/sample - loss: 0.6756 - val_loss: 0.4563\n",
      "Epoch 130/250\n",
      "519/519 [==============================] - 0s 71us/sample - loss: 0.6831 - val_loss: 0.4260\n",
      "Epoch 131/250\n",
      "519/519 [==============================] - 0s 75us/sample - loss: 0.6982 - val_loss: 0.4549\n",
      "Epoch 132/250\n",
      "519/519 [==============================] - 0s 75us/sample - loss: 0.6538 - val_loss: 0.4563\n",
      "Epoch 133/250\n",
      "519/519 [==============================] - 0s 71us/sample - loss: 0.6380 - val_loss: 0.4145\n",
      "Epoch 134/250\n",
      "519/519 [==============================] - 0s 71us/sample - loss: 0.6555 - val_loss: 0.4295\n",
      "Epoch 135/250\n",
      "519/519 [==============================] - 0s 71us/sample - loss: 0.6454 - val_loss: 0.3911\n",
      "Epoch 136/250\n",
      "519/519 [==============================] - 0s 75us/sample - loss: 0.6821 - val_loss: 0.3938\n",
      "Epoch 137/250\n",
      "519/519 [==============================] - 0s 85us/sample - loss: 0.6176 - val_loss: 0.4175\n",
      "Epoch 138/250\n",
      "519/519 [==============================] - 0s 79us/sample - loss: 0.6767 - val_loss: 0.4622\n",
      "Epoch 139/250\n",
      "519/519 [==============================] - 0s 83us/sample - loss: 0.6414 - val_loss: 0.4066\n",
      "Epoch 140/250\n",
      "519/519 [==============================] - 0s 77us/sample - loss: 0.6917 - val_loss: 0.4024\n",
      "Epoch 141/250\n",
      "519/519 [==============================] - 0s 85us/sample - loss: 0.6659 - val_loss: 0.4245\n",
      "Epoch 142/250\n",
      "519/519 [==============================] - 0s 71us/sample - loss: 0.6818 - val_loss: 0.4102\n",
      "Epoch 143/250\n",
      "519/519 [==============================] - 0s 73us/sample - loss: 0.6383 - val_loss: 0.4312\n",
      "Epoch 144/250\n",
      "519/519 [==============================] - 0s 67us/sample - loss: 0.6015 - val_loss: 0.4079\n",
      "Epoch 145/250\n",
      "519/519 [==============================] - 0s 69us/sample - loss: 0.6875 - val_loss: 0.3674\n",
      "Epoch 146/250\n",
      "519/519 [==============================] - 0s 67us/sample - loss: 0.6448 - val_loss: 0.4075\n",
      "Epoch 147/250\n",
      "519/519 [==============================] - 0s 85us/sample - loss: 0.6731 - val_loss: 0.4129\n",
      "Epoch 148/250\n",
      "519/519 [==============================] - 0s 79us/sample - loss: 0.6157 - val_loss: 0.4043\n",
      "Epoch 149/250\n",
      "519/519 [==============================] - 0s 79us/sample - loss: 0.7034 - val_loss: 0.4410\n",
      "Epoch 150/250\n",
      "519/519 [==============================] - 0s 81us/sample - loss: 0.6328 - val_loss: 0.3921\n",
      "Epoch 151/250\n",
      "519/519 [==============================] - 0s 73us/sample - loss: 0.6550 - val_loss: 0.3981\n",
      "Epoch 152/250\n",
      "519/519 [==============================] - 0s 71us/sample - loss: 0.6368 - val_loss: 0.4081\n",
      "Epoch 153/250\n",
      "519/519 [==============================] - 0s 67us/sample - loss: 0.6258 - val_loss: 0.4069\n",
      "Epoch 154/250\n",
      "519/519 [==============================] - 0s 69us/sample - loss: 0.6084 - val_loss: 0.4261\n",
      "Epoch 155/250\n"
     ]
    },
    {
     "name": "stdout",
     "output_type": "stream",
     "text": [
      "519/519 [==============================] - 0s 69us/sample - loss: 0.6446 - val_loss: 0.3991\n",
      "Epoch 156/250\n",
      "519/519 [==============================] - 0s 71us/sample - loss: 0.6577 - val_loss: 0.3955\n",
      "Epoch 157/250\n",
      "519/519 [==============================] - 0s 79us/sample - loss: 0.6495 - val_loss: 0.4292\n",
      "Epoch 158/250\n",
      "519/519 [==============================] - 0s 73us/sample - loss: 0.6786 - val_loss: 0.3859\n",
      "Epoch 159/250\n",
      "519/519 [==============================] - 0s 79us/sample - loss: 0.6340 - val_loss: 0.3927\n",
      "Epoch 160/250\n",
      "519/519 [==============================] - 0s 69us/sample - loss: 0.6293 - val_loss: 0.4307\n",
      "Epoch 161/250\n",
      "519/519 [==============================] - 0s 75us/sample - loss: 0.6315 - val_loss: 0.3923\n",
      "Epoch 162/250\n",
      "519/519 [==============================] - 0s 73us/sample - loss: 0.6450 - val_loss: 0.3881\n",
      "Epoch 163/250\n",
      "519/519 [==============================] - 0s 83us/sample - loss: 0.7019 - val_loss: 0.4009\n",
      "Epoch 164/250\n",
      "519/519 [==============================] - 0s 69us/sample - loss: 0.6479 - val_loss: 0.3990\n",
      "Epoch 165/250\n",
      "519/519 [==============================] - 0s 73us/sample - loss: 0.6473 - val_loss: 0.3885\n",
      "Epoch 166/250\n",
      "519/519 [==============================] - 0s 73us/sample - loss: 0.5658 - val_loss: 0.3813\n",
      "Epoch 167/250\n",
      "519/519 [==============================] - 0s 71us/sample - loss: 0.6072 - val_loss: 0.3884\n",
      "Epoch 168/250\n",
      "519/519 [==============================] - 0s 73us/sample - loss: 0.6231 - val_loss: 0.3808\n",
      "Epoch 169/250\n",
      "519/519 [==============================] - 0s 71us/sample - loss: 0.6512 - val_loss: 0.3735\n",
      "Epoch 170/250\n",
      "519/519 [==============================] - 0s 71us/sample - loss: 0.6157 - val_loss: 0.3626\n",
      "Epoch 171/250\n",
      "519/519 [==============================] - 0s 73us/sample - loss: 0.5754 - val_loss: 0.4022\n",
      "Epoch 172/250\n",
      "519/519 [==============================] - 0s 75us/sample - loss: 0.6512 - val_loss: 0.3842\n",
      "Epoch 173/250\n",
      "519/519 [==============================] - 0s 81us/sample - loss: 0.6474 - val_loss: 0.3767\n",
      "Epoch 174/250\n",
      "519/519 [==============================] - 0s 131us/sample - loss: 0.6558 - val_loss: 0.3639\n",
      "Epoch 175/250\n",
      "519/519 [==============================] - 0s 79us/sample - loss: 0.6515 - val_loss: 0.3779\n",
      "Epoch 176/250\n",
      "519/519 [==============================] - 0s 85us/sample - loss: 0.5866 - val_loss: 0.3719\n",
      "Epoch 177/250\n",
      "519/519 [==============================] - 0s 73us/sample - loss: 0.5824 - val_loss: 0.3869\n",
      "Epoch 178/250\n",
      "519/519 [==============================] - 0s 67us/sample - loss: 0.5742 - val_loss: 0.3814\n",
      "Epoch 179/250\n",
      "519/519 [==============================] - 0s 69us/sample - loss: 0.6060 - val_loss: 0.3470\n",
      "Epoch 180/250\n",
      "519/519 [==============================] - 0s 67us/sample - loss: 0.6070 - val_loss: 0.3891\n",
      "Epoch 181/250\n",
      "519/519 [==============================] - 0s 71us/sample - loss: 0.6139 - val_loss: 0.3950\n",
      "Epoch 182/250\n",
      "519/519 [==============================] - 0s 71us/sample - loss: 0.6500 - val_loss: 0.3752\n",
      "Epoch 183/250\n",
      "519/519 [==============================] - 0s 69us/sample - loss: 0.5751 - val_loss: 0.3790\n",
      "Epoch 184/250\n",
      "519/519 [==============================] - 0s 71us/sample - loss: 0.6493 - val_loss: 0.3865\n",
      "Epoch 185/250\n",
      "519/519 [==============================] - 0s 73us/sample - loss: 0.6018 - val_loss: 0.3566\n",
      "Epoch 186/250\n",
      "519/519 [==============================] - 0s 69us/sample - loss: 0.5594 - val_loss: 0.3485\n",
      "Epoch 187/250\n",
      "519/519 [==============================] - 0s 73us/sample - loss: 0.6393 - val_loss: 0.3516\n",
      "Epoch 188/250\n",
      "519/519 [==============================] - 0s 83us/sample - loss: 0.5962 - val_loss: 0.3524\n",
      "Epoch 189/250\n",
      "519/519 [==============================] - 0s 77us/sample - loss: 0.6092 - val_loss: 0.3824\n",
      "Epoch 190/250\n",
      "519/519 [==============================] - 0s 77us/sample - loss: 0.5554 - val_loss: 0.3890\n",
      "Epoch 191/250\n",
      "519/519 [==============================] - 0s 73us/sample - loss: 0.6098 - val_loss: 0.3521\n",
      "Epoch 192/250\n",
      "519/519 [==============================] - 0s 71us/sample - loss: 0.5720 - val_loss: 0.3450\n",
      "Epoch 193/250\n",
      "519/519 [==============================] - 0s 69us/sample - loss: 0.5721 - val_loss: 0.3437\n",
      "Epoch 194/250\n",
      "519/519 [==============================] - 0s 75us/sample - loss: 0.6379 - val_loss: 0.3549\n",
      "Epoch 195/250\n",
      "519/519 [==============================] - 0s 69us/sample - loss: 0.5270 - val_loss: 0.3521\n",
      "Epoch 196/250\n",
      "519/519 [==============================] - 0s 69us/sample - loss: 0.5287 - val_loss: 0.3386\n",
      "Epoch 197/250\n",
      "519/519 [==============================] - 0s 73us/sample - loss: 0.5825 - val_loss: 0.3403\n",
      "Epoch 198/250\n",
      "519/519 [==============================] - 0s 71us/sample - loss: 0.6320 - val_loss: 0.3881\n",
      "Epoch 199/250\n",
      "519/519 [==============================] - 0s 67us/sample - loss: 0.5975 - val_loss: 0.3808\n",
      "Epoch 200/250\n",
      "519/519 [==============================] - 0s 71us/sample - loss: 0.5648 - val_loss: 0.3468\n",
      "Epoch 201/250\n",
      "519/519 [==============================] - 0s 69us/sample - loss: 0.6392 - val_loss: 0.3202\n",
      "Epoch 202/250\n",
      "519/519 [==============================] - 0s 67us/sample - loss: 0.5378 - val_loss: 0.3515\n",
      "Epoch 203/250\n",
      "519/519 [==============================] - 0s 79us/sample - loss: 0.5664 - val_loss: 0.3644\n",
      "Epoch 204/250\n",
      "519/519 [==============================] - 0s 77us/sample - loss: 0.5690 - val_loss: 0.3339\n",
      "Epoch 205/250\n",
      "519/519 [==============================] - 0s 69us/sample - loss: 0.5747 - val_loss: 0.3364\n",
      "Epoch 206/250\n",
      "519/519 [==============================] - 0s 69us/sample - loss: 0.5293 - val_loss: 0.3453\n",
      "Epoch 207/250\n",
      "519/519 [==============================] - 0s 73us/sample - loss: 0.5353 - val_loss: 0.3469\n",
      "Epoch 208/250\n",
      "519/519 [==============================] - 0s 73us/sample - loss: 0.6030 - val_loss: 0.3390\n",
      "Epoch 209/250\n",
      "519/519 [==============================] - 0s 69us/sample - loss: 0.5447 - val_loss: 0.3272\n",
      "Epoch 210/250\n",
      "519/519 [==============================] - 0s 77us/sample - loss: 0.5265 - val_loss: 0.3278\n",
      "Epoch 211/250\n",
      "519/519 [==============================] - 0s 69us/sample - loss: 0.5277 - val_loss: 0.3390\n",
      "Epoch 212/250\n",
      "519/519 [==============================] - 0s 66us/sample - loss: 0.5357 - val_loss: 0.3193\n",
      "Epoch 213/250\n",
      "519/519 [==============================] - 0s 73us/sample - loss: 0.5566 - val_loss: 0.3347\n",
      "Epoch 214/250\n",
      "519/519 [==============================] - 0s 75us/sample - loss: 0.5348 - val_loss: 0.3386\n",
      "Epoch 215/250\n",
      "519/519 [==============================] - 0s 85us/sample - loss: 0.5680 - val_loss: 0.3240\n",
      "Epoch 216/250\n",
      "519/519 [==============================] - 0s 71us/sample - loss: 0.5137 - val_loss: 0.3402\n",
      "Epoch 217/250\n",
      "519/519 [==============================] - 0s 71us/sample - loss: 0.5668 - val_loss: 0.3380\n",
      "Epoch 218/250\n",
      "519/519 [==============================] - 0s 71us/sample - loss: 0.5725 - val_loss: 0.3263\n",
      "Epoch 219/250\n",
      "519/519 [==============================] - 0s 71us/sample - loss: 0.5198 - val_loss: 0.3217\n",
      "Epoch 220/250\n",
      "519/519 [==============================] - 0s 71us/sample - loss: 0.5621 - val_loss: 0.3304\n",
      "Epoch 221/250\n",
      "519/519 [==============================] - 0s 76us/sample - loss: 0.5529 - val_loss: 0.3613\n",
      "Epoch 222/250\n",
      "519/519 [==============================] - 0s 73us/sample - loss: 0.5716 - val_loss: 0.3260\n",
      "Epoch 223/250\n",
      "519/519 [==============================] - 0s 67us/sample - loss: 0.5258 - val_loss: 0.3379\n",
      "Epoch 224/250\n",
      "519/519 [==============================] - 0s 67us/sample - loss: 0.5651 - val_loss: 0.3466\n",
      "Epoch 225/250\n",
      "519/519 [==============================] - 0s 73us/sample - loss: 0.5498 - val_loss: 0.3357\n",
      "Epoch 226/250\n",
      "519/519 [==============================] - 0s 69us/sample - loss: 0.5071 - val_loss: 0.3212\n",
      "Epoch 227/250\n",
      "519/519 [==============================] - 0s 71us/sample - loss: 0.5389 - val_loss: 0.3117\n",
      "Epoch 228/250\n",
      "519/519 [==============================] - 0s 73us/sample - loss: 0.5357 - val_loss: 0.3495\n",
      "Epoch 229/250\n",
      "519/519 [==============================] - 0s 69us/sample - loss: 0.5041 - val_loss: 0.3536\n",
      "Epoch 230/250\n",
      "519/519 [==============================] - 0s 69us/sample - loss: 0.5697 - val_loss: 0.3064\n",
      "Epoch 231/250\n",
      "519/519 [==============================] - 0s 81us/sample - loss: 0.5638 - val_loss: 0.3206\n",
      "Epoch 232/250\n"
     ]
    },
    {
     "name": "stdout",
     "output_type": "stream",
     "text": [
      "519/519 [==============================] - 0s 73us/sample - loss: 0.4997 - val_loss: 0.3551\n",
      "Epoch 233/250\n",
      "519/519 [==============================] - 0s 75us/sample - loss: 0.5119 - val_loss: 0.3290\n",
      "Epoch 234/250\n",
      "519/519 [==============================] - 0s 71us/sample - loss: 0.5526 - val_loss: 0.3266\n",
      "Epoch 235/250\n",
      "519/519 [==============================] - 0s 71us/sample - loss: 0.5205 - val_loss: 0.3196\n",
      "Epoch 236/250\n",
      "519/519 [==============================] - 0s 77us/sample - loss: 0.5667 - val_loss: 0.3206\n",
      "Epoch 237/250\n",
      "519/519 [==============================] - 0s 71us/sample - loss: 0.5022 - val_loss: 0.3192\n",
      "Epoch 238/250\n",
      "519/519 [==============================] - 0s 79us/sample - loss: 0.5341 - val_loss: 0.3378\n",
      "Epoch 239/250\n",
      "519/519 [==============================] - 0s 73us/sample - loss: 0.5587 - val_loss: 0.3234\n",
      "Epoch 240/250\n",
      "519/519 [==============================] - 0s 77us/sample - loss: 0.5141 - val_loss: 0.3113\n",
      "Epoch 241/250\n",
      "519/519 [==============================] - 0s 84us/sample - loss: 0.5763 - val_loss: 0.3213\n",
      "Epoch 242/250\n",
      "519/519 [==============================] - 0s 75us/sample - loss: 0.5620 - val_loss: 0.3141\n",
      "Epoch 243/250\n",
      "519/519 [==============================] - 0s 73us/sample - loss: 0.5191 - val_loss: 0.3122\n",
      "Epoch 244/250\n",
      "519/519 [==============================] - 0s 69us/sample - loss: 0.5488 - val_loss: 0.3146\n",
      "Epoch 245/250\n",
      "519/519 [==============================] - 0s 67us/sample - loss: 0.5139 - val_loss: 0.3163\n",
      "Epoch 246/250\n",
      "519/519 [==============================] - 0s 67us/sample - loss: 0.5319 - val_loss: 0.3090\n",
      "Epoch 247/250\n",
      "519/519 [==============================] - 0s 89us/sample - loss: 0.5520 - val_loss: 0.3271\n",
      "Epoch 248/250\n",
      "519/519 [==============================] - 0s 85us/sample - loss: 0.4799 - val_loss: 0.3230\n",
      "Epoch 249/250\n",
      "519/519 [==============================] - 0s 83us/sample - loss: 0.5427 - val_loss: 0.2996\n",
      "Epoch 250/250\n",
      "519/519 [==============================] - 0s 73us/sample - loss: 0.5045 - val_loss: 0.3012\n"
     ]
    },
    {
     "data": {
      "text/plain": [
       "<tensorflow.python.keras.callbacks.History at 0x2c1c6daa408>"
      ]
     },
     "execution_count": 46,
     "metadata": {},
     "output_type": "execute_result"
    }
   ],
   "source": [
    "model = Sequential()\n",
    "\n",
    "model.add(Dense(32,activation = 'relu'))\n",
    "model.add(Dropout(0.25))\n",
    "model.add(Dense(32,activation = 'relu'))\n",
    "model.add(Dropout(0.25))\n",
    "model.add(Dense(32,activation = 'relu'))\n",
    "model.add(Dropout(0.25))\n",
    "model.add(Dense(32,activation = 'relu'))\n",
    "model.add(Dropout(0.25))\n",
    "model.add(Dense(1))\n",
    "\n",
    "model.compile(optimizer = 'adam',loss = 'mse')\n",
    "\n",
    "model.fit(X_train,y_train,validation_data = (X_base,y_base),batch_size = 64,epochs = 250)"
   ]
  },
  {
   "cell_type": "code",
   "execution_count": 47,
   "metadata": {},
   "outputs": [],
   "source": [
    "y_pred_nn_meta = model.predict(X_meta)\n",
    "y_pred_nn_test = model.predict(X_test)"
   ]
  },
  {
   "cell_type": "code",
   "execution_count": 48,
   "metadata": {},
   "outputs": [
    {
     "data": {
      "text/html": [
       "<div>\n",
       "<style scoped>\n",
       "    .dataframe tbody tr th:only-of-type {\n",
       "        vertical-align: middle;\n",
       "    }\n",
       "\n",
       "    .dataframe tbody tr th {\n",
       "        vertical-align: top;\n",
       "    }\n",
       "\n",
       "    .dataframe thead th {\n",
       "        text-align: right;\n",
       "    }\n",
       "</style>\n",
       "<table border=\"1\" class=\"dataframe\">\n",
       "  <thead>\n",
       "    <tr style=\"text-align: right;\">\n",
       "      <th></th>\n",
       "      <th>y_pred_dt_meta</th>\n",
       "      <th>y_pred_rf_meta</th>\n",
       "      <th>y_pred_xgb_meta</th>\n",
       "      <th>y_pred_nn_meta</th>\n",
       "    </tr>\n",
       "  </thead>\n",
       "  <tbody>\n",
       "    <tr>\n",
       "      <th>0</th>\n",
       "      <td>2.260870</td>\n",
       "      <td>2.63</td>\n",
       "      <td>2.690458</td>\n",
       "      <td>2.450931</td>\n",
       "    </tr>\n",
       "    <tr>\n",
       "      <th>1</th>\n",
       "      <td>3.636364</td>\n",
       "      <td>3.47</td>\n",
       "      <td>3.548483</td>\n",
       "      <td>3.061749</td>\n",
       "    </tr>\n",
       "    <tr>\n",
       "      <th>2</th>\n",
       "      <td>2.260870</td>\n",
       "      <td>2.52</td>\n",
       "      <td>2.572711</td>\n",
       "      <td>2.426889</td>\n",
       "    </tr>\n",
       "    <tr>\n",
       "      <th>3</th>\n",
       "      <td>3.800000</td>\n",
       "      <td>3.78</td>\n",
       "      <td>3.751043</td>\n",
       "      <td>3.538542</td>\n",
       "    </tr>\n",
       "    <tr>\n",
       "      <th>4</th>\n",
       "      <td>3.950000</td>\n",
       "      <td>3.65</td>\n",
       "      <td>3.675618</td>\n",
       "      <td>3.572550</td>\n",
       "    </tr>\n",
       "  </tbody>\n",
       "</table>\n",
       "</div>"
      ],
      "text/plain": [
       "   y_pred_dt_meta  y_pred_rf_meta  y_pred_xgb_meta  y_pred_nn_meta\n",
       "0        2.260870            2.63         2.690458        2.450931\n",
       "1        3.636364            3.47         3.548483        3.061749\n",
       "2        2.260870            2.52         2.572711        2.426889\n",
       "3        3.800000            3.78         3.751043        3.538542\n",
       "4        3.950000            3.65         3.675618        3.572550"
      ]
     },
     "execution_count": 48,
     "metadata": {},
     "output_type": "execute_result"
    }
   ],
   "source": [
    "y_pred_dt_meta = pd.DataFrame(y_pred_dt_meta)\n",
    "y_pred_rf_meta = pd.DataFrame(y_pred_rf_meta)\n",
    "y_pred_xgb_meta = pd.DataFrame(y_pred_xgb_meta)\n",
    "y_pred_nn_meta = pd.DataFrame(y_pred_nn_meta)\n",
    "\n",
    "df_X_meta = pd.concat([y_pred_dt_meta,y_pred_rf_meta,y_pred_xgb_meta,y_pred_nn_meta],axis = 1)\n",
    "df_X_meta.columns = ['y_pred_dt_meta','y_pred_rf_meta','y_pred_xgb_meta','y_pred_nn_meta']\n",
    "\n",
    "df_X_meta.head()"
   ]
  },
  {
   "cell_type": "code",
   "execution_count": 49,
   "metadata": {
    "scrolled": false
   },
   "outputs": [
    {
     "data": {
      "text/html": [
       "<div>\n",
       "<style scoped>\n",
       "    .dataframe tbody tr th:only-of-type {\n",
       "        vertical-align: middle;\n",
       "    }\n",
       "\n",
       "    .dataframe tbody tr th {\n",
       "        vertical-align: top;\n",
       "    }\n",
       "\n",
       "    .dataframe thead th {\n",
       "        text-align: right;\n",
       "    }\n",
       "</style>\n",
       "<table border=\"1\" class=\"dataframe\">\n",
       "  <thead>\n",
       "    <tr style=\"text-align: right;\">\n",
       "      <th></th>\n",
       "      <th>y_pred_dt_test</th>\n",
       "      <th>y_pred_rf_test</th>\n",
       "      <th>y_pred_xgb_test</th>\n",
       "      <th>y_pred_nn_test</th>\n",
       "    </tr>\n",
       "  </thead>\n",
       "  <tbody>\n",
       "    <tr>\n",
       "      <th>0</th>\n",
       "      <td>3.324324</td>\n",
       "      <td>3.54</td>\n",
       "      <td>3.537777</td>\n",
       "      <td>3.684217</td>\n",
       "    </tr>\n",
       "    <tr>\n",
       "      <th>1</th>\n",
       "      <td>2.900000</td>\n",
       "      <td>3.45</td>\n",
       "      <td>3.327213</td>\n",
       "      <td>3.270868</td>\n",
       "    </tr>\n",
       "    <tr>\n",
       "      <th>2</th>\n",
       "      <td>3.324324</td>\n",
       "      <td>3.68</td>\n",
       "      <td>3.559557</td>\n",
       "      <td>4.217786</td>\n",
       "    </tr>\n",
       "    <tr>\n",
       "      <th>3</th>\n",
       "      <td>3.324324</td>\n",
       "      <td>3.50</td>\n",
       "      <td>3.559557</td>\n",
       "      <td>3.319646</td>\n",
       "    </tr>\n",
       "    <tr>\n",
       "      <th>4</th>\n",
       "      <td>2.900000</td>\n",
       "      <td>3.04</td>\n",
       "      <td>3.190569</td>\n",
       "      <td>3.201522</td>\n",
       "    </tr>\n",
       "  </tbody>\n",
       "</table>\n",
       "</div>"
      ],
      "text/plain": [
       "   y_pred_dt_test  y_pred_rf_test  y_pred_xgb_test  y_pred_nn_test\n",
       "0        3.324324            3.54         3.537777        3.684217\n",
       "1        2.900000            3.45         3.327213        3.270868\n",
       "2        3.324324            3.68         3.559557        4.217786\n",
       "3        3.324324            3.50         3.559557        3.319646\n",
       "4        2.900000            3.04         3.190569        3.201522"
      ]
     },
     "execution_count": 49,
     "metadata": {},
     "output_type": "execute_result"
    }
   ],
   "source": [
    "y_pred_dt_test = pd.DataFrame(y_pred_dt_test)\n",
    "y_pred_rf_test = pd.DataFrame(y_pred_rf_test)\n",
    "y_pred_xgb_test = pd.DataFrame(y_pred_xgb_test)\n",
    "y_pred_nn_test = pd.DataFrame(y_pred_nn_test)\n",
    "\n",
    "df_X_test = pd.concat([y_pred_dt_test,y_pred_rf_test,y_pred_xgb_test,y_pred_nn_test],axis = 1)\n",
    "df_X_test.columns = ['y_pred_dt_test','y_pred_rf_test','y_pred_xgb_test','y_pred_nn_test']\n",
    "\n",
    "df_X_test.head()"
   ]
  },
  {
   "cell_type": "markdown",
   "metadata": {},
   "source": [
    "### Meta Model "
   ]
  },
  {
   "cell_type": "code",
   "execution_count": 50,
   "metadata": {},
   "outputs": [],
   "source": [
    "model = LinearRegression()\n",
    "model.fit(df_X_meta,y_meta)\n",
    "\n",
    "y_pred_test = model.predict(df_X_test)"
   ]
  },
  {
   "cell_type": "code",
   "execution_count": 51,
   "metadata": {},
   "outputs": [
    {
     "data": {
      "text/html": [
       "<div>\n",
       "<style scoped>\n",
       "    .dataframe tbody tr th:only-of-type {\n",
       "        vertical-align: middle;\n",
       "    }\n",
       "\n",
       "    .dataframe tbody tr th {\n",
       "        vertical-align: top;\n",
       "    }\n",
       "\n",
       "    .dataframe thead th {\n",
       "        text-align: right;\n",
       "    }\n",
       "</style>\n",
       "<table border=\"1\" class=\"dataframe\">\n",
       "  <thead>\n",
       "    <tr style=\"text-align: right;\">\n",
       "      <th></th>\n",
       "      <th>y_pred_test</th>\n",
       "      <th>y_test</th>\n",
       "    </tr>\n",
       "  </thead>\n",
       "  <tbody>\n",
       "    <tr>\n",
       "      <th>0</th>\n",
       "      <td>4.200414</td>\n",
       "      <td>5</td>\n",
       "    </tr>\n",
       "    <tr>\n",
       "      <th>1</th>\n",
       "      <td>3.491224</td>\n",
       "      <td>3</td>\n",
       "    </tr>\n",
       "    <tr>\n",
       "      <th>2</th>\n",
       "      <td>5.180580</td>\n",
       "      <td>5</td>\n",
       "    </tr>\n",
       "    <tr>\n",
       "      <th>3</th>\n",
       "      <td>3.507408</td>\n",
       "      <td>3</td>\n",
       "    </tr>\n",
       "    <tr>\n",
       "      <th>4</th>\n",
       "      <td>3.482446</td>\n",
       "      <td>3</td>\n",
       "    </tr>\n",
       "  </tbody>\n",
       "</table>\n",
       "</div>"
      ],
      "text/plain": [
       "   y_pred_test  y_test\n",
       "0     4.200414       5\n",
       "1     3.491224       3\n",
       "2     5.180580       5\n",
       "3     3.507408       3\n",
       "4     3.482446       3"
      ]
     },
     "execution_count": 51,
     "metadata": {},
     "output_type": "execute_result"
    }
   ],
   "source": [
    "y_pred_test = pd.DataFrame(y_pred_test)\n",
    "\n",
    "df_temp = pd.concat([y_pred_test,y_test],axis = 1)\n",
    "df_temp.columns = ['y_pred_test','y_test']\n",
    "\n",
    "df_temp.head()"
   ]
  },
  {
   "cell_type": "code",
   "execution_count": 52,
   "metadata": {},
   "outputs": [
    {
     "data": {
      "image/png": "[encoded data removed]",
      "text/plain": [
       "<Figure size 432x288 with 1 Axes>"
      ]
     },
     "metadata": {
      "needs_background": "light"
     },
     "output_type": "display_data"
    }
   ],
   "source": [
    "plt.scatter(df_temp['y_test'],df_temp['y_pred_test'])\n",
    "plt.xlabel('y_test',fontsize = 14)\n",
    "plt.ylabel('y_pred_test',fontsize = 14)\n",
    "plt.xlim(0,6)\n",
    "plt.ylim(0,6)\n",
    "plt.xticks(list(range(0,6)))\n",
    "plt.yticks(list(range(0,6)))\n",
    "plt.grid()\n",
    "y_lim = plt.ylim()\n",
    "x_lim = plt.xlim()\n",
    "plt.plot(x_lim,y_lim,color = 'g',linewidth = 0.5);"
   ]
  },
  {
   "cell_type": "code",
   "execution_count": 53,
   "metadata": {},
   "outputs": [
    {
     "data": {
      "text/plain": [
       "0.7889063677278406"
      ]
     },
     "execution_count": 53,
     "metadata": {},
     "output_type": "execute_result"
    }
   ],
   "source": [
    "rmse(y_pred_test,y_test)"
   ]
  },
  {
   "cell_type": "code",
   "execution_count": 54,
   "metadata": {},
   "outputs": [
    {
     "data": {
      "text/plain": [
       "0.6235105165503105"
      ]
     },
     "execution_count": 54,
     "metadata": {},
     "output_type": "execute_result"
    }
   ],
   "source": [
    "mean_absolute_error(y_pred_test,y_test)"
   ]
  }
 ],
 "metadata": {
  "kernelspec": {
   "display_name": "Python 3",
   "language": "python",
   "name": "python3"
  },
  "language_info": {
   "codemirror_mode": {
    "name": "ipython",
    "version": 3
   },
   "file_extension": ".py",
   "mimetype": "text/x-python",
   "name": "python",
   "nbconvert_exporter": "python",
   "pygments_lexer": "ipython3",
   "version": "3.7.7"
  }
 },
 "nbformat": 4,
 "nbformat_minor": 4
}
