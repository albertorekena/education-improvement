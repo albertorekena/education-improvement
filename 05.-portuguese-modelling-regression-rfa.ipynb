{
 "cells": [
  {
   "cell_type": "code",
   "execution_count": 1,
   "metadata": {},
   "outputs": [],
   "source": [
    "import numpy as np\n",
    "import pandas as pd\n",
    "\n",
    "import matplotlib.pyplot as plt\n",
    "import seaborn as sns\n",
    "%matplotlib inline\n",
    "\n",
    "from sklearn.preprocessing import MinMaxScaler\n",
    "\n",
    "from sklearn.model_selection import train_test_split\n",
    "from sklearn.model_selection import GridSearchCV\n",
    "\n",
    "from sklearn.linear_model import LinearRegression\n",
    "from sklearn.tree import DecisionTreeRegressor\n",
    "from sklearn.ensemble import RandomForestRegressor\n",
    "import xgboost\n",
    "import tensorflow as tf\n",
    "from tensorflow.keras.models import Sequential\n",
    "from tensorflow.keras.layers import Dense,Dropout\n",
    "\n",
    "from sklearn.metrics import make_scorer,mean_squared_error,mean_absolute_error\n",
    "\n",
    "import warnings\n",
    "warnings.filterwarnings('ignore')\n",
    "\n",
    "pd.set_option('display.max_columns',100)\n",
    "pd.set_option('display.max_rows',1000)"
   ]
  },
  {
   "cell_type": "code",
   "execution_count": 2,
   "metadata": {},
   "outputs": [
    {
     "data": {
      "text/html": [
       "<div>\n",
       "<style scoped>\n",
       "    .dataframe tbody tr th:only-of-type {\n",
       "        vertical-align: middle;\n",
       "    }\n",
       "\n",
       "    .dataframe tbody tr th {\n",
       "        vertical-align: top;\n",
       "    }\n",
       "\n",
       "    .dataframe thead th {\n",
       "        text-align: right;\n",
       "    }\n",
       "</style>\n",
       "<table border=\"1\" class=\"dataframe\">\n",
       "  <thead>\n",
       "    <tr style=\"text-align: right;\">\n",
       "      <th></th>\n",
       "      <th>school</th>\n",
       "      <th>sex</th>\n",
       "      <th>age</th>\n",
       "      <th>address</th>\n",
       "      <th>Pstatus</th>\n",
       "      <th>Fedu</th>\n",
       "      <th>studytime</th>\n",
       "      <th>failures</th>\n",
       "      <th>schoolsup</th>\n",
       "      <th>paid</th>\n",
       "      <th>higher</th>\n",
       "      <th>romantic</th>\n",
       "      <th>Dalc</th>\n",
       "      <th>health</th>\n",
       "      <th>absences</th>\n",
       "      <th>Mjob_at_home</th>\n",
       "      <th>Mjob_health</th>\n",
       "      <th>Mjob_other</th>\n",
       "      <th>Mjob_services</th>\n",
       "      <th>Mjob_teacher</th>\n",
       "      <th>Fjob_at_home</th>\n",
       "      <th>Fjob_health</th>\n",
       "      <th>Fjob_other</th>\n",
       "      <th>Fjob_services</th>\n",
       "      <th>Fjob_teacher</th>\n",
       "      <th>reason_course</th>\n",
       "      <th>reason_home</th>\n",
       "      <th>reason_other</th>\n",
       "      <th>reason_reputation</th>\n",
       "      <th>guardian_father</th>\n",
       "      <th>guardian_mother</th>\n",
       "      <th>guardian_other</th>\n",
       "      <th>G3</th>\n",
       "    </tr>\n",
       "  </thead>\n",
       "  <tbody>\n",
       "    <tr>\n",
       "      <th>0</th>\n",
       "      <td>1</td>\n",
       "      <td>1</td>\n",
       "      <td>18</td>\n",
       "      <td>1</td>\n",
       "      <td>0</td>\n",
       "      <td>4</td>\n",
       "      <td>2</td>\n",
       "      <td>0</td>\n",
       "      <td>1</td>\n",
       "      <td>0</td>\n",
       "      <td>1</td>\n",
       "      <td>0</td>\n",
       "      <td>1</td>\n",
       "      <td>3</td>\n",
       "      <td>2</td>\n",
       "      <td>1</td>\n",
       "      <td>0</td>\n",
       "      <td>0</td>\n",
       "      <td>0</td>\n",
       "      <td>0</td>\n",
       "      <td>0</td>\n",
       "      <td>0</td>\n",
       "      <td>0</td>\n",
       "      <td>0</td>\n",
       "      <td>1</td>\n",
       "      <td>1</td>\n",
       "      <td>0</td>\n",
       "      <td>0</td>\n",
       "      <td>0</td>\n",
       "      <td>0</td>\n",
       "      <td>1</td>\n",
       "      <td>0</td>\n",
       "      <td>6</td>\n",
       "    </tr>\n",
       "    <tr>\n",
       "      <th>1</th>\n",
       "      <td>1</td>\n",
       "      <td>1</td>\n",
       "      <td>17</td>\n",
       "      <td>1</td>\n",
       "      <td>1</td>\n",
       "      <td>1</td>\n",
       "      <td>2</td>\n",
       "      <td>0</td>\n",
       "      <td>0</td>\n",
       "      <td>0</td>\n",
       "      <td>1</td>\n",
       "      <td>0</td>\n",
       "      <td>1</td>\n",
       "      <td>3</td>\n",
       "      <td>2</td>\n",
       "      <td>1</td>\n",
       "      <td>0</td>\n",
       "      <td>0</td>\n",
       "      <td>0</td>\n",
       "      <td>0</td>\n",
       "      <td>0</td>\n",
       "      <td>0</td>\n",
       "      <td>1</td>\n",
       "      <td>0</td>\n",
       "      <td>0</td>\n",
       "      <td>1</td>\n",
       "      <td>0</td>\n",
       "      <td>0</td>\n",
       "      <td>0</td>\n",
       "      <td>1</td>\n",
       "      <td>0</td>\n",
       "      <td>0</td>\n",
       "      <td>6</td>\n",
       "    </tr>\n",
       "    <tr>\n",
       "      <th>2</th>\n",
       "      <td>1</td>\n",
       "      <td>1</td>\n",
       "      <td>15</td>\n",
       "      <td>1</td>\n",
       "      <td>1</td>\n",
       "      <td>1</td>\n",
       "      <td>2</td>\n",
       "      <td>0</td>\n",
       "      <td>1</td>\n",
       "      <td>0</td>\n",
       "      <td>1</td>\n",
       "      <td>0</td>\n",
       "      <td>2</td>\n",
       "      <td>3</td>\n",
       "      <td>1</td>\n",
       "      <td>1</td>\n",
       "      <td>0</td>\n",
       "      <td>0</td>\n",
       "      <td>0</td>\n",
       "      <td>0</td>\n",
       "      <td>0</td>\n",
       "      <td>0</td>\n",
       "      <td>1</td>\n",
       "      <td>0</td>\n",
       "      <td>0</td>\n",
       "      <td>0</td>\n",
       "      <td>0</td>\n",
       "      <td>1</td>\n",
       "      <td>0</td>\n",
       "      <td>0</td>\n",
       "      <td>1</td>\n",
       "      <td>0</td>\n",
       "      <td>6</td>\n",
       "    </tr>\n",
       "    <tr>\n",
       "      <th>3</th>\n",
       "      <td>1</td>\n",
       "      <td>1</td>\n",
       "      <td>15</td>\n",
       "      <td>1</td>\n",
       "      <td>1</td>\n",
       "      <td>2</td>\n",
       "      <td>3</td>\n",
       "      <td>0</td>\n",
       "      <td>0</td>\n",
       "      <td>0</td>\n",
       "      <td>1</td>\n",
       "      <td>1</td>\n",
       "      <td>1</td>\n",
       "      <td>5</td>\n",
       "      <td>2</td>\n",
       "      <td>0</td>\n",
       "      <td>1</td>\n",
       "      <td>0</td>\n",
       "      <td>0</td>\n",
       "      <td>0</td>\n",
       "      <td>0</td>\n",
       "      <td>0</td>\n",
       "      <td>0</td>\n",
       "      <td>1</td>\n",
       "      <td>0</td>\n",
       "      <td>0</td>\n",
       "      <td>1</td>\n",
       "      <td>0</td>\n",
       "      <td>0</td>\n",
       "      <td>0</td>\n",
       "      <td>1</td>\n",
       "      <td>0</td>\n",
       "      <td>7</td>\n",
       "    </tr>\n",
       "    <tr>\n",
       "      <th>4</th>\n",
       "      <td>1</td>\n",
       "      <td>1</td>\n",
       "      <td>16</td>\n",
       "      <td>1</td>\n",
       "      <td>1</td>\n",
       "      <td>3</td>\n",
       "      <td>2</td>\n",
       "      <td>0</td>\n",
       "      <td>0</td>\n",
       "      <td>0</td>\n",
       "      <td>1</td>\n",
       "      <td>0</td>\n",
       "      <td>1</td>\n",
       "      <td>5</td>\n",
       "      <td>2</td>\n",
       "      <td>0</td>\n",
       "      <td>0</td>\n",
       "      <td>1</td>\n",
       "      <td>0</td>\n",
       "      <td>0</td>\n",
       "      <td>0</td>\n",
       "      <td>0</td>\n",
       "      <td>1</td>\n",
       "      <td>0</td>\n",
       "      <td>0</td>\n",
       "      <td>0</td>\n",
       "      <td>1</td>\n",
       "      <td>0</td>\n",
       "      <td>0</td>\n",
       "      <td>1</td>\n",
       "      <td>0</td>\n",
       "      <td>0</td>\n",
       "      <td>7</td>\n",
       "    </tr>\n",
       "  </tbody>\n",
       "</table>\n",
       "</div>"
      ],
      "text/plain": [
       "   school  sex  age  address  Pstatus  Fedu  studytime  failures  schoolsup  \\\n",
       "0       1    1   18        1        0     4          2         0          1   \n",
       "1       1    1   17        1        1     1          2         0          0   \n",
       "2       1    1   15        1        1     1          2         0          1   \n",
       "3       1    1   15        1        1     2          3         0          0   \n",
       "4       1    1   16        1        1     3          2         0          0   \n",
       "\n",
       "   paid  higher  romantic  Dalc  health  absences  Mjob_at_home  Mjob_health  \\\n",
       "0     0       1         0     1       3         2             1            0   \n",
       "1     0       1         0     1       3         2             1            0   \n",
       "2     0       1         0     2       3         1             1            0   \n",
       "3     0       1         1     1       5         2             0            1   \n",
       "4     0       1         0     1       5         2             0            0   \n",
       "\n",
       "   Mjob_other  Mjob_services  Mjob_teacher  Fjob_at_home  Fjob_health  \\\n",
       "0           0              0             0             0            0   \n",
       "1           0              0             0             0            0   \n",
       "2           0              0             0             0            0   \n",
       "3           0              0             0             0            0   \n",
       "4           1              0             0             0            0   \n",
       "\n",
       "   Fjob_other  Fjob_services  Fjob_teacher  reason_course  reason_home  \\\n",
       "0           0              0             1              1            0   \n",
       "1           1              0             0              1            0   \n",
       "2           1              0             0              0            0   \n",
       "3           0              1             0              0            1   \n",
       "4           1              0             0              0            1   \n",
       "\n",
       "   reason_other  reason_reputation  guardian_father  guardian_mother  \\\n",
       "0             0                  0                0                1   \n",
       "1             0                  0                1                0   \n",
       "2             1                  0                0                1   \n",
       "3             0                  0                0                1   \n",
       "4             0                  0                1                0   \n",
       "\n",
       "   guardian_other  G3  \n",
       "0               0   6  \n",
       "1               0   6  \n",
       "2               0   6  \n",
       "3               0   7  \n",
       "4               0   7  "
      ]
     },
     "execution_count": 2,
     "metadata": {},
     "output_type": "execute_result"
    }
   ],
   "source": [
    "df_por = pd.read_pickle('df_por-modelling-RFA-range_G3_10-repaired_G3_0_values.pkl')\n",
    "\n",
    "df_por.head()"
   ]
  },
  {
   "cell_type": "code",
   "execution_count": 3,
   "metadata": {},
   "outputs": [
    {
     "data": {
      "text/plain": [
       "(649, 33)"
      ]
     },
     "execution_count": 3,
     "metadata": {},
     "output_type": "execute_result"
    }
   ],
   "source": [
    "df_por.shape"
   ]
  },
  {
   "cell_type": "code",
   "execution_count": 4,
   "metadata": {},
   "outputs": [],
   "source": [
    "X = np.array(df_por.drop('G3',axis = 1))\n",
    "y = np.array(df_por['G3'])"
   ]
  },
  {
   "cell_type": "code",
   "execution_count": 5,
   "metadata": {},
   "outputs": [],
   "source": [
    "X_train,X_test,y_train,y_test = train_test_split(X,y,test_size = 0.2,random_state = 42)"
   ]
  },
  {
   "cell_type": "markdown",
   "metadata": {},
   "source": [
    "## Linear Regression "
   ]
  },
  {
   "cell_type": "code",
   "execution_count": 6,
   "metadata": {},
   "outputs": [
    {
     "data": {
      "text/plain": [
       "LinearRegression(copy_X=True, fit_intercept=True, n_jobs=None, normalize=False)"
      ]
     },
     "execution_count": 6,
     "metadata": {},
     "output_type": "execute_result"
    }
   ],
   "source": [
    "model = LinearRegression()\n",
    "model.fit(X_train,y_train)"
   ]
  },
  {
   "cell_type": "code",
   "execution_count": 7,
   "metadata": {},
   "outputs": [],
   "source": [
    "y_pred = model.predict(X_test)"
   ]
  },
  {
   "cell_type": "code",
   "execution_count": 8,
   "metadata": {},
   "outputs": [
    {
     "data": {
      "text/html": [
       "<div>\n",
       "<style scoped>\n",
       "    .dataframe tbody tr th:only-of-type {\n",
       "        vertical-align: middle;\n",
       "    }\n",
       "\n",
       "    .dataframe tbody tr th {\n",
       "        vertical-align: top;\n",
       "    }\n",
       "\n",
       "    .dataframe thead th {\n",
       "        text-align: right;\n",
       "    }\n",
       "</style>\n",
       "<table border=\"1\" class=\"dataframe\">\n",
       "  <thead>\n",
       "    <tr style=\"text-align: right;\">\n",
       "      <th></th>\n",
       "      <th>y_pred</th>\n",
       "      <th>y_test</th>\n",
       "    </tr>\n",
       "  </thead>\n",
       "  <tbody>\n",
       "    <tr>\n",
       "      <th>0</th>\n",
       "      <td>7.287109</td>\n",
       "      <td>10</td>\n",
       "    </tr>\n",
       "    <tr>\n",
       "      <th>1</th>\n",
       "      <td>6.832031</td>\n",
       "      <td>6</td>\n",
       "    </tr>\n",
       "    <tr>\n",
       "      <th>2</th>\n",
       "      <td>7.591797</td>\n",
       "      <td>9</td>\n",
       "    </tr>\n",
       "    <tr>\n",
       "      <th>3</th>\n",
       "      <td>6.257812</td>\n",
       "      <td>6</td>\n",
       "    </tr>\n",
       "    <tr>\n",
       "      <th>4</th>\n",
       "      <td>5.599609</td>\n",
       "      <td>6</td>\n",
       "    </tr>\n",
       "  </tbody>\n",
       "</table>\n",
       "</div>"
      ],
      "text/plain": [
       "     y_pred  y_test\n",
       "0  7.287109      10\n",
       "1  6.832031       6\n",
       "2  7.591797       9\n",
       "3  6.257812       6\n",
       "4  5.599609       6"
      ]
     },
     "execution_count": 8,
     "metadata": {},
     "output_type": "execute_result"
    }
   ],
   "source": [
    "y_test = pd.DataFrame(y_test)\n",
    "y_pred = pd.DataFrame(y_pred)\n",
    "\n",
    "df_temp = pd.concat([y_pred,y_test],axis = 1)\n",
    "df_temp.columns = ['y_pred','y_test']\n",
    "\n",
    "df_temp.head()"
   ]
  },
  {
   "cell_type": "code",
   "execution_count": 9,
   "metadata": {
    "scrolled": true
   },
   "outputs": [
    {
     "data": {
      "image/png": "[encoded data removed]",
      "text/plain": [
       "<Figure size 432x288 with 1 Axes>"
      ]
     },
     "metadata": {
      "needs_background": "light"
     },
     "output_type": "display_data"
    }
   ],
   "source": [
    "plt.scatter(df_temp['y_test'],df_temp['y_pred'])\n",
    "plt.xlabel('y_test',fontsize = 14)\n",
    "plt.ylabel('y_pred',fontsize = 14)\n",
    "plt.xlim(0,10)\n",
    "plt.ylim(0,10)\n",
    "y_lim = plt.ylim()\n",
    "x_lim = plt.xlim()\n",
    "plt.xticks(list(range(0,11)))\n",
    "plt.yticks(list(range(0,11)))\n",
    "plt.grid()\n",
    "plt.plot(x_lim,y_lim,color = 'g',linewidth = 5);"
   ]
  },
  {
   "cell_type": "code",
   "execution_count": 10,
   "metadata": {},
   "outputs": [],
   "source": [
    "def rmse(y_true,y_pred):\n",
    "    return np.sqrt(mean_squared_error(y_true,y_pred))"
   ]
  },
  {
   "cell_type": "code",
   "execution_count": 11,
   "metadata": {},
   "outputs": [
    {
     "data": {
      "text/plain": [
       "1.3283663790127807"
      ]
     },
     "execution_count": 11,
     "metadata": {},
     "output_type": "execute_result"
    }
   ],
   "source": [
    "rmse(y_pred,y_test)"
   ]
  },
  {
   "cell_type": "markdown",
   "metadata": {},
   "source": [
    "## Decision Tree Regression"
   ]
  },
  {
   "cell_type": "code",
   "execution_count": 12,
   "metadata": {},
   "outputs": [],
   "source": [
    "rmse_scorer = make_scorer(rmse,greater_is_better = False)"
   ]
  },
  {
   "cell_type": "code",
   "execution_count": 13,
   "metadata": {
    "scrolled": false
   },
   "outputs": [
    {
     "data": {
      "text/plain": [
       "GridSearchCV(cv=5, error_score=nan,\n",
       "             estimator=DecisionTreeRegressor(ccp_alpha=0.0, criterion='mse',\n",
       "                                             max_depth=None, max_features=None,\n",
       "                                             max_leaf_nodes=None,\n",
       "                                             min_impurity_decrease=0.0,\n",
       "                                             min_impurity_split=None,\n",
       "                                             min_samples_leaf=1,\n",
       "                                             min_samples_split=2,\n",
       "                                             min_weight_fraction_leaf=0.0,\n",
       "                                             presort='deprecated',\n",
       "                                             random_state=None,\n",
       "                                             splitter='best'),\n",
       "             iid='deprecated', n_jobs=None,\n",
       "             param_grid={'max_depth': [1, 2, 5, 10, 20, 30, 50],\n",
       "                         'min_samples_leaf': [1, 5, 10, 20, 50, 100]},\n",
       "             pre_dispatch='2*n_jobs', refit=True, return_train_score=False,\n",
       "             scoring=make_scorer(rmse, greater_is_better=False), verbose=0)"
      ]
     },
     "execution_count": 13,
     "metadata": {},
     "output_type": "execute_result"
    }
   ],
   "source": [
    "param_grid = {'min_samples_leaf':[1,5,10,20,50,100],'max_depth':[1,2,5,10,20,30,50]}\n",
    "\n",
    "grid_search_cv = GridSearchCV(estimator = DecisionTreeRegressor(),param_grid = param_grid,cv=5,scoring = rmse_scorer)\n",
    "grid_search_cv.fit(X_train,y_train)"
   ]
  },
  {
   "cell_type": "code",
   "execution_count": 14,
   "metadata": {},
   "outputs": [
    {
     "data": {
      "text/plain": [
       "DecisionTreeRegressor(ccp_alpha=0.0, criterion='mse', max_depth=5,\n",
       "                      max_features=None, max_leaf_nodes=None,\n",
       "                      min_impurity_decrease=0.0, min_impurity_split=None,\n",
       "                      min_samples_leaf=20, min_samples_split=2,\n",
       "                      min_weight_fraction_leaf=0.0, presort='deprecated',\n",
       "                      random_state=None, splitter='best')"
      ]
     },
     "execution_count": 14,
     "metadata": {},
     "output_type": "execute_result"
    }
   ],
   "source": [
    "grid_search_cv.best_estimator_"
   ]
  },
  {
   "cell_type": "code",
   "execution_count": 15,
   "metadata": {},
   "outputs": [],
   "source": [
    "y_pred = grid_search_cv.predict(X_test)"
   ]
  },
  {
   "cell_type": "code",
   "execution_count": 16,
   "metadata": {},
   "outputs": [
    {
     "data": {
      "text/html": [
       "<div>\n",
       "<style scoped>\n",
       "    .dataframe tbody tr th:only-of-type {\n",
       "        vertical-align: middle;\n",
       "    }\n",
       "\n",
       "    .dataframe tbody tr th {\n",
       "        vertical-align: top;\n",
       "    }\n",
       "\n",
       "    .dataframe thead th {\n",
       "        text-align: right;\n",
       "    }\n",
       "</style>\n",
       "<table border=\"1\" class=\"dataframe\">\n",
       "  <thead>\n",
       "    <tr style=\"text-align: right;\">\n",
       "      <th></th>\n",
       "      <th>y_pred</th>\n",
       "      <th>y_test</th>\n",
       "    </tr>\n",
       "  </thead>\n",
       "  <tbody>\n",
       "    <tr>\n",
       "      <th>0</th>\n",
       "      <td>6.840000</td>\n",
       "      <td>10</td>\n",
       "    </tr>\n",
       "    <tr>\n",
       "      <th>1</th>\n",
       "      <td>6.467742</td>\n",
       "      <td>6</td>\n",
       "    </tr>\n",
       "    <tr>\n",
       "      <th>2</th>\n",
       "      <td>6.840000</td>\n",
       "      <td>9</td>\n",
       "    </tr>\n",
       "    <tr>\n",
       "      <th>3</th>\n",
       "      <td>6.840000</td>\n",
       "      <td>6</td>\n",
       "    </tr>\n",
       "    <tr>\n",
       "      <th>4</th>\n",
       "      <td>6.051282</td>\n",
       "      <td>6</td>\n",
       "    </tr>\n",
       "  </tbody>\n",
       "</table>\n",
       "</div>"
      ],
      "text/plain": [
       "     y_pred  y_test\n",
       "0  6.840000      10\n",
       "1  6.467742       6\n",
       "2  6.840000       9\n",
       "3  6.840000       6\n",
       "4  6.051282       6"
      ]
     },
     "execution_count": 16,
     "metadata": {},
     "output_type": "execute_result"
    }
   ],
   "source": [
    "y_pred = pd.DataFrame(y_pred)\n",
    "\n",
    "df_temp = pd.concat([y_pred,y_test],axis = 1)\n",
    "df_temp.columns = ['y_pred','y_test']\n",
    "\n",
    "df_temp.head()"
   ]
  },
  {
   "cell_type": "code",
   "execution_count": 17,
   "metadata": {},
   "outputs": [
    {
     "data": {
      "image/png": "[encoded data removed]",
      "text/plain": [
       "<Figure size 432x288 with 1 Axes>"
      ]
     },
     "metadata": {
      "needs_background": "light"
     },
     "output_type": "display_data"
    }
   ],
   "source": [
    "plt.scatter(df_temp['y_test'],df_temp['y_pred'])\n",
    "plt.xlabel('y_test',fontsize = 14)\n",
    "plt.ylabel('y_pred',fontsize = 14)\n",
    "plt.xlim(0,10)\n",
    "plt.ylim(0,10)\n",
    "y_lim = plt.ylim()\n",
    "x_lim = plt.xlim()\n",
    "plt.xticks(list(range(0,11)))\n",
    "plt.yticks(list(range(0,11)))\n",
    "plt.grid()\n",
    "plt.plot(x_lim,y_lim,color = 'g',linewidth = 5);"
   ]
  },
  {
   "cell_type": "code",
   "execution_count": 18,
   "metadata": {},
   "outputs": [
    {
     "data": {
      "text/plain": [
       "1.4366050772542989"
      ]
     },
     "execution_count": 18,
     "metadata": {},
     "output_type": "execute_result"
    }
   ],
   "source": [
    "rmse(y_pred,y_test)"
   ]
  },
  {
   "cell_type": "markdown",
   "metadata": {},
   "source": [
    "## Random Forest Regression"
   ]
  },
  {
   "cell_type": "code",
   "execution_count": 19,
   "metadata": {},
   "outputs": [
    {
     "data": {
      "text/plain": [
       "GridSearchCV(cv=5, error_score=nan,\n",
       "             estimator=RandomForestRegressor(bootstrap=True, ccp_alpha=0.0,\n",
       "                                             criterion='mse', max_depth=None,\n",
       "                                             max_features='auto',\n",
       "                                             max_leaf_nodes=None,\n",
       "                                             max_samples=None,\n",
       "                                             min_impurity_decrease=0.0,\n",
       "                                             min_impurity_split=None,\n",
       "                                             min_samples_leaf=1,\n",
       "                                             min_samples_split=2,\n",
       "                                             min_weight_fraction_leaf=0.0,\n",
       "                                             n_estimators=100, n_jobs=None,\n",
       "                                             oob_score=False, random_state=None,\n",
       "                                             verbose=0, warm_start=False),\n",
       "             iid='deprecated', n_jobs=None,\n",
       "             param_grid={'max_depth': [1, 5, 30],\n",
       "                         'min_samples_leaf': [1, 10, 50],\n",
       "                         'n_estimators': [10, 50, 100]},\n",
       "             pre_dispatch='2*n_jobs', refit=True, return_train_score=False,\n",
       "             scoring=make_scorer(rmse, greater_is_better=False), verbose=0)"
      ]
     },
     "execution_count": 19,
     "metadata": {},
     "output_type": "execute_result"
    }
   ],
   "source": [
    "param_grid = {'min_samples_leaf':[1,10,50],'max_depth':[1,5,30],'n_estimators':[10,50,100]}\n",
    "\n",
    "grid_search_cv = GridSearchCV(estimator = RandomForestRegressor(),param_grid = param_grid,cv = 5,scoring = rmse_scorer)\n",
    "grid_search_cv.fit(X_train,y_train)"
   ]
  },
  {
   "cell_type": "code",
   "execution_count": 20,
   "metadata": {},
   "outputs": [
    {
     "data": {
      "text/plain": [
       "RandomForestRegressor(bootstrap=True, ccp_alpha=0.0, criterion='mse',\n",
       "                      max_depth=30, max_features='auto', max_leaf_nodes=None,\n",
       "                      max_samples=None, min_impurity_decrease=0.0,\n",
       "                      min_impurity_split=None, min_samples_leaf=10,\n",
       "                      min_samples_split=2, min_weight_fraction_leaf=0.0,\n",
       "                      n_estimators=10, n_jobs=None, oob_score=False,\n",
       "                      random_state=None, verbose=0, warm_start=False)"
      ]
     },
     "execution_count": 20,
     "metadata": {},
     "output_type": "execute_result"
    }
   ],
   "source": [
    "grid_search_cv.best_estimator_"
   ]
  },
  {
   "cell_type": "code",
   "execution_count": 21,
   "metadata": {},
   "outputs": [],
   "source": [
    "y_pred = grid_search_cv.predict(X_test)"
   ]
  },
  {
   "cell_type": "code",
   "execution_count": 22,
   "metadata": {},
   "outputs": [
    {
     "data": {
      "text/html": [
       "<div>\n",
       "<style scoped>\n",
       "    .dataframe tbody tr th:only-of-type {\n",
       "        vertical-align: middle;\n",
       "    }\n",
       "\n",
       "    .dataframe tbody tr th {\n",
       "        vertical-align: top;\n",
       "    }\n",
       "\n",
       "    .dataframe thead th {\n",
       "        text-align: right;\n",
       "    }\n",
       "</style>\n",
       "<table border=\"1\" class=\"dataframe\">\n",
       "  <thead>\n",
       "    <tr style=\"text-align: right;\">\n",
       "      <th></th>\n",
       "      <th>y_pred</th>\n",
       "      <th>y_test</th>\n",
       "    </tr>\n",
       "  </thead>\n",
       "  <tbody>\n",
       "    <tr>\n",
       "      <th>0</th>\n",
       "      <td>6.980210</td>\n",
       "      <td>10</td>\n",
       "    </tr>\n",
       "    <tr>\n",
       "      <th>1</th>\n",
       "      <td>6.407539</td>\n",
       "      <td>6</td>\n",
       "    </tr>\n",
       "    <tr>\n",
       "      <th>2</th>\n",
       "      <td>7.257889</td>\n",
       "      <td>9</td>\n",
       "    </tr>\n",
       "    <tr>\n",
       "      <th>3</th>\n",
       "      <td>6.290425</td>\n",
       "      <td>6</td>\n",
       "    </tr>\n",
       "    <tr>\n",
       "      <th>4</th>\n",
       "      <td>6.183812</td>\n",
       "      <td>6</td>\n",
       "    </tr>\n",
       "  </tbody>\n",
       "</table>\n",
       "</div>"
      ],
      "text/plain": [
       "     y_pred  y_test\n",
       "0  6.980210      10\n",
       "1  6.407539       6\n",
       "2  7.257889       9\n",
       "3  6.290425       6\n",
       "4  6.183812       6"
      ]
     },
     "execution_count": 22,
     "metadata": {},
     "output_type": "execute_result"
    }
   ],
   "source": [
    "y_pred = pd.DataFrame(y_pred)\n",
    "\n",
    "df_temp = pd.concat([y_pred,y_test],axis = 1)\n",
    "df_temp.columns = ['y_pred','y_test']\n",
    "\n",
    "df_temp.head()"
   ]
  },
  {
   "cell_type": "code",
   "execution_count": 23,
   "metadata": {
    "scrolled": true
   },
   "outputs": [
    {
     "data": {
      "image/png": "[encoded data removed]",
      "text/plain": [
       "<Figure size 432x288 with 1 Axes>"
      ]
     },
     "metadata": {
      "needs_background": "light"
     },
     "output_type": "display_data"
    }
   ],
   "source": [
    "plt.scatter(df_temp['y_test'],df_temp['y_pred'])\n",
    "plt.xlabel('y_test',fontsize = 14)\n",
    "plt.ylabel('y_pred',fontsize = 14)\n",
    "plt.xlim(0,10)\n",
    "plt.ylim(0,10)\n",
    "y_lim = plt.ylim()\n",
    "x_lim = plt.xlim()\n",
    "plt.xticks(list(range(0,11)))\n",
    "plt.yticks(list(range(0,11)))\n",
    "plt.grid()\n",
    "plt.plot(x_lim,y_lim,color = 'g',linewidth = 5);"
   ]
  },
  {
   "cell_type": "code",
   "execution_count": 24,
   "metadata": {},
   "outputs": [
    {
     "data": {
      "text/plain": [
       "1.363504901189886"
      ]
     },
     "execution_count": 24,
     "metadata": {},
     "output_type": "execute_result"
    }
   ],
   "source": [
    "rmse(y_pred,y_test)"
   ]
  },
  {
   "cell_type": "markdown",
   "metadata": {},
   "source": [
    "## XGBoost "
   ]
  },
  {
   "cell_type": "code",
   "execution_count": 25,
   "metadata": {
    "scrolled": true
   },
   "outputs": [
    {
     "data": {
      "text/plain": [
       "GridSearchCV(cv=5, error_score=nan,\n",
       "             estimator=XGBRegressor(base_score=0.5, booster='gbtree',\n",
       "                                    colsample_bylevel=1, colsample_bynode=1,\n",
       "                                    colsample_bytree=1, gamma=0,\n",
       "                                    importance_type='gain', learning_rate=0.1,\n",
       "                                    max_delta_step=0, max_depth=3,\n",
       "                                    min_child_weight=1, missing=None,\n",
       "                                    n_estimators=100, n_jobs=1, nthread=None,\n",
       "                                    objective='reg:linear', random_state=0,\n",
       "                                    reg_alpha=0, reg_lambda=1,\n",
       "                                    scale_pos_weight=1, seed=None, silent=True,\n",
       "                                    subsample=1, verbosity=1),\n",
       "             iid='deprecated', n_jobs=None,\n",
       "             param_grid={'max_depth': [1, 5, 30],\n",
       "                         'min_samples_leaf': [1, 10, 50],\n",
       "                         'n_estimators': [10, 50, 100]},\n",
       "             pre_dispatch='2*n_jobs', refit=True, return_train_score=False,\n",
       "             scoring=make_scorer(rmse, greater_is_better=False), verbose=0)"
      ]
     },
     "execution_count": 25,
     "metadata": {},
     "output_type": "execute_result"
    }
   ],
   "source": [
    "parameters = {'max_depth':[1,5,30],'learning_rate':[0.01,0.1,0.3],'n_estimators':[10,50,100],'objective':'reg:squarederror'}\n",
    "\n",
    "grid_search_cv = GridSearchCV(estimator = xgboost.XGBRegressor(silent = True),param_grid = param_grid,\n",
    "                              cv = 5,scoring = rmse_scorer)\n",
    "grid_search_cv.fit(X_train,y_train)"
   ]
  },
  {
   "cell_type": "code",
   "execution_count": 26,
   "metadata": {
    "scrolled": false
   },
   "outputs": [
    {
     "data": {
      "text/plain": [
       "XGBRegressor(base_score=0.5, booster='gbtree', colsample_bylevel=1,\n",
       "             colsample_bynode=1, colsample_bytree=1, gamma=0,\n",
       "             importance_type='gain', learning_rate=0.1, max_delta_step=0,\n",
       "             max_depth=1, min_child_weight=1, min_samples_leaf=1, missing=None,\n",
       "             n_estimators=100, n_jobs=1, nthread=None, objective='reg:linear',\n",
       "             random_state=0, reg_alpha=0, reg_lambda=1, scale_pos_weight=1,\n",
       "             seed=None, silent=True, subsample=1, verbosity=1)"
      ]
     },
     "execution_count": 26,
     "metadata": {},
     "output_type": "execute_result"
    }
   ],
   "source": [
    "grid_search_cv.best_estimator_"
   ]
  },
  {
   "cell_type": "code",
   "execution_count": 27,
   "metadata": {},
   "outputs": [],
   "source": [
    "y_pred = grid_search_cv.predict(X_test)"
   ]
  },
  {
   "cell_type": "code",
   "execution_count": 28,
   "metadata": {},
   "outputs": [
    {
     "data": {
      "text/html": [
       "<div>\n",
       "<style scoped>\n",
       "    .dataframe tbody tr th:only-of-type {\n",
       "        vertical-align: middle;\n",
       "    }\n",
       "\n",
       "    .dataframe tbody tr th {\n",
       "        vertical-align: top;\n",
       "    }\n",
       "\n",
       "    .dataframe thead th {\n",
       "        text-align: right;\n",
       "    }\n",
       "</style>\n",
       "<table border=\"1\" class=\"dataframe\">\n",
       "  <thead>\n",
       "    <tr style=\"text-align: right;\">\n",
       "      <th></th>\n",
       "      <th>y_pred</th>\n",
       "      <th>y_test</th>\n",
       "    </tr>\n",
       "  </thead>\n",
       "  <tbody>\n",
       "    <tr>\n",
       "      <th>0</th>\n",
       "      <td>6.531525</td>\n",
       "      <td>10</td>\n",
       "    </tr>\n",
       "    <tr>\n",
       "      <th>1</th>\n",
       "      <td>6.383513</td>\n",
       "      <td>6</td>\n",
       "    </tr>\n",
       "    <tr>\n",
       "      <th>2</th>\n",
       "      <td>6.709024</td>\n",
       "      <td>9</td>\n",
       "    </tr>\n",
       "    <tr>\n",
       "      <th>3</th>\n",
       "      <td>6.441795</td>\n",
       "      <td>6</td>\n",
       "    </tr>\n",
       "    <tr>\n",
       "      <th>4</th>\n",
       "      <td>5.971586</td>\n",
       "      <td>6</td>\n",
       "    </tr>\n",
       "  </tbody>\n",
       "</table>\n",
       "</div>"
      ],
      "text/plain": [
       "     y_pred  y_test\n",
       "0  6.531525      10\n",
       "1  6.383513       6\n",
       "2  6.709024       9\n",
       "3  6.441795       6\n",
       "4  5.971586       6"
      ]
     },
     "execution_count": 28,
     "metadata": {},
     "output_type": "execute_result"
    }
   ],
   "source": [
    "y_pred = pd.DataFrame(y_pred)\n",
    "\n",
    "df_temp = pd.concat([y_pred,y_test],axis = 1)\n",
    "df_temp.columns = ['y_pred','y_test']\n",
    "\n",
    "df_temp.head()"
   ]
  },
  {
   "cell_type": "code",
   "execution_count": 29,
   "metadata": {},
   "outputs": [
    {
     "data": {
      "image/png": "[encoded data removed]",
      "text/plain": [
       "<Figure size 432x288 with 1 Axes>"
      ]
     },
     "metadata": {
      "needs_background": "light"
     },
     "output_type": "display_data"
    }
   ],
   "source": [
    "plt.scatter(df_temp['y_test'],df_temp['y_pred'])\n",
    "plt.xlabel('y_test',fontsize = 14)\n",
    "plt.ylabel('y_pred',fontsize = 14)\n",
    "plt.xlim(0,10)\n",
    "plt.ylim(0,10)\n",
    "y_lim = plt.ylim()\n",
    "x_lim = plt.xlim()\n",
    "plt.xticks(list(range(0,11)))\n",
    "plt.yticks(list(range(0,11)))\n",
    "plt.grid()\n",
    "plt.plot(x_lim,y_lim,color = 'g',linewidth = 5);"
   ]
  },
  {
   "cell_type": "code",
   "execution_count": 30,
   "metadata": {},
   "outputs": [
    {
     "data": {
      "text/plain": [
       "1.343172274565679"
      ]
     },
     "execution_count": 30,
     "metadata": {},
     "output_type": "execute_result"
    }
   ],
   "source": [
    "rmse(y_pred,y_test)"
   ]
  },
  {
   "cell_type": "markdown",
   "metadata": {},
   "source": [
    "## Neural Network "
   ]
  },
  {
   "cell_type": "code",
   "execution_count": 31,
   "metadata": {},
   "outputs": [],
   "source": [
    "sc = MinMaxScaler()"
   ]
  },
  {
   "cell_type": "code",
   "execution_count": 32,
   "metadata": {},
   "outputs": [],
   "source": [
    "X_train= sc.fit_transform(X_train)\n",
    "X_test = sc.transform(X_test)"
   ]
  },
  {
   "cell_type": "code",
   "execution_count": 33,
   "metadata": {},
   "outputs": [
    {
     "data": {
      "text/plain": [
       "(519, 32)"
      ]
     },
     "execution_count": 33,
     "metadata": {},
     "output_type": "execute_result"
    }
   ],
   "source": [
    "X_train.shape"
   ]
  },
  {
   "cell_type": "code",
   "execution_count": 34,
   "metadata": {},
   "outputs": [],
   "source": [
    "model = Sequential()"
   ]
  },
  {
   "cell_type": "code",
   "execution_count": 35,
   "metadata": {},
   "outputs": [],
   "source": [
    "model.add(Dense(32,activation = 'relu'))\n",
    "model.add(Dropout(0.25))\n",
    "model.add(Dense(32,activation = 'relu'))\n",
    "model.add(Dropout(0.25))\n",
    "model.add(Dense(32,activation = 'relu'))\n",
    "model.add(Dropout(0.25))\n",
    "model.add(Dense(32,activation = 'relu'))\n",
    "model.add(Dropout(0.25))\n",
    "model.add(Dense(1))\n",
    "\n",
    "model.compile(optimizer = 'adam',loss = 'mse')"
   ]
  },
  {
   "cell_type": "code",
   "execution_count": 36,
   "metadata": {
    "scrolled": true
   },
   "outputs": [
    {
     "name": "stdout",
     "output_type": "stream",
     "text": [
      "Train on 519 samples, validate on 130 samples\n",
      "Epoch 1/250\n",
      "519/519 [==============================] - 1s 2ms/sample - loss: 41.3276 - val_loss: 41.1052\n",
      "Epoch 2/250\n",
      "519/519 [==============================] - 0s 75us/sample - loss: 36.3672 - val_loss: 35.1231\n",
      "Epoch 3/250\n",
      "519/519 [==============================] - 0s 75us/sample - loss: 29.2768 - val_loss: 26.0373\n",
      "Epoch 4/250\n",
      "519/519 [==============================] - 0s 71us/sample - loss: 19.6979 - val_loss: 13.2350\n",
      "Epoch 5/250\n",
      "519/519 [==============================] - 0s 73us/sample - loss: 9.8472 - val_loss: 3.3271\n",
      "Epoch 6/250\n",
      "519/519 [==============================] - 0s 67us/sample - loss: 6.7688 - val_loss: 2.2450\n",
      "Epoch 7/250\n",
      "519/519 [==============================] - 0s 67us/sample - loss: 8.2424 - val_loss: 3.9199\n",
      "Epoch 8/250\n",
      "519/519 [==============================] - 0s 71us/sample - loss: 6.9384 - val_loss: 4.4852\n",
      "Epoch 9/250\n",
      "519/519 [==============================] - 0s 71us/sample - loss: 7.0927 - val_loss: 4.2911\n",
      "Epoch 10/250\n",
      "519/519 [==============================] - 0s 69us/sample - loss: 6.6548 - val_loss: 4.2848\n",
      "Epoch 11/250\n",
      "519/519 [==============================] - 0s 77us/sample - loss: 6.5492 - val_loss: 3.7250\n",
      "Epoch 12/250\n",
      "519/519 [==============================] - 0s 75us/sample - loss: 6.5874 - val_loss: 3.9977\n",
      "Epoch 13/250\n",
      "519/519 [==============================] - 0s 69us/sample - loss: 6.1074 - val_loss: 3.5588\n",
      "Epoch 14/250\n",
      "519/519 [==============================] - 0s 73us/sample - loss: 5.8142 - val_loss: 2.9461\n",
      "Epoch 15/250\n",
      "519/519 [==============================] - 0s 66us/sample - loss: 5.2644 - val_loss: 3.2701\n",
      "Epoch 16/250\n",
      "519/519 [==============================] - 0s 66us/sample - loss: 5.2319 - val_loss: 3.8421\n",
      "Epoch 17/250\n",
      "519/519 [==============================] - 0s 66us/sample - loss: 5.6211 - val_loss: 3.7433\n",
      "Epoch 18/250\n",
      "519/519 [==============================] - 0s 67us/sample - loss: 5.4227 - val_loss: 2.8837\n",
      "Epoch 19/250\n",
      "519/519 [==============================] - 0s 66us/sample - loss: 5.1285 - val_loss: 2.9592\n",
      "Epoch 20/250\n",
      "519/519 [==============================] - 0s 67us/sample - loss: 4.6137 - val_loss: 3.2675\n",
      "Epoch 21/250\n",
      "519/519 [==============================] - 0s 66us/sample - loss: 4.8411 - val_loss: 3.5774\n",
      "Epoch 22/250\n",
      "519/519 [==============================] - 0s 64us/sample - loss: 4.9031 - val_loss: 2.8419\n",
      "Epoch 23/250\n",
      "519/519 [==============================] - 0s 64us/sample - loss: 4.9192 - val_loss: 3.5261\n",
      "Epoch 24/250\n",
      "519/519 [==============================] - 0s 66us/sample - loss: 5.2983 - val_loss: 3.6256\n",
      "Epoch 25/250\n",
      "519/519 [==============================] - 0s 67us/sample - loss: 4.8669 - val_loss: 3.0782\n",
      "Epoch 26/250\n",
      "519/519 [==============================] - 0s 69us/sample - loss: 4.8143 - val_loss: 3.1695\n",
      "Epoch 27/250\n",
      "519/519 [==============================] - 0s 69us/sample - loss: 4.7721 - val_loss: 3.2971\n",
      "Epoch 28/250\n",
      "519/519 [==============================] - 0s 66us/sample - loss: 4.4299 - val_loss: 3.0903\n",
      "Epoch 29/250\n",
      "519/519 [==============================] - 0s 67us/sample - loss: 4.6724 - val_loss: 2.7325\n",
      "Epoch 30/250\n",
      "519/519 [==============================] - 0s 67us/sample - loss: 5.1450 - val_loss: 3.3183\n",
      "Epoch 31/250\n",
      "519/519 [==============================] - 0s 66us/sample - loss: 4.6495 - val_loss: 2.8759\n",
      "Epoch 32/250\n",
      "519/519 [==============================] - 0s 67us/sample - loss: 4.2201 - val_loss: 2.8930\n",
      "Epoch 33/250\n",
      "519/519 [==============================] - 0s 66us/sample - loss: 4.1678 - val_loss: 3.6775\n",
      "Epoch 34/250\n",
      "519/519 [==============================] - 0s 64us/sample - loss: 3.8689 - val_loss: 3.2422\n",
      "Epoch 35/250\n",
      "519/519 [==============================] - 0s 64us/sample - loss: 4.4067 - val_loss: 3.0258\n",
      "Epoch 36/250\n",
      "519/519 [==============================] - 0s 64us/sample - loss: 4.1373 - val_loss: 3.6060\n",
      "Epoch 37/250\n",
      "519/519 [==============================] - 0s 69us/sample - loss: 4.4724 - val_loss: 2.5470\n",
      "Epoch 38/250\n",
      "519/519 [==============================] - 0s 66us/sample - loss: 3.9700 - val_loss: 2.6995\n",
      "Epoch 39/250\n",
      "519/519 [==============================] - 0s 66us/sample - loss: 3.5554 - val_loss: 3.7259\n",
      "Epoch 40/250\n",
      "519/519 [==============================] - 0s 71us/sample - loss: 3.8011 - val_loss: 3.0832\n",
      "Epoch 41/250\n",
      "519/519 [==============================] - 0s 66us/sample - loss: 3.8275 - val_loss: 2.6195\n",
      "Epoch 42/250\n",
      "519/519 [==============================] - 0s 69us/sample - loss: 3.9830 - val_loss: 3.2442\n",
      "Epoch 43/250\n",
      "519/519 [==============================] - 0s 66us/sample - loss: 3.6158 - val_loss: 3.1794\n",
      "Epoch 44/250\n",
      "519/519 [==============================] - 0s 67us/sample - loss: 3.7901 - val_loss: 2.9399\n",
      "Epoch 45/250\n",
      "519/519 [==============================] - 0s 67us/sample - loss: 3.6527 - val_loss: 3.3941\n",
      "Epoch 46/250\n",
      "519/519 [==============================] - 0s 66us/sample - loss: 3.5855 - val_loss: 3.5243\n",
      "Epoch 47/250\n",
      "519/519 [==============================] - 0s 64us/sample - loss: 3.4194 - val_loss: 2.8233\n",
      "Epoch 48/250\n",
      "519/519 [==============================] - 0s 66us/sample - loss: 3.7234 - val_loss: 3.4779\n",
      "Epoch 49/250\n",
      "519/519 [==============================] - 0s 67us/sample - loss: 3.5450 - val_loss: 2.7191\n",
      "Epoch 50/250\n",
      "519/519 [==============================] - 0s 66us/sample - loss: 3.7918 - val_loss: 2.5999\n",
      "Epoch 51/250\n",
      "519/519 [==============================] - 0s 67us/sample - loss: 3.2322 - val_loss: 2.9991\n",
      "Epoch 52/250\n",
      "519/519 [==============================] - 0s 67us/sample - loss: 3.1360 - val_loss: 2.7785\n",
      "Epoch 53/250\n",
      "519/519 [==============================] - 0s 69us/sample - loss: 3.5994 - val_loss: 3.4779\n",
      "Epoch 54/250\n",
      "519/519 [==============================] - 0s 66us/sample - loss: 3.4362 - val_loss: 3.3348\n",
      "Epoch 55/250\n",
      "519/519 [==============================] - ETA: 0s - loss: 4.277 - 0s 73us/sample - loss: 3.6168 - val_loss: 2.5881\n",
      "Epoch 56/250\n",
      "519/519 [==============================] - 0s 77us/sample - loss: 3.5443 - val_loss: 3.1421\n",
      "Epoch 57/250\n",
      "519/519 [==============================] - 0s 79us/sample - loss: 3.4554 - val_loss: 2.9647\n",
      "Epoch 58/250\n",
      "519/519 [==============================] - 0s 69us/sample - loss: 3.3301 - val_loss: 3.0301\n",
      "Epoch 59/250\n",
      "519/519 [==============================] - 0s 69us/sample - loss: 3.3736 - val_loss: 2.8461\n",
      "Epoch 60/250\n",
      "519/519 [==============================] - 0s 71us/sample - loss: 3.3284 - val_loss: 2.9336\n",
      "Epoch 61/250\n",
      "519/519 [==============================] - 0s 71us/sample - loss: 3.3008 - val_loss: 3.4145\n",
      "Epoch 62/250\n",
      "519/519 [==============================] - 0s 66us/sample - loss: 3.2423 - val_loss: 2.7527\n",
      "Epoch 63/250\n",
      "519/519 [==============================] - 0s 67us/sample - loss: 3.5048 - val_loss: 3.0129\n",
      "Epoch 64/250\n",
      "519/519 [==============================] - 0s 77us/sample - loss: 3.0356 - val_loss: 3.4523\n",
      "Epoch 65/250\n",
      "519/519 [==============================] - 0s 69us/sample - loss: 2.9213 - val_loss: 3.0166\n",
      "Epoch 66/250\n",
      "519/519 [==============================] - 0s 67us/sample - loss: 3.3363 - val_loss: 3.6507\n",
      "Epoch 67/250\n",
      "519/519 [==============================] - 0s 69us/sample - loss: 3.4171 - val_loss: 2.7588\n",
      "Epoch 68/250\n",
      "519/519 [==============================] - 0s 77us/sample - loss: 3.0920 - val_loss: 3.2280\n",
      "Epoch 69/250\n",
      "519/519 [==============================] - 0s 75us/sample - loss: 3.6039 - val_loss: 3.4461\n",
      "Epoch 70/250\n",
      "519/519 [==============================] - 0s 67us/sample - loss: 2.9663 - val_loss: 2.8700\n",
      "Epoch 71/250\n",
      "519/519 [==============================] - 0s 67us/sample - loss: 3.1652 - val_loss: 2.9312\n",
      "Epoch 72/250\n",
      "519/519 [==============================] - 0s 64us/sample - loss: 2.9470 - val_loss: 2.6208\n",
      "Epoch 73/250\n",
      "519/519 [==============================] - 0s 67us/sample - loss: 3.1804 - val_loss: 2.7168\n",
      "Epoch 74/250\n",
      "519/519 [==============================] - 0s 71us/sample - loss: 2.9541 - val_loss: 3.3871\n",
      "Epoch 75/250\n",
      "519/519 [==============================] - 0s 69us/sample - loss: 2.9131 - val_loss: 3.1360\n",
      "Epoch 76/250\n",
      "519/519 [==============================] - 0s 69us/sample - loss: 3.0968 - val_loss: 2.7335\n",
      "Epoch 77/250\n",
      "519/519 [==============================] - 0s 71us/sample - loss: 3.1962 - val_loss: 3.0630\n",
      "Epoch 78/250\n"
     ]
    },
    {
     "name": "stdout",
     "output_type": "stream",
     "text": [
      "519/519 [==============================] - 0s 69us/sample - loss: 3.0676 - val_loss: 3.1986\n",
      "Epoch 79/250\n",
      "519/519 [==============================] - 0s 73us/sample - loss: 3.0912 - val_loss: 3.0853\n",
      "Epoch 80/250\n",
      "519/519 [==============================] - 0s 64us/sample - loss: 3.0093 - val_loss: 3.1099\n",
      "Epoch 81/250\n",
      "519/519 [==============================] - 0s 67us/sample - loss: 2.9418 - val_loss: 2.8522\n",
      "Epoch 82/250\n",
      "519/519 [==============================] - 0s 69us/sample - loss: 2.8530 - val_loss: 3.1107\n",
      "Epoch 83/250\n",
      "519/519 [==============================] - 0s 75us/sample - loss: 2.8690 - val_loss: 2.8432\n",
      "Epoch 84/250\n",
      "519/519 [==============================] - 0s 69us/sample - loss: 2.8812 - val_loss: 2.7926\n",
      "Epoch 85/250\n",
      "519/519 [==============================] - 0s 67us/sample - loss: 2.9894 - val_loss: 3.4532\n",
      "Epoch 86/250\n",
      "519/519 [==============================] - 0s 69us/sample - loss: 3.0899 - val_loss: 2.6555\n",
      "Epoch 87/250\n",
      "519/519 [==============================] - 0s 69us/sample - loss: 2.8645 - val_loss: 3.2572\n",
      "Epoch 88/250\n",
      "519/519 [==============================] - 0s 69us/sample - loss: 3.0070 - val_loss: 2.9819\n",
      "Epoch 89/250\n",
      "519/519 [==============================] - 0s 69us/sample - loss: 2.8738 - val_loss: 2.8241\n",
      "Epoch 90/250\n",
      "519/519 [==============================] - 0s 69us/sample - loss: 3.0029 - val_loss: 2.9695\n",
      "Epoch 91/250\n",
      "519/519 [==============================] - 0s 67us/sample - loss: 2.7550 - val_loss: 2.8041\n",
      "Epoch 92/250\n",
      "519/519 [==============================] - 0s 66us/sample - loss: 2.7910 - val_loss: 2.7484\n",
      "Epoch 93/250\n",
      "519/519 [==============================] - 0s 67us/sample - loss: 2.7939 - val_loss: 3.0160\n",
      "Epoch 94/250\n",
      "519/519 [==============================] - 0s 69us/sample - loss: 3.1102 - val_loss: 2.8012\n",
      "Epoch 95/250\n",
      "519/519 [==============================] - 0s 71us/sample - loss: 2.7266 - val_loss: 2.6453\n",
      "Epoch 96/250\n",
      "519/519 [==============================] - 0s 69us/sample - loss: 2.8886 - val_loss: 3.2339\n",
      "Epoch 97/250\n",
      "519/519 [==============================] - 0s 67us/sample - loss: 2.8342 - val_loss: 2.7414\n",
      "Epoch 98/250\n",
      "519/519 [==============================] - 0s 64us/sample - loss: 2.6969 - val_loss: 2.8153\n",
      "Epoch 99/250\n",
      "519/519 [==============================] - 0s 67us/sample - loss: 2.5813 - val_loss: 2.9885\n",
      "Epoch 100/250\n",
      "519/519 [==============================] - 0s 66us/sample - loss: 2.4959 - val_loss: 2.8469\n",
      "Epoch 101/250\n",
      "519/519 [==============================] - 0s 71us/sample - loss: 2.6157 - val_loss: 2.8867\n",
      "Epoch 102/250\n",
      "519/519 [==============================] - 0s 67us/sample - loss: 2.7672 - val_loss: 2.8925\n",
      "Epoch 103/250\n",
      "519/519 [==============================] - 0s 64us/sample - loss: 2.8775 - val_loss: 3.0850\n",
      "Epoch 104/250\n",
      "519/519 [==============================] - 0s 69us/sample - loss: 2.9338 - val_loss: 2.8963\n",
      "Epoch 105/250\n",
      "519/519 [==============================] - 0s 71us/sample - loss: 2.6037 - val_loss: 2.7846\n",
      "Epoch 106/250\n",
      "519/519 [==============================] - 0s 67us/sample - loss: 2.6510 - val_loss: 2.8716\n",
      "Epoch 107/250\n",
      "519/519 [==============================] - 0s 67us/sample - loss: 2.7286 - val_loss: 2.8292\n",
      "Epoch 108/250\n",
      "519/519 [==============================] - 0s 64us/sample - loss: 2.9883 - val_loss: 2.4824\n",
      "Epoch 109/250\n",
      "519/519 [==============================] - 0s 71us/sample - loss: 2.9512 - val_loss: 3.2100\n",
      "Epoch 110/250\n",
      "519/519 [==============================] - 0s 71us/sample - loss: 2.9802 - val_loss: 3.0820\n",
      "Epoch 111/250\n",
      "519/519 [==============================] - 0s 71us/sample - loss: 2.7830 - val_loss: 2.6174\n",
      "Epoch 112/250\n",
      "519/519 [==============================] - 0s 71us/sample - loss: 2.5584 - val_loss: 2.6724\n",
      "Epoch 113/250\n",
      "519/519 [==============================] - 0s 73us/sample - loss: 2.6193 - val_loss: 2.8971\n",
      "Epoch 114/250\n",
      "519/519 [==============================] - 0s 67us/sample - loss: 2.5839 - val_loss: 2.9760\n",
      "Epoch 115/250\n",
      "519/519 [==============================] - 0s 69us/sample - loss: 2.3577 - val_loss: 2.5882\n",
      "Epoch 116/250\n",
      "519/519 [==============================] - 0s 67us/sample - loss: 2.4291 - val_loss: 2.7217\n",
      "Epoch 117/250\n",
      "519/519 [==============================] - 0s 69us/sample - loss: 2.8968 - val_loss: 2.7570\n",
      "Epoch 118/250\n",
      "519/519 [==============================] - 0s 69us/sample - loss: 2.5020 - val_loss: 2.6406\n",
      "Epoch 119/250\n",
      "519/519 [==============================] - 0s 71us/sample - loss: 2.5366 - val_loss: 2.7393\n",
      "Epoch 120/250\n",
      "519/519 [==============================] - 0s 64us/sample - loss: 2.5143 - val_loss: 2.8101\n",
      "Epoch 121/250\n",
      "519/519 [==============================] - 0s 69us/sample - loss: 2.5213 - val_loss: 2.6667\n",
      "Epoch 122/250\n",
      "519/519 [==============================] - 0s 67us/sample - loss: 2.6398 - val_loss: 2.6485\n",
      "Epoch 123/250\n",
      "519/519 [==============================] - 0s 73us/sample - loss: 2.5251 - val_loss: 2.9069\n",
      "Epoch 124/250\n",
      "519/519 [==============================] - 0s 67us/sample - loss: 2.6338 - val_loss: 2.6996\n",
      "Epoch 125/250\n",
      "519/519 [==============================] - 0s 69us/sample - loss: 2.5944 - val_loss: 2.3152\n",
      "Epoch 126/250\n",
      "519/519 [==============================] - 0s 71us/sample - loss: 2.6349 - val_loss: 2.6419\n",
      "Epoch 127/250\n",
      "519/519 [==============================] - 0s 69us/sample - loss: 2.5235 - val_loss: 2.7759\n",
      "Epoch 128/250\n",
      "519/519 [==============================] - 0s 64us/sample - loss: 2.6109 - val_loss: 2.5522\n",
      "Epoch 129/250\n",
      "519/519 [==============================] - 0s 69us/sample - loss: 2.4761 - val_loss: 2.2888\n",
      "Epoch 130/250\n",
      "519/519 [==============================] - 0s 67us/sample - loss: 2.5291 - val_loss: 2.3382\n",
      "Epoch 131/250\n",
      "519/519 [==============================] - 0s 69us/sample - loss: 2.5523 - val_loss: 2.4416\n",
      "Epoch 132/250\n",
      "519/519 [==============================] - 0s 71us/sample - loss: 2.4456 - val_loss: 2.4135\n",
      "Epoch 133/250\n",
      "519/519 [==============================] - 0s 66us/sample - loss: 2.3523 - val_loss: 2.3579\n",
      "Epoch 134/250\n",
      "519/519 [==============================] - 0s 67us/sample - loss: 2.5718 - val_loss: 2.2377\n",
      "Epoch 135/250\n",
      "519/519 [==============================] - 0s 71us/sample - loss: 2.4737 - val_loss: 2.6185\n",
      "Epoch 136/250\n",
      "519/519 [==============================] - 0s 69us/sample - loss: 2.2910 - val_loss: 2.4393\n",
      "Epoch 137/250\n",
      "519/519 [==============================] - 0s 64us/sample - loss: 2.5267 - val_loss: 2.3128\n",
      "Epoch 138/250\n",
      "519/519 [==============================] - 0s 71us/sample - loss: 2.4706 - val_loss: 2.6562\n",
      "Epoch 139/250\n",
      "519/519 [==============================] - 0s 71us/sample - loss: 2.3680 - val_loss: 2.4055\n",
      "Epoch 140/250\n",
      "519/519 [==============================] - 0s 73us/sample - loss: 2.5213 - val_loss: 2.1019\n",
      "Epoch 141/250\n",
      "519/519 [==============================] - 0s 67us/sample - loss: 2.3955 - val_loss: 2.1041\n",
      "Epoch 142/250\n",
      "519/519 [==============================] - 0s 73us/sample - loss: 2.5298 - val_loss: 2.5133\n",
      "Epoch 143/250\n",
      "519/519 [==============================] - 0s 69us/sample - loss: 2.3317 - val_loss: 2.4598\n",
      "Epoch 144/250\n",
      "519/519 [==============================] - 0s 66us/sample - loss: 2.5528 - val_loss: 2.1801\n",
      "Epoch 145/250\n",
      "519/519 [==============================] - 0s 67us/sample - loss: 2.4289 - val_loss: 2.2884\n",
      "Epoch 146/250\n",
      "519/519 [==============================] - 0s 69us/sample - loss: 2.5997 - val_loss: 2.4364\n",
      "Epoch 147/250\n",
      "519/519 [==============================] - 0s 67us/sample - loss: 2.3095 - val_loss: 2.3185\n",
      "Epoch 148/250\n",
      "519/519 [==============================] - 0s 67us/sample - loss: 2.2272 - val_loss: 2.3237\n",
      "Epoch 149/250\n",
      "519/519 [==============================] - 0s 69us/sample - loss: 2.5906 - val_loss: 2.2038\n",
      "Epoch 150/250\n",
      "519/519 [==============================] - 0s 69us/sample - loss: 2.4292 - val_loss: 2.4376\n",
      "Epoch 151/250\n",
      "519/519 [==============================] - 0s 73us/sample - loss: 2.2984 - val_loss: 2.3038\n",
      "Epoch 152/250\n",
      "519/519 [==============================] - 0s 66us/sample - loss: 2.4330 - val_loss: 2.5043\n",
      "Epoch 153/250\n",
      "519/519 [==============================] - 0s 67us/sample - loss: 2.3997 - val_loss: 2.1762\n",
      "Epoch 154/250\n",
      "519/519 [==============================] - 0s 67us/sample - loss: 2.2696 - val_loss: 2.1000\n",
      "Epoch 155/250\n"
     ]
    },
    {
     "name": "stdout",
     "output_type": "stream",
     "text": [
      "519/519 [==============================] - 0s 71us/sample - loss: 2.4763 - val_loss: 2.5486\n",
      "Epoch 156/250\n",
      "519/519 [==============================] - 0s 69us/sample - loss: 2.4660 - val_loss: 2.2886\n",
      "Epoch 157/250\n",
      "519/519 [==============================] - 0s 67us/sample - loss: 2.5196 - val_loss: 2.2916\n",
      "Epoch 158/250\n",
      "519/519 [==============================] - 0s 67us/sample - loss: 2.1612 - val_loss: 2.3705\n",
      "Epoch 159/250\n",
      "519/519 [==============================] - 0s 67us/sample - loss: 2.2827 - val_loss: 2.2402\n",
      "Epoch 160/250\n",
      "519/519 [==============================] - 0s 66us/sample - loss: 2.4430 - val_loss: 2.3884\n",
      "Epoch 161/250\n",
      "519/519 [==============================] - 0s 66us/sample - loss: 2.4548 - val_loss: 2.1735\n",
      "Epoch 162/250\n",
      "519/519 [==============================] - 0s 69us/sample - loss: 2.1581 - val_loss: 2.2785\n",
      "Epoch 163/250\n",
      "519/519 [==============================] - 0s 73us/sample - loss: 2.4749 - val_loss: 2.5555\n",
      "Epoch 164/250\n",
      "519/519 [==============================] - 0s 66us/sample - loss: 2.3088 - val_loss: 2.1310\n",
      "Epoch 165/250\n",
      "519/519 [==============================] - 0s 67us/sample - loss: 2.4993 - val_loss: 2.0774\n",
      "Epoch 166/250\n",
      "519/519 [==============================] - 0s 66us/sample - loss: 2.3020 - val_loss: 2.3822\n",
      "Epoch 167/250\n",
      "519/519 [==============================] - 0s 73us/sample - loss: 2.5677 - val_loss: 2.3043\n",
      "Epoch 168/250\n",
      "519/519 [==============================] - 0s 75us/sample - loss: 2.3097 - val_loss: 2.0578\n",
      "Epoch 169/250\n",
      "519/519 [==============================] - 0s 67us/sample - loss: 2.3586 - val_loss: 2.3078\n",
      "Epoch 170/250\n",
      "519/519 [==============================] - 0s 67us/sample - loss: 2.2986 - val_loss: 2.3987\n",
      "Epoch 171/250\n",
      "519/519 [==============================] - 0s 66us/sample - loss: 2.4465 - val_loss: 2.0862\n",
      "Epoch 172/250\n",
      "519/519 [==============================] - 0s 77us/sample - loss: 2.2838 - val_loss: 2.2835\n",
      "Epoch 173/250\n",
      "519/519 [==============================] - 0s 67us/sample - loss: 2.3923 - val_loss: 2.3676\n",
      "Epoch 174/250\n",
      "519/519 [==============================] - 0s 69us/sample - loss: 2.3414 - val_loss: 2.0302\n",
      "Epoch 175/250\n",
      "519/519 [==============================] - 0s 71us/sample - loss: 2.2883 - val_loss: 2.2995\n",
      "Epoch 176/250\n",
      "519/519 [==============================] - 0s 71us/sample - loss: 2.3355 - val_loss: 2.1421\n",
      "Epoch 177/250\n",
      "519/519 [==============================] - 0s 77us/sample - loss: 2.1735 - val_loss: 2.2451\n",
      "Epoch 178/250\n",
      "519/519 [==============================] - 0s 96us/sample - loss: 2.3327 - val_loss: 2.1090\n",
      "Epoch 179/250\n",
      "519/519 [==============================] - 0s 108us/sample - loss: 2.3038 - val_loss: 2.1069\n",
      "Epoch 180/250\n",
      "519/519 [==============================] - 0s 94us/sample - loss: 2.3250 - val_loss: 2.4829\n",
      "Epoch 181/250\n",
      "519/519 [==============================] - 0s 83us/sample - loss: 2.1281 - val_loss: 2.0736\n",
      "Epoch 182/250\n",
      "519/519 [==============================] - 0s 81us/sample - loss: 2.1960 - val_loss: 2.0670\n",
      "Epoch 183/250\n",
      "519/519 [==============================] - 0s 79us/sample - loss: 2.2681 - val_loss: 2.2489\n",
      "Epoch 184/250\n",
      "519/519 [==============================] - 0s 79us/sample - loss: 2.2184 - val_loss: 2.0720\n",
      "Epoch 185/250\n",
      "519/519 [==============================] - 0s 83us/sample - loss: 2.1065 - val_loss: 2.2044\n",
      "Epoch 186/250\n",
      "519/519 [==============================] - 0s 87us/sample - loss: 2.1918 - val_loss: 2.0754\n",
      "Epoch 187/250\n",
      "519/519 [==============================] - 0s 85us/sample - loss: 2.2047 - val_loss: 2.1151\n",
      "Epoch 188/250\n",
      "519/519 [==============================] - 0s 83us/sample - loss: 2.3308 - val_loss: 1.8945\n",
      "Epoch 189/250\n",
      "519/519 [==============================] - 0s 89us/sample - loss: 2.1202 - val_loss: 1.9326\n",
      "Epoch 190/250\n",
      "519/519 [==============================] - 0s 77us/sample - loss: 2.2288 - val_loss: 2.3115\n",
      "Epoch 191/250\n",
      "519/519 [==============================] - 0s 106us/sample - loss: 2.2440 - val_loss: 2.2288\n",
      "Epoch 192/250\n",
      "519/519 [==============================] - 0s 83us/sample - loss: 2.3925 - val_loss: 2.1217\n",
      "Epoch 193/250\n",
      "519/519 [==============================] - 0s 87us/sample - loss: 2.1533 - val_loss: 2.1273\n",
      "Epoch 194/250\n",
      "519/519 [==============================] - 0s 204us/sample - loss: 2.2041 - val_loss: 2.0149\n",
      "Epoch 195/250\n",
      "519/519 [==============================] - 0s 137us/sample - loss: 2.2162 - val_loss: 2.0055\n",
      "Epoch 196/250\n",
      "519/519 [==============================] - 0s 179us/sample - loss: 2.4030 - val_loss: 2.0087\n",
      "Epoch 197/250\n",
      "519/519 [==============================] - 0s 129us/sample - loss: 2.2866 - val_loss: 2.0484\n",
      "Epoch 198/250\n",
      "519/519 [==============================] - 0s 100us/sample - loss: 2.0301 - val_loss: 1.8730\n",
      "Epoch 199/250\n",
      "519/519 [==============================] - 0s 100us/sample - loss: 2.2850 - val_loss: 1.9676\n",
      "Epoch 200/250\n",
      "519/519 [==============================] - 0s 131us/sample - loss: 2.2192 - val_loss: 1.9768\n",
      "Epoch 201/250\n",
      "519/519 [==============================] - 0s 123us/sample - loss: 2.0480 - val_loss: 2.0545\n",
      "Epoch 202/250\n",
      "519/519 [==============================] - 0s 125us/sample - loss: 2.1344 - val_loss: 1.9179\n",
      "Epoch 203/250\n",
      "519/519 [==============================] - 0s 106us/sample - loss: 2.3226 - val_loss: 1.7469\n",
      "Epoch 204/250\n",
      "519/519 [==============================] - 0s 81us/sample - loss: 2.0618 - val_loss: 1.9759\n",
      "Epoch 205/250\n",
      "519/519 [==============================] - 0s 108us/sample - loss: 2.2817 - val_loss: 2.1603\n",
      "Epoch 206/250\n",
      "519/519 [==============================] - 0s 135us/sample - loss: 2.4844 - val_loss: 2.0125\n",
      "Epoch 207/250\n",
      "519/519 [==============================] - 0s 156us/sample - loss: 2.2477 - val_loss: 2.0623\n",
      "Epoch 208/250\n",
      "519/519 [==============================] - 0s 135us/sample - loss: 2.0797 - val_loss: 1.9409\n",
      "Epoch 209/250\n",
      "519/519 [==============================] - 0s 77us/sample - loss: 2.2398 - val_loss: 1.8518\n",
      "Epoch 210/250\n",
      "519/519 [==============================] - 0s 79us/sample - loss: 2.0660 - val_loss: 1.8629\n",
      "Epoch 211/250\n",
      "519/519 [==============================] - 0s 73us/sample - loss: 2.2073 - val_loss: 1.9607\n",
      "Epoch 212/250\n",
      "519/519 [==============================] - 0s 75us/sample - loss: 2.1480 - val_loss: 2.0814\n",
      "Epoch 213/250\n",
      "519/519 [==============================] - 0s 71us/sample - loss: 2.0930 - val_loss: 1.9343\n",
      "Epoch 214/250\n",
      "519/519 [==============================] - 0s 79us/sample - loss: 2.0757 - val_loss: 2.0990\n",
      "Epoch 215/250\n",
      "519/519 [==============================] - 0s 77us/sample - loss: 2.2432 - val_loss: 1.8529\n",
      "Epoch 216/250\n",
      "519/519 [==============================] - 0s 79us/sample - loss: 2.0928 - val_loss: 1.8579\n",
      "Epoch 217/250\n",
      "519/519 [==============================] - 0s 81us/sample - loss: 2.1611 - val_loss: 2.1791\n",
      "Epoch 218/250\n",
      "519/519 [==============================] - 0s 77us/sample - loss: 2.1491 - val_loss: 1.8274\n",
      "Epoch 219/250\n",
      "519/519 [==============================] - 0s 73us/sample - loss: 2.1012 - val_loss: 1.8196\n",
      "Epoch 220/250\n",
      "519/519 [==============================] - 0s 79us/sample - loss: 2.2240 - val_loss: 2.0070\n",
      "Epoch 221/250\n",
      "519/519 [==============================] - 0s 81us/sample - loss: 2.1795 - val_loss: 2.1402\n",
      "Epoch 222/250\n",
      "519/519 [==============================] - 0s 73us/sample - loss: 2.0339 - val_loss: 2.0267\n",
      "Epoch 223/250\n",
      "519/519 [==============================] - 0s 71us/sample - loss: 2.1610 - val_loss: 1.7709\n",
      "Epoch 224/250\n",
      "519/519 [==============================] - 0s 71us/sample - loss: 2.0733 - val_loss: 2.0205\n",
      "Epoch 225/250\n",
      "519/519 [==============================] - 0s 67us/sample - loss: 2.0690 - val_loss: 2.1361\n",
      "Epoch 226/250\n",
      "519/519 [==============================] - 0s 71us/sample - loss: 2.1161 - val_loss: 1.9353\n",
      "Epoch 227/250\n",
      "519/519 [==============================] - 0s 67us/sample - loss: 2.1485 - val_loss: 1.8240\n",
      "Epoch 228/250\n",
      "519/519 [==============================] - 0s 67us/sample - loss: 2.2056 - val_loss: 1.7960\n",
      "Epoch 229/250\n",
      "519/519 [==============================] - 0s 71us/sample - loss: 1.9366 - val_loss: 2.0015\n",
      "Epoch 230/250\n",
      "519/519 [==============================] - 0s 73us/sample - loss: 2.1674 - val_loss: 2.0795\n",
      "Epoch 231/250\n",
      "519/519 [==============================] - 0s 66us/sample - loss: 2.1525 - val_loss: 1.8588\n",
      "Epoch 232/250\n"
     ]
    },
    {
     "name": "stdout",
     "output_type": "stream",
     "text": [
      "519/519 [==============================] - 0s 71us/sample - loss: 2.1167 - val_loss: 1.9292\n",
      "Epoch 233/250\n",
      "519/519 [==============================] - 0s 77us/sample - loss: 2.0210 - val_loss: 1.9560\n",
      "Epoch 234/250\n",
      "519/519 [==============================] - 0s 67us/sample - loss: 2.1079 - val_loss: 1.8421\n",
      "Epoch 235/250\n",
      "519/519 [==============================] - 0s 67us/sample - loss: 2.1284 - val_loss: 1.8043\n",
      "Epoch 236/250\n",
      "519/519 [==============================] - 0s 69us/sample - loss: 2.1542 - val_loss: 1.9657\n",
      "Epoch 237/250\n",
      "519/519 [==============================] - 0s 69us/sample - loss: 1.9728 - val_loss: 2.0033\n",
      "Epoch 238/250\n",
      "519/519 [==============================] - 0s 67us/sample - loss: 2.0978 - val_loss: 1.8398\n",
      "Epoch 239/250\n",
      "519/519 [==============================] - 0s 71us/sample - loss: 1.9099 - val_loss: 1.8215\n",
      "Epoch 240/250\n",
      "519/519 [==============================] - 0s 69us/sample - loss: 1.8492 - val_loss: 1.8892\n",
      "Epoch 241/250\n",
      "519/519 [==============================] - 0s 73us/sample - loss: 2.2737 - val_loss: 1.9378\n",
      "Epoch 242/250\n",
      "519/519 [==============================] - 0s 69us/sample - loss: 2.3381 - val_loss: 1.9868\n",
      "Epoch 243/250\n",
      "519/519 [==============================] - 0s 69us/sample - loss: 2.1187 - val_loss: 1.9372\n",
      "Epoch 244/250\n",
      "519/519 [==============================] - 0s 73us/sample - loss: 2.1187 - val_loss: 1.8489\n",
      "Epoch 245/250\n",
      "519/519 [==============================] - 0s 69us/sample - loss: 2.0254 - val_loss: 1.7587\n",
      "Epoch 246/250\n",
      "519/519 [==============================] - 0s 85us/sample - loss: 2.1342 - val_loss: 1.9809\n",
      "Epoch 247/250\n",
      "519/519 [==============================] - 0s 73us/sample - loss: 2.1355 - val_loss: 2.0002\n",
      "Epoch 248/250\n",
      "519/519 [==============================] - 0s 69us/sample - loss: 1.9747 - val_loss: 1.8962\n",
      "Epoch 249/250\n",
      "519/519 [==============================] - 0s 79us/sample - loss: 1.9566 - val_loss: 1.9564\n",
      "Epoch 250/250\n",
      "519/519 [==============================] - 0s 87us/sample - loss: 1.9889 - val_loss: 2.0675\n"
     ]
    },
    {
     "data": {
      "text/plain": [
       "<tensorflow.python.keras.callbacks.History at 0x1cbdd792a08>"
      ]
     },
     "execution_count": 36,
     "metadata": {},
     "output_type": "execute_result"
    }
   ],
   "source": [
    "model.fit(X_train,y_train,validation_data = (X_test,y_test.values),batch_size = 64,epochs = 250)"
   ]
  },
  {
   "cell_type": "code",
   "execution_count": 37,
   "metadata": {},
   "outputs": [
    {
     "data": {
      "image/png": "[encoded data removed]",
      "text/plain": [
       "<Figure size 432x288 with 1 Axes>"
      ]
     },
     "metadata": {
      "needs_background": "light"
     },
     "output_type": "display_data"
    }
   ],
   "source": [
    "losses = pd.DataFrame(model.history.history)\n",
    "\n",
    "losses.plot();"
   ]
  },
  {
   "cell_type": "code",
   "execution_count": 38,
   "metadata": {},
   "outputs": [],
   "source": [
    "y_pred = model.predict(X_test)"
   ]
  },
  {
   "cell_type": "code",
   "execution_count": 39,
   "metadata": {},
   "outputs": [
    {
     "data": {
      "text/html": [
       "<div>\n",
       "<style scoped>\n",
       "    .dataframe tbody tr th:only-of-type {\n",
       "        vertical-align: middle;\n",
       "    }\n",
       "\n",
       "    .dataframe tbody tr th {\n",
       "        vertical-align: top;\n",
       "    }\n",
       "\n",
       "    .dataframe thead th {\n",
       "        text-align: right;\n",
       "    }\n",
       "</style>\n",
       "<table border=\"1\" class=\"dataframe\">\n",
       "  <thead>\n",
       "    <tr style=\"text-align: right;\">\n",
       "      <th></th>\n",
       "      <th>y_pred</th>\n",
       "      <th>y_test</th>\n",
       "    </tr>\n",
       "  </thead>\n",
       "  <tbody>\n",
       "    <tr>\n",
       "      <th>0</th>\n",
       "      <td>6.620637</td>\n",
       "      <td>10</td>\n",
       "    </tr>\n",
       "    <tr>\n",
       "      <th>1</th>\n",
       "      <td>6.310336</td>\n",
       "      <td>6</td>\n",
       "    </tr>\n",
       "    <tr>\n",
       "      <th>2</th>\n",
       "      <td>7.055526</td>\n",
       "      <td>9</td>\n",
       "    </tr>\n",
       "    <tr>\n",
       "      <th>3</th>\n",
       "      <td>5.783377</td>\n",
       "      <td>6</td>\n",
       "    </tr>\n",
       "    <tr>\n",
       "      <th>4</th>\n",
       "      <td>5.075904</td>\n",
       "      <td>6</td>\n",
       "    </tr>\n",
       "  </tbody>\n",
       "</table>\n",
       "</div>"
      ],
      "text/plain": [
       "     y_pred  y_test\n",
       "0  6.620637      10\n",
       "1  6.310336       6\n",
       "2  7.055526       9\n",
       "3  5.783377       6\n",
       "4  5.075904       6"
      ]
     },
     "execution_count": 39,
     "metadata": {},
     "output_type": "execute_result"
    }
   ],
   "source": [
    "y_pred = pd.DataFrame(y_pred)\n",
    "\n",
    "df_temp = pd.concat([y_pred,y_test],axis = 1)\n",
    "df_temp.columns = ['y_pred','y_test']\n",
    "\n",
    "df_temp.head()"
   ]
  },
  {
   "cell_type": "code",
   "execution_count": 40,
   "metadata": {},
   "outputs": [
    {
     "data": {
      "image/png": "[encoded data removed]",
      "text/plain": [
       "<Figure size 432x288 with 1 Axes>"
      ]
     },
     "metadata": {
      "needs_background": "light"
     },
     "output_type": "display_data"
    }
   ],
   "source": [
    "plt.scatter(df_temp['y_test'],df_temp['y_pred'])\n",
    "plt.xlabel('y_test',fontsize = 14)\n",
    "plt.ylabel('y_pred',fontsize = 14)\n",
    "plt.xlim(0,10)\n",
    "plt.ylim(0,10)\n",
    "y_lim = plt.ylim()\n",
    "x_lim = plt.xlim()\n",
    "plt.xticks(list(range(0,11)))\n",
    "plt.yticks(list(range(0,11)))\n",
    "plt.grid()\n",
    "plt.plot(x_lim,y_lim,color = 'g',linewidth = 5);"
   ]
  },
  {
   "cell_type": "code",
   "execution_count": 41,
   "metadata": {},
   "outputs": [
    {
     "data": {
      "text/plain": [
       "1.4378636217851248"
      ]
     },
     "execution_count": 41,
     "metadata": {},
     "output_type": "execute_result"
    }
   ],
   "source": [
    "rmse(y_pred,y_test)"
   ]
  },
  {
   "cell_type": "markdown",
   "metadata": {},
   "source": [
    "## Stacking "
   ]
  },
  {
   "cell_type": "code",
   "execution_count": 42,
   "metadata": {},
   "outputs": [],
   "source": [
    "X_base,X_meta,y_base,y_meta = train_test_split(X_train,y_train,test_size = 0.5,random_state = 42)"
   ]
  },
  {
   "cell_type": "markdown",
   "metadata": {},
   "source": [
    "### Base Models "
   ]
  },
  {
   "cell_type": "code",
   "execution_count": 43,
   "metadata": {},
   "outputs": [],
   "source": [
    "model = DecisionTreeRegressor(min_samples_leaf = 20,max_depth = 10)\n",
    "model.fit(X_base,y_base)\n",
    "\n",
    "y_pred_dt_meta = model.predict(X_meta)\n",
    "y_pred_dt_test = model.predict(X_test)"
   ]
  },
  {
   "cell_type": "code",
   "execution_count": 44,
   "metadata": {},
   "outputs": [],
   "source": [
    "model = RandomForestRegressor(min_samples_leaf = 1,n_estimators = 100)\n",
    "model.fit(X_base,y_base)\n",
    "\n",
    "y_pred_rf_meta = model.predict(X_meta)\n",
    "y_pred_rf_test = model.predict(X_test)"
   ]
  },
  {
   "cell_type": "code",
   "execution_count": 45,
   "metadata": {},
   "outputs": [],
   "source": [
    "model = xgboost.XGBRegressor(silent = True,max_depth = 1,learning_rate = 0.1,n_estimators = 100)\n",
    "model.fit(X_base,y_base)\n",
    "\n",
    "y_pred_xgb_meta = model.predict(X_meta)\n",
    "y_pred_xgb_test = model.predict(X_test)"
   ]
  },
  {
   "cell_type": "code",
   "execution_count": 46,
   "metadata": {},
   "outputs": [
    {
     "name": "stdout",
     "output_type": "stream",
     "text": [
      "Train on 519 samples, validate on 259 samples\n",
      "Epoch 1/250\n",
      "519/519 [==============================] - 1s 1ms/sample - loss: 35.1058 - val_loss: 31.0783\n",
      "Epoch 2/250\n",
      "519/519 [==============================] - 0s 79us/sample - loss: 28.4195 - val_loss: 23.2659\n",
      "Epoch 3/250\n",
      "519/519 [==============================] - 0s 75us/sample - loss: 19.3124 - val_loss: 13.3062\n",
      "Epoch 4/250\n",
      "519/519 [==============================] - 0s 81us/sample - loss: 10.6752 - val_loss: 5.1518\n",
      "Epoch 5/250\n",
      "519/519 [==============================] - 0s 102us/sample - loss: 7.9399 - val_loss: 3.5786\n",
      "Epoch 6/250\n",
      "519/519 [==============================] - 0s 85us/sample - loss: 7.0771 - val_loss: 4.4000\n",
      "Epoch 7/250\n",
      "519/519 [==============================] - 0s 81us/sample - loss: 6.8838 - val_loss: 5.1204\n",
      "Epoch 8/250\n",
      "519/519 [==============================] - 0s 83us/sample - loss: 6.7149 - val_loss: 4.5383\n",
      "Epoch 9/250\n",
      "519/519 [==============================] - 0s 79us/sample - loss: 6.7750 - val_loss: 3.5693\n",
      "Epoch 10/250\n",
      "519/519 [==============================] - 0s 79us/sample - loss: 5.7185 - val_loss: 3.4044\n",
      "Epoch 11/250\n",
      "519/519 [==============================] - 0s 87us/sample - loss: 5.5337 - val_loss: 3.7336\n",
      "Epoch 12/250\n",
      "519/519 [==============================] - 0s 83us/sample - loss: 5.6497 - val_loss: 4.2758\n",
      "Epoch 13/250\n",
      "519/519 [==============================] - 0s 83us/sample - loss: 5.7890 - val_loss: 4.1884\n",
      "Epoch 14/250\n",
      "519/519 [==============================] - 0s 85us/sample - loss: 5.3325 - val_loss: 3.8879\n",
      "Epoch 15/250\n",
      "519/519 [==============================] - 0s 81us/sample - loss: 5.4123 - val_loss: 3.6816\n",
      "Epoch 16/250\n",
      "519/519 [==============================] - 0s 85us/sample - loss: 4.5831 - val_loss: 3.5799\n",
      "Epoch 17/250\n",
      "519/519 [==============================] - 0s 79us/sample - loss: 5.0982 - val_loss: 3.2727\n",
      "Epoch 18/250\n",
      "519/519 [==============================] - ETA: 0s - loss: 6.949 - 0s 83us/sample - loss: 5.2616 - val_loss: 2.9293\n",
      "Epoch 19/250\n",
      "519/519 [==============================] - 0s 81us/sample - loss: 4.7512 - val_loss: 3.6094\n",
      "Epoch 20/250\n",
      "519/519 [==============================] - 0s 81us/sample - loss: 4.2104 - val_loss: 4.0672\n",
      "Epoch 21/250\n",
      "519/519 [==============================] - 0s 77us/sample - loss: 4.6308 - val_loss: 3.1410\n",
      "Epoch 22/250\n",
      "519/519 [==============================] - 0s 85us/sample - loss: 4.2277 - val_loss: 3.1141\n",
      "Epoch 23/250\n",
      "519/519 [==============================] - 0s 83us/sample - loss: 4.4636 - val_loss: 3.1322\n",
      "Epoch 24/250\n",
      "519/519 [==============================] - 0s 83us/sample - loss: 4.2183 - val_loss: 3.2998\n",
      "Epoch 25/250\n",
      "519/519 [==============================] - 0s 81us/sample - loss: 4.0583 - val_loss: 2.9465\n",
      "Epoch 26/250\n",
      "519/519 [==============================] - 0s 81us/sample - loss: 3.9621 - val_loss: 3.5139\n",
      "Epoch 27/250\n",
      "519/519 [==============================] - 0s 83us/sample - loss: 4.0243 - val_loss: 3.1318\n",
      "Epoch 28/250\n",
      "519/519 [==============================] - 0s 87us/sample - loss: 4.0656 - val_loss: 3.4593\n",
      "Epoch 29/250\n",
      "519/519 [==============================] - 0s 83us/sample - loss: 3.8870 - val_loss: 3.4842\n",
      "Epoch 30/250\n",
      "519/519 [==============================] - 0s 85us/sample - loss: 4.1878 - val_loss: 3.3667\n",
      "Epoch 31/250\n",
      "519/519 [==============================] - 0s 87us/sample - loss: 3.6054 - val_loss: 3.0248\n",
      "Epoch 32/250\n",
      "519/519 [==============================] - 0s 83us/sample - loss: 3.4449 - val_loss: 2.4027\n",
      "Epoch 33/250\n",
      "519/519 [==============================] - 0s 77us/sample - loss: 3.6534 - val_loss: 3.1097\n",
      "Epoch 34/250\n",
      "519/519 [==============================] - 0s 77us/sample - loss: 3.8846 - val_loss: 2.8603\n",
      "Epoch 35/250\n",
      "519/519 [==============================] - 0s 75us/sample - loss: 3.3719 - val_loss: 2.1852\n",
      "Epoch 36/250\n",
      "519/519 [==============================] - 0s 75us/sample - loss: 3.5848 - val_loss: 3.0939\n",
      "Epoch 37/250\n",
      "519/519 [==============================] - 0s 77us/sample - loss: 3.2948 - val_loss: 2.7566\n",
      "Epoch 38/250\n",
      "519/519 [==============================] - 0s 79us/sample - loss: 3.9626 - val_loss: 3.0605\n",
      "Epoch 39/250\n",
      "519/519 [==============================] - 0s 77us/sample - loss: 3.3590 - val_loss: 2.9475\n",
      "Epoch 40/250\n",
      "519/519 [==============================] - 0s 79us/sample - loss: 3.2222 - val_loss: 2.4643\n",
      "Epoch 41/250\n",
      "519/519 [==============================] - 0s 77us/sample - loss: 3.0391 - val_loss: 2.6408\n",
      "Epoch 42/250\n",
      "519/519 [==============================] - 0s 87us/sample - loss: 3.2209 - val_loss: 2.6877\n",
      "Epoch 43/250\n",
      "519/519 [==============================] - 0s 77us/sample - loss: 3.3776 - val_loss: 2.4502\n",
      "Epoch 44/250\n",
      "519/519 [==============================] - 0s 79us/sample - loss: 3.2452 - val_loss: 2.4466\n",
      "Epoch 45/250\n",
      "519/519 [==============================] - 0s 75us/sample - loss: 3.3028 - val_loss: 2.0957\n",
      "Epoch 46/250\n",
      "519/519 [==============================] - 0s 81us/sample - loss: 3.4137 - val_loss: 2.3295\n",
      "Epoch 47/250\n",
      "519/519 [==============================] - 0s 85us/sample - loss: 3.8019 - val_loss: 2.8165\n",
      "Epoch 48/250\n",
      "519/519 [==============================] - 0s 81us/sample - loss: 3.3456 - val_loss: 2.3768\n",
      "Epoch 49/250\n",
      "519/519 [==============================] - 0s 104us/sample - loss: 3.4462 - val_loss: 2.3282\n",
      "Epoch 50/250\n",
      "519/519 [==============================] - 0s 91us/sample - loss: 3.4679 - val_loss: 2.2363\n",
      "Epoch 51/250\n",
      "519/519 [==============================] - 0s 98us/sample - loss: 2.9305 - val_loss: 2.3846\n",
      "Epoch 52/250\n",
      "519/519 [==============================] - 0s 85us/sample - loss: 3.0350 - val_loss: 2.5683\n",
      "Epoch 53/250\n",
      "519/519 [==============================] - 0s 79us/sample - loss: 3.2203 - val_loss: 2.6188\n",
      "Epoch 54/250\n",
      "519/519 [==============================] - 0s 79us/sample - loss: 2.8931 - val_loss: 2.3195\n",
      "Epoch 55/250\n",
      "519/519 [==============================] - 0s 77us/sample - loss: 3.1471 - val_loss: 2.3297\n",
      "Epoch 56/250\n",
      "519/519 [==============================] - 0s 91us/sample - loss: 3.0181 - val_loss: 2.0682\n",
      "Epoch 57/250\n",
      "519/519 [==============================] - 0s 87us/sample - loss: 3.0650 - val_loss: 2.4218\n",
      "Epoch 58/250\n",
      "519/519 [==============================] - 0s 77us/sample - loss: 2.9310 - val_loss: 2.2158\n",
      "Epoch 59/250\n",
      "519/519 [==============================] - 0s 81us/sample - loss: 2.7576 - val_loss: 2.6007\n",
      "Epoch 60/250\n",
      "519/519 [==============================] - 0s 81us/sample - loss: 2.9627 - val_loss: 2.1763\n",
      "Epoch 61/250\n",
      "519/519 [==============================] - 0s 73us/sample - loss: 2.9555 - val_loss: 2.3098\n",
      "Epoch 62/250\n",
      "519/519 [==============================] - 0s 77us/sample - loss: 2.8919 - val_loss: 2.2233\n",
      "Epoch 63/250\n",
      "519/519 [==============================] - 0s 73us/sample - loss: 2.9025 - val_loss: 1.9543\n",
      "Epoch 64/250\n",
      "519/519 [==============================] - 0s 77us/sample - loss: 2.9108 - val_loss: 2.0660\n",
      "Epoch 65/250\n",
      "519/519 [==============================] - 0s 79us/sample - loss: 2.9195 - val_loss: 2.2002\n",
      "Epoch 66/250\n",
      "519/519 [==============================] - 0s 79us/sample - loss: 2.9648 - val_loss: 2.3720\n",
      "Epoch 67/250\n",
      "519/519 [==============================] - 0s 69us/sample - loss: 2.9611 - val_loss: 1.9116\n",
      "Epoch 68/250\n",
      "519/519 [==============================] - 0s 77us/sample - loss: 2.9176 - val_loss: 1.8201\n",
      "Epoch 69/250\n",
      "519/519 [==============================] - 0s 87us/sample - loss: 2.9382 - val_loss: 2.2043\n",
      "Epoch 70/250\n",
      "519/519 [==============================] - 0s 96us/sample - loss: 2.8824 - val_loss: 2.1156\n",
      "Epoch 71/250\n",
      "519/519 [==============================] - 0s 131us/sample - loss: 2.6401 - val_loss: 1.9311\n",
      "Epoch 72/250\n",
      "519/519 [==============================] - 0s 83us/sample - loss: 2.9009 - val_loss: 2.0794\n",
      "Epoch 73/250\n",
      "519/519 [==============================] - 0s 81us/sample - loss: 2.7506 - val_loss: 1.7959\n",
      "Epoch 74/250\n",
      "519/519 [==============================] - 0s 81us/sample - loss: 2.5230 - val_loss: 1.9517\n",
      "Epoch 75/250\n",
      "519/519 [==============================] - 0s 87us/sample - loss: 2.7569 - val_loss: 2.1821\n",
      "Epoch 76/250\n",
      "519/519 [==============================] - 0s 79us/sample - loss: 2.5603 - val_loss: 2.1852\n",
      "Epoch 77/250\n",
      "519/519 [==============================] - 0s 81us/sample - loss: 2.8401 - val_loss: 1.9758\n",
      "Epoch 78/250\n"
     ]
    },
    {
     "name": "stdout",
     "output_type": "stream",
     "text": [
      "519/519 [==============================] - 0s 83us/sample - loss: 2.6270 - val_loss: 1.9382\n",
      "Epoch 79/250\n",
      "519/519 [==============================] - 0s 114us/sample - loss: 2.6735 - val_loss: 1.7224\n",
      "Epoch 80/250\n",
      "519/519 [==============================] - 0s 79us/sample - loss: 2.6522 - val_loss: 1.9619\n",
      "Epoch 81/250\n",
      "519/519 [==============================] - 0s 75us/sample - loss: 2.5766 - val_loss: 1.7717\n",
      "Epoch 82/250\n",
      "519/519 [==============================] - 0s 71us/sample - loss: 2.6442 - val_loss: 1.7578\n",
      "Epoch 83/250\n",
      "519/519 [==============================] - 0s 71us/sample - loss: 2.4498 - val_loss: 2.0204\n",
      "Epoch 84/250\n",
      "519/519 [==============================] - 0s 79us/sample - loss: 2.6340 - val_loss: 1.8274\n",
      "Epoch 85/250\n",
      "519/519 [==============================] - 0s 83us/sample - loss: 2.6531 - val_loss: 1.7935\n",
      "Epoch 86/250\n",
      "519/519 [==============================] - 0s 79us/sample - loss: 2.6327 - val_loss: 1.7533\n",
      "Epoch 87/250\n",
      "519/519 [==============================] - 0s 73us/sample - loss: 2.7236 - val_loss: 1.7691\n",
      "Epoch 88/250\n",
      "519/519 [==============================] - 0s 75us/sample - loss: 2.6973 - val_loss: 1.7598\n",
      "Epoch 89/250\n",
      "519/519 [==============================] - 0s 77us/sample - loss: 2.4543 - val_loss: 1.8131\n",
      "Epoch 90/250\n",
      "519/519 [==============================] - 0s 71us/sample - loss: 2.9339 - val_loss: 1.6283\n",
      "Epoch 91/250\n",
      "519/519 [==============================] - 0s 79us/sample - loss: 2.3499 - val_loss: 1.8901\n",
      "Epoch 92/250\n",
      "519/519 [==============================] - 0s 69us/sample - loss: 2.6169 - val_loss: 2.1073\n",
      "Epoch 93/250\n",
      "519/519 [==============================] - 0s 75us/sample - loss: 2.5472 - val_loss: 1.8663\n",
      "Epoch 94/250\n",
      "519/519 [==============================] - 0s 71us/sample - loss: 2.4560 - val_loss: 1.6518\n",
      "Epoch 95/250\n",
      "519/519 [==============================] - 0s 71us/sample - loss: 2.4707 - val_loss: 1.5829\n",
      "Epoch 96/250\n",
      "519/519 [==============================] - 0s 75us/sample - loss: 2.6196 - val_loss: 1.9039\n",
      "Epoch 97/250\n",
      "519/519 [==============================] - 0s 73us/sample - loss: 2.7042 - val_loss: 1.9882\n",
      "Epoch 98/250\n",
      "519/519 [==============================] - 0s 71us/sample - loss: 2.4177 - val_loss: 1.7357\n",
      "Epoch 99/250\n",
      "519/519 [==============================] - 0s 79us/sample - loss: 2.3860 - val_loss: 1.9866\n",
      "Epoch 100/250\n",
      "519/519 [==============================] - 0s 83us/sample - loss: 2.6610 - val_loss: 1.8390\n",
      "Epoch 101/250\n",
      "519/519 [==============================] - 0s 81us/sample - loss: 2.3991 - val_loss: 1.7485\n",
      "Epoch 102/250\n",
      "519/519 [==============================] - 0s 77us/sample - loss: 2.6393 - val_loss: 1.6099\n",
      "Epoch 103/250\n",
      "519/519 [==============================] - 0s 71us/sample - loss: 2.4605 - val_loss: 2.1380\n",
      "Epoch 104/250\n",
      "519/519 [==============================] - 0s 79us/sample - loss: 2.7681 - val_loss: 1.9324\n",
      "Epoch 105/250\n",
      "519/519 [==============================] - 0s 73us/sample - loss: 2.5116 - val_loss: 1.5799\n",
      "Epoch 106/250\n",
      "519/519 [==============================] - 0s 67us/sample - loss: 2.4167 - val_loss: 1.9259\n",
      "Epoch 107/250\n",
      "519/519 [==============================] - 0s 75us/sample - loss: 2.2624 - val_loss: 1.5995\n",
      "Epoch 108/250\n",
      "519/519 [==============================] - 0s 77us/sample - loss: 2.4055 - val_loss: 1.3565\n",
      "Epoch 109/250\n",
      "519/519 [==============================] - 0s 79us/sample - loss: 2.4542 - val_loss: 1.8176\n",
      "Epoch 110/250\n",
      "519/519 [==============================] - 0s 75us/sample - loss: 2.4247 - val_loss: 2.0182\n",
      "Epoch 111/250\n",
      "519/519 [==============================] - 0s 75us/sample - loss: 2.4513 - val_loss: 1.4280\n",
      "Epoch 112/250\n",
      "519/519 [==============================] - 0s 75us/sample - loss: 2.3751 - val_loss: 1.4385\n",
      "Epoch 113/250\n",
      "519/519 [==============================] - 0s 73us/sample - loss: 2.5090 - val_loss: 1.8017\n",
      "Epoch 114/250\n",
      "519/519 [==============================] - 0s 77us/sample - loss: 2.3573 - val_loss: 1.6995\n",
      "Epoch 115/250\n",
      "519/519 [==============================] - 0s 73us/sample - loss: 2.6073 - val_loss: 1.5350\n",
      "Epoch 116/250\n",
      "519/519 [==============================] - 0s 75us/sample - loss: 2.3259 - val_loss: 1.5072\n",
      "Epoch 117/250\n",
      "519/519 [==============================] - 0s 73us/sample - loss: 2.3600 - val_loss: 1.4468\n",
      "Epoch 118/250\n",
      "519/519 [==============================] - 0s 75us/sample - loss: 2.1774 - val_loss: 1.6869\n",
      "Epoch 119/250\n",
      "519/519 [==============================] - 0s 73us/sample - loss: 2.3163 - val_loss: 1.6608\n",
      "Epoch 120/250\n",
      "519/519 [==============================] - 0s 73us/sample - loss: 2.4306 - val_loss: 1.5864\n",
      "Epoch 121/250\n",
      "519/519 [==============================] - 0s 83us/sample - loss: 2.2764 - val_loss: 1.5491\n",
      "Epoch 122/250\n",
      "519/519 [==============================] - 0s 87us/sample - loss: 2.1984 - val_loss: 1.5302\n",
      "Epoch 123/250\n",
      "519/519 [==============================] - 0s 83us/sample - loss: 2.1873 - val_loss: 1.5751\n",
      "Epoch 124/250\n",
      "519/519 [==============================] - 0s 112us/sample - loss: 2.1376 - val_loss: 1.4823\n",
      "Epoch 125/250\n",
      "519/519 [==============================] - 0s 114us/sample - loss: 2.4722 - val_loss: 1.6688\n",
      "Epoch 126/250\n",
      "519/519 [==============================] - 0s 81us/sample - loss: 2.4514 - val_loss: 1.5085\n",
      "Epoch 127/250\n",
      "519/519 [==============================] - 0s 81us/sample - loss: 2.3891 - val_loss: 1.4929\n",
      "Epoch 128/250\n",
      "519/519 [==============================] - 0s 79us/sample - loss: 2.1777 - val_loss: 1.5281\n",
      "Epoch 129/250\n",
      "519/519 [==============================] - 0s 75us/sample - loss: 2.0828 - val_loss: 1.5172\n",
      "Epoch 130/250\n",
      "519/519 [==============================] - 0s 75us/sample - loss: 2.0871 - val_loss: 1.6578\n",
      "Epoch 131/250\n",
      "519/519 [==============================] - 0s 79us/sample - loss: 2.4818 - val_loss: 1.5210\n",
      "Epoch 132/250\n",
      "519/519 [==============================] - 0s 79us/sample - loss: 2.3290 - val_loss: 1.3898\n",
      "Epoch 133/250\n",
      "519/519 [==============================] - 0s 81us/sample - loss: 2.4992 - val_loss: 1.6564\n",
      "Epoch 134/250\n",
      "519/519 [==============================] - 0s 85us/sample - loss: 2.2642 - val_loss: 1.4755\n",
      "Epoch 135/250\n",
      "519/519 [==============================] - 0s 83us/sample - loss: 2.1933 - val_loss: 1.3863\n",
      "Epoch 136/250\n",
      "519/519 [==============================] - 0s 77us/sample - loss: 2.3609 - val_loss: 1.4113\n",
      "Epoch 137/250\n",
      "519/519 [==============================] - 0s 83us/sample - loss: 2.1751 - val_loss: 1.4632\n",
      "Epoch 138/250\n",
      "519/519 [==============================] - 0s 81us/sample - loss: 2.0816 - val_loss: 1.4326\n",
      "Epoch 139/250\n",
      "519/519 [==============================] - 0s 83us/sample - loss: 2.1595 - val_loss: 1.4769\n",
      "Epoch 140/250\n",
      "519/519 [==============================] - 0s 81us/sample - loss: 2.4672 - val_loss: 1.3674\n",
      "Epoch 141/250\n",
      "519/519 [==============================] - 0s 69us/sample - loss: 2.0837 - val_loss: 1.4084\n",
      "Epoch 142/250\n",
      "519/519 [==============================] - 0s 79us/sample - loss: 2.1897 - val_loss: 1.5092\n",
      "Epoch 143/250\n",
      "519/519 [==============================] - 0s 75us/sample - loss: 2.3537 - val_loss: 1.6558\n",
      "Epoch 144/250\n",
      "519/519 [==============================] - 0s 75us/sample - loss: 1.9475 - val_loss: 1.4583\n",
      "Epoch 145/250\n",
      "519/519 [==============================] - 0s 73us/sample - loss: 2.1569 - val_loss: 1.4884\n",
      "Epoch 146/250\n",
      "519/519 [==============================] - 0s 73us/sample - loss: 2.1918 - val_loss: 1.6522\n",
      "Epoch 147/250\n",
      "519/519 [==============================] - 0s 77us/sample - loss: 2.0506 - val_loss: 1.2897\n",
      "Epoch 148/250\n",
      "519/519 [==============================] - 0s 79us/sample - loss: 2.1542 - val_loss: 1.3309\n",
      "Epoch 149/250\n",
      "519/519 [==============================] - 0s 83us/sample - loss: 2.1199 - val_loss: 1.5681\n",
      "Epoch 150/250\n",
      "519/519 [==============================] - 0s 79us/sample - loss: 2.3274 - val_loss: 1.4255\n",
      "Epoch 151/250\n",
      "519/519 [==============================] - 0s 75us/sample - loss: 2.0543 - val_loss: 1.3344\n",
      "Epoch 152/250\n",
      "519/519 [==============================] - 0s 77us/sample - loss: 2.1161 - val_loss: 1.3268\n",
      "Epoch 153/250\n",
      "519/519 [==============================] - 0s 77us/sample - loss: 2.0924 - val_loss: 1.3744\n",
      "Epoch 154/250\n",
      "519/519 [==============================] - 0s 73us/sample - loss: 1.8620 - val_loss: 1.3330\n",
      "Epoch 155/250\n"
     ]
    },
    {
     "name": "stdout",
     "output_type": "stream",
     "text": [
      "519/519 [==============================] - 0s 75us/sample - loss: 2.0544 - val_loss: 1.5309\n",
      "Epoch 156/250\n",
      "519/519 [==============================] - 0s 73us/sample - loss: 2.1247 - val_loss: 1.3001\n",
      "Epoch 157/250\n",
      "519/519 [==============================] - 0s 73us/sample - loss: 2.1612 - val_loss: 1.2920\n",
      "Epoch 158/250\n",
      "519/519 [==============================] - 0s 75us/sample - loss: 2.1903 - val_loss: 1.3836\n",
      "Epoch 159/250\n",
      "519/519 [==============================] - 0s 73us/sample - loss: 1.9996 - val_loss: 1.2187\n",
      "Epoch 160/250\n",
      "519/519 [==============================] - 0s 73us/sample - loss: 2.0589 - val_loss: 1.2464\n",
      "Epoch 161/250\n",
      "519/519 [==============================] - 0s 75us/sample - loss: 1.8779 - val_loss: 1.3046\n",
      "Epoch 162/250\n",
      "519/519 [==============================] - 0s 69us/sample - loss: 2.0002 - val_loss: 1.1745\n",
      "Epoch 163/250\n",
      "519/519 [==============================] - 0s 77us/sample - loss: 2.0618 - val_loss: 1.3056\n",
      "Epoch 164/250\n",
      "519/519 [==============================] - 0s 77us/sample - loss: 1.7820 - val_loss: 1.3767\n",
      "Epoch 165/250\n",
      "519/519 [==============================] - 0s 71us/sample - loss: 2.0796 - val_loss: 1.1321\n",
      "Epoch 166/250\n",
      "519/519 [==============================] - 0s 71us/sample - loss: 1.9891 - val_loss: 1.2685\n",
      "Epoch 167/250\n",
      "519/519 [==============================] - 0s 75us/sample - loss: 2.1812 - val_loss: 1.2903\n",
      "Epoch 168/250\n",
      "519/519 [==============================] - 0s 75us/sample - loss: 2.1585 - val_loss: 1.2528\n",
      "Epoch 169/250\n",
      "519/519 [==============================] - 0s 73us/sample - loss: 2.0778 - val_loss: 1.3569\n",
      "Epoch 170/250\n",
      "519/519 [==============================] - 0s 71us/sample - loss: 2.1240 - val_loss: 1.3925\n",
      "Epoch 171/250\n",
      "519/519 [==============================] - 0s 73us/sample - loss: 2.0800 - val_loss: 1.2303\n",
      "Epoch 172/250\n",
      "519/519 [==============================] - 0s 77us/sample - loss: 2.0440 - val_loss: 1.3091\n",
      "Epoch 173/250\n",
      "519/519 [==============================] - 0s 71us/sample - loss: 2.1160 - val_loss: 1.3100\n",
      "Epoch 174/250\n",
      "519/519 [==============================] - 0s 75us/sample - loss: 2.0333 - val_loss: 1.2479\n",
      "Epoch 175/250\n",
      "519/519 [==============================] - 0s 77us/sample - loss: 2.0472 - val_loss: 1.2296\n",
      "Epoch 176/250\n",
      "519/519 [==============================] - 0s 73us/sample - loss: 2.0994 - val_loss: 1.4491\n",
      "Epoch 177/250\n",
      "519/519 [==============================] - 0s 75us/sample - loss: 1.9326 - val_loss: 1.2595\n",
      "Epoch 178/250\n",
      "519/519 [==============================] - 0s 73us/sample - loss: 2.0047 - val_loss: 1.3056\n",
      "Epoch 179/250\n",
      "519/519 [==============================] - 0s 71us/sample - loss: 1.7673 - val_loss: 1.2301\n",
      "Epoch 180/250\n",
      "519/519 [==============================] - 0s 75us/sample - loss: 1.9545 - val_loss: 1.3937\n",
      "Epoch 181/250\n",
      "519/519 [==============================] - 0s 69us/sample - loss: 1.9983 - val_loss: 1.2955\n",
      "Epoch 182/250\n",
      "519/519 [==============================] - 0s 71us/sample - loss: 1.9911 - val_loss: 1.2076\n",
      "Epoch 183/250\n",
      "519/519 [==============================] - 0s 71us/sample - loss: 1.9914 - val_loss: 1.2997\n",
      "Epoch 184/250\n",
      "519/519 [==============================] - 0s 75us/sample - loss: 1.8991 - val_loss: 1.2212\n",
      "Epoch 185/250\n",
      "519/519 [==============================] - 0s 73us/sample - loss: 1.9918 - val_loss: 1.2238\n",
      "Epoch 186/250\n",
      "519/519 [==============================] - 0s 73us/sample - loss: 1.6342 - val_loss: 1.3034\n",
      "Epoch 187/250\n",
      "519/519 [==============================] - 0s 73us/sample - loss: 1.9245 - val_loss: 1.3445\n",
      "Epoch 188/250\n",
      "519/519 [==============================] - 0s 73us/sample - loss: 2.0432 - val_loss: 1.1836\n",
      "Epoch 189/250\n",
      "519/519 [==============================] - 0s 79us/sample - loss: 1.8541 - val_loss: 1.2323\n",
      "Epoch 190/250\n",
      "519/519 [==============================] - 0s 79us/sample - loss: 1.9457 - val_loss: 1.3303\n",
      "Epoch 191/250\n",
      "519/519 [==============================] - 0s 75us/sample - loss: 2.0454 - val_loss: 1.2816\n",
      "Epoch 192/250\n",
      "519/519 [==============================] - 0s 73us/sample - loss: 1.8411 - val_loss: 1.2491\n",
      "Epoch 193/250\n",
      "519/519 [==============================] - 0s 71us/sample - loss: 1.9598 - val_loss: 1.3280\n",
      "Epoch 194/250\n",
      "519/519 [==============================] - 0s 75us/sample - loss: 1.8674 - val_loss: 1.3189\n",
      "Epoch 195/250\n",
      "519/519 [==============================] - 0s 73us/sample - loss: 1.9493 - val_loss: 1.1860\n",
      "Epoch 196/250\n",
      "519/519 [==============================] - 0s 73us/sample - loss: 2.0421 - val_loss: 1.2164\n",
      "Epoch 197/250\n",
      "519/519 [==============================] - 0s 75us/sample - loss: 2.1606 - val_loss: 1.2669\n",
      "Epoch 198/250\n",
      "519/519 [==============================] - 0s 73us/sample - loss: 2.0084 - val_loss: 1.2249\n",
      "Epoch 199/250\n",
      "519/519 [==============================] - 0s 73us/sample - loss: 1.7030 - val_loss: 1.2087\n",
      "Epoch 200/250\n",
      "519/519 [==============================] - 0s 77us/sample - loss: 1.9279 - val_loss: 1.2013\n",
      "Epoch 201/250\n",
      "519/519 [==============================] - 0s 77us/sample - loss: 1.9856 - val_loss: 1.1412\n",
      "Epoch 202/250\n",
      "519/519 [==============================] - 0s 77us/sample - loss: 1.6509 - val_loss: 1.2700\n",
      "Epoch 203/250\n",
      "519/519 [==============================] - 0s 75us/sample - loss: 1.9756 - val_loss: 1.2068\n",
      "Epoch 204/250\n",
      "519/519 [==============================] - 0s 77us/sample - loss: 1.8442 - val_loss: 1.0956\n",
      "Epoch 205/250\n",
      "519/519 [==============================] - 0s 75us/sample - loss: 1.7906 - val_loss: 1.2575\n",
      "Epoch 206/250\n",
      "519/519 [==============================] - 0s 67us/sample - loss: 2.0175 - val_loss: 1.1421\n",
      "Epoch 207/250\n",
      "519/519 [==============================] - 0s 75us/sample - loss: 1.7610 - val_loss: 1.0810\n",
      "Epoch 208/250\n",
      "519/519 [==============================] - 0s 73us/sample - loss: 1.8995 - val_loss: 1.1932\n",
      "Epoch 209/250\n",
      "519/519 [==============================] - 0s 67us/sample - loss: 1.7363 - val_loss: 1.2648\n",
      "Epoch 210/250\n",
      "519/519 [==============================] - 0s 77us/sample - loss: 1.8703 - val_loss: 1.1910\n",
      "Epoch 211/250\n",
      "519/519 [==============================] - 0s 69us/sample - loss: 1.8124 - val_loss: 1.2268\n",
      "Epoch 212/250\n",
      "519/519 [==============================] - 0s 67us/sample - loss: 1.8577 - val_loss: 1.2573\n",
      "Epoch 213/250\n",
      "519/519 [==============================] - 0s 71us/sample - loss: 1.9032 - val_loss: 1.1131\n",
      "Epoch 214/250\n",
      "519/519 [==============================] - 0s 71us/sample - loss: 1.7714 - val_loss: 1.1491\n",
      "Epoch 215/250\n",
      "519/519 [==============================] - 0s 73us/sample - loss: 1.8540 - val_loss: 1.1783\n",
      "Epoch 216/250\n",
      "519/519 [==============================] - 0s 77us/sample - loss: 1.7391 - val_loss: 1.1941\n",
      "Epoch 217/250\n",
      "519/519 [==============================] - 0s 75us/sample - loss: 1.8912 - val_loss: 1.2853\n",
      "Epoch 218/250\n",
      "519/519 [==============================] - 0s 71us/sample - loss: 1.8648 - val_loss: 1.0939\n",
      "Epoch 219/250\n",
      "519/519 [==============================] - 0s 73us/sample - loss: 1.9227 - val_loss: 1.2401\n",
      "Epoch 220/250\n",
      "519/519 [==============================] - 0s 71us/sample - loss: 1.7970 - val_loss: 1.1931\n",
      "Epoch 221/250\n",
      "519/519 [==============================] - 0s 73us/sample - loss: 1.8285 - val_loss: 1.2331\n",
      "Epoch 222/250\n",
      "519/519 [==============================] - 0s 75us/sample - loss: 1.9127 - val_loss: 1.3394\n",
      "Epoch 223/250\n",
      "519/519 [==============================] - 0s 135us/sample - loss: 1.8827 - val_loss: 1.1615\n",
      "Epoch 224/250\n",
      "519/519 [==============================] - 0s 89us/sample - loss: 1.7658 - val_loss: 1.1257\n",
      "Epoch 225/250\n",
      "519/519 [==============================] - 0s 77us/sample - loss: 1.8496 - val_loss: 1.2196\n",
      "Epoch 226/250\n",
      "519/519 [==============================] - 0s 83us/sample - loss: 1.9121 - val_loss: 1.1967\n",
      "Epoch 227/250\n",
      "519/519 [==============================] - 0s 73us/sample - loss: 1.8805 - val_loss: 1.1104\n",
      "Epoch 228/250\n",
      "519/519 [==============================] - 0s 75us/sample - loss: 1.8849 - val_loss: 1.1270\n",
      "Epoch 229/250\n",
      "519/519 [==============================] - 0s 73us/sample - loss: 1.8259 - val_loss: 1.2200\n",
      "Epoch 230/250\n",
      "519/519 [==============================] - 0s 75us/sample - loss: 1.8561 - val_loss: 1.1543\n",
      "Epoch 231/250\n",
      "519/519 [==============================] - 0s 91us/sample - loss: 1.8521 - val_loss: 1.1743\n",
      "Epoch 232/250\n"
     ]
    },
    {
     "name": "stdout",
     "output_type": "stream",
     "text": [
      "519/519 [==============================] - 0s 127us/sample - loss: 1.9600 - val_loss: 1.1504\n",
      "Epoch 233/250\n",
      "519/519 [==============================] - 0s 106us/sample - loss: 1.9028 - val_loss: 1.1578\n",
      "Epoch 234/250\n",
      "519/519 [==============================] - 0s 92us/sample - loss: 1.8491 - val_loss: 1.0529\n",
      "Epoch 235/250\n",
      "519/519 [==============================] - 0s 75us/sample - loss: 1.7746 - val_loss: 1.0729\n",
      "Epoch 236/250\n",
      "519/519 [==============================] - 0s 79us/sample - loss: 1.6954 - val_loss: 1.2042\n",
      "Epoch 237/250\n",
      "519/519 [==============================] - 0s 69us/sample - loss: 1.8484 - val_loss: 1.1547\n",
      "Epoch 238/250\n",
      "519/519 [==============================] - 0s 73us/sample - loss: 1.6340 - val_loss: 1.1823\n",
      "Epoch 239/250\n",
      "519/519 [==============================] - 0s 75us/sample - loss: 1.8223 - val_loss: 1.1174\n",
      "Epoch 240/250\n",
      "519/519 [==============================] - 0s 71us/sample - loss: 1.7087 - val_loss: 1.1423\n",
      "Epoch 241/250\n",
      "519/519 [==============================] - 0s 73us/sample - loss: 1.8312 - val_loss: 1.0311\n",
      "Epoch 242/250\n",
      "519/519 [==============================] - 0s 71us/sample - loss: 1.8329 - val_loss: 1.0648\n",
      "Epoch 243/250\n",
      "519/519 [==============================] - 0s 73us/sample - loss: 1.7576 - val_loss: 1.1737\n",
      "Epoch 244/250\n",
      "519/519 [==============================] - 0s 71us/sample - loss: 1.5960 - val_loss: 1.0875\n",
      "Epoch 245/250\n",
      "519/519 [==============================] - 0s 69us/sample - loss: 1.5739 - val_loss: 1.2413\n",
      "Epoch 246/250\n",
      "519/519 [==============================] - 0s 71us/sample - loss: 1.9324 - val_loss: 1.2705\n",
      "Epoch 247/250\n",
      "519/519 [==============================] - 0s 71us/sample - loss: 1.7874 - val_loss: 1.0998\n",
      "Epoch 248/250\n",
      "519/519 [==============================] - 0s 73us/sample - loss: 1.7329 - val_loss: 1.0131\n",
      "Epoch 249/250\n",
      "519/519 [==============================] - 0s 73us/sample - loss: 1.8316 - val_loss: 1.1483\n",
      "Epoch 250/250\n",
      "519/519 [==============================] - 0s 77us/sample - loss: 1.6805 - val_loss: 1.2421\n"
     ]
    },
    {
     "data": {
      "text/plain": [
       "<tensorflow.python.keras.callbacks.History at 0x1cbdf671b48>"
      ]
     },
     "execution_count": 46,
     "metadata": {},
     "output_type": "execute_result"
    }
   ],
   "source": [
    "model = Sequential()\n",
    "\n",
    "model.add(Dense(32,activation = 'relu'))\n",
    "model.add(Dropout(0.25))\n",
    "model.add(Dense(32,activation = 'relu'))\n",
    "model.add(Dropout(0.25))\n",
    "model.add(Dense(32,activation = 'relu'))\n",
    "model.add(Dropout(0.25))\n",
    "model.add(Dense(32,activation = 'relu'))\n",
    "model.add(Dropout(0.25))\n",
    "model.add(Dense(1))\n",
    "\n",
    "model.compile(optimizer = 'adam',loss = 'mse')\n",
    "\n",
    "model.fit(X_train,y_train,validation_data = (X_base,y_base),batch_size = 64,epochs = 250)"
   ]
  },
  {
   "cell_type": "code",
   "execution_count": 47,
   "metadata": {},
   "outputs": [],
   "source": [
    "y_pred_nn_meta = model.predict(X_meta)\n",
    "y_pred_nn_test = model.predict(X_test)"
   ]
  },
  {
   "cell_type": "code",
   "execution_count": 48,
   "metadata": {},
   "outputs": [
    {
     "data": {
      "text/html": [
       "<div>\n",
       "<style scoped>\n",
       "    .dataframe tbody tr th:only-of-type {\n",
       "        vertical-align: middle;\n",
       "    }\n",
       "\n",
       "    .dataframe tbody tr th {\n",
       "        vertical-align: top;\n",
       "    }\n",
       "\n",
       "    .dataframe thead th {\n",
       "        text-align: right;\n",
       "    }\n",
       "</style>\n",
       "<table border=\"1\" class=\"dataframe\">\n",
       "  <thead>\n",
       "    <tr style=\"text-align: right;\">\n",
       "      <th></th>\n",
       "      <th>y_pred_dt_meta</th>\n",
       "      <th>y_pred_rf_meta</th>\n",
       "      <th>y_pred_xgb_meta</th>\n",
       "      <th>y_pred_nn_meta</th>\n",
       "    </tr>\n",
       "  </thead>\n",
       "  <tbody>\n",
       "    <tr>\n",
       "      <th>0</th>\n",
       "      <td>4.086957</td>\n",
       "      <td>4.41</td>\n",
       "      <td>4.782370</td>\n",
       "      <td>4.604975</td>\n",
       "    </tr>\n",
       "    <tr>\n",
       "      <th>1</th>\n",
       "      <td>6.387097</td>\n",
       "      <td>5.49</td>\n",
       "      <td>6.196898</td>\n",
       "      <td>5.377777</td>\n",
       "    </tr>\n",
       "    <tr>\n",
       "      <th>2</th>\n",
       "      <td>4.086957</td>\n",
       "      <td>4.64</td>\n",
       "      <td>4.797829</td>\n",
       "      <td>4.579110</td>\n",
       "    </tr>\n",
       "    <tr>\n",
       "      <th>3</th>\n",
       "      <td>7.300000</td>\n",
       "      <td>7.46</td>\n",
       "      <td>6.970843</td>\n",
       "      <td>6.427069</td>\n",
       "    </tr>\n",
       "    <tr>\n",
       "      <th>4</th>\n",
       "      <td>7.086957</td>\n",
       "      <td>7.09</td>\n",
       "      <td>6.949707</td>\n",
       "      <td>6.608366</td>\n",
       "    </tr>\n",
       "  </tbody>\n",
       "</table>\n",
       "</div>"
      ],
      "text/plain": [
       "   y_pred_dt_meta  y_pred_rf_meta  y_pred_xgb_meta  y_pred_nn_meta\n",
       "0        4.086957            4.41         4.782370        4.604975\n",
       "1        6.387097            5.49         6.196898        5.377777\n",
       "2        4.086957            4.64         4.797829        4.579110\n",
       "3        7.300000            7.46         6.970843        6.427069\n",
       "4        7.086957            7.09         6.949707        6.608366"
      ]
     },
     "execution_count": 48,
     "metadata": {},
     "output_type": "execute_result"
    }
   ],
   "source": [
    "y_pred_dt_meta = pd.DataFrame(y_pred_dt_meta)\n",
    "y_pred_rf_meta = pd.DataFrame(y_pred_rf_meta)\n",
    "y_pred_xgb_meta = pd.DataFrame(y_pred_xgb_meta)\n",
    "y_pred_nn_meta = pd.DataFrame(y_pred_nn_meta)\n",
    "\n",
    "df_X_meta = pd.concat([y_pred_dt_meta,y_pred_rf_meta,y_pred_xgb_meta,y_pred_nn_meta],axis = 1)\n",
    "df_X_meta.columns = ['y_pred_dt_meta','y_pred_rf_meta','y_pred_xgb_meta','y_pred_nn_meta']\n",
    "\n",
    "df_X_meta.head()"
   ]
  },
  {
   "cell_type": "code",
   "execution_count": 49,
   "metadata": {
    "scrolled": false
   },
   "outputs": [
    {
     "data": {
      "text/html": [
       "<div>\n",
       "<style scoped>\n",
       "    .dataframe tbody tr th:only-of-type {\n",
       "        vertical-align: middle;\n",
       "    }\n",
       "\n",
       "    .dataframe tbody tr th {\n",
       "        vertical-align: top;\n",
       "    }\n",
       "\n",
       "    .dataframe thead th {\n",
       "        text-align: right;\n",
       "    }\n",
       "</style>\n",
       "<table border=\"1\" class=\"dataframe\">\n",
       "  <thead>\n",
       "    <tr style=\"text-align: right;\">\n",
       "      <th></th>\n",
       "      <th>y_pred_dt_test</th>\n",
       "      <th>y_pred_rf_test</th>\n",
       "      <th>y_pred_xgb_test</th>\n",
       "      <th>y_pred_nn_test</th>\n",
       "    </tr>\n",
       "  </thead>\n",
       "  <tbody>\n",
       "    <tr>\n",
       "      <th>0</th>\n",
       "      <td>6.162162</td>\n",
       "      <td>7.26</td>\n",
       "      <td>6.664552</td>\n",
       "      <td>6.772660</td>\n",
       "    </tr>\n",
       "    <tr>\n",
       "      <th>1</th>\n",
       "      <td>5.793103</td>\n",
       "      <td>6.75</td>\n",
       "      <td>6.452752</td>\n",
       "      <td>6.300705</td>\n",
       "    </tr>\n",
       "    <tr>\n",
       "      <th>2</th>\n",
       "      <td>6.162162</td>\n",
       "      <td>7.00</td>\n",
       "      <td>6.644414</td>\n",
       "      <td>6.787828</td>\n",
       "    </tr>\n",
       "    <tr>\n",
       "      <th>3</th>\n",
       "      <td>6.162162</td>\n",
       "      <td>6.85</td>\n",
       "      <td>6.664552</td>\n",
       "      <td>6.057930</td>\n",
       "    </tr>\n",
       "    <tr>\n",
       "      <th>4</th>\n",
       "      <td>5.793103</td>\n",
       "      <td>5.68</td>\n",
       "      <td>5.517056</td>\n",
       "      <td>5.581738</td>\n",
       "    </tr>\n",
       "  </tbody>\n",
       "</table>\n",
       "</div>"
      ],
      "text/plain": [
       "   y_pred_dt_test  y_pred_rf_test  y_pred_xgb_test  y_pred_nn_test\n",
       "0        6.162162            7.26         6.664552        6.772660\n",
       "1        5.793103            6.75         6.452752        6.300705\n",
       "2        6.162162            7.00         6.644414        6.787828\n",
       "3        6.162162            6.85         6.664552        6.057930\n",
       "4        5.793103            5.68         5.517056        5.581738"
      ]
     },
     "execution_count": 49,
     "metadata": {},
     "output_type": "execute_result"
    }
   ],
   "source": [
    "y_pred_dt_test = pd.DataFrame(y_pred_dt_test)\n",
    "y_pred_rf_test = pd.DataFrame(y_pred_rf_test)\n",
    "y_pred_xgb_test = pd.DataFrame(y_pred_xgb_test)\n",
    "y_pred_nn_test = pd.DataFrame(y_pred_nn_test)\n",
    "\n",
    "df_X_test = pd.concat([y_pred_dt_test,y_pred_rf_test,y_pred_xgb_test,y_pred_nn_test],axis = 1)\n",
    "df_X_test.columns = ['y_pred_dt_test','y_pred_rf_test','y_pred_xgb_test','y_pred_nn_test']\n",
    "\n",
    "df_X_test.head()"
   ]
  },
  {
   "cell_type": "markdown",
   "metadata": {},
   "source": [
    "### Meta Model "
   ]
  },
  {
   "cell_type": "code",
   "execution_count": 50,
   "metadata": {},
   "outputs": [],
   "source": [
    "model = LinearRegression()\n",
    "model.fit(df_X_meta,y_meta)\n",
    "\n",
    "y_pred_test = model.predict(df_X_test)"
   ]
  },
  {
   "cell_type": "code",
   "execution_count": 51,
   "metadata": {},
   "outputs": [
    {
     "data": {
      "text/html": [
       "<div>\n",
       "<style scoped>\n",
       "    .dataframe tbody tr th:only-of-type {\n",
       "        vertical-align: middle;\n",
       "    }\n",
       "\n",
       "    .dataframe tbody tr th {\n",
       "        vertical-align: top;\n",
       "    }\n",
       "\n",
       "    .dataframe thead th {\n",
       "        text-align: right;\n",
       "    }\n",
       "</style>\n",
       "<table border=\"1\" class=\"dataframe\">\n",
       "  <thead>\n",
       "    <tr style=\"text-align: right;\">\n",
       "      <th></th>\n",
       "      <th>y_pred_test</th>\n",
       "      <th>y_test</th>\n",
       "    </tr>\n",
       "  </thead>\n",
       "  <tbody>\n",
       "    <tr>\n",
       "      <th>0</th>\n",
       "      <td>7.906614</td>\n",
       "      <td>10</td>\n",
       "    </tr>\n",
       "    <tr>\n",
       "      <th>1</th>\n",
       "      <td>7.192846</td>\n",
       "      <td>6</td>\n",
       "    </tr>\n",
       "    <tr>\n",
       "      <th>2</th>\n",
       "      <td>7.927483</td>\n",
       "      <td>9</td>\n",
       "    </tr>\n",
       "    <tr>\n",
       "      <th>3</th>\n",
       "      <td>6.781707</td>\n",
       "      <td>6</td>\n",
       "    </tr>\n",
       "    <tr>\n",
       "      <th>4</th>\n",
       "      <td>6.170903</td>\n",
       "      <td>6</td>\n",
       "    </tr>\n",
       "  </tbody>\n",
       "</table>\n",
       "</div>"
      ],
      "text/plain": [
       "   y_pred_test  y_test\n",
       "0     7.906614      10\n",
       "1     7.192846       6\n",
       "2     7.927483       9\n",
       "3     6.781707       6\n",
       "4     6.170903       6"
      ]
     },
     "execution_count": 51,
     "metadata": {},
     "output_type": "execute_result"
    }
   ],
   "source": [
    "y_pred_test = pd.DataFrame(y_pred_test)\n",
    "\n",
    "df_temp = pd.concat([y_pred_test,y_test],axis = 1)\n",
    "df_temp.columns = ['y_pred_test','y_test']\n",
    "\n",
    "df_temp.head()"
   ]
  },
  {
   "cell_type": "code",
   "execution_count": 52,
   "metadata": {},
   "outputs": [
    {
     "data": {
      "image/png": "[encoded data removed]",
      "text/plain": [
       "<Figure size 432x288 with 1 Axes>"
      ]
     },
     "metadata": {
      "needs_background": "light"
     },
     "output_type": "display_data"
    }
   ],
   "source": [
    "plt.scatter(df_temp['y_test'],df_temp['y_pred_test'])\n",
    "plt.xlabel('y_test',fontsize = 14)\n",
    "plt.ylabel('y_pred_test',fontsize = 14)\n",
    "plt.xlim(0,10)\n",
    "plt.ylim(0,10)\n",
    "y_lim = plt.ylim()\n",
    "x_lim = plt.xlim()\n",
    "plt.xticks(list(range(0,11)))\n",
    "plt.yticks(list(range(0,11)))\n",
    "plt.grid()\n",
    "plt.plot(x_lim,y_lim,color = 'g',linewidth = 5);"
   ]
  },
  {
   "cell_type": "code",
   "execution_count": 53,
   "metadata": {},
   "outputs": [
    {
     "data": {
      "text/plain": [
       "1.338509667138289"
      ]
     },
     "execution_count": 53,
     "metadata": {},
     "output_type": "execute_result"
    }
   ],
   "source": [
    "rmse(y_pred_test,y_test)"
   ]
  },
  {
   "cell_type": "code",
   "execution_count": 54,
   "metadata": {},
   "outputs": [
    {
     "data": {
      "text/plain": [
       "1.0339864685610176"
      ]
     },
     "execution_count": 54,
     "metadata": {},
     "output_type": "execute_result"
    }
   ],
   "source": [
    "mean_absolute_error(y_pred_test,y_test)"
   ]
  }
 ],
 "metadata": {
  "kernelspec": {
   "display_name": "Python 3",
   "language": "python",
   "name": "python3"
  },
  "language_info": {
   "codemirror_mode": {
    "name": "ipython",
    "version": 3
   },
   "file_extension": ".py",
   "mimetype": "text/x-python",
   "name": "python",
   "nbconvert_exporter": "python",
   "pygments_lexer": "ipython3",
   "version": "3.7.7"
  }
 },
 "nbformat": 4,
 "nbformat_minor": 4
}
