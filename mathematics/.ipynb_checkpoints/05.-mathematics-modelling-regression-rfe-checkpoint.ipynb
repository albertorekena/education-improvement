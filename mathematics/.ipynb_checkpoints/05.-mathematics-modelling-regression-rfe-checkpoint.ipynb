{
 "cells": [
  {
   "cell_type": "code",
   "execution_count": 1,
   "metadata": {},
   "outputs": [],
   "source": [
    "import numpy as np\n",
    "import pandas as pd\n",
    "\n",
    "import matplotlib.pyplot as plt\n",
    "import seaborn as sns\n",
    "%matplotlib inline\n",
    "\n",
    "from sklearn.preprocessing import MinMaxScaler\n",
    "\n",
    "from sklearn.model_selection import train_test_split\n",
    "from sklearn.model_selection import GridSearchCV\n",
    "\n",
    "from sklearn.linear_model import LinearRegression\n",
    "from sklearn.tree import DecisionTreeRegressor\n",
    "from sklearn.ensemble import RandomForestRegressor\n",
    "import xgboost\n",
    "import tensorflow as tf\n",
    "from tensorflow.keras.models import Sequential\n",
    "from tensorflow.keras.layers import Dense,Dropout\n",
    "\n",
    "from sklearn.metrics import make_scorer,mean_squared_error,mean_absolute_error\n",
    "\n",
    "import warnings\n",
    "warnings.filterwarnings('ignore')\n",
    "\n",
    "pd.set_option('display.max_columns',100)\n",
    "pd.set_option('display.max_rows',1000)"
   ]
  },
  {
   "cell_type": "code",
   "execution_count": 2,
   "metadata": {},
   "outputs": [
    {
     "data": {
      "text/html": [
       "<div>\n",
       "<style scoped>\n",
       "    .dataframe tbody tr th:only-of-type {\n",
       "        vertical-align: middle;\n",
       "    }\n",
       "\n",
       "    .dataframe tbody tr th {\n",
       "        vertical-align: top;\n",
       "    }\n",
       "\n",
       "    .dataframe thead th {\n",
       "        text-align: right;\n",
       "    }\n",
       "</style>\n",
       "<table border=\"1\" class=\"dataframe\">\n",
       "  <thead>\n",
       "    <tr style=\"text-align: right;\">\n",
       "      <th></th>\n",
       "      <th>sex</th>\n",
       "      <th>address</th>\n",
       "      <th>famsize</th>\n",
       "      <th>Pstatus</th>\n",
       "      <th>Medu</th>\n",
       "      <th>Fedu</th>\n",
       "      <th>studytime</th>\n",
       "      <th>schoolsup</th>\n",
       "      <th>famsup</th>\n",
       "      <th>paid</th>\n",
       "      <th>higher</th>\n",
       "      <th>internet</th>\n",
       "      <th>romantic</th>\n",
       "      <th>goout</th>\n",
       "      <th>health</th>\n",
       "      <th>Mjob_at_home</th>\n",
       "      <th>Mjob_health</th>\n",
       "      <th>Mjob_other</th>\n",
       "      <th>Mjob_services</th>\n",
       "      <th>Mjob_teacher</th>\n",
       "      <th>Fjob_at_home</th>\n",
       "      <th>Fjob_health</th>\n",
       "      <th>Fjob_other</th>\n",
       "      <th>Fjob_services</th>\n",
       "      <th>Fjob_teacher</th>\n",
       "      <th>reason_course</th>\n",
       "      <th>reason_home</th>\n",
       "      <th>reason_other</th>\n",
       "      <th>reason_reputation</th>\n",
       "      <th>guardian_father</th>\n",
       "      <th>guardian_mother</th>\n",
       "      <th>guardian_other</th>\n",
       "      <th>G3</th>\n",
       "    </tr>\n",
       "  </thead>\n",
       "  <tbody>\n",
       "    <tr>\n",
       "      <th>0</th>\n",
       "      <td>1</td>\n",
       "      <td>1</td>\n",
       "      <td>1</td>\n",
       "      <td>0</td>\n",
       "      <td>4</td>\n",
       "      <td>4</td>\n",
       "      <td>2</td>\n",
       "      <td>1</td>\n",
       "      <td>0</td>\n",
       "      <td>0</td>\n",
       "      <td>1</td>\n",
       "      <td>0</td>\n",
       "      <td>0</td>\n",
       "      <td>4</td>\n",
       "      <td>3</td>\n",
       "      <td>1</td>\n",
       "      <td>0</td>\n",
       "      <td>0</td>\n",
       "      <td>0</td>\n",
       "      <td>0</td>\n",
       "      <td>0</td>\n",
       "      <td>0</td>\n",
       "      <td>0</td>\n",
       "      <td>0</td>\n",
       "      <td>1</td>\n",
       "      <td>1</td>\n",
       "      <td>0</td>\n",
       "      <td>0</td>\n",
       "      <td>0</td>\n",
       "      <td>0</td>\n",
       "      <td>1</td>\n",
       "      <td>0</td>\n",
       "      <td>2</td>\n",
       "    </tr>\n",
       "    <tr>\n",
       "      <th>1</th>\n",
       "      <td>1</td>\n",
       "      <td>1</td>\n",
       "      <td>1</td>\n",
       "      <td>1</td>\n",
       "      <td>1</td>\n",
       "      <td>1</td>\n",
       "      <td>2</td>\n",
       "      <td>0</td>\n",
       "      <td>1</td>\n",
       "      <td>0</td>\n",
       "      <td>1</td>\n",
       "      <td>1</td>\n",
       "      <td>0</td>\n",
       "      <td>3</td>\n",
       "      <td>3</td>\n",
       "      <td>1</td>\n",
       "      <td>0</td>\n",
       "      <td>0</td>\n",
       "      <td>0</td>\n",
       "      <td>0</td>\n",
       "      <td>0</td>\n",
       "      <td>0</td>\n",
       "      <td>1</td>\n",
       "      <td>0</td>\n",
       "      <td>0</td>\n",
       "      <td>1</td>\n",
       "      <td>0</td>\n",
       "      <td>0</td>\n",
       "      <td>0</td>\n",
       "      <td>1</td>\n",
       "      <td>0</td>\n",
       "      <td>0</td>\n",
       "      <td>2</td>\n",
       "    </tr>\n",
       "    <tr>\n",
       "      <th>2</th>\n",
       "      <td>1</td>\n",
       "      <td>1</td>\n",
       "      <td>0</td>\n",
       "      <td>1</td>\n",
       "      <td>1</td>\n",
       "      <td>1</td>\n",
       "      <td>2</td>\n",
       "      <td>1</td>\n",
       "      <td>0</td>\n",
       "      <td>1</td>\n",
       "      <td>1</td>\n",
       "      <td>1</td>\n",
       "      <td>0</td>\n",
       "      <td>2</td>\n",
       "      <td>3</td>\n",
       "      <td>1</td>\n",
       "      <td>0</td>\n",
       "      <td>0</td>\n",
       "      <td>0</td>\n",
       "      <td>0</td>\n",
       "      <td>0</td>\n",
       "      <td>0</td>\n",
       "      <td>1</td>\n",
       "      <td>0</td>\n",
       "      <td>0</td>\n",
       "      <td>0</td>\n",
       "      <td>0</td>\n",
       "      <td>1</td>\n",
       "      <td>0</td>\n",
       "      <td>0</td>\n",
       "      <td>1</td>\n",
       "      <td>0</td>\n",
       "      <td>3</td>\n",
       "    </tr>\n",
       "    <tr>\n",
       "      <th>3</th>\n",
       "      <td>1</td>\n",
       "      <td>1</td>\n",
       "      <td>1</td>\n",
       "      <td>1</td>\n",
       "      <td>4</td>\n",
       "      <td>2</td>\n",
       "      <td>3</td>\n",
       "      <td>0</td>\n",
       "      <td>1</td>\n",
       "      <td>1</td>\n",
       "      <td>1</td>\n",
       "      <td>1</td>\n",
       "      <td>1</td>\n",
       "      <td>2</td>\n",
       "      <td>5</td>\n",
       "      <td>0</td>\n",
       "      <td>1</td>\n",
       "      <td>0</td>\n",
       "      <td>0</td>\n",
       "      <td>0</td>\n",
       "      <td>0</td>\n",
       "      <td>0</td>\n",
       "      <td>0</td>\n",
       "      <td>1</td>\n",
       "      <td>0</td>\n",
       "      <td>0</td>\n",
       "      <td>1</td>\n",
       "      <td>0</td>\n",
       "      <td>0</td>\n",
       "      <td>0</td>\n",
       "      <td>1</td>\n",
       "      <td>0</td>\n",
       "      <td>4</td>\n",
       "    </tr>\n",
       "    <tr>\n",
       "      <th>4</th>\n",
       "      <td>1</td>\n",
       "      <td>1</td>\n",
       "      <td>1</td>\n",
       "      <td>1</td>\n",
       "      <td>3</td>\n",
       "      <td>3</td>\n",
       "      <td>2</td>\n",
       "      <td>0</td>\n",
       "      <td>1</td>\n",
       "      <td>1</td>\n",
       "      <td>1</td>\n",
       "      <td>0</td>\n",
       "      <td>0</td>\n",
       "      <td>2</td>\n",
       "      <td>5</td>\n",
       "      <td>0</td>\n",
       "      <td>0</td>\n",
       "      <td>1</td>\n",
       "      <td>0</td>\n",
       "      <td>0</td>\n",
       "      <td>0</td>\n",
       "      <td>0</td>\n",
       "      <td>1</td>\n",
       "      <td>0</td>\n",
       "      <td>0</td>\n",
       "      <td>0</td>\n",
       "      <td>1</td>\n",
       "      <td>0</td>\n",
       "      <td>0</td>\n",
       "      <td>1</td>\n",
       "      <td>0</td>\n",
       "      <td>0</td>\n",
       "      <td>3</td>\n",
       "    </tr>\n",
       "  </tbody>\n",
       "</table>\n",
       "</div>"
      ],
      "text/plain": [
       "   sex  address  famsize  Pstatus  Medu  Fedu  studytime  schoolsup  famsup  \\\n",
       "0    1        1        1        0     4     4          2          1       0   \n",
       "1    1        1        1        1     1     1          2          0       1   \n",
       "2    1        1        0        1     1     1          2          1       0   \n",
       "3    1        1        1        1     4     2          3          0       1   \n",
       "4    1        1        1        1     3     3          2          0       1   \n",
       "\n",
       "   paid  higher  internet  romantic  goout  health  Mjob_at_home  Mjob_health  \\\n",
       "0     0       1         0         0      4       3             1            0   \n",
       "1     0       1         1         0      3       3             1            0   \n",
       "2     1       1         1         0      2       3             1            0   \n",
       "3     1       1         1         1      2       5             0            1   \n",
       "4     1       1         0         0      2       5             0            0   \n",
       "\n",
       "   Mjob_other  Mjob_services  Mjob_teacher  Fjob_at_home  Fjob_health  \\\n",
       "0           0              0             0             0            0   \n",
       "1           0              0             0             0            0   \n",
       "2           0              0             0             0            0   \n",
       "3           0              0             0             0            0   \n",
       "4           1              0             0             0            0   \n",
       "\n",
       "   Fjob_other  Fjob_services  Fjob_teacher  reason_course  reason_home  \\\n",
       "0           0              0             1              1            0   \n",
       "1           1              0             0              1            0   \n",
       "2           1              0             0              0            0   \n",
       "3           0              1             0              0            1   \n",
       "4           1              0             0              0            1   \n",
       "\n",
       "   reason_other  reason_reputation  guardian_father  guardian_mother  \\\n",
       "0             0                  0                0                1   \n",
       "1             0                  0                1                0   \n",
       "2             1                  0                0                1   \n",
       "3             0                  0                0                1   \n",
       "4             0                  0                1                0   \n",
       "\n",
       "   guardian_other  G3  \n",
       "0               0   2  \n",
       "1               0   2  \n",
       "2               0   3  \n",
       "3               0   4  \n",
       "4               0   3  "
      ]
     },
     "execution_count": 2,
     "metadata": {},
     "output_type": "execute_result"
    }
   ],
   "source": [
    "df_mat = pd.read_pickle('df_mat-modelling-RFE-range_G3_5-repaired_G3_0_values.pkl')\n",
    "\n",
    "df_mat.head()"
   ]
  },
  {
   "cell_type": "code",
   "execution_count": 3,
   "metadata": {},
   "outputs": [
    {
     "data": {
      "text/plain": [
       "(395, 33)"
      ]
     },
     "execution_count": 3,
     "metadata": {},
     "output_type": "execute_result"
    }
   ],
   "source": [
    "df_mat.shape"
   ]
  },
  {
   "cell_type": "code",
   "execution_count": 4,
   "metadata": {},
   "outputs": [],
   "source": [
    "X = np.array(df_mat.drop('G3',axis = 1))\n",
    "y = np.array(df_mat['G3'])"
   ]
  },
  {
   "cell_type": "code",
   "execution_count": 5,
   "metadata": {},
   "outputs": [],
   "source": [
    "X_train,X_test,y_train,y_test = train_test_split(X,y,test_size = 0.2,random_state = 42)"
   ]
  },
  {
   "cell_type": "markdown",
   "metadata": {},
   "source": [
    "## Linear Regression "
   ]
  },
  {
   "cell_type": "code",
   "execution_count": 6,
   "metadata": {},
   "outputs": [
    {
     "data": {
      "text/plain": [
       "LinearRegression(copy_X=True, fit_intercept=True, n_jobs=None, normalize=False)"
      ]
     },
     "execution_count": 6,
     "metadata": {},
     "output_type": "execute_result"
    }
   ],
   "source": [
    "model = LinearRegression()\n",
    "model.fit(X_train,y_train)"
   ]
  },
  {
   "cell_type": "code",
   "execution_count": 7,
   "metadata": {},
   "outputs": [],
   "source": [
    "y_pred = model.predict(X_test)"
   ]
  },
  {
   "cell_type": "code",
   "execution_count": 8,
   "metadata": {},
   "outputs": [
    {
     "data": {
      "text/html": [
       "<div>\n",
       "<style scoped>\n",
       "    .dataframe tbody tr th:only-of-type {\n",
       "        vertical-align: middle;\n",
       "    }\n",
       "\n",
       "    .dataframe tbody tr th {\n",
       "        vertical-align: top;\n",
       "    }\n",
       "\n",
       "    .dataframe thead th {\n",
       "        text-align: right;\n",
       "    }\n",
       "</style>\n",
       "<table border=\"1\" class=\"dataframe\">\n",
       "  <thead>\n",
       "    <tr style=\"text-align: right;\">\n",
       "      <th></th>\n",
       "      <th>y_pred</th>\n",
       "      <th>y_test</th>\n",
       "    </tr>\n",
       "  </thead>\n",
       "  <tbody>\n",
       "    <tr>\n",
       "      <th>0</th>\n",
       "      <td>2.157227</td>\n",
       "      <td>3</td>\n",
       "    </tr>\n",
       "    <tr>\n",
       "      <th>1</th>\n",
       "      <td>2.296875</td>\n",
       "      <td>3</td>\n",
       "    </tr>\n",
       "    <tr>\n",
       "      <th>2</th>\n",
       "      <td>2.781250</td>\n",
       "      <td>2</td>\n",
       "    </tr>\n",
       "    <tr>\n",
       "      <th>3</th>\n",
       "      <td>3.165039</td>\n",
       "      <td>3</td>\n",
       "    </tr>\n",
       "    <tr>\n",
       "      <th>4</th>\n",
       "      <td>3.097656</td>\n",
       "      <td>3</td>\n",
       "    </tr>\n",
       "  </tbody>\n",
       "</table>\n",
       "</div>"
      ],
      "text/plain": [
       "     y_pred  y_test\n",
       "0  2.157227       3\n",
       "1  2.296875       3\n",
       "2  2.781250       2\n",
       "3  3.165039       3\n",
       "4  3.097656       3"
      ]
     },
     "execution_count": 8,
     "metadata": {},
     "output_type": "execute_result"
    }
   ],
   "source": [
    "y_test = pd.DataFrame(y_test)\n",
    "y_pred = pd.DataFrame(y_pred)\n",
    "\n",
    "df_temp = pd.concat([y_pred,y_test],axis = 1)\n",
    "df_temp.columns = ['y_pred','y_test']\n",
    "\n",
    "df_temp.head()"
   ]
  },
  {
   "cell_type": "code",
   "execution_count": 9,
   "metadata": {
    "scrolled": true
   },
   "outputs": [
    {
     "data": {
      "image/png": "[encoded data removed]",
      "text/plain": [
       "<Figure size 432x288 with 1 Axes>"
      ]
     },
     "metadata": {
      "needs_background": "light"
     },
     "output_type": "display_data"
    }
   ],
   "source": [
    "plt.scatter(df_temp['y_test'],df_temp['y_pred'])\n",
    "plt.xlabel('y_test',fontsize = 14)\n",
    "plt.ylabel('y_pred',fontsize = 14)\n",
    "plt.xlim(0,6)\n",
    "plt.ylim(0,6)\n",
    "plt.xticks(list(range(0,6)))\n",
    "plt.yticks(list(range(0,6)))\n",
    "plt.grid()\n",
    "y_lim = plt.ylim()\n",
    "x_lim = plt.xlim()\n",
    "plt.plot(x_lim,y_lim,color = 'g',linewidth = 0.5);"
   ]
  },
  {
   "cell_type": "code",
   "execution_count": 10,
   "metadata": {},
   "outputs": [],
   "source": [
    "def rmse(y_true,y_pred):\n",
    "    return np.sqrt(mean_squared_error(y_true,y_pred))"
   ]
  },
  {
   "cell_type": "code",
   "execution_count": 11,
   "metadata": {},
   "outputs": [
    {
     "data": {
      "text/plain": [
       "0.8281586364372684"
      ]
     },
     "execution_count": 11,
     "metadata": {},
     "output_type": "execute_result"
    }
   ],
   "source": [
    "rmse(y_pred,y_test)"
   ]
  },
  {
   "cell_type": "markdown",
   "metadata": {},
   "source": [
    "## Decision Tree Regression"
   ]
  },
  {
   "cell_type": "code",
   "execution_count": 12,
   "metadata": {},
   "outputs": [],
   "source": [
    "rmse_scorer = make_scorer(rmse,greater_is_better = False)"
   ]
  },
  {
   "cell_type": "code",
   "execution_count": 13,
   "metadata": {
    "scrolled": false
   },
   "outputs": [
    {
     "data": {
      "text/plain": [
       "GridSearchCV(cv=5, error_score=nan,\n",
       "             estimator=DecisionTreeRegressor(ccp_alpha=0.0, criterion='mse',\n",
       "                                             max_depth=None, max_features=None,\n",
       "                                             max_leaf_nodes=None,\n",
       "                                             min_impurity_decrease=0.0,\n",
       "                                             min_impurity_split=None,\n",
       "                                             min_samples_leaf=1,\n",
       "                                             min_samples_split=2,\n",
       "                                             min_weight_fraction_leaf=0.0,\n",
       "                                             presort='deprecated',\n",
       "                                             random_state=None,\n",
       "                                             splitter='best'),\n",
       "             iid='deprecated', n_jobs=None,\n",
       "             param_grid={'max_depth': [1, 2, 5, 10, 20, 30, 50],\n",
       "                         'min_samples_leaf': [1, 5, 10, 20, 50, 100]},\n",
       "             pre_dispatch='2*n_jobs', refit=True, return_train_score=False,\n",
       "             scoring=make_scorer(rmse, greater_is_better=False), verbose=0)"
      ]
     },
     "execution_count": 13,
     "metadata": {},
     "output_type": "execute_result"
    }
   ],
   "source": [
    "param_grid = {'min_samples_leaf':[1,5,10,20,50,100],'max_depth':[1,2,5,10,20,30,50]}\n",
    "\n",
    "grid_search_cv = GridSearchCV(estimator = DecisionTreeRegressor(),param_grid = param_grid,cv=5,scoring = rmse_scorer)\n",
    "grid_search_cv.fit(X_train,y_train)"
   ]
  },
  {
   "cell_type": "code",
   "execution_count": 14,
   "metadata": {},
   "outputs": [
    {
     "data": {
      "text/plain": [
       "DecisionTreeRegressor(ccp_alpha=0.0, criterion='mse', max_depth=1,\n",
       "                      max_features=None, max_leaf_nodes=None,\n",
       "                      min_impurity_decrease=0.0, min_impurity_split=None,\n",
       "                      min_samples_leaf=100, min_samples_split=2,\n",
       "                      min_weight_fraction_leaf=0.0, presort='deprecated',\n",
       "                      random_state=None, splitter='best')"
      ]
     },
     "execution_count": 14,
     "metadata": {},
     "output_type": "execute_result"
    }
   ],
   "source": [
    "grid_search_cv.best_estimator_"
   ]
  },
  {
   "cell_type": "code",
   "execution_count": 15,
   "metadata": {},
   "outputs": [],
   "source": [
    "y_pred = grid_search_cv.predict(X_test)"
   ]
  },
  {
   "cell_type": "code",
   "execution_count": 16,
   "metadata": {},
   "outputs": [
    {
     "data": {
      "text/html": [
       "<div>\n",
       "<style scoped>\n",
       "    .dataframe tbody tr th:only-of-type {\n",
       "        vertical-align: middle;\n",
       "    }\n",
       "\n",
       "    .dataframe tbody tr th {\n",
       "        vertical-align: top;\n",
       "    }\n",
       "\n",
       "    .dataframe thead th {\n",
       "        text-align: right;\n",
       "    }\n",
       "</style>\n",
       "<table border=\"1\" class=\"dataframe\">\n",
       "  <thead>\n",
       "    <tr style=\"text-align: right;\">\n",
       "      <th></th>\n",
       "      <th>y_pred</th>\n",
       "      <th>y_test</th>\n",
       "    </tr>\n",
       "  </thead>\n",
       "  <tbody>\n",
       "    <tr>\n",
       "      <th>0</th>\n",
       "      <td>2.99537</td>\n",
       "      <td>3</td>\n",
       "    </tr>\n",
       "    <tr>\n",
       "      <th>1</th>\n",
       "      <td>2.99537</td>\n",
       "      <td>3</td>\n",
       "    </tr>\n",
       "    <tr>\n",
       "      <th>2</th>\n",
       "      <td>2.99537</td>\n",
       "      <td>2</td>\n",
       "    </tr>\n",
       "    <tr>\n",
       "      <th>3</th>\n",
       "      <td>2.99537</td>\n",
       "      <td>3</td>\n",
       "    </tr>\n",
       "    <tr>\n",
       "      <th>4</th>\n",
       "      <td>2.99537</td>\n",
       "      <td>3</td>\n",
       "    </tr>\n",
       "  </tbody>\n",
       "</table>\n",
       "</div>"
      ],
      "text/plain": [
       "    y_pred  y_test\n",
       "0  2.99537       3\n",
       "1  2.99537       3\n",
       "2  2.99537       2\n",
       "3  2.99537       3\n",
       "4  2.99537       3"
      ]
     },
     "execution_count": 16,
     "metadata": {},
     "output_type": "execute_result"
    }
   ],
   "source": [
    "y_pred = pd.DataFrame(y_pred)\n",
    "\n",
    "df_temp = pd.concat([y_pred,y_test],axis = 1)\n",
    "df_temp.columns = ['y_pred','y_test']\n",
    "\n",
    "df_temp.head()"
   ]
  },
  {
   "cell_type": "code",
   "execution_count": 17,
   "metadata": {},
   "outputs": [
    {
     "data": {
      "image/png": "[encoded data removed]",
      "text/plain": [
       "<Figure size 432x288 with 1 Axes>"
      ]
     },
     "metadata": {
      "needs_background": "light"
     },
     "output_type": "display_data"
    }
   ],
   "source": [
    "plt.scatter(df_temp['y_test'],df_temp['y_pred'])\n",
    "plt.xlabel('y_test',fontsize = 14)\n",
    "plt.ylabel('y_pred',fontsize = 14)\n",
    "plt.xlim(0,6)\n",
    "plt.ylim(0,6)\n",
    "plt.xticks(list(range(0,6)))\n",
    "plt.yticks(list(range(0,6)))\n",
    "plt.grid()\n",
    "y_lim = plt.ylim()\n",
    "x_lim = plt.xlim()\n",
    "plt.plot(x_lim,y_lim,color = 'g',linewidth = 0.5);"
   ]
  },
  {
   "cell_type": "code",
   "execution_count": 18,
   "metadata": {},
   "outputs": [
    {
     "data": {
      "text/plain": [
       "0.907117498202486"
      ]
     },
     "execution_count": 18,
     "metadata": {},
     "output_type": "execute_result"
    }
   ],
   "source": [
    "rmse(y_pred,y_test)"
   ]
  },
  {
   "cell_type": "markdown",
   "metadata": {},
   "source": [
    "## Random Forest Regression"
   ]
  },
  {
   "cell_type": "code",
   "execution_count": 19,
   "metadata": {},
   "outputs": [
    {
     "data": {
      "text/plain": [
       "GridSearchCV(cv=5, error_score=nan,\n",
       "             estimator=RandomForestRegressor(bootstrap=True, ccp_alpha=0.0,\n",
       "                                             criterion='mse', max_depth=None,\n",
       "                                             max_features='auto',\n",
       "                                             max_leaf_nodes=None,\n",
       "                                             max_samples=None,\n",
       "                                             min_impurity_decrease=0.0,\n",
       "                                             min_impurity_split=None,\n",
       "                                             min_samples_leaf=1,\n",
       "                                             min_samples_split=2,\n",
       "                                             min_weight_fraction_leaf=0.0,\n",
       "                                             n_estimators=100, n_jobs=None,\n",
       "                                             oob_score=False, random_state=None,\n",
       "                                             verbose=0, warm_start=False),\n",
       "             iid='deprecated', n_jobs=None,\n",
       "             param_grid={'max_depth': [1, 5, 30],\n",
       "                         'min_samples_leaf': [1, 10, 50],\n",
       "                         'n_estimators': [10, 50, 100]},\n",
       "             pre_dispatch='2*n_jobs', refit=True, return_train_score=False,\n",
       "             scoring=make_scorer(rmse, greater_is_better=False), verbose=0)"
      ]
     },
     "execution_count": 19,
     "metadata": {},
     "output_type": "execute_result"
    }
   ],
   "source": [
    "param_grid = {'min_samples_leaf':[1,10,50],'max_depth':[1,5,30],'n_estimators':[10,50,100]}\n",
    "\n",
    "grid_search_cv = GridSearchCV(estimator = RandomForestRegressor(),param_grid = param_grid,cv = 5,scoring = rmse_scorer)\n",
    "grid_search_cv.fit(X_train,y_train)"
   ]
  },
  {
   "cell_type": "code",
   "execution_count": 20,
   "metadata": {},
   "outputs": [
    {
     "data": {
      "text/plain": [
       "RandomForestRegressor(bootstrap=True, ccp_alpha=0.0, criterion='mse',\n",
       "                      max_depth=30, max_features='auto', max_leaf_nodes=None,\n",
       "                      max_samples=None, min_impurity_decrease=0.0,\n",
       "                      min_impurity_split=None, min_samples_leaf=10,\n",
       "                      min_samples_split=2, min_weight_fraction_leaf=0.0,\n",
       "                      n_estimators=50, n_jobs=None, oob_score=False,\n",
       "                      random_state=None, verbose=0, warm_start=False)"
      ]
     },
     "execution_count": 20,
     "metadata": {},
     "output_type": "execute_result"
    }
   ],
   "source": [
    "grid_search_cv.best_estimator_"
   ]
  },
  {
   "cell_type": "code",
   "execution_count": 21,
   "metadata": {},
   "outputs": [],
   "source": [
    "y_pred = grid_search_cv.predict(X_test)"
   ]
  },
  {
   "cell_type": "code",
   "execution_count": 22,
   "metadata": {},
   "outputs": [
    {
     "data": {
      "text/html": [
       "<div>\n",
       "<style scoped>\n",
       "    .dataframe tbody tr th:only-of-type {\n",
       "        vertical-align: middle;\n",
       "    }\n",
       "\n",
       "    .dataframe tbody tr th {\n",
       "        vertical-align: top;\n",
       "    }\n",
       "\n",
       "    .dataframe thead th {\n",
       "        text-align: right;\n",
       "    }\n",
       "</style>\n",
       "<table border=\"1\" class=\"dataframe\">\n",
       "  <thead>\n",
       "    <tr style=\"text-align: right;\">\n",
       "      <th></th>\n",
       "      <th>y_pred</th>\n",
       "      <th>y_test</th>\n",
       "    </tr>\n",
       "  </thead>\n",
       "  <tbody>\n",
       "    <tr>\n",
       "      <th>0</th>\n",
       "      <td>2.642256</td>\n",
       "      <td>3</td>\n",
       "    </tr>\n",
       "    <tr>\n",
       "      <th>1</th>\n",
       "      <td>2.718462</td>\n",
       "      <td>3</td>\n",
       "    </tr>\n",
       "    <tr>\n",
       "      <th>2</th>\n",
       "      <td>3.062595</td>\n",
       "      <td>2</td>\n",
       "    </tr>\n",
       "    <tr>\n",
       "      <th>3</th>\n",
       "      <td>2.968194</td>\n",
       "      <td>3</td>\n",
       "    </tr>\n",
       "    <tr>\n",
       "      <th>4</th>\n",
       "      <td>2.894454</td>\n",
       "      <td>3</td>\n",
       "    </tr>\n",
       "  </tbody>\n",
       "</table>\n",
       "</div>"
      ],
      "text/plain": [
       "     y_pred  y_test\n",
       "0  2.642256       3\n",
       "1  2.718462       3\n",
       "2  3.062595       2\n",
       "3  2.968194       3\n",
       "4  2.894454       3"
      ]
     },
     "execution_count": 22,
     "metadata": {},
     "output_type": "execute_result"
    }
   ],
   "source": [
    "y_pred = pd.DataFrame(y_pred)\n",
    "\n",
    "df_temp = pd.concat([y_pred,y_test],axis = 1)\n",
    "df_temp.columns = ['y_pred','y_test']\n",
    "\n",
    "df_temp.head()"
   ]
  },
  {
   "cell_type": "code",
   "execution_count": 23,
   "metadata": {
    "scrolled": true
   },
   "outputs": [
    {
     "data": {
      "image/png": "[encoded data removed]",
      "text/plain": [
       "<Figure size 432x288 with 1 Axes>"
      ]
     },
     "metadata": {
      "needs_background": "light"
     },
     "output_type": "display_data"
    }
   ],
   "source": [
    "plt.scatter(df_temp['y_test'],df_temp['y_pred'])\n",
    "plt.xlabel('y_test',fontsize = 14)\n",
    "plt.ylabel('y_pred',fontsize = 14)\n",
    "plt.xlim(0,6)\n",
    "plt.ylim(0,6)\n",
    "plt.xticks(list(range(0,6)))\n",
    "plt.yticks(list(range(0,6)))\n",
    "plt.grid()\n",
    "y_lim = plt.ylim()\n",
    "x_lim = plt.xlim()\n",
    "plt.plot(x_lim,y_lim,color = 'g',linewidth = 0.5);"
   ]
  },
  {
   "cell_type": "code",
   "execution_count": 24,
   "metadata": {},
   "outputs": [
    {
     "data": {
      "text/plain": [
       "0.8782189392108342"
      ]
     },
     "execution_count": 24,
     "metadata": {},
     "output_type": "execute_result"
    }
   ],
   "source": [
    "rmse(y_pred,y_test)"
   ]
  },
  {
   "cell_type": "markdown",
   "metadata": {},
   "source": [
    "## XGBoost "
   ]
  },
  {
   "cell_type": "code",
   "execution_count": 25,
   "metadata": {
    "scrolled": true
   },
   "outputs": [
    {
     "data": {
      "text/plain": [
       "GridSearchCV(cv=5, error_score=nan,\n",
       "             estimator=XGBRegressor(base_score=0.5, booster='gbtree',\n",
       "                                    colsample_bylevel=1, colsample_bynode=1,\n",
       "                                    colsample_bytree=1, gamma=0,\n",
       "                                    importance_type='gain', learning_rate=0.1,\n",
       "                                    max_delta_step=0, max_depth=3,\n",
       "                                    min_child_weight=1, missing=None,\n",
       "                                    n_estimators=100, n_jobs=1, nthread=None,\n",
       "                                    objective='reg:linear', random_state=0,\n",
       "                                    reg_alpha=0, reg_lambda=1,\n",
       "                                    scale_pos_weight=1, seed=None, silent=True,\n",
       "                                    subsample=1, verbosity=1),\n",
       "             iid='deprecated', n_jobs=None,\n",
       "             param_grid={'max_depth': [1, 5, 30],\n",
       "                         'min_samples_leaf': [1, 10, 50],\n",
       "                         'n_estimators': [10, 50, 100]},\n",
       "             pre_dispatch='2*n_jobs', refit=True, return_train_score=False,\n",
       "             scoring=make_scorer(rmse, greater_is_better=False), verbose=0)"
      ]
     },
     "execution_count": 25,
     "metadata": {},
     "output_type": "execute_result"
    }
   ],
   "source": [
    "parameters = {'max_depth':[1,5,30],'learning_rate':[0.01,0.1,0.3],'n_estimators':[10,50,100],'objective':'reg:squarederror'}\n",
    "\n",
    "grid_search_cv = GridSearchCV(estimator = xgboost.XGBRegressor(silent = True),param_grid = param_grid,\n",
    "                              cv = 5,scoring = rmse_scorer)\n",
    "grid_search_cv.fit(X_train,y_train)"
   ]
  },
  {
   "cell_type": "code",
   "execution_count": 26,
   "metadata": {
    "scrolled": false
   },
   "outputs": [
    {
     "data": {
      "text/plain": [
       "XGBRegressor(base_score=0.5, booster='gbtree', colsample_bylevel=1,\n",
       "             colsample_bynode=1, colsample_bytree=1, gamma=0,\n",
       "             importance_type='gain', learning_rate=0.1, max_delta_step=0,\n",
       "             max_depth=1, min_child_weight=1, min_samples_leaf=1, missing=None,\n",
       "             n_estimators=100, n_jobs=1, nthread=None, objective='reg:linear',\n",
       "             random_state=0, reg_alpha=0, reg_lambda=1, scale_pos_weight=1,\n",
       "             seed=None, silent=True, subsample=1, verbosity=1)"
      ]
     },
     "execution_count": 26,
     "metadata": {},
     "output_type": "execute_result"
    }
   ],
   "source": [
    "grid_search_cv.best_estimator_"
   ]
  },
  {
   "cell_type": "code",
   "execution_count": 27,
   "metadata": {},
   "outputs": [],
   "source": [
    "y_pred = grid_search_cv.predict(X_test)"
   ]
  },
  {
   "cell_type": "code",
   "execution_count": 28,
   "metadata": {},
   "outputs": [
    {
     "data": {
      "text/html": [
       "<div>\n",
       "<style scoped>\n",
       "    .dataframe tbody tr th:only-of-type {\n",
       "        vertical-align: middle;\n",
       "    }\n",
       "\n",
       "    .dataframe tbody tr th {\n",
       "        vertical-align: top;\n",
       "    }\n",
       "\n",
       "    .dataframe thead th {\n",
       "        text-align: right;\n",
       "    }\n",
       "</style>\n",
       "<table border=\"1\" class=\"dataframe\">\n",
       "  <thead>\n",
       "    <tr style=\"text-align: right;\">\n",
       "      <th></th>\n",
       "      <th>y_pred</th>\n",
       "      <th>y_test</th>\n",
       "    </tr>\n",
       "  </thead>\n",
       "  <tbody>\n",
       "    <tr>\n",
       "      <th>0</th>\n",
       "      <td>2.324256</td>\n",
       "      <td>3</td>\n",
       "    </tr>\n",
       "    <tr>\n",
       "      <th>1</th>\n",
       "      <td>2.555485</td>\n",
       "      <td>3</td>\n",
       "    </tr>\n",
       "    <tr>\n",
       "      <th>2</th>\n",
       "      <td>2.953563</td>\n",
       "      <td>2</td>\n",
       "    </tr>\n",
       "    <tr>\n",
       "      <th>3</th>\n",
       "      <td>2.903142</td>\n",
       "      <td>3</td>\n",
       "    </tr>\n",
       "    <tr>\n",
       "      <th>4</th>\n",
       "      <td>2.961991</td>\n",
       "      <td>3</td>\n",
       "    </tr>\n",
       "  </tbody>\n",
       "</table>\n",
       "</div>"
      ],
      "text/plain": [
       "     y_pred  y_test\n",
       "0  2.324256       3\n",
       "1  2.555485       3\n",
       "2  2.953563       2\n",
       "3  2.903142       3\n",
       "4  2.961991       3"
      ]
     },
     "execution_count": 28,
     "metadata": {},
     "output_type": "execute_result"
    }
   ],
   "source": [
    "y_pred = pd.DataFrame(y_pred)\n",
    "\n",
    "df_temp = pd.concat([y_pred,y_test],axis = 1)\n",
    "df_temp.columns = ['y_pred','y_test']\n",
    "\n",
    "df_temp.head()"
   ]
  },
  {
   "cell_type": "code",
   "execution_count": 29,
   "metadata": {},
   "outputs": [
    {
     "data": {
      "image/png": "[encoded data removed]",
      "text/plain": [
       "<Figure size 432x288 with 1 Axes>"
      ]
     },
     "metadata": {
      "needs_background": "light"
     },
     "output_type": "display_data"
    }
   ],
   "source": [
    "plt.scatter(df_temp['y_test'],df_temp['y_pred'])\n",
    "plt.xlabel('y_test',fontsize = 14)\n",
    "plt.ylabel('y_pred',fontsize = 14)\n",
    "plt.xlim(0,6)\n",
    "plt.ylim(0,6)\n",
    "plt.xticks(list(range(0,6)))\n",
    "plt.yticks(list(range(0,6)))\n",
    "plt.grid()\n",
    "y_lim = plt.ylim()\n",
    "x_lim = plt.xlim()\n",
    "plt.plot(x_lim,y_lim,color = 'g',linewidth = 0.5);"
   ]
  },
  {
   "cell_type": "code",
   "execution_count": 30,
   "metadata": {},
   "outputs": [
    {
     "data": {
      "text/plain": [
       "0.8832406619073533"
      ]
     },
     "execution_count": 30,
     "metadata": {},
     "output_type": "execute_result"
    }
   ],
   "source": [
    "rmse(y_pred,y_test)"
   ]
  },
  {
   "cell_type": "markdown",
   "metadata": {},
   "source": [
    "## Neural Network "
   ]
  },
  {
   "cell_type": "code",
   "execution_count": 31,
   "metadata": {},
   "outputs": [],
   "source": [
    "sc = MinMaxScaler()"
   ]
  },
  {
   "cell_type": "code",
   "execution_count": 32,
   "metadata": {},
   "outputs": [],
   "source": [
    "X_train= sc.fit_transform(X_train)\n",
    "X_test = sc.transform(X_test)"
   ]
  },
  {
   "cell_type": "code",
   "execution_count": 33,
   "metadata": {},
   "outputs": [
    {
     "data": {
      "text/plain": [
       "(316, 32)"
      ]
     },
     "execution_count": 33,
     "metadata": {},
     "output_type": "execute_result"
    }
   ],
   "source": [
    "X_train.shape"
   ]
  },
  {
   "cell_type": "code",
   "execution_count": 34,
   "metadata": {},
   "outputs": [],
   "source": [
    "model = Sequential()"
   ]
  },
  {
   "cell_type": "code",
   "execution_count": 35,
   "metadata": {},
   "outputs": [],
   "source": [
    "model.add(Dense(32,activation = 'relu'))\n",
    "model.add(Dropout(0.25))\n",
    "model.add(Dense(32,activation = 'relu'))\n",
    "model.add(Dropout(0.25))\n",
    "model.add(Dense(32,activation = 'relu'))\n",
    "model.add(Dropout(0.25))\n",
    "model.add(Dense(32,activation = 'relu'))\n",
    "model.add(Dropout(0.25))\n",
    "model.add(Dense(1))\n",
    "\n",
    "model.compile(optimizer = 'adam',loss = 'mse')"
   ]
  },
  {
   "cell_type": "code",
   "execution_count": 36,
   "metadata": {
    "scrolled": true
   },
   "outputs": [
    {
     "name": "stdout",
     "output_type": "stream",
     "text": [
      "Train on 316 samples, validate on 79 samples\n",
      "Epoch 1/100\n",
      "316/316 [==============================] - 1s 3ms/sample - loss: 11.1509 - val_loss: 10.8079\n",
      "Epoch 2/100\n",
      "316/316 [==============================] - 0s 89us/sample - loss: 10.1676 - val_loss: 10.1128\n",
      "Epoch 3/100\n",
      "316/316 [==============================] - 0s 85us/sample - loss: 9.2647 - val_loss: 9.3943\n",
      "Epoch 4/100\n",
      "316/316 [==============================] - 0s 79us/sample - loss: 8.4022 - val_loss: 8.4705\n",
      "Epoch 5/100\n",
      "316/316 [==============================] - 0s 82us/sample - loss: 7.2634 - val_loss: 7.2395\n",
      "Epoch 6/100\n",
      "316/316 [==============================] - 0s 82us/sample - loss: 6.0821 - val_loss: 5.6353\n",
      "Epoch 7/100\n",
      "316/316 [==============================] - 0s 79us/sample - loss: 4.2369 - val_loss: 3.7305\n",
      "Epoch 8/100\n",
      "316/316 [==============================] - 0s 85us/sample - loss: 2.8431 - val_loss: 1.9954\n",
      "Epoch 9/100\n",
      "316/316 [==============================] - 0s 82us/sample - loss: 2.4338 - val_loss: 1.2339\n",
      "Epoch 10/100\n",
      "316/316 [==============================] - 0s 98us/sample - loss: 2.6744 - val_loss: 1.1828\n",
      "Epoch 11/100\n",
      "316/316 [==============================] - 0s 82us/sample - loss: 2.4249 - val_loss: 1.4093\n",
      "Epoch 12/100\n",
      "316/316 [==============================] - 0s 89us/sample - loss: 2.0954 - val_loss: 1.7521\n",
      "Epoch 13/100\n",
      "316/316 [==============================] - 0s 76us/sample - loss: 1.9588 - val_loss: 1.8588\n",
      "Epoch 14/100\n",
      "316/316 [==============================] - 0s 79us/sample - loss: 1.7750 - val_loss: 1.7543\n",
      "Epoch 15/100\n",
      "316/316 [==============================] - 0s 79us/sample - loss: 1.9934 - val_loss: 1.5947\n",
      "Epoch 16/100\n",
      "316/316 [==============================] - 0s 79us/sample - loss: 2.1855 - val_loss: 1.5075\n",
      "Epoch 17/100\n",
      "316/316 [==============================] - 0s 82us/sample - loss: 1.9007 - val_loss: 1.5340\n",
      "Epoch 18/100\n",
      "316/316 [==============================] - 0s 82us/sample - loss: 1.6849 - val_loss: 1.6114\n",
      "Epoch 19/100\n",
      "316/316 [==============================] - 0s 76us/sample - loss: 1.5354 - val_loss: 1.5155\n",
      "Epoch 20/100\n",
      "316/316 [==============================] - 0s 82us/sample - loss: 1.6300 - val_loss: 1.4437\n",
      "Epoch 21/100\n",
      "316/316 [==============================] - 0s 79us/sample - loss: 1.6128 - val_loss: 1.4022\n",
      "Epoch 22/100\n",
      "316/316 [==============================] - 0s 82us/sample - loss: 1.9186 - val_loss: 1.4848\n",
      "Epoch 23/100\n",
      "316/316 [==============================] - 0s 79us/sample - loss: 1.8168 - val_loss: 1.6063\n",
      "Epoch 24/100\n",
      "316/316 [==============================] - 0s 76us/sample - loss: 1.6159 - val_loss: 1.6165\n",
      "Epoch 25/100\n",
      "316/316 [==============================] - 0s 79us/sample - loss: 1.7799 - val_loss: 1.5902\n",
      "Epoch 26/100\n",
      "316/316 [==============================] - 0s 76us/sample - loss: 1.6988 - val_loss: 1.5768\n",
      "Epoch 27/100\n",
      "316/316 [==============================] - 0s 79us/sample - loss: 1.6543 - val_loss: 1.5838\n",
      "Epoch 28/100\n",
      "316/316 [==============================] - 0s 79us/sample - loss: 1.4982 - val_loss: 1.4662\n",
      "Epoch 29/100\n",
      "316/316 [==============================] - 0s 85us/sample - loss: 1.5646 - val_loss: 1.3995\n",
      "Epoch 30/100\n",
      "316/316 [==============================] - ETA: 0s - loss: 1.393 - 0s 78us/sample - loss: 1.4866 - val_loss: 1.4629\n",
      "Epoch 31/100\n",
      "316/316 [==============================] - 0s 76us/sample - loss: 1.6288 - val_loss: 1.4946\n",
      "Epoch 32/100\n",
      "316/316 [==============================] - 0s 82us/sample - loss: 1.1573 - val_loss: 1.4174\n",
      "Epoch 33/100\n",
      "316/316 [==============================] - 0s 79us/sample - loss: 1.3870 - val_loss: 1.3828\n",
      "Epoch 34/100\n",
      "316/316 [==============================] - 0s 82us/sample - loss: 1.3503 - val_loss: 1.3797\n",
      "Epoch 35/100\n",
      "316/316 [==============================] - 0s 79us/sample - loss: 1.4498 - val_loss: 1.4322\n",
      "Epoch 36/100\n",
      "316/316 [==============================] - 0s 73us/sample - loss: 1.4989 - val_loss: 1.4686\n",
      "Epoch 37/100\n",
      "316/316 [==============================] - 0s 85us/sample - loss: 1.1900 - val_loss: 1.6109\n",
      "Epoch 38/100\n",
      "316/316 [==============================] - 0s 76us/sample - loss: 1.3375 - val_loss: 1.6607\n",
      "Epoch 39/100\n",
      "316/316 [==============================] - 0s 82us/sample - loss: 1.2955 - val_loss: 1.4929\n",
      "Epoch 40/100\n",
      "316/316 [==============================] - 0s 79us/sample - loss: 1.4720 - val_loss: 1.3656\n",
      "Epoch 41/100\n",
      "316/316 [==============================] - 0s 73us/sample - loss: 1.3281 - val_loss: 1.4868\n",
      "Epoch 42/100\n",
      "316/316 [==============================] - 0s 82us/sample - loss: 1.4348 - val_loss: 1.6101\n",
      "Epoch 43/100\n",
      "316/316 [==============================] - 0s 76us/sample - loss: 1.2300 - val_loss: 1.5620\n",
      "Epoch 44/100\n",
      "316/316 [==============================] - 0s 79us/sample - loss: 1.4101 - val_loss: 1.5068\n",
      "Epoch 45/100\n",
      "316/316 [==============================] - 0s 82us/sample - loss: 1.2768 - val_loss: 1.4154\n",
      "Epoch 46/100\n",
      "316/316 [==============================] - 0s 79us/sample - loss: 1.3241 - val_loss: 1.4628\n",
      "Epoch 47/100\n",
      "316/316 [==============================] - 0s 79us/sample - loss: 1.1837 - val_loss: 1.5506\n",
      "Epoch 48/100\n",
      "316/316 [==============================] - 0s 82us/sample - loss: 1.4226 - val_loss: 1.5081\n",
      "Epoch 49/100\n",
      "316/316 [==============================] - 0s 92us/sample - loss: 1.2337 - val_loss: 1.3346\n",
      "Epoch 50/100\n",
      "316/316 [==============================] - 0s 82us/sample - loss: 1.2033 - val_loss: 1.3028\n",
      "Epoch 51/100\n",
      "316/316 [==============================] - 0s 82us/sample - loss: 1.2403 - val_loss: 1.4446\n",
      "Epoch 52/100\n",
      "316/316 [==============================] - 0s 82us/sample - loss: 1.2977 - val_loss: 1.4635\n",
      "Epoch 53/100\n",
      "316/316 [==============================] - 0s 79us/sample - loss: 1.1169 - val_loss: 1.3804\n",
      "Epoch 54/100\n",
      "316/316 [==============================] - 0s 85us/sample - loss: 1.1920 - val_loss: 1.3480\n",
      "Epoch 55/100\n",
      "316/316 [==============================] - 0s 79us/sample - loss: 1.3099 - val_loss: 1.3527\n",
      "Epoch 56/100\n",
      "316/316 [==============================] - 0s 85us/sample - loss: 1.3381 - val_loss: 1.3514\n",
      "Epoch 57/100\n",
      "316/316 [==============================] - 0s 76us/sample - loss: 1.3203 - val_loss: 1.3905\n",
      "Epoch 58/100\n",
      "316/316 [==============================] - 0s 82us/sample - loss: 1.1222 - val_loss: 1.4243\n",
      "Epoch 59/100\n",
      "316/316 [==============================] - 0s 79us/sample - loss: 1.0627 - val_loss: 1.4396\n",
      "Epoch 60/100\n",
      "316/316 [==============================] - 0s 79us/sample - loss: 1.2506 - val_loss: 1.3997\n",
      "Epoch 61/100\n",
      "316/316 [==============================] - 0s 79us/sample - loss: 1.2274 - val_loss: 1.3032\n",
      "Epoch 62/100\n",
      "316/316 [==============================] - 0s 79us/sample - loss: 1.1474 - val_loss: 1.2939\n",
      "Epoch 63/100\n",
      "316/316 [==============================] - 0s 79us/sample - loss: 1.2617 - val_loss: 1.3343\n",
      "Epoch 64/100\n",
      "316/316 [==============================] - 0s 79us/sample - loss: 1.0703 - val_loss: 1.4432\n",
      "Epoch 65/100\n",
      "316/316 [==============================] - 0s 85us/sample - loss: 1.1407 - val_loss: 1.4225\n",
      "Epoch 66/100\n",
      "316/316 [==============================] - 0s 79us/sample - loss: 1.1204 - val_loss: 1.3518\n",
      "Epoch 67/100\n",
      "316/316 [==============================] - 0s 85us/sample - loss: 1.0834 - val_loss: 1.3010\n",
      "Epoch 68/100\n",
      "316/316 [==============================] - 0s 85us/sample - loss: 1.2181 - val_loss: 1.3116\n",
      "Epoch 69/100\n",
      "316/316 [==============================] - 0s 79us/sample - loss: 1.2232 - val_loss: 1.4094\n",
      "Epoch 70/100\n",
      "316/316 [==============================] - 0s 89us/sample - loss: 1.0637 - val_loss: 1.3648\n",
      "Epoch 71/100\n",
      "316/316 [==============================] - 0s 85us/sample - loss: 1.0178 - val_loss: 1.2174\n",
      "Epoch 72/100\n",
      "316/316 [==============================] - 0s 85us/sample - loss: 1.1300 - val_loss: 1.2473\n",
      "Epoch 73/100\n",
      "316/316 [==============================] - 0s 79us/sample - loss: 1.1436 - val_loss: 1.3201\n",
      "Epoch 74/100\n",
      "316/316 [==============================] - 0s 82us/sample - loss: 1.1015 - val_loss: 1.3590\n",
      "Epoch 75/100\n",
      "316/316 [==============================] - 0s 79us/sample - loss: 1.1187 - val_loss: 1.3373\n",
      "Epoch 76/100\n",
      "316/316 [==============================] - 0s 85us/sample - loss: 1.1438 - val_loss: 1.2257\n",
      "Epoch 77/100\n",
      "316/316 [==============================] - 0s 79us/sample - loss: 1.0372 - val_loss: 1.2039\n",
      "Epoch 78/100\n"
     ]
    },
    {
     "name": "stdout",
     "output_type": "stream",
     "text": [
      "316/316 [==============================] - 0s 82us/sample - loss: 0.9769 - val_loss: 1.1948\n",
      "Epoch 79/100\n",
      "316/316 [==============================] - 0s 85us/sample - loss: 1.0019 - val_loss: 1.2223\n",
      "Epoch 80/100\n",
      "316/316 [==============================] - 0s 85us/sample - loss: 1.0596 - val_loss: 1.2869\n",
      "Epoch 81/100\n",
      "316/316 [==============================] - 0s 79us/sample - loss: 1.0441 - val_loss: 1.3185\n",
      "Epoch 82/100\n",
      "316/316 [==============================] - 0s 85us/sample - loss: 1.0826 - val_loss: 1.2477\n",
      "Epoch 83/100\n",
      "316/316 [==============================] - 0s 85us/sample - loss: 1.0518 - val_loss: 1.1478\n",
      "Epoch 84/100\n",
      "316/316 [==============================] - 0s 79us/sample - loss: 1.0538 - val_loss: 1.1739\n",
      "Epoch 85/100\n",
      "316/316 [==============================] - 0s 89us/sample - loss: 1.1282 - val_loss: 1.2685\n",
      "Epoch 86/100\n",
      "316/316 [==============================] - 0s 92us/sample - loss: 0.9352 - val_loss: 1.3078\n",
      "Epoch 87/100\n",
      "316/316 [==============================] - 0s 95us/sample - loss: 1.0467 - val_loss: 1.3192\n",
      "Epoch 88/100\n",
      "316/316 [==============================] - 0s 79us/sample - loss: 1.0005 - val_loss: 1.2157\n",
      "Epoch 89/100\n",
      "316/316 [==============================] - 0s 82us/sample - loss: 1.0877 - val_loss: 1.2456\n",
      "Epoch 90/100\n",
      "316/316 [==============================] - 0s 85us/sample - loss: 0.9915 - val_loss: 1.2489\n",
      "Epoch 91/100\n",
      "316/316 [==============================] - 0s 76us/sample - loss: 0.9679 - val_loss: 1.2131\n",
      "Epoch 92/100\n",
      "316/316 [==============================] - 0s 79us/sample - loss: 1.1014 - val_loss: 1.1931\n",
      "Epoch 93/100\n",
      "316/316 [==============================] - 0s 85us/sample - loss: 1.0143 - val_loss: 1.2080\n",
      "Epoch 94/100\n",
      "316/316 [==============================] - 0s 76us/sample - loss: 0.9863 - val_loss: 1.1967\n",
      "Epoch 95/100\n",
      "316/316 [==============================] - 0s 85us/sample - loss: 0.9908 - val_loss: 1.1933\n",
      "Epoch 96/100\n",
      "316/316 [==============================] - 0s 85us/sample - loss: 1.0449 - val_loss: 1.2805\n",
      "Epoch 97/100\n",
      "316/316 [==============================] - 0s 76us/sample - loss: 0.9949 - val_loss: 1.2549\n",
      "Epoch 98/100\n",
      "316/316 [==============================] - 0s 79us/sample - loss: 1.0005 - val_loss: 1.1600\n",
      "Epoch 99/100\n",
      "316/316 [==============================] - 0s 79us/sample - loss: 0.9777 - val_loss: 1.1083\n",
      "Epoch 100/100\n",
      "316/316 [==============================] - 0s 82us/sample - loss: 0.9627 - val_loss: 1.1302\n"
     ]
    },
    {
     "data": {
      "text/plain": [
       "<tensorflow.python.keras.callbacks.History at 0x1f71987ce88>"
      ]
     },
     "execution_count": 36,
     "metadata": {},
     "output_type": "execute_result"
    }
   ],
   "source": [
    "model.fit(X_train,y_train,validation_data = (X_test,y_test.values),batch_size = 64,epochs = 100)"
   ]
  },
  {
   "cell_type": "code",
   "execution_count": 37,
   "metadata": {},
   "outputs": [
    {
     "data": {
      "image/png": "[encoded data removed]",
      "text/plain": [
       "<Figure size 432x288 with 1 Axes>"
      ]
     },
     "metadata": {
      "needs_background": "light"
     },
     "output_type": "display_data"
    }
   ],
   "source": [
    "losses = pd.DataFrame(model.history.history)\n",
    "\n",
    "losses.plot();"
   ]
  },
  {
   "cell_type": "code",
   "execution_count": 38,
   "metadata": {},
   "outputs": [],
   "source": [
    "y_pred = model.predict(X_test)"
   ]
  },
  {
   "cell_type": "code",
   "execution_count": 39,
   "metadata": {},
   "outputs": [
    {
     "data": {
      "text/html": [
       "<div>\n",
       "<style scoped>\n",
       "    .dataframe tbody tr th:only-of-type {\n",
       "        vertical-align: middle;\n",
       "    }\n",
       "\n",
       "    .dataframe tbody tr th {\n",
       "        vertical-align: top;\n",
       "    }\n",
       "\n",
       "    .dataframe thead th {\n",
       "        text-align: right;\n",
       "    }\n",
       "</style>\n",
       "<table border=\"1\" class=\"dataframe\">\n",
       "  <thead>\n",
       "    <tr style=\"text-align: right;\">\n",
       "      <th></th>\n",
       "      <th>y_pred</th>\n",
       "      <th>y_test</th>\n",
       "    </tr>\n",
       "  </thead>\n",
       "  <tbody>\n",
       "    <tr>\n",
       "      <th>0</th>\n",
       "      <td>2.134932</td>\n",
       "      <td>3</td>\n",
       "    </tr>\n",
       "    <tr>\n",
       "      <th>1</th>\n",
       "      <td>2.156993</td>\n",
       "      <td>3</td>\n",
       "    </tr>\n",
       "    <tr>\n",
       "      <th>2</th>\n",
       "      <td>2.500666</td>\n",
       "      <td>2</td>\n",
       "    </tr>\n",
       "    <tr>\n",
       "      <th>3</th>\n",
       "      <td>3.124508</td>\n",
       "      <td>3</td>\n",
       "    </tr>\n",
       "    <tr>\n",
       "      <th>4</th>\n",
       "      <td>3.030946</td>\n",
       "      <td>3</td>\n",
       "    </tr>\n",
       "  </tbody>\n",
       "</table>\n",
       "</div>"
      ],
      "text/plain": [
       "     y_pred  y_test\n",
       "0  2.134932       3\n",
       "1  2.156993       3\n",
       "2  2.500666       2\n",
       "3  3.124508       3\n",
       "4  3.030946       3"
      ]
     },
     "execution_count": 39,
     "metadata": {},
     "output_type": "execute_result"
    }
   ],
   "source": [
    "y_pred = pd.DataFrame(y_pred)\n",
    "\n",
    "df_temp = pd.concat([y_pred,y_test],axis = 1)\n",
    "df_temp.columns = ['y_pred','y_test']\n",
    "\n",
    "df_temp.head()"
   ]
  },
  {
   "cell_type": "code",
   "execution_count": 40,
   "metadata": {},
   "outputs": [
    {
     "data": {
      "image/png": "[encoded data removed]",
      "text/plain": [
       "<Figure size 432x288 with 1 Axes>"
      ]
     },
     "metadata": {
      "needs_background": "light"
     },
     "output_type": "display_data"
    }
   ],
   "source": [
    "plt.scatter(df_temp['y_test'],df_temp['y_pred'])\n",
    "plt.xlabel('y_test',fontsize = 14)\n",
    "plt.ylabel('y_pred',fontsize = 14)\n",
    "plt.xlim(0,6)\n",
    "plt.ylim(0,6)\n",
    "plt.xticks(list(range(0,6)))\n",
    "plt.yticks(list(range(0,6)))\n",
    "plt.grid()\n",
    "y_lim = plt.ylim()\n",
    "x_lim = plt.xlim()\n",
    "plt.plot(x_lim,y_lim,color = 'g',linewidth = 0.5);"
   ]
  },
  {
   "cell_type": "code",
   "execution_count": 41,
   "metadata": {},
   "outputs": [
    {
     "data": {
      "text/plain": [
       "1.0631067984995708"
      ]
     },
     "execution_count": 41,
     "metadata": {},
     "output_type": "execute_result"
    }
   ],
   "source": [
    "rmse(y_pred,y_test)"
   ]
  },
  {
   "cell_type": "markdown",
   "metadata": {},
   "source": [
    "## Stacking "
   ]
  },
  {
   "cell_type": "code",
   "execution_count": 42,
   "metadata": {},
   "outputs": [],
   "source": [
    "X_base,X_meta,y_base,y_meta = train_test_split(X_train,y_train,test_size = 0.5,random_state = 42)"
   ]
  },
  {
   "cell_type": "markdown",
   "metadata": {},
   "source": [
    "### Base Models "
   ]
  },
  {
   "cell_type": "code",
   "execution_count": 43,
   "metadata": {},
   "outputs": [],
   "source": [
    "model = DecisionTreeRegressor(min_samples_leaf = 100,max_depth = 1)\n",
    "model.fit(X_base,y_base)\n",
    "\n",
    "y_pred_dt_meta = model.predict(X_meta)\n",
    "y_pred_dt_test = model.predict(X_test)"
   ]
  },
  {
   "cell_type": "code",
   "execution_count": 44,
   "metadata": {},
   "outputs": [],
   "source": [
    "model = RandomForestRegressor(min_samples_leaf = 10,max_depth = 30,n_estimators = 100)\n",
    "model.fit(X_base,y_base)\n",
    "\n",
    "y_pred_rf_meta = model.predict(X_meta)\n",
    "y_pred_rf_test = model.predict(X_test)"
   ]
  },
  {
   "cell_type": "code",
   "execution_count": 45,
   "metadata": {},
   "outputs": [],
   "source": [
    "model = xgboost.XGBRegressor(silent = True,max_depth = 1,learning_rate = 0.1,n_estimators = 100)\n",
    "model.fit(X_base,y_base)\n",
    "\n",
    "y_pred_xgb_meta = model.predict(X_meta)\n",
    "y_pred_xgb_test = model.predict(X_test)"
   ]
  },
  {
   "cell_type": "code",
   "execution_count": 46,
   "metadata": {},
   "outputs": [
    {
     "name": "stdout",
     "output_type": "stream",
     "text": [
      "Train on 316 samples, validate on 158 samples\n",
      "Epoch 1/100\n",
      "316/316 [==============================] - 1s 2ms/sample - loss: 8.3531 - val_loss: 7.8058\n",
      "Epoch 2/100\n",
      "316/316 [==============================] - 0s 89us/sample - loss: 6.8152 - val_loss: 6.0068\n",
      "Epoch 3/100\n",
      "316/316 [==============================] - 0s 89us/sample - loss: 5.1927 - val_loss: 4.2218\n",
      "Epoch 4/100\n",
      "316/316 [==============================] - 0s 82us/sample - loss: 3.6739 - val_loss: 2.6112\n",
      "Epoch 5/100\n",
      "316/316 [==============================] - 0s 82us/sample - loss: 2.9877 - val_loss: 1.5293\n",
      "Epoch 6/100\n",
      "316/316 [==============================] - 0s 89us/sample - loss: 2.7777 - val_loss: 1.1241\n",
      "Epoch 7/100\n",
      "316/316 [==============================] - 0s 82us/sample - loss: 2.5627 - val_loss: 1.0781\n",
      "Epoch 8/100\n",
      "316/316 [==============================] - 0s 89us/sample - loss: 2.6290 - val_loss: 1.2225\n",
      "Epoch 9/100\n",
      "316/316 [==============================] - 0s 89us/sample - loss: 2.6620 - val_loss: 1.5469\n",
      "Epoch 10/100\n",
      "316/316 [==============================] - 0s 95us/sample - loss: 2.5582 - val_loss: 1.8248\n",
      "Epoch 11/100\n",
      "316/316 [==============================] - 0s 95us/sample - loss: 2.3457 - val_loss: 1.7967\n",
      "Epoch 12/100\n",
      "316/316 [==============================] - 0s 89us/sample - loss: 2.0325 - val_loss: 1.6016\n",
      "Epoch 13/100\n",
      "316/316 [==============================] - 0s 89us/sample - loss: 1.9362 - val_loss: 1.3304\n",
      "Epoch 14/100\n",
      "316/316 [==============================] - 0s 89us/sample - loss: 1.9376 - val_loss: 1.1561\n",
      "Epoch 15/100\n",
      "316/316 [==============================] - 0s 85us/sample - loss: 1.9991 - val_loss: 1.2057\n",
      "Epoch 16/100\n",
      "316/316 [==============================] - 0s 92us/sample - loss: 2.0793 - val_loss: 1.3273\n",
      "Epoch 17/100\n",
      "316/316 [==============================] - 0s 89us/sample - loss: 1.6998 - val_loss: 1.4494\n",
      "Epoch 18/100\n",
      "316/316 [==============================] - 0s 85us/sample - loss: 1.7753 - val_loss: 1.4867\n",
      "Epoch 19/100\n",
      "316/316 [==============================] - 0s 85us/sample - loss: 1.8143 - val_loss: 1.5394\n",
      "Epoch 20/100\n",
      "316/316 [==============================] - 0s 82us/sample - loss: 1.6134 - val_loss: 1.4932\n",
      "Epoch 21/100\n",
      "316/316 [==============================] - 0s 92us/sample - loss: 1.7464 - val_loss: 1.4066\n",
      "Epoch 22/100\n",
      "316/316 [==============================] - 0s 95us/sample - loss: 1.3641 - val_loss: 1.3141\n",
      "Epoch 23/100\n",
      "316/316 [==============================] - 0s 85us/sample - loss: 1.5889 - val_loss: 1.3104\n",
      "Epoch 24/100\n",
      "316/316 [==============================] - 0s 85us/sample - loss: 1.7011 - val_loss: 1.3232\n",
      "Epoch 25/100\n",
      "316/316 [==============================] - 0s 85us/sample - loss: 1.5865 - val_loss: 1.3308\n",
      "Epoch 26/100\n",
      "316/316 [==============================] - 0s 85us/sample - loss: 1.6315 - val_loss: 1.2481\n",
      "Epoch 27/100\n",
      "316/316 [==============================] - 0s 85us/sample - loss: 1.3449 - val_loss: 1.2565\n",
      "Epoch 28/100\n",
      "316/316 [==============================] - 0s 89us/sample - loss: 1.4635 - val_loss: 1.2841\n",
      "Epoch 29/100\n",
      "316/316 [==============================] - 0s 85us/sample - loss: 1.5145 - val_loss: 1.3224\n",
      "Epoch 30/100\n",
      "316/316 [==============================] - 0s 82us/sample - loss: 1.3417 - val_loss: 1.3134\n",
      "Epoch 31/100\n",
      "316/316 [==============================] - 0s 92us/sample - loss: 1.3263 - val_loss: 1.2850\n",
      "Epoch 32/100\n",
      "316/316 [==============================] - 0s 89us/sample - loss: 1.4743 - val_loss: 1.3296\n",
      "Epoch 33/100\n",
      "316/316 [==============================] - 0s 82us/sample - loss: 1.3849 - val_loss: 1.3352\n",
      "Epoch 34/100\n",
      "316/316 [==============================] - 0s 82us/sample - loss: 1.4225 - val_loss: 1.3063\n",
      "Epoch 35/100\n",
      "316/316 [==============================] - 0s 89us/sample - loss: 1.2445 - val_loss: 1.2824\n",
      "Epoch 36/100\n",
      "316/316 [==============================] - 0s 85us/sample - loss: 1.2887 - val_loss: 1.3000\n",
      "Epoch 37/100\n",
      "316/316 [==============================] - 0s 89us/sample - loss: 1.4040 - val_loss: 1.3797\n",
      "Epoch 38/100\n",
      "316/316 [==============================] - 0s 79us/sample - loss: 1.2489 - val_loss: 1.2875\n",
      "Epoch 39/100\n",
      "316/316 [==============================] - 0s 79us/sample - loss: 1.3163 - val_loss: 1.2492\n",
      "Epoch 40/100\n",
      "316/316 [==============================] - 0s 85us/sample - loss: 1.3440 - val_loss: 1.2333\n",
      "Epoch 41/100\n",
      "316/316 [==============================] - 0s 79us/sample - loss: 1.3841 - val_loss: 1.3345\n",
      "Epoch 42/100\n",
      "316/316 [==============================] - 0s 85us/sample - loss: 1.3170 - val_loss: 1.4040\n",
      "Epoch 43/100\n",
      "316/316 [==============================] - 0s 85us/sample - loss: 1.1497 - val_loss: 1.3830\n",
      "Epoch 44/100\n",
      "316/316 [==============================] - 0s 89us/sample - loss: 1.3045 - val_loss: 1.1220\n",
      "Epoch 45/100\n",
      "316/316 [==============================] - 0s 82us/sample - loss: 1.3560 - val_loss: 1.0872\n",
      "Epoch 46/100\n",
      "316/316 [==============================] - 0s 101us/sample - loss: 1.2250 - val_loss: 1.2124\n",
      "Epoch 47/100\n",
      "316/316 [==============================] - 0s 85us/sample - loss: 1.2759 - val_loss: 1.3606\n",
      "Epoch 48/100\n",
      "316/316 [==============================] - 0s 82us/sample - loss: 1.2368 - val_loss: 1.3823\n",
      "Epoch 49/100\n",
      "316/316 [==============================] - 0s 92us/sample - loss: 1.2582 - val_loss: 1.2343\n",
      "Epoch 50/100\n",
      "316/316 [==============================] - 0s 85us/sample - loss: 1.1993 - val_loss: 1.1469\n",
      "Epoch 51/100\n",
      "316/316 [==============================] - 0s 79us/sample - loss: 1.2041 - val_loss: 1.1445\n",
      "Epoch 52/100\n",
      "316/316 [==============================] - 0s 89us/sample - loss: 1.2091 - val_loss: 1.2395\n",
      "Epoch 53/100\n",
      "316/316 [==============================] - 0s 89us/sample - loss: 1.1940 - val_loss: 1.2334\n",
      "Epoch 54/100\n",
      "316/316 [==============================] - 0s 85us/sample - loss: 1.1566 - val_loss: 1.1482\n",
      "Epoch 55/100\n",
      "316/316 [==============================] - 0s 82us/sample - loss: 1.2691 - val_loss: 1.1119\n",
      "Epoch 56/100\n",
      "316/316 [==============================] - 0s 85us/sample - loss: 1.1734 - val_loss: 1.1751\n",
      "Epoch 57/100\n",
      "316/316 [==============================] - 0s 79us/sample - loss: 1.2020 - val_loss: 1.1798\n",
      "Epoch 58/100\n",
      "316/316 [==============================] - 0s 111us/sample - loss: 1.1878 - val_loss: 1.1407\n",
      "Epoch 59/100\n",
      "316/316 [==============================] - 0s 92us/sample - loss: 1.0515 - val_loss: 1.0574\n",
      "Epoch 60/100\n",
      "316/316 [==============================] - 0s 89us/sample - loss: 1.1841 - val_loss: 1.0671\n",
      "Epoch 61/100\n",
      "316/316 [==============================] - 0s 85us/sample - loss: 1.2125 - val_loss: 1.0702\n",
      "Epoch 62/100\n",
      "316/316 [==============================] - 0s 92us/sample - loss: 1.0508 - val_loss: 1.0354\n",
      "Epoch 63/100\n",
      "316/316 [==============================] - 0s 82us/sample - loss: 1.0937 - val_loss: 1.1110\n",
      "Epoch 64/100\n",
      "316/316 [==============================] - 0s 92us/sample - loss: 1.0074 - val_loss: 1.0995\n",
      "Epoch 65/100\n",
      "316/316 [==============================] - 0s 95us/sample - loss: 0.9923 - val_loss: 1.0499\n",
      "Epoch 66/100\n",
      "316/316 [==============================] - 0s 85us/sample - loss: 1.1368 - val_loss: 1.0636\n",
      "Epoch 67/100\n",
      "316/316 [==============================] - 0s 92us/sample - loss: 1.0423 - val_loss: 1.0221\n",
      "Epoch 68/100\n",
      "316/316 [==============================] - 0s 89us/sample - loss: 1.0459 - val_loss: 1.0203\n",
      "Epoch 69/100\n",
      "316/316 [==============================] - 0s 85us/sample - loss: 1.0938 - val_loss: 1.0076\n",
      "Epoch 70/100\n",
      "316/316 [==============================] - 0s 92us/sample - loss: 1.1117 - val_loss: 0.9683\n",
      "Epoch 71/100\n",
      "316/316 [==============================] - 0s 85us/sample - loss: 1.0998 - val_loss: 0.9971\n",
      "Epoch 72/100\n",
      "316/316 [==============================] - 0s 92us/sample - loss: 1.1054 - val_loss: 1.0435\n",
      "Epoch 73/100\n",
      "316/316 [==============================] - ETA: 0s - loss: 0.949 - 0s 92us/sample - loss: 1.1087 - val_loss: 1.0982\n",
      "Epoch 74/100\n",
      "316/316 [==============================] - 0s 89us/sample - loss: 1.1822 - val_loss: 1.0096\n",
      "Epoch 75/100\n",
      "316/316 [==============================] - 0s 85us/sample - loss: 0.9419 - val_loss: 0.8680\n",
      "Epoch 76/100\n",
      "316/316 [==============================] - 0s 95us/sample - loss: 1.0034 - val_loss: 0.8692\n",
      "Epoch 77/100\n",
      "316/316 [==============================] - 0s 85us/sample - loss: 1.1307 - val_loss: 1.0308\n",
      "Epoch 78/100\n"
     ]
    },
    {
     "name": "stdout",
     "output_type": "stream",
     "text": [
      "316/316 [==============================] - 0s 85us/sample - loss: 0.9700 - val_loss: 1.0967\n",
      "Epoch 79/100\n",
      "316/316 [==============================] - 0s 85us/sample - loss: 1.1116 - val_loss: 1.0160\n",
      "Epoch 80/100\n",
      "316/316 [==============================] - 0s 95us/sample - loss: 0.9861 - val_loss: 0.8850\n",
      "Epoch 81/100\n",
      "316/316 [==============================] - 0s 104us/sample - loss: 0.9611 - val_loss: 0.8533\n",
      "Epoch 82/100\n",
      "316/316 [==============================] - 0s 92us/sample - loss: 0.9158 - val_loss: 0.8512\n",
      "Epoch 83/100\n",
      "316/316 [==============================] - 0s 89us/sample - loss: 1.0392 - val_loss: 0.9269\n",
      "Epoch 84/100\n",
      "316/316 [==============================] - 0s 82us/sample - loss: 1.0441 - val_loss: 0.9054\n",
      "Epoch 85/100\n",
      "316/316 [==============================] - 0s 82us/sample - loss: 0.9906 - val_loss: 0.9072\n",
      "Epoch 86/100\n",
      "316/316 [==============================] - 0s 89us/sample - loss: 1.0330 - val_loss: 0.9389\n",
      "Epoch 87/100\n",
      "316/316 [==============================] - 0s 89us/sample - loss: 0.9244 - val_loss: 0.9536\n",
      "Epoch 88/100\n",
      "316/316 [==============================] - 0s 82us/sample - loss: 1.0138 - val_loss: 0.9083\n",
      "Epoch 89/100\n",
      "316/316 [==============================] - 0s 82us/sample - loss: 0.9093 - val_loss: 0.8982\n",
      "Epoch 90/100\n",
      "316/316 [==============================] - 0s 85us/sample - loss: 0.9317 - val_loss: 0.9059\n",
      "Epoch 91/100\n",
      "316/316 [==============================] - 0s 82us/sample - loss: 0.9473 - val_loss: 0.8310\n",
      "Epoch 92/100\n",
      "316/316 [==============================] - 0s 82us/sample - loss: 0.9039 - val_loss: 0.8129\n",
      "Epoch 93/100\n",
      "316/316 [==============================] - 0s 89us/sample - loss: 0.8877 - val_loss: 0.8639\n",
      "Epoch 94/100\n",
      "316/316 [==============================] - 0s 89us/sample - loss: 0.7886 - val_loss: 0.9245\n",
      "Epoch 95/100\n",
      "316/316 [==============================] - 0s 82us/sample - loss: 0.9131 - val_loss: 0.9064\n",
      "Epoch 96/100\n",
      "316/316 [==============================] - 0s 85us/sample - loss: 0.8755 - val_loss: 0.8203\n",
      "Epoch 97/100\n",
      "316/316 [==============================] - 0s 85us/sample - loss: 0.9845 - val_loss: 0.7547\n",
      "Epoch 98/100\n",
      "316/316 [==============================] - 0s 85us/sample - loss: 0.9517 - val_loss: 0.8266\n",
      "Epoch 99/100\n",
      "316/316 [==============================] - 0s 82us/sample - loss: 0.8232 - val_loss: 0.8940\n",
      "Epoch 100/100\n",
      "316/316 [==============================] - 0s 89us/sample - loss: 0.8860 - val_loss: 0.8337\n"
     ]
    },
    {
     "data": {
      "text/plain": [
       "<tensorflow.python.keras.callbacks.History at 0x1f71b7d1988>"
      ]
     },
     "execution_count": 46,
     "metadata": {},
     "output_type": "execute_result"
    }
   ],
   "source": [
    "model = Sequential()\n",
    "\n",
    "model.add(Dense(32,activation = 'relu'))\n",
    "model.add(Dropout(0.25))\n",
    "model.add(Dense(32,activation = 'relu'))\n",
    "model.add(Dropout(0.25))\n",
    "model.add(Dense(32,activation = 'relu'))\n",
    "model.add(Dropout(0.25))\n",
    "model.add(Dense(32,activation = 'relu'))\n",
    "model.add(Dropout(0.25))\n",
    "model.add(Dense(1))\n",
    "\n",
    "model.compile(optimizer = 'adam',loss = 'mse')\n",
    "\n",
    "model.fit(X_train,y_train,validation_data = (X_base,y_base),batch_size = 64,epochs = 100)"
   ]
  },
  {
   "cell_type": "code",
   "execution_count": 47,
   "metadata": {},
   "outputs": [],
   "source": [
    "y_pred_nn_meta = model.predict(X_meta)\n",
    "y_pred_nn_test = model.predict(X_test)"
   ]
  },
  {
   "cell_type": "code",
   "execution_count": 48,
   "metadata": {},
   "outputs": [
    {
     "data": {
      "text/html": [
       "<div>\n",
       "<style scoped>\n",
       "    .dataframe tbody tr th:only-of-type {\n",
       "        vertical-align: middle;\n",
       "    }\n",
       "\n",
       "    .dataframe tbody tr th {\n",
       "        vertical-align: top;\n",
       "    }\n",
       "\n",
       "    .dataframe thead th {\n",
       "        text-align: right;\n",
       "    }\n",
       "</style>\n",
       "<table border=\"1\" class=\"dataframe\">\n",
       "  <thead>\n",
       "    <tr style=\"text-align: right;\">\n",
       "      <th></th>\n",
       "      <th>y_pred_dt_meta</th>\n",
       "      <th>y_pred_rf_meta</th>\n",
       "      <th>y_pred_xgb_meta</th>\n",
       "      <th>y_pred_nn_meta</th>\n",
       "    </tr>\n",
       "  </thead>\n",
       "  <tbody>\n",
       "    <tr>\n",
       "      <th>0</th>\n",
       "      <td>3.202532</td>\n",
       "      <td>3.381116</td>\n",
       "      <td>3.179105</td>\n",
       "      <td>2.649421</td>\n",
       "    </tr>\n",
       "    <tr>\n",
       "      <th>1</th>\n",
       "      <td>3.202532</td>\n",
       "      <td>3.236324</td>\n",
       "      <td>3.519797</td>\n",
       "      <td>2.439381</td>\n",
       "    </tr>\n",
       "    <tr>\n",
       "      <th>2</th>\n",
       "      <td>3.202532</td>\n",
       "      <td>3.523419</td>\n",
       "      <td>3.471970</td>\n",
       "      <td>2.660402</td>\n",
       "    </tr>\n",
       "    <tr>\n",
       "      <th>3</th>\n",
       "      <td>3.202532</td>\n",
       "      <td>2.830705</td>\n",
       "      <td>3.103093</td>\n",
       "      <td>2.371283</td>\n",
       "    </tr>\n",
       "    <tr>\n",
       "      <th>4</th>\n",
       "      <td>3.202532</td>\n",
       "      <td>3.092715</td>\n",
       "      <td>3.041974</td>\n",
       "      <td>2.600362</td>\n",
       "    </tr>\n",
       "  </tbody>\n",
       "</table>\n",
       "</div>"
      ],
      "text/plain": [
       "   y_pred_dt_meta  y_pred_rf_meta  y_pred_xgb_meta  y_pred_nn_meta\n",
       "0        3.202532        3.381116         3.179105        2.649421\n",
       "1        3.202532        3.236324         3.519797        2.439381\n",
       "2        3.202532        3.523419         3.471970        2.660402\n",
       "3        3.202532        2.830705         3.103093        2.371283\n",
       "4        3.202532        3.092715         3.041974        2.600362"
      ]
     },
     "execution_count": 48,
     "metadata": {},
     "output_type": "execute_result"
    }
   ],
   "source": [
    "y_pred_dt_meta = pd.DataFrame(y_pred_dt_meta)\n",
    "y_pred_rf_meta = pd.DataFrame(y_pred_rf_meta)\n",
    "y_pred_xgb_meta = pd.DataFrame(y_pred_xgb_meta)\n",
    "y_pred_nn_meta = pd.DataFrame(y_pred_nn_meta)\n",
    "\n",
    "df_X_meta = pd.concat([y_pred_dt_meta,y_pred_rf_meta,y_pred_xgb_meta,y_pred_nn_meta],axis = 1)\n",
    "df_X_meta.columns = ['y_pred_dt_meta','y_pred_rf_meta','y_pred_xgb_meta','y_pred_nn_meta']\n",
    "\n",
    "df_X_meta.head()"
   ]
  },
  {
   "cell_type": "code",
   "execution_count": 49,
   "metadata": {
    "scrolled": false
   },
   "outputs": [
    {
     "data": {
      "text/html": [
       "<div>\n",
       "<style scoped>\n",
       "    .dataframe tbody tr th:only-of-type {\n",
       "        vertical-align: middle;\n",
       "    }\n",
       "\n",
       "    .dataframe tbody tr th {\n",
       "        vertical-align: top;\n",
       "    }\n",
       "\n",
       "    .dataframe thead th {\n",
       "        text-align: right;\n",
       "    }\n",
       "</style>\n",
       "<table border=\"1\" class=\"dataframe\">\n",
       "  <thead>\n",
       "    <tr style=\"text-align: right;\">\n",
       "      <th></th>\n",
       "      <th>y_pred_dt_test</th>\n",
       "      <th>y_pred_rf_test</th>\n",
       "      <th>y_pred_xgb_test</th>\n",
       "      <th>y_pred_nn_test</th>\n",
       "    </tr>\n",
       "  </thead>\n",
       "  <tbody>\n",
       "    <tr>\n",
       "      <th>0</th>\n",
       "      <td>3.202532</td>\n",
       "      <td>2.945532</td>\n",
       "      <td>2.249026</td>\n",
       "      <td>2.207675</td>\n",
       "    </tr>\n",
       "    <tr>\n",
       "      <th>1</th>\n",
       "      <td>3.202532</td>\n",
       "      <td>3.033072</td>\n",
       "      <td>2.567195</td>\n",
       "      <td>3.116466</td>\n",
       "    </tr>\n",
       "    <tr>\n",
       "      <th>2</th>\n",
       "      <td>3.202532</td>\n",
       "      <td>3.226404</td>\n",
       "      <td>3.267672</td>\n",
       "      <td>2.405627</td>\n",
       "    </tr>\n",
       "    <tr>\n",
       "      <th>3</th>\n",
       "      <td>3.202532</td>\n",
       "      <td>2.861509</td>\n",
       "      <td>2.862114</td>\n",
       "      <td>2.844582</td>\n",
       "    </tr>\n",
       "    <tr>\n",
       "      <th>4</th>\n",
       "      <td>3.202532</td>\n",
       "      <td>3.159869</td>\n",
       "      <td>3.272926</td>\n",
       "      <td>3.628679</td>\n",
       "    </tr>\n",
       "  </tbody>\n",
       "</table>\n",
       "</div>"
      ],
      "text/plain": [
       "   y_pred_dt_test  y_pred_rf_test  y_pred_xgb_test  y_pred_nn_test\n",
       "0        3.202532        2.945532         2.249026        2.207675\n",
       "1        3.202532        3.033072         2.567195        3.116466\n",
       "2        3.202532        3.226404         3.267672        2.405627\n",
       "3        3.202532        2.861509         2.862114        2.844582\n",
       "4        3.202532        3.159869         3.272926        3.628679"
      ]
     },
     "execution_count": 49,
     "metadata": {},
     "output_type": "execute_result"
    }
   ],
   "source": [
    "y_pred_dt_test = pd.DataFrame(y_pred_dt_test)\n",
    "y_pred_rf_test = pd.DataFrame(y_pred_rf_test)\n",
    "y_pred_xgb_test = pd.DataFrame(y_pred_xgb_test)\n",
    "y_pred_nn_test = pd.DataFrame(y_pred_nn_test)\n",
    "\n",
    "df_X_test = pd.concat([y_pred_dt_test,y_pred_rf_test,y_pred_xgb_test,y_pred_nn_test],axis = 1)\n",
    "df_X_test.columns = ['y_pred_dt_test','y_pred_rf_test','y_pred_xgb_test','y_pred_nn_test']\n",
    "\n",
    "df_X_test.head()"
   ]
  },
  {
   "cell_type": "markdown",
   "metadata": {},
   "source": [
    "### Meta Model "
   ]
  },
  {
   "cell_type": "code",
   "execution_count": 50,
   "metadata": {},
   "outputs": [],
   "source": [
    "model = LinearRegression()\n",
    "model.fit(df_X_meta,y_meta)\n",
    "\n",
    "y_pred_test = model.predict(df_X_test)"
   ]
  },
  {
   "cell_type": "code",
   "execution_count": 51,
   "metadata": {},
   "outputs": [
    {
     "data": {
      "text/html": [
       "<div>\n",
       "<style scoped>\n",
       "    .dataframe tbody tr th:only-of-type {\n",
       "        vertical-align: middle;\n",
       "    }\n",
       "\n",
       "    .dataframe tbody tr th {\n",
       "        vertical-align: top;\n",
       "    }\n",
       "\n",
       "    .dataframe thead th {\n",
       "        text-align: right;\n",
       "    }\n",
       "</style>\n",
       "<table border=\"1\" class=\"dataframe\">\n",
       "  <thead>\n",
       "    <tr style=\"text-align: right;\">\n",
       "      <th></th>\n",
       "      <th>y_pred_test</th>\n",
       "      <th>y_test</th>\n",
       "    </tr>\n",
       "  </thead>\n",
       "  <tbody>\n",
       "    <tr>\n",
       "      <th>0</th>\n",
       "      <td>2.261706</td>\n",
       "      <td>3</td>\n",
       "    </tr>\n",
       "    <tr>\n",
       "      <th>1</th>\n",
       "      <td>4.190090</td>\n",
       "      <td>3</td>\n",
       "    </tr>\n",
       "    <tr>\n",
       "      <th>2</th>\n",
       "      <td>2.385924</td>\n",
       "      <td>2</td>\n",
       "    </tr>\n",
       "    <tr>\n",
       "      <th>3</th>\n",
       "      <td>3.345092</td>\n",
       "      <td>3</td>\n",
       "    </tr>\n",
       "    <tr>\n",
       "      <th>4</th>\n",
       "      <td>5.073716</td>\n",
       "      <td>3</td>\n",
       "    </tr>\n",
       "  </tbody>\n",
       "</table>\n",
       "</div>"
      ],
      "text/plain": [
       "   y_pred_test  y_test\n",
       "0     2.261706       3\n",
       "1     4.190090       3\n",
       "2     2.385924       2\n",
       "3     3.345092       3\n",
       "4     5.073716       3"
      ]
     },
     "execution_count": 51,
     "metadata": {},
     "output_type": "execute_result"
    }
   ],
   "source": [
    "y_pred_test = pd.DataFrame(y_pred_test)\n",
    "\n",
    "df_temp = pd.concat([y_pred_test,y_test],axis = 1)\n",
    "df_temp.columns = ['y_pred_test','y_test']\n",
    "\n",
    "df_temp.head()"
   ]
  },
  {
   "cell_type": "code",
   "execution_count": 52,
   "metadata": {},
   "outputs": [
    {
     "data": {
      "image/png": "[encoded data removed]",
      "text/plain": [
       "<Figure size 432x288 with 1 Axes>"
      ]
     },
     "metadata": {
      "needs_background": "light"
     },
     "output_type": "display_data"
    }
   ],
   "source": [
    "plt.scatter(df_temp['y_test'],df_temp['y_pred_test'])\n",
    "plt.xlabel('y_test',fontsize = 14)\n",
    "plt.ylabel('y_pred_test',fontsize = 14)\n",
    "plt.xlim(0,6)\n",
    "plt.ylim(0,6)\n",
    "plt.xticks(list(range(0,6)))\n",
    "plt.yticks(list(range(0,6)))\n",
    "plt.grid()\n",
    "y_lim = plt.ylim()\n",
    "x_lim = plt.xlim()\n",
    "plt.plot(x_lim,y_lim,color = 'g',linewidth = 0.5);"
   ]
  },
  {
   "cell_type": "code",
   "execution_count": 53,
   "metadata": {},
   "outputs": [
    {
     "data": {
      "text/plain": [
       "0.9521891144768891"
      ]
     },
     "execution_count": 53,
     "metadata": {},
     "output_type": "execute_result"
    }
   ],
   "source": [
    "rmse(y_pred_test,y_test)"
   ]
  },
  {
   "cell_type": "code",
   "execution_count": 54,
   "metadata": {},
   "outputs": [
    {
     "data": {
      "text/plain": [
       "0.7964795256151581"
      ]
     },
     "execution_count": 54,
     "metadata": {},
     "output_type": "execute_result"
    }
   ],
   "source": [
    "mean_absolute_error(y_pred_test,y_test)"
   ]
  }
 ],
 "metadata": {
  "kernelspec": {
   "display_name": "Python 3",
   "language": "python",
   "name": "python3"
  },
  "language_info": {
   "codemirror_mode": {
    "name": "ipython",
    "version": 3
   },
   "file_extension": ".py",
   "mimetype": "text/x-python",
   "name": "python",
   "nbconvert_exporter": "python",
   "pygments_lexer": "ipython3",
   "version": "3.7.7"
  }
 },
 "nbformat": 4,
 "nbformat_minor": 4
}
