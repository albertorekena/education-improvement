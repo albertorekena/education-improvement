{
 "cells": [
  {
   "cell_type": "code",
   "execution_count": 1,
   "metadata": {},
   "outputs": [],
   "source": [
    "import numpy as np\n",
    "import pandas as pd\n",
    "\n",
    "import matplotlib.pyplot as plt\n",
    "import seaborn as sns\n",
    "%matplotlib inline\n",
    "\n",
    "from scipy.stats import uniform\n",
    "from scipy.stats import randint as sp_randint\n",
    "\n",
    "from sklearn.preprocessing import MinMaxScaler\n",
    "\n",
    "from sklearn.decomposition import PCA\n",
    "\n",
    "from sklearn.model_selection import ParameterSampler\n",
    "\n",
    "from sklearn.cluster import DBSCAN\n",
    "\n",
    "from sklearn.metrics import silhouette_score\n",
    "\n",
    "import warnings\n",
    "warnings.filterwarnings('ignore')\n",
    "\n",
    "pd.set_option('display.max_columns',100)\n",
    "pd.set_option('display.max_rows',1000)"
   ]
  },
  {
   "cell_type": "code",
   "execution_count": 2,
   "metadata": {},
   "outputs": [
    {
     "data": {
      "text/html": [
       "<div>\n",
       "<style scoped>\n",
       "    .dataframe tbody tr th:only-of-type {\n",
       "        vertical-align: middle;\n",
       "    }\n",
       "\n",
       "    .dataframe tbody tr th {\n",
       "        vertical-align: top;\n",
       "    }\n",
       "\n",
       "    .dataframe thead th {\n",
       "        text-align: right;\n",
       "    }\n",
       "</style>\n",
       "<table border=\"1\" class=\"dataframe\">\n",
       "  <thead>\n",
       "    <tr style=\"text-align: right;\">\n",
       "      <th></th>\n",
       "      <th>school</th>\n",
       "      <th>sex</th>\n",
       "      <th>age</th>\n",
       "      <th>address</th>\n",
       "      <th>famsize</th>\n",
       "      <th>Pstatus</th>\n",
       "      <th>Medu</th>\n",
       "      <th>Fedu</th>\n",
       "      <th>traveltime</th>\n",
       "      <th>studytime</th>\n",
       "      <th>failures</th>\n",
       "      <th>schoolsup</th>\n",
       "      <th>famsup</th>\n",
       "      <th>paid</th>\n",
       "      <th>activities</th>\n",
       "      <th>nursery</th>\n",
       "      <th>higher</th>\n",
       "      <th>internet</th>\n",
       "      <th>romantic</th>\n",
       "      <th>famrel</th>\n",
       "      <th>freetime</th>\n",
       "      <th>goout</th>\n",
       "      <th>Dalc</th>\n",
       "      <th>Walc</th>\n",
       "      <th>health</th>\n",
       "      <th>absences</th>\n",
       "      <th>G3</th>\n",
       "      <th>Mjob_at_home</th>\n",
       "      <th>Mjob_other</th>\n",
       "      <th>Mjob_services</th>\n",
       "      <th>Mjob_teacher</th>\n",
       "      <th>Fjob_at_home</th>\n",
       "      <th>Fjob_other</th>\n",
       "      <th>Fjob_services</th>\n",
       "      <th>Fjob_teacher</th>\n",
       "      <th>reason_course</th>\n",
       "      <th>reason_home</th>\n",
       "      <th>reason_reputation</th>\n",
       "      <th>guardian_father</th>\n",
       "      <th>guardian_mother</th>\n",
       "    </tr>\n",
       "  </thead>\n",
       "  <tbody>\n",
       "    <tr>\n",
       "      <th>0</th>\n",
       "      <td>1</td>\n",
       "      <td>1</td>\n",
       "      <td>18</td>\n",
       "      <td>1</td>\n",
       "      <td>1</td>\n",
       "      <td>0</td>\n",
       "      <td>4</td>\n",
       "      <td>4</td>\n",
       "      <td>2</td>\n",
       "      <td>2</td>\n",
       "      <td>0</td>\n",
       "      <td>1</td>\n",
       "      <td>0</td>\n",
       "      <td>0</td>\n",
       "      <td>0</td>\n",
       "      <td>1</td>\n",
       "      <td>1</td>\n",
       "      <td>0</td>\n",
       "      <td>0</td>\n",
       "      <td>4</td>\n",
       "      <td>3</td>\n",
       "      <td>4</td>\n",
       "      <td>1</td>\n",
       "      <td>1</td>\n",
       "      <td>3</td>\n",
       "      <td>4</td>\n",
       "      <td>6</td>\n",
       "      <td>1</td>\n",
       "      <td>0</td>\n",
       "      <td>0</td>\n",
       "      <td>0</td>\n",
       "      <td>0</td>\n",
       "      <td>0</td>\n",
       "      <td>0</td>\n",
       "      <td>1</td>\n",
       "      <td>1</td>\n",
       "      <td>0</td>\n",
       "      <td>0</td>\n",
       "      <td>0</td>\n",
       "      <td>1</td>\n",
       "    </tr>\n",
       "    <tr>\n",
       "      <th>1</th>\n",
       "      <td>1</td>\n",
       "      <td>1</td>\n",
       "      <td>17</td>\n",
       "      <td>1</td>\n",
       "      <td>1</td>\n",
       "      <td>1</td>\n",
       "      <td>1</td>\n",
       "      <td>1</td>\n",
       "      <td>1</td>\n",
       "      <td>2</td>\n",
       "      <td>0</td>\n",
       "      <td>0</td>\n",
       "      <td>1</td>\n",
       "      <td>0</td>\n",
       "      <td>0</td>\n",
       "      <td>0</td>\n",
       "      <td>1</td>\n",
       "      <td>1</td>\n",
       "      <td>0</td>\n",
       "      <td>5</td>\n",
       "      <td>3</td>\n",
       "      <td>3</td>\n",
       "      <td>1</td>\n",
       "      <td>1</td>\n",
       "      <td>3</td>\n",
       "      <td>2</td>\n",
       "      <td>6</td>\n",
       "      <td>1</td>\n",
       "      <td>0</td>\n",
       "      <td>0</td>\n",
       "      <td>0</td>\n",
       "      <td>0</td>\n",
       "      <td>1</td>\n",
       "      <td>0</td>\n",
       "      <td>0</td>\n",
       "      <td>1</td>\n",
       "      <td>0</td>\n",
       "      <td>0</td>\n",
       "      <td>1</td>\n",
       "      <td>0</td>\n",
       "    </tr>\n",
       "    <tr>\n",
       "      <th>2</th>\n",
       "      <td>1</td>\n",
       "      <td>1</td>\n",
       "      <td>15</td>\n",
       "      <td>1</td>\n",
       "      <td>0</td>\n",
       "      <td>1</td>\n",
       "      <td>1</td>\n",
       "      <td>1</td>\n",
       "      <td>1</td>\n",
       "      <td>2</td>\n",
       "      <td>0</td>\n",
       "      <td>1</td>\n",
       "      <td>0</td>\n",
       "      <td>0</td>\n",
       "      <td>0</td>\n",
       "      <td>1</td>\n",
       "      <td>1</td>\n",
       "      <td>1</td>\n",
       "      <td>0</td>\n",
       "      <td>4</td>\n",
       "      <td>3</td>\n",
       "      <td>2</td>\n",
       "      <td>2</td>\n",
       "      <td>3</td>\n",
       "      <td>3</td>\n",
       "      <td>6</td>\n",
       "      <td>6</td>\n",
       "      <td>1</td>\n",
       "      <td>0</td>\n",
       "      <td>0</td>\n",
       "      <td>0</td>\n",
       "      <td>0</td>\n",
       "      <td>1</td>\n",
       "      <td>0</td>\n",
       "      <td>0</td>\n",
       "      <td>0</td>\n",
       "      <td>0</td>\n",
       "      <td>0</td>\n",
       "      <td>0</td>\n",
       "      <td>1</td>\n",
       "    </tr>\n",
       "    <tr>\n",
       "      <th>3</th>\n",
       "      <td>1</td>\n",
       "      <td>1</td>\n",
       "      <td>15</td>\n",
       "      <td>1</td>\n",
       "      <td>1</td>\n",
       "      <td>1</td>\n",
       "      <td>4</td>\n",
       "      <td>2</td>\n",
       "      <td>1</td>\n",
       "      <td>3</td>\n",
       "      <td>0</td>\n",
       "      <td>0</td>\n",
       "      <td>1</td>\n",
       "      <td>0</td>\n",
       "      <td>1</td>\n",
       "      <td>1</td>\n",
       "      <td>1</td>\n",
       "      <td>1</td>\n",
       "      <td>1</td>\n",
       "      <td>3</td>\n",
       "      <td>2</td>\n",
       "      <td>2</td>\n",
       "      <td>1</td>\n",
       "      <td>1</td>\n",
       "      <td>5</td>\n",
       "      <td>0</td>\n",
       "      <td>7</td>\n",
       "      <td>0</td>\n",
       "      <td>0</td>\n",
       "      <td>0</td>\n",
       "      <td>0</td>\n",
       "      <td>0</td>\n",
       "      <td>0</td>\n",
       "      <td>1</td>\n",
       "      <td>0</td>\n",
       "      <td>0</td>\n",
       "      <td>1</td>\n",
       "      <td>0</td>\n",
       "      <td>0</td>\n",
       "      <td>1</td>\n",
       "    </tr>\n",
       "    <tr>\n",
       "      <th>4</th>\n",
       "      <td>1</td>\n",
       "      <td>1</td>\n",
       "      <td>16</td>\n",
       "      <td>1</td>\n",
       "      <td>1</td>\n",
       "      <td>1</td>\n",
       "      <td>3</td>\n",
       "      <td>3</td>\n",
       "      <td>1</td>\n",
       "      <td>2</td>\n",
       "      <td>0</td>\n",
       "      <td>0</td>\n",
       "      <td>1</td>\n",
       "      <td>0</td>\n",
       "      <td>0</td>\n",
       "      <td>1</td>\n",
       "      <td>1</td>\n",
       "      <td>0</td>\n",
       "      <td>0</td>\n",
       "      <td>4</td>\n",
       "      <td>3</td>\n",
       "      <td>2</td>\n",
       "      <td>1</td>\n",
       "      <td>2</td>\n",
       "      <td>5</td>\n",
       "      <td>0</td>\n",
       "      <td>7</td>\n",
       "      <td>0</td>\n",
       "      <td>1</td>\n",
       "      <td>0</td>\n",
       "      <td>0</td>\n",
       "      <td>0</td>\n",
       "      <td>1</td>\n",
       "      <td>0</td>\n",
       "      <td>0</td>\n",
       "      <td>0</td>\n",
       "      <td>1</td>\n",
       "      <td>0</td>\n",
       "      <td>1</td>\n",
       "      <td>0</td>\n",
       "    </tr>\n",
       "  </tbody>\n",
       "</table>\n",
       "</div>"
      ],
      "text/plain": [
       "   school  sex  age  address  famsize  Pstatus  Medu  Fedu  traveltime  \\\n",
       "0       1    1   18        1        1        0     4     4           2   \n",
       "1       1    1   17        1        1        1     1     1           1   \n",
       "2       1    1   15        1        0        1     1     1           1   \n",
       "3       1    1   15        1        1        1     4     2           1   \n",
       "4       1    1   16        1        1        1     3     3           1   \n",
       "\n",
       "   studytime  failures  schoolsup  famsup  paid  activities  nursery  higher  \\\n",
       "0          2         0          1       0     0           0        1       1   \n",
       "1          2         0          0       1     0           0        0       1   \n",
       "2          2         0          1       0     0           0        1       1   \n",
       "3          3         0          0       1     0           1        1       1   \n",
       "4          2         0          0       1     0           0        1       1   \n",
       "\n",
       "   internet  romantic  famrel  freetime  goout  Dalc  Walc  health  absences  \\\n",
       "0         0         0       4         3      4     1     1       3         4   \n",
       "1         1         0       5         3      3     1     1       3         2   \n",
       "2         1         0       4         3      2     2     3       3         6   \n",
       "3         1         1       3         2      2     1     1       5         0   \n",
       "4         0         0       4         3      2     1     2       5         0   \n",
       "\n",
       "   G3  Mjob_at_home  Mjob_other  Mjob_services  Mjob_teacher  Fjob_at_home  \\\n",
       "0   6             1           0              0             0             0   \n",
       "1   6             1           0              0             0             0   \n",
       "2   6             1           0              0             0             0   \n",
       "3   7             0           0              0             0             0   \n",
       "4   7             0           1              0             0             0   \n",
       "\n",
       "   Fjob_other  Fjob_services  Fjob_teacher  reason_course  reason_home  \\\n",
       "0           0              0             1              1            0   \n",
       "1           1              0             0              1            0   \n",
       "2           1              0             0              0            0   \n",
       "3           0              1             0              0            1   \n",
       "4           1              0             0              0            1   \n",
       "\n",
       "   reason_reputation  guardian_father  guardian_mother  \n",
       "0                  0                0                1  \n",
       "1                  0                1                0  \n",
       "2                  0                0                1  \n",
       "3                  0                0                1  \n",
       "4                  0                1                0  "
      ]
     },
     "execution_count": 2,
     "metadata": {},
     "output_type": "execute_result"
    }
   ],
   "source": [
    "df_por = pd.read_pickle('df_por_modelling_range-G3-10_repaired-G3-0-values.pkl')\n",
    "\n",
    "df_por.head()"
   ]
  },
  {
   "cell_type": "markdown",
   "metadata": {},
   "source": [
    "## PCA "
   ]
  },
  {
   "cell_type": "code",
   "execution_count": 3,
   "metadata": {},
   "outputs": [],
   "source": [
    "X = np.array(df_por.drop('G3',axis = 1))"
   ]
  },
  {
   "cell_type": "code",
   "execution_count": 4,
   "metadata": {},
   "outputs": [
    {
     "data": {
      "text/plain": [
       "StandardScaler(copy=True, with_mean=True, with_std=True)"
      ]
     },
     "execution_count": 4,
     "metadata": {},
     "output_type": "execute_result"
    }
   ],
   "source": [
    "sc = MinMaxScaler()\n",
    "sc.fit(X)"
   ]
  },
  {
   "cell_type": "code",
   "execution_count": 5,
   "metadata": {},
   "outputs": [
    {
     "data": {
      "text/plain": [
       "array([[ 0.73094388,  0.83337685,  1.03169516, ..., -0.53160953,\n",
       "        -0.55539872,  0.65297291],\n",
       "       [ 0.73094388,  0.83337685,  0.21013668, ..., -0.53160953,\n",
       "         1.80050828, -1.53145709],\n",
       "       [ 0.73094388,  0.83337685, -1.43298028, ..., -0.53160953,\n",
       "        -0.55539872,  0.65297291],\n",
       "       ...,\n",
       "       [-1.36809408,  0.83337685,  1.03169516, ..., -0.53160953,\n",
       "        -0.55539872,  0.65297291],\n",
       "       [-1.36809408, -1.19993734,  0.21013668, ..., -0.53160953,\n",
       "        -0.55539872,  0.65297291],\n",
       "       [-1.36809408, -1.19993734,  1.03169516, ..., -0.53160953,\n",
       "        -0.55539872,  0.65297291]])"
      ]
     },
     "execution_count": 5,
     "metadata": {},
     "output_type": "execute_result"
    }
   ],
   "source": [
    "X = sc.transform(X)\n",
    "\n",
    "X"
   ]
  },
  {
   "cell_type": "code",
   "execution_count": 6,
   "metadata": {},
   "outputs": [
    {
     "data": {
      "text/plain": [
       "PCA(copy=True, iterated_power='auto', n_components=None, random_state=None,\n",
       "    svd_solver='auto', tol=0.0, whiten=False)"
      ]
     },
     "execution_count": 6,
     "metadata": {},
     "output_type": "execute_result"
    }
   ],
   "source": [
    "pca = PCA()\n",
    "pca.fit(X)"
   ]
  },
  {
   "cell_type": "code",
   "execution_count": 7,
   "metadata": {
    "scrolled": false
   },
   "outputs": [
    {
     "data": {
      "image/png": "[encoded data removed]",
      "text/plain": [
       "<Figure size 1152x576 with 1 Axes>"
      ]
     },
     "metadata": {
      "needs_background": "light"
     },
     "output_type": "display_data"
    }
   ],
   "source": [
    "plt.figure(figsize = (16,8))\n",
    "ax = sns.barplot(list(range(1,pca.n_components_ + 1)),pca.explained_variance_ratio_ * 100,color = '#1f77b4')\n",
    "plt.yticks(np.arange(0,11,1))\n",
    "plt.ylim(0,10)\n",
    "ax.yaxis.grid(True)\n",
    "plt.xlabel('PCA features',fontsize = 12)\n",
    "plt.ylabel('variance %',fontsize = 12)\n",
    "\n",
    "for rect,label in zip(ax.patches,np.around(pca.explained_variance_ratio_ * 100,1)):\n",
    "    height = rect.get_height()\n",
    "    ax.text(rect.get_x() + rect.get_width() / 2,height + 0.05,label,ha = 'center',va = 'bottom');"
   ]
  },
  {
   "cell_type": "markdown",
   "metadata": {},
   "source": [
    "## DBScan"
   ]
  },
  {
   "cell_type": "code",
   "execution_count": 8,
   "metadata": {},
   "outputs": [
    {
     "data": {
      "text/plain": [
       "(649, 3)"
      ]
     },
     "execution_count": 8,
     "metadata": {},
     "output_type": "execute_result"
    }
   ],
   "source": [
    "df_por_pca = pd.DataFrame(pca.transform(X))\n",
    "df_por_pca = df_por_pca.iloc[:,:3]\n",
    "\n",
    "df_por_pca.shape"
   ]
  },
  {
   "cell_type": "code",
   "execution_count": 9,
   "metadata": {
    "scrolled": true
   },
   "outputs": [
    {
     "data": {
      "text/plain": [
       "array([-1, -1,  0, -1, -1, -1,  0, -1, -1, -1, -1, -1, -1,  1,  2,  7, -1,\n",
       "       -1, -1,  1, -1, -1,  5, -1, -1,  8,  0, -1, -1, -1, -1, -1,  3,  6,\n",
       "        0,  4, -1, -1, -1, -1, -1, -1, -1, -1, -1, -1,  5, -1,  5, -1, -1,\n",
       "       11, -1,  3, -1,  0, -1, -1, -1,  6,  3, -1, -1, -1, -1,  3, -1, -1,\n",
       "       -1, -1, -1, 11,  0,  0,  1, -1,  6,  2, -1,  0, -1,  2,  7, -1,  0,\n",
       "       -1,  0, 11,  8, -1, 11,  5,  0, -1, -1, -1,  1,  0,  7, -1, -1, -1,\n",
       "       -1,  7,  1, -1, -1, -1, -1,  1, -1, -1,  0,  5,  8, -1, -1, -1, -1,\n",
       "        8, -1, -1, -1, 12,  0, -1, -1, -1, -1,  0, -1, -1,  9,  0, -1,  8,\n",
       "       -1, -1, 13, -1, -1, -1, -1, -1, -1,  0, 10, -1, -1, -1, -1, -1, -1,\n",
       "       -1, -1, -1, -1,  9, -1, -1, -1, -1, -1, -1, -1, -1, -1, -1, 13, -1,\n",
       "       -1,  0, -1, -1, -1, 10, 10, -1, -1, -1, -1, -1,  0, -1, -1,  0, -1,\n",
       "       -1, 11, -1, -1, -1, -1,  0, -1,  5, -1, -1,  2, -1, -1,  0,  0, -1,\n",
       "       -1, -1, -1, -1, -1, -1, -1, -1, -1, -1,  5,  2,  0,  0, -1, -1,  0,\n",
       "       -1,  0, -1, 11, -1, -1, -1,  6,  0, -1, -1, -1,  4,  4,  0, -1, -1,\n",
       "       -1,  0,  0, -1, -1,  0, -1, -1, -1,  3,  0,  0, -1,  0, -1,  0, -1,\n",
       "        9, -1, -1,  4, -1, -1, -1,  0, -1, -1,  0, 11, -1,  5, 12, -1,  3,\n",
       "        0, -1, -1,  0, -1, -1,  4, -1, -1, -1, -1, -1, -1,  0, 10, 10, -1,\n",
       "       -1,  8, -1,  0,  0, -1, -1, -1, -1, -1,  0, -1,  1,  0,  2, -1, -1,\n",
       "       -1, -1,  5, -1, -1, -1, -1, -1, -1,  0, -1, -1,  0, -1, -1, -1, -1,\n",
       "        3, -1, -1, -1, -1,  0,  0,  0, -1,  4, -1,  3, -1, -1, -1, -1,  6,\n",
       "       -1,  1,  0, -1, -1, -1,  3, -1, -1, -1, -1, 10, -1,  6,  0,  4,  3,\n",
       "       11, -1, -1,  4, -1, 12,  0,  1,  1, -1,  0, -1, -1, -1, -1, -1, -1,\n",
       "       -1, -1,  0,  5, -1, -1,  3, -1, -1, -1, -1,  0,  4, -1,  1,  0,  0,\n",
       "        5,  0, -1,  0, -1, -1,  4,  0, -1,  3, 12, -1, -1, -1, -1,  0,  0,\n",
       "       -1, -1,  3, -1, -1, -1,  0, -1, -1, -1, -1, -1,  0, -1, 11, 14,  0,\n",
       "       -1, -1, -1, -1,  0,  0, -1, -1, -1, -1, -1, -1, -1, -1, -1, -1, -1,\n",
       "       -1, -1, -1, -1, -1, -1, -1, -1, -1, -1,  0, -1, -1,  0, -1, -1, -1,\n",
       "       -1, -1, -1, -1, -1, -1, -1, -1, -1,  0, -1,  6, -1, -1, -1, -1, -1,\n",
       "        0, -1, -1, -1, -1, -1, -1, -1, -1, -1, -1, -1, -1, -1, -1, -1, -1,\n",
       "       -1, -1,  0, -1, -1,  4, -1, -1, -1, -1, -1,  0,  0, -1, -1, -1, -1,\n",
       "       -1, -1,  0,  0, -1,  0, -1, -1, 13,  4,  0, -1,  8, -1, -1,  1,  0,\n",
       "       -1,  0, -1, -1, 14, -1,  4, -1, -1,  0, -1,  0,  0,  0, -1,  3, -1,\n",
       "       14, -1, -1, -1, -1,  0, -1,  4, -1, -1, -1, -1, -1, -1, -1, -1, -1,\n",
       "       14, -1,  0, -1, -1, -1, -1, 14, -1, -1, -1, -1, -1, -1, -1, -1, -1,\n",
       "       -1, -1, -1, -1, -1, -1, -1, -1,  3, -1, -1, -1, -1, -1, -1,  0,  3,\n",
       "       12,  0, -1, -1, -1, -1, -1, -1, 11, -1, -1, 13,  0, -1, -1, -1,  0,\n",
       "       -1, -1, -1,  0, -1, -1, -1, -1, 13, -1, -1,  3, -1, -1, -1, -1,  0,\n",
       "        0,  0, -1, -1, -1,  0, -1, -1, -1, -1, -1, -1,  0, -1, -1, -1, -1,\n",
       "       -1, -1, -1], dtype=int64)"
      ]
     },
     "execution_count": 9,
     "metadata": {},
     "output_type": "execute_result"
    }
   ],
   "source": [
    "model = DBSCAN()\n",
    "y_dbscan = model.fit_predict(df_por_pca)\n",
    "\n",
    "y_dbscan"
   ]
  },
  {
   "cell_type": "code",
   "execution_count": 10,
   "metadata": {},
   "outputs": [
    {
     "data": {
      "text/plain": [
       "-1     440\n",
       " 0      97\n",
       " 3      17\n",
       " 4      14\n",
       " 1      12\n",
       " 5      11\n",
       " 11     10\n",
       " 8       7\n",
       " 6       7\n",
       " 10      6\n",
       " 2       6\n",
       " 14      5\n",
       " 13      5\n",
       " 12      5\n",
       " 7       4\n",
       " 9       3\n",
       "dtype: int64"
      ]
     },
     "execution_count": 10,
     "metadata": {},
     "output_type": "execute_result"
    }
   ],
   "source": [
    "pd.Series(y_dbscan).value_counts()"
   ]
  },
  {
   "cell_type": "code",
   "execution_count": 11,
   "metadata": {
    "scrolled": true
   },
   "outputs": [
    {
     "data": {
      "text/plain": [
       "[{'eps': 0.5618101782710437, 'min_samples': 1},\n",
       " {'eps': 0.2751521847992457, 'min_samples': 2},\n",
       " {'eps': 0.8979877262955549, 'min_samples': 1},\n",
       " {'eps': 0.6687491292803867, 'min_samples': 1},\n",
       " {'eps': 0.08712541825229919, 'min_samples': 2},\n",
       " {'eps': 0.5005629167085328, 'min_samples': 2},\n",
       " {'eps': 1.0621088666940683, 'min_samples': 2},\n",
       " {'eps': 0.08461736854065038, 'min_samples': 2},\n",
       " {'eps': 1.2486639612006325, 'min_samples': 2},\n",
       " {'eps': 0.0011681487615214925, 'min_samples': 2},\n",
       " {'eps': 0.2751067647801507, 'min_samples': 2},\n",
       " {'eps': 0.9174797407324213, 'min_samples': 1},\n",
       " {'eps': 0.6479175279631737, 'min_samples': 1},\n",
       " {'eps': 0.7871619903875837, 'min_samples': 1},\n",
       " {'eps': 0.20924079097806275, 'min_samples': 2},\n",
       " {'eps': 1.4606332782621887, 'min_samples': 1},\n",
       " {'eps': 0.6841049763255539, 'min_samples': 1},\n",
       " {'eps': 0.9275790139996309, 'min_samples': 2},\n",
       " {'eps': 0.7713516576204174, 'min_samples': 2},\n",
       " {'eps': 0.7001443398719699, 'min_samples': 1},\n",
       " {'eps': 0.9113172778521575, 'min_samples': 1},\n",
       " {'eps': 0.6757488779543145, 'min_samples': 2},\n",
       " {'eps': 1.42332830588, 'min_samples': 2},\n",
       " {'eps': 0.8449323267683089, 'min_samples': 2},\n",
       " {'eps': 0.45692065376005603, 'min_samples': 1},\n",
       " {'eps': 0.3463407384332235, 'min_samples': 2},\n",
       " {'eps': 0.660228740609402, 'min_samples': 1},\n",
       " {'eps': 0.9149949866739313, 'min_samples': 2},\n",
       " {'eps': 0.05158278167282759, 'min_samples': 2},\n",
       " {'eps': 0.5865909113598612, 'min_samples': 2},\n",
       " {'eps': 0.993783426530973, 'min_samples': 2},\n",
       " {'eps': 0.637733811736867, 'min_samples': 2},\n",
       " {'eps': 0.8200654190149195, 'min_samples': 2},\n",
       " {'eps': 0.046969938683337875, 'min_samples': 2},\n",
       " {'eps': 1.1626992350416718, 'min_samples': 2},\n",
       " {'eps': 0.5927253540027216, 'min_samples': 2},\n",
       " {'eps': 0.8968499682166278, 'min_samples': 2},\n",
       " {'eps': 0.48981115320875307, 'min_samples': 2},\n",
       " {'eps': 0.2939742936287178, 'min_samples': 1},\n",
       " {'eps': 1.4417580365240237, 'min_samples': 1},\n",
       " {'eps': 0.583015934534223, 'min_samples': 2},\n",
       " {'eps': 0.8095381985836196, 'min_samples': 2},\n",
       " {'eps': 0.5351299900403839, 'min_samples': 2},\n",
       " {'eps': 0.9105513715300271, 'min_samples': 1},\n",
       " {'eps': 0.21138633746214397, 'min_samples': 1},\n",
       " {'eps': 0.24790040859450374, 'min_samples': 1},\n",
       " {'eps': 1.480330404900776, 'min_samples': 2},\n",
       " {'eps': 0.5923222772633545, 'min_samples': 2},\n",
       " {'eps': 0.008283175685403599, 'min_samples': 1},\n",
       " {'eps': 0.29826360613320774, 'min_samples': 2}]"
      ]
     },
     "execution_count": 11,
     "metadata": {},
     "output_type": "execute_result"
    }
   ],
   "source": [
    "parameters_distribution = {'eps':uniform(0,1.5),'min_samples':sp_randint(1,3)}\n",
    "combinations = 50\n",
    "\n",
    "list_parameters = list(ParameterSampler(parameters_distribution,n_iter = combinations,random_state = 42))\n",
    "\n",
    "list_parameters"
   ]
  },
  {
   "cell_type": "code",
   "execution_count": 12,
   "metadata": {},
   "outputs": [],
   "source": [
    "results = []\n",
    "\n",
    "for parameters in list_parameters:\n",
    "    y_dbscan = DBSCAN(**parameters).fit_predict(df_por_pca)\n",
    "    try:\n",
    "        silhouette_coefficient = silhouette_score(df_por_pca,y_dbscan)\n",
    "    except ValueError:\n",
    "        silhouette_coefficient = -1\n",
    "    results.append([silhouette_coefficient,parameters])"
   ]
  },
  {
   "cell_type": "code",
   "execution_count": 13,
   "metadata": {
    "scrolled": true
   },
   "outputs": [
    {
     "data": {
      "text/plain": [
       "[[-0.23426738697976432, {'eps': 0.5618101782710437, 'min_samples': 1}],\n",
       " [-0.42776444077283216, {'eps': 0.2751521847992457, 'min_samples': 2}],\n",
       " [-0.35223741171331924, {'eps': 0.8979877262955549, 'min_samples': 1}],\n",
       " [-0.3938811056329986, {'eps': 0.6687491292803867, 'min_samples': 1}],\n",
       " [-1, {'eps': 0.08712541825229919, 'min_samples': 2}],\n",
       " [-0.1481241827998043, {'eps': 0.5005629167085328, 'min_samples': 2}],\n",
       " [-0.01902319851636294, {'eps': 1.0621088666940683, 'min_samples': 2}],\n",
       " [-1, {'eps': 0.08461736854065038, 'min_samples': 2}],\n",
       " [0.36105298980300726, {'eps': 1.2486639612006325, 'min_samples': 2}],\n",
       " [-1, {'eps': 0.0011681487615214925, 'min_samples': 2}],\n",
       " [-0.42776444077283216, {'eps': 0.2751067647801507, 'min_samples': 2}],\n",
       " [-0.33457832180916636, {'eps': 0.9174797407324213, 'min_samples': 1}],\n",
       " [-0.3818143668972542, {'eps': 0.6479175279631737, 'min_samples': 1}],\n",
       " [-0.354909684880719, {'eps': 0.7871619903875837, 'min_samples': 1}],\n",
       " [-0.5253513243484472, {'eps': 0.20924079097806275, 'min_samples': 2}],\n",
       " [0.11802195018905255, {'eps': 1.4606332782621887, 'min_samples': 1}],\n",
       " [-0.39338483318660566, {'eps': 0.6841049763255539, 'min_samples': 1}],\n",
       " [-0.07362336340536138, {'eps': 0.9275790139996309, 'min_samples': 2}],\n",
       " [-0.29217959313510433, {'eps': 0.7713516576204174, 'min_samples': 2}],\n",
       " [-0.3981183773316393, {'eps': 0.7001443398719699, 'min_samples': 1}],\n",
       " [-0.33457832180916636, {'eps': 0.9113172778521575, 'min_samples': 1}],\n",
       " [-0.2846527979670491, {'eps': 0.6757488779543145, 'min_samples': 2}],\n",
       " [0.38988196946079673, {'eps': 1.42332830588, 'min_samples': 2}],\n",
       " [-0.22487359072258378, {'eps': 0.8449323267683089, 'min_samples': 2}],\n",
       " [0.07785315039293982, {'eps': 0.45692065376005603, 'min_samples': 1}],\n",
       " [-0.20665162295627285, {'eps': 0.3463407384332235, 'min_samples': 2}],\n",
       " [-0.3913547006111564, {'eps': 0.660228740609402, 'min_samples': 1}],\n",
       " [-0.07362336340536138, {'eps': 0.9149949866739313, 'min_samples': 2}],\n",
       " [-1, {'eps': 0.05158278167282759, 'min_samples': 2}],\n",
       " [-0.32363039539451344, {'eps': 0.5865909113598612, 'min_samples': 2}],\n",
       " [-0.06876382728112344, {'eps': 0.993783426530973, 'min_samples': 2}],\n",
       " [-0.3173586303574614, {'eps': 0.637733811736867, 'min_samples': 2}],\n",
       " [-0.3078271090897058, {'eps': 0.8200654190149195, 'min_samples': 2}],\n",
       " [-1, {'eps': 0.046969938683337875, 'min_samples': 2}],\n",
       " [0.36105298980300726, {'eps': 1.1626992350416718, 'min_samples': 2}],\n",
       " [-0.355852628564264, {'eps': 0.5927253540027216, 'min_samples': 2}],\n",
       " [-0.21707988225574643, {'eps': 0.8968499682166278, 'min_samples': 2}],\n",
       " [-0.1353037788155937, {'eps': 0.48981115320875307, 'min_samples': 2}],\n",
       " [0.12670067806399551, {'eps': 0.2939742936287178, 'min_samples': 1}],\n",
       " [0.11802195018905255, {'eps': 1.4417580365240237, 'min_samples': 1}],\n",
       " [-0.321780988003665, {'eps': 0.583015934534223, 'min_samples': 2}],\n",
       " [-0.30402504584328466, {'eps': 0.8095381985836196, 'min_samples': 2}],\n",
       " [-0.1984954927479258, {'eps': 0.5351299900403839, 'min_samples': 2}],\n",
       " [-0.3433440533654903, {'eps': 0.9105513715300271, 'min_samples': 1}],\n",
       " [0.07168588292884942, {'eps': 0.21138633746214397, 'min_samples': 1}],\n",
       " [0.10061075610737723, {'eps': 0.24790040859450374, 'min_samples': 1}],\n",
       " [0.38988196946079673, {'eps': 1.480330404900776, 'min_samples': 2}],\n",
       " [-0.3542034993150508, {'eps': 0.5923222772633545, 'min_samples': 2}],\n",
       " [-1, {'eps': 0.008283175685403599, 'min_samples': 1}],\n",
       " [-0.35076989130274044, {'eps': 0.29826360613320774, 'min_samples': 2}]]"
      ]
     },
     "execution_count": 13,
     "metadata": {},
     "output_type": "execute_result"
    }
   ],
   "source": [
    "results"
   ]
  },
  {
   "cell_type": "code",
   "execution_count": 14,
   "metadata": {},
   "outputs": [
    {
     "data": {
      "text/plain": [
       "[[0.38988196946079673, {'eps': 1.42332830588, 'min_samples': 2}],\n",
       " [0.38988196946079673, {'eps': 1.480330404900776, 'min_samples': 2}],\n",
       " [0.36105298980300726, {'eps': 1.2486639612006325, 'min_samples': 2}],\n",
       " [0.36105298980300726, {'eps': 1.1626992350416718, 'min_samples': 2}],\n",
       " [0.12670067806399551, {'eps': 0.2939742936287178, 'min_samples': 1}],\n",
       " [0.11802195018905255, {'eps': 1.4606332782621887, 'min_samples': 1}],\n",
       " [0.11802195018905255, {'eps': 1.4417580365240237, 'min_samples': 1}],\n",
       " [0.10061075610737723, {'eps': 0.24790040859450374, 'min_samples': 1}],\n",
       " [0.07785315039293982, {'eps': 0.45692065376005603, 'min_samples': 1}],\n",
       " [0.07168588292884942, {'eps': 0.21138633746214397, 'min_samples': 1}]]"
      ]
     },
     "execution_count": 14,
     "metadata": {},
     "output_type": "execute_result"
    }
   ],
   "source": [
    "sorted(results,key = lambda x: x[0],reverse = True)[:10]"
   ]
  },
  {
   "cell_type": "code",
   "execution_count": 15,
   "metadata": {},
   "outputs": [],
   "source": [
    "best_parameters = {'eps':1.42332830588,'min_samples':2}\n",
    "model = DBSCAN(**best_parameters)"
   ]
  },
  {
   "cell_type": "code",
   "execution_count": 16,
   "metadata": {},
   "outputs": [
    {
     "data": {
      "text/plain": [
       " 0    644\n",
       "-1      5\n",
       "dtype: int64"
      ]
     },
     "execution_count": 16,
     "metadata": {},
     "output_type": "execute_result"
    }
   ],
   "source": [
    "y_dbscan = model.fit_predict(df_por_pca)\n",
    "\n",
    "pd.Series(y_dbscan).value_counts()"
   ]
  }
 ],
 "metadata": {
  "kernelspec": {
   "display_name": "Python 3",
   "language": "python",
   "name": "python3"
  },
  "language_info": {
   "codemirror_mode": {
    "name": "ipython",
    "version": 3
   },
   "file_extension": ".py",
   "mimetype": "text/x-python",
   "name": "python",
   "nbconvert_exporter": "python",
   "pygments_lexer": "ipython3",
   "version": "3.7.7"
  }
 },
 "nbformat": 4,
 "nbformat_minor": 4
}
