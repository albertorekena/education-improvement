{
 "cells": [
  {
   "cell_type": "code",
   "execution_count": 1,
   "metadata": {},
   "outputs": [],
   "source": [
    "import numpy as np\n",
    "import pandas as pd\n",
    "\n",
    "import matplotlib.pyplot as plt\n",
    "import seaborn as sns\n",
    "%matplotlib inline\n",
    "\n",
    "from sklearn.preprocessing import MinMaxScaler\n",
    "\n",
    "from sklearn.model_selection import train_test_split\n",
    "from sklearn.model_selection import GridSearchCV\n",
    "\n",
    "from sklearn.linear_model import LinearRegression\n",
    "from sklearn.tree import DecisionTreeRegressor\n",
    "from sklearn.ensemble import RandomForestRegressor\n",
    "import xgboost\n",
    "import tensorflow as tf\n",
    "from tensorflow.keras.models import Sequential\n",
    "from tensorflow.keras.layers import Dense,Dropout\n",
    "\n",
    "from sklearn.metrics import make_scorer,mean_squared_error,mean_absolute_error\n",
    "\n",
    "import warnings\n",
    "warnings.filterwarnings('ignore')\n",
    "\n",
    "pd.set_option('display.max_columns',100)\n",
    "pd.set_option('display.max_rows',1000)"
   ]
  },
  {
   "cell_type": "code",
   "execution_count": 2,
   "metadata": {},
   "outputs": [
    {
     "data": {
      "text/html": [
       "<div>\n",
       "<style scoped>\n",
       "    .dataframe tbody tr th:only-of-type {\n",
       "        vertical-align: middle;\n",
       "    }\n",
       "\n",
       "    .dataframe tbody tr th {\n",
       "        vertical-align: top;\n",
       "    }\n",
       "\n",
       "    .dataframe thead th {\n",
       "        text-align: right;\n",
       "    }\n",
       "</style>\n",
       "<table border=\"1\" class=\"dataframe\">\n",
       "  <thead>\n",
       "    <tr style=\"text-align: right;\">\n",
       "      <th></th>\n",
       "      <th>school</th>\n",
       "      <th>sex</th>\n",
       "      <th>studytime</th>\n",
       "      <th>schoolsup</th>\n",
       "      <th>paid</th>\n",
       "      <th>higher</th>\n",
       "      <th>internet</th>\n",
       "      <th>romantic</th>\n",
       "      <th>absences</th>\n",
       "      <th>Mjob_health</th>\n",
       "      <th>Mjob_teacher</th>\n",
       "      <th>Fjob_at_home</th>\n",
       "      <th>Fjob_teacher</th>\n",
       "      <th>reason_course</th>\n",
       "      <th>reason_other</th>\n",
       "      <th>G3</th>\n",
       "    </tr>\n",
       "  </thead>\n",
       "  <tbody>\n",
       "    <tr>\n",
       "      <th>0</th>\n",
       "      <td>1</td>\n",
       "      <td>1</td>\n",
       "      <td>2</td>\n",
       "      <td>1</td>\n",
       "      <td>0</td>\n",
       "      <td>1</td>\n",
       "      <td>0</td>\n",
       "      <td>0</td>\n",
       "      <td>2</td>\n",
       "      <td>0</td>\n",
       "      <td>0</td>\n",
       "      <td>0</td>\n",
       "      <td>1</td>\n",
       "      <td>1</td>\n",
       "      <td>0</td>\n",
       "      <td>3</td>\n",
       "    </tr>\n",
       "    <tr>\n",
       "      <th>1</th>\n",
       "      <td>1</td>\n",
       "      <td>1</td>\n",
       "      <td>2</td>\n",
       "      <td>0</td>\n",
       "      <td>0</td>\n",
       "      <td>1</td>\n",
       "      <td>1</td>\n",
       "      <td>0</td>\n",
       "      <td>2</td>\n",
       "      <td>0</td>\n",
       "      <td>0</td>\n",
       "      <td>0</td>\n",
       "      <td>0</td>\n",
       "      <td>1</td>\n",
       "      <td>0</td>\n",
       "      <td>3</td>\n",
       "    </tr>\n",
       "    <tr>\n",
       "      <th>2</th>\n",
       "      <td>1</td>\n",
       "      <td>1</td>\n",
       "      <td>2</td>\n",
       "      <td>1</td>\n",
       "      <td>0</td>\n",
       "      <td>1</td>\n",
       "      <td>1</td>\n",
       "      <td>0</td>\n",
       "      <td>1</td>\n",
       "      <td>0</td>\n",
       "      <td>0</td>\n",
       "      <td>0</td>\n",
       "      <td>0</td>\n",
       "      <td>0</td>\n",
       "      <td>1</td>\n",
       "      <td>3</td>\n",
       "    </tr>\n",
       "    <tr>\n",
       "      <th>3</th>\n",
       "      <td>1</td>\n",
       "      <td>1</td>\n",
       "      <td>3</td>\n",
       "      <td>0</td>\n",
       "      <td>0</td>\n",
       "      <td>1</td>\n",
       "      <td>1</td>\n",
       "      <td>1</td>\n",
       "      <td>2</td>\n",
       "      <td>1</td>\n",
       "      <td>0</td>\n",
       "      <td>0</td>\n",
       "      <td>0</td>\n",
       "      <td>0</td>\n",
       "      <td>0</td>\n",
       "      <td>4</td>\n",
       "    </tr>\n",
       "    <tr>\n",
       "      <th>4</th>\n",
       "      <td>1</td>\n",
       "      <td>1</td>\n",
       "      <td>2</td>\n",
       "      <td>0</td>\n",
       "      <td>0</td>\n",
       "      <td>1</td>\n",
       "      <td>0</td>\n",
       "      <td>0</td>\n",
       "      <td>2</td>\n",
       "      <td>0</td>\n",
       "      <td>0</td>\n",
       "      <td>0</td>\n",
       "      <td>0</td>\n",
       "      <td>0</td>\n",
       "      <td>0</td>\n",
       "      <td>4</td>\n",
       "    </tr>\n",
       "  </tbody>\n",
       "</table>\n",
       "</div>"
      ],
      "text/plain": [
       "   school  sex  studytime  schoolsup  paid  higher  internet  romantic  \\\n",
       "0       1    1          2          1     0       1         0         0   \n",
       "1       1    1          2          0     0       1         1         0   \n",
       "2       1    1          2          1     0       1         1         0   \n",
       "3       1    1          3          0     0       1         1         1   \n",
       "4       1    1          2          0     0       1         0         0   \n",
       "\n",
       "   absences  Mjob_health  Mjob_teacher  Fjob_at_home  Fjob_teacher  \\\n",
       "0         2            0             0             0             1   \n",
       "1         2            0             0             0             0   \n",
       "2         1            0             0             0             0   \n",
       "3         2            1             0             0             0   \n",
       "4         2            0             0             0             0   \n",
       "\n",
       "   reason_course  reason_other  G3  \n",
       "0              1             0   3  \n",
       "1              1             0   3  \n",
       "2              0             1   3  \n",
       "3              0             0   4  \n",
       "4              0             0   4  "
      ]
     },
     "execution_count": 2,
     "metadata": {},
     "output_type": "execute_result"
    }
   ],
   "source": [
    "df_por = pd.read_pickle('df_por-modelling-RFE-range_G3_5-repaired_G3_0_values.pkl')\n",
    "\n",
    "df_por.head()"
   ]
  },
  {
   "cell_type": "code",
   "execution_count": 3,
   "metadata": {},
   "outputs": [
    {
     "data": {
      "text/plain": [
       "(649, 16)"
      ]
     },
     "execution_count": 3,
     "metadata": {},
     "output_type": "execute_result"
    }
   ],
   "source": [
    "df_por.shape"
   ]
  },
  {
   "cell_type": "code",
   "execution_count": 4,
   "metadata": {},
   "outputs": [],
   "source": [
    "X = np.array(df_por.drop('G3',axis = 1))\n",
    "y = np.array(df_por['G3'])"
   ]
  },
  {
   "cell_type": "code",
   "execution_count": 5,
   "metadata": {},
   "outputs": [],
   "source": [
    "X_train,X_test,y_train,y_test = train_test_split(X,y,test_size = 0.2,random_state = 42)"
   ]
  },
  {
   "cell_type": "markdown",
   "metadata": {},
   "source": [
    "## Linear Regression "
   ]
  },
  {
   "cell_type": "code",
   "execution_count": 6,
   "metadata": {},
   "outputs": [
    {
     "data": {
      "text/plain": [
       "LinearRegression(copy_X=True, fit_intercept=True, n_jobs=None, normalize=False)"
      ]
     },
     "execution_count": 6,
     "metadata": {},
     "output_type": "execute_result"
    }
   ],
   "source": [
    "model = LinearRegression()\n",
    "model.fit(X_train,y_train)"
   ]
  },
  {
   "cell_type": "code",
   "execution_count": 7,
   "metadata": {},
   "outputs": [],
   "source": [
    "y_pred = model.predict(X_test)"
   ]
  },
  {
   "cell_type": "code",
   "execution_count": 8,
   "metadata": {},
   "outputs": [
    {
     "data": {
      "text/html": [
       "<div>\n",
       "<style scoped>\n",
       "    .dataframe tbody tr th:only-of-type {\n",
       "        vertical-align: middle;\n",
       "    }\n",
       "\n",
       "    .dataframe tbody tr th {\n",
       "        vertical-align: top;\n",
       "    }\n",
       "\n",
       "    .dataframe thead th {\n",
       "        text-align: right;\n",
       "    }\n",
       "</style>\n",
       "<table border=\"1\" class=\"dataframe\">\n",
       "  <thead>\n",
       "    <tr style=\"text-align: right;\">\n",
       "      <th></th>\n",
       "      <th>y_pred</th>\n",
       "      <th>y_test</th>\n",
       "    </tr>\n",
       "  </thead>\n",
       "  <tbody>\n",
       "    <tr>\n",
       "      <th>0</th>\n",
       "      <td>3.679493</td>\n",
       "      <td>5</td>\n",
       "    </tr>\n",
       "    <tr>\n",
       "      <th>1</th>\n",
       "      <td>3.729425</td>\n",
       "      <td>3</td>\n",
       "    </tr>\n",
       "    <tr>\n",
       "      <th>2</th>\n",
       "      <td>3.866689</td>\n",
       "      <td>5</td>\n",
       "    </tr>\n",
       "    <tr>\n",
       "      <th>3</th>\n",
       "      <td>3.049549</td>\n",
       "      <td>3</td>\n",
       "    </tr>\n",
       "    <tr>\n",
       "      <th>4</th>\n",
       "      <td>3.376152</td>\n",
       "      <td>3</td>\n",
       "    </tr>\n",
       "  </tbody>\n",
       "</table>\n",
       "</div>"
      ],
      "text/plain": [
       "     y_pred  y_test\n",
       "0  3.679493       5\n",
       "1  3.729425       3\n",
       "2  3.866689       5\n",
       "3  3.049549       3\n",
       "4  3.376152       3"
      ]
     },
     "execution_count": 8,
     "metadata": {},
     "output_type": "execute_result"
    }
   ],
   "source": [
    "y_test = pd.DataFrame(y_test)\n",
    "y_pred = pd.DataFrame(y_pred)\n",
    "\n",
    "df_temp = pd.concat([y_pred,y_test],axis = 1)\n",
    "df_temp.columns = ['y_pred','y_test']\n",
    "\n",
    "df_temp.head()"
   ]
  },
  {
   "cell_type": "code",
   "execution_count": 9,
   "metadata": {
    "scrolled": true
   },
   "outputs": [
    {
     "data": {
      "image/png": "[encoded data removed]",
      "text/plain": [
       "<Figure size 432x288 with 1 Axes>"
      ]
     },
     "metadata": {
      "needs_background": "light"
     },
     "output_type": "display_data"
    }
   ],
   "source": [
    "plt.scatter(df_temp['y_test'],df_temp['y_pred'])\n",
    "plt.xlabel('y_test',fontsize = 14)\n",
    "plt.ylabel('y_pred',fontsize = 14)\n",
    "plt.xlim(0,6)\n",
    "plt.ylim(0,6)\n",
    "plt.xticks(list(range(0,6)))\n",
    "plt.yticks(list(range(0,6)))\n",
    "plt.grid()\n",
    "y_lim = plt.ylim()\n",
    "x_lim = plt.xlim()\n",
    "plt.plot(x_lim,y_lim,color = 'g',linewidth = 0.5);"
   ]
  },
  {
   "cell_type": "code",
   "execution_count": 10,
   "metadata": {},
   "outputs": [],
   "source": [
    "def rmse(y_true,y_pred):\n",
    "    return np.sqrt(mean_squared_error(y_true,y_pred))"
   ]
  },
  {
   "cell_type": "code",
   "execution_count": 11,
   "metadata": {},
   "outputs": [
    {
     "data": {
      "text/plain": [
       "0.7015528827283138"
      ]
     },
     "execution_count": 11,
     "metadata": {},
     "output_type": "execute_result"
    }
   ],
   "source": [
    "rmse(y_pred,y_test)"
   ]
  },
  {
   "cell_type": "markdown",
   "metadata": {},
   "source": [
    "## Decision Tree Regression"
   ]
  },
  {
   "cell_type": "code",
   "execution_count": 12,
   "metadata": {},
   "outputs": [],
   "source": [
    "rmse_scorer = make_scorer(rmse,greater_is_better = False)"
   ]
  },
  {
   "cell_type": "code",
   "execution_count": 13,
   "metadata": {
    "scrolled": false
   },
   "outputs": [
    {
     "data": {
      "text/plain": [
       "GridSearchCV(cv=5, error_score=nan,\n",
       "             estimator=DecisionTreeRegressor(ccp_alpha=0.0, criterion='mse',\n",
       "                                             max_depth=None, max_features=None,\n",
       "                                             max_leaf_nodes=None,\n",
       "                                             min_impurity_decrease=0.0,\n",
       "                                             min_impurity_split=None,\n",
       "                                             min_samples_leaf=1,\n",
       "                                             min_samples_split=2,\n",
       "                                             min_weight_fraction_leaf=0.0,\n",
       "                                             presort='deprecated',\n",
       "                                             random_state=None,\n",
       "                                             splitter='best'),\n",
       "             iid='deprecated', n_jobs=None,\n",
       "             param_grid={'max_depth': [1, 2, 5, 10, 20, 30, 50],\n",
       "                         'min_samples_leaf': [1, 5, 10, 20, 50, 100]},\n",
       "             pre_dispatch='2*n_jobs', refit=True, return_train_score=False,\n",
       "             scoring=make_scorer(rmse, greater_is_better=False), verbose=0)"
      ]
     },
     "execution_count": 13,
     "metadata": {},
     "output_type": "execute_result"
    }
   ],
   "source": [
    "param_grid = {'min_samples_leaf':[1,5,10,20,50,100],'max_depth':[1,2,5,10,20,30,50]}\n",
    "\n",
    "grid_search_cv = GridSearchCV(estimator = DecisionTreeRegressor(),param_grid = param_grid,cv=5,scoring = rmse_scorer)\n",
    "grid_search_cv.fit(X_train,y_train)"
   ]
  },
  {
   "cell_type": "code",
   "execution_count": 14,
   "metadata": {},
   "outputs": [
    {
     "data": {
      "text/plain": [
       "DecisionTreeRegressor(ccp_alpha=0.0, criterion='mse', max_depth=2,\n",
       "                      max_features=None, max_leaf_nodes=None,\n",
       "                      min_impurity_decrease=0.0, min_impurity_split=None,\n",
       "                      min_samples_leaf=10, min_samples_split=2,\n",
       "                      min_weight_fraction_leaf=0.0, presort='deprecated',\n",
       "                      random_state=None, splitter='best')"
      ]
     },
     "execution_count": 14,
     "metadata": {},
     "output_type": "execute_result"
    }
   ],
   "source": [
    "grid_search_cv.best_estimator_"
   ]
  },
  {
   "cell_type": "code",
   "execution_count": 15,
   "metadata": {},
   "outputs": [],
   "source": [
    "y_pred = grid_search_cv.predict(X_test)"
   ]
  },
  {
   "cell_type": "code",
   "execution_count": 16,
   "metadata": {},
   "outputs": [
    {
     "data": {
      "text/html": [
       "<div>\n",
       "<style scoped>\n",
       "    .dataframe tbody tr th:only-of-type {\n",
       "        vertical-align: middle;\n",
       "    }\n",
       "\n",
       "    .dataframe tbody tr th {\n",
       "        vertical-align: top;\n",
       "    }\n",
       "\n",
       "    .dataframe thead th {\n",
       "        text-align: right;\n",
       "    }\n",
       "</style>\n",
       "<table border=\"1\" class=\"dataframe\">\n",
       "  <thead>\n",
       "    <tr style=\"text-align: right;\">\n",
       "      <th></th>\n",
       "      <th>y_pred</th>\n",
       "      <th>y_test</th>\n",
       "    </tr>\n",
       "  </thead>\n",
       "  <tbody>\n",
       "    <tr>\n",
       "      <th>0</th>\n",
       "      <td>3.153333</td>\n",
       "      <td>5</td>\n",
       "    </tr>\n",
       "    <tr>\n",
       "      <th>1</th>\n",
       "      <td>3.599359</td>\n",
       "      <td>3</td>\n",
       "    </tr>\n",
       "    <tr>\n",
       "      <th>2</th>\n",
       "      <td>3.153333</td>\n",
       "      <td>5</td>\n",
       "    </tr>\n",
       "    <tr>\n",
       "      <th>3</th>\n",
       "      <td>3.153333</td>\n",
       "      <td>3</td>\n",
       "    </tr>\n",
       "    <tr>\n",
       "      <th>4</th>\n",
       "      <td>3.599359</td>\n",
       "      <td>3</td>\n",
       "    </tr>\n",
       "  </tbody>\n",
       "</table>\n",
       "</div>"
      ],
      "text/plain": [
       "     y_pred  y_test\n",
       "0  3.153333       5\n",
       "1  3.599359       3\n",
       "2  3.153333       5\n",
       "3  3.153333       3\n",
       "4  3.599359       3"
      ]
     },
     "execution_count": 16,
     "metadata": {},
     "output_type": "execute_result"
    }
   ],
   "source": [
    "y_pred = pd.DataFrame(y_pred)\n",
    "\n",
    "df_temp = pd.concat([y_pred,y_test],axis = 1)\n",
    "df_temp.columns = ['y_pred','y_test']\n",
    "\n",
    "df_temp.head()"
   ]
  },
  {
   "cell_type": "code",
   "execution_count": 17,
   "metadata": {},
   "outputs": [
    {
     "data": {
      "image/png": "[encoded data removed]",
      "text/plain": [
       "<Figure size 432x288 with 1 Axes>"
      ]
     },
     "metadata": {
      "needs_background": "light"
     },
     "output_type": "display_data"
    }
   ],
   "source": [
    "plt.scatter(df_temp['y_test'],df_temp['y_pred'])\n",
    "plt.xlabel('y_test',fontsize = 14)\n",
    "plt.ylabel('y_pred',fontsize = 14)\n",
    "plt.xlim(0,6)\n",
    "plt.ylim(0,6)\n",
    "plt.xticks(list(range(0,6)))\n",
    "plt.yticks(list(range(0,6)))\n",
    "plt.grid()\n",
    "y_lim = plt.ylim()\n",
    "x_lim = plt.xlim()\n",
    "plt.plot(x_lim,y_lim,color = 'g',linewidth = 0.5);"
   ]
  },
  {
   "cell_type": "code",
   "execution_count": 18,
   "metadata": {},
   "outputs": [
    {
     "data": {
      "text/plain": [
       "0.7530988167446169"
      ]
     },
     "execution_count": 18,
     "metadata": {},
     "output_type": "execute_result"
    }
   ],
   "source": [
    "rmse(y_pred,y_test)"
   ]
  },
  {
   "cell_type": "markdown",
   "metadata": {},
   "source": [
    "## Random Forest Regression"
   ]
  },
  {
   "cell_type": "code",
   "execution_count": 19,
   "metadata": {},
   "outputs": [
    {
     "data": {
      "text/plain": [
       "GridSearchCV(cv=5, error_score=nan,\n",
       "             estimator=RandomForestRegressor(bootstrap=True, ccp_alpha=0.0,\n",
       "                                             criterion='mse', max_depth=None,\n",
       "                                             max_features='auto',\n",
       "                                             max_leaf_nodes=None,\n",
       "                                             max_samples=None,\n",
       "                                             min_impurity_decrease=0.0,\n",
       "                                             min_impurity_split=None,\n",
       "                                             min_samples_leaf=1,\n",
       "                                             min_samples_split=2,\n",
       "                                             min_weight_fraction_leaf=0.0,\n",
       "                                             n_estimators=100, n_jobs=None,\n",
       "                                             oob_score=False, random_state=None,\n",
       "                                             verbose=0, warm_start=False),\n",
       "             iid='deprecated', n_jobs=None,\n",
       "             param_grid={'max_depth': [1, 5, 30],\n",
       "                         'min_samples_leaf': [1, 10, 50],\n",
       "                         'n_estimators': [10, 50, 100]},\n",
       "             pre_dispatch='2*n_jobs', refit=True, return_train_score=False,\n",
       "             scoring=make_scorer(rmse, greater_is_better=False), verbose=0)"
      ]
     },
     "execution_count": 19,
     "metadata": {},
     "output_type": "execute_result"
    }
   ],
   "source": [
    "param_grid = {'min_samples_leaf':[1,10,50],'max_depth':[1,5,30],'n_estimators':[10,50,100]}\n",
    "\n",
    "grid_search_cv = GridSearchCV(estimator = RandomForestRegressor(),param_grid = param_grid,cv = 5,scoring = rmse_scorer)\n",
    "grid_search_cv.fit(X_train,y_train)"
   ]
  },
  {
   "cell_type": "code",
   "execution_count": 20,
   "metadata": {},
   "outputs": [
    {
     "data": {
      "text/plain": [
       "RandomForestRegressor(bootstrap=True, ccp_alpha=0.0, criterion='mse',\n",
       "                      max_depth=5, max_features='auto', max_leaf_nodes=None,\n",
       "                      max_samples=None, min_impurity_decrease=0.0,\n",
       "                      min_impurity_split=None, min_samples_leaf=10,\n",
       "                      min_samples_split=2, min_weight_fraction_leaf=0.0,\n",
       "                      n_estimators=100, n_jobs=None, oob_score=False,\n",
       "                      random_state=None, verbose=0, warm_start=False)"
      ]
     },
     "execution_count": 20,
     "metadata": {},
     "output_type": "execute_result"
    }
   ],
   "source": [
    "grid_search_cv.best_estimator_"
   ]
  },
  {
   "cell_type": "code",
   "execution_count": 21,
   "metadata": {},
   "outputs": [],
   "source": [
    "y_pred = grid_search_cv.predict(X_test)"
   ]
  },
  {
   "cell_type": "code",
   "execution_count": 22,
   "metadata": {},
   "outputs": [
    {
     "data": {
      "text/html": [
       "<div>\n",
       "<style scoped>\n",
       "    .dataframe tbody tr th:only-of-type {\n",
       "        vertical-align: middle;\n",
       "    }\n",
       "\n",
       "    .dataframe tbody tr th {\n",
       "        vertical-align: top;\n",
       "    }\n",
       "\n",
       "    .dataframe thead th {\n",
       "        text-align: right;\n",
       "    }\n",
       "</style>\n",
       "<table border=\"1\" class=\"dataframe\">\n",
       "  <thead>\n",
       "    <tr style=\"text-align: right;\">\n",
       "      <th></th>\n",
       "      <th>y_pred</th>\n",
       "      <th>y_test</th>\n",
       "    </tr>\n",
       "  </thead>\n",
       "  <tbody>\n",
       "    <tr>\n",
       "      <th>0</th>\n",
       "      <td>3.220730</td>\n",
       "      <td>5</td>\n",
       "    </tr>\n",
       "    <tr>\n",
       "      <th>1</th>\n",
       "      <td>3.736887</td>\n",
       "      <td>3</td>\n",
       "    </tr>\n",
       "    <tr>\n",
       "      <th>2</th>\n",
       "      <td>3.365555</td>\n",
       "      <td>5</td>\n",
       "    </tr>\n",
       "    <tr>\n",
       "      <th>3</th>\n",
       "      <td>3.055988</td>\n",
       "      <td>3</td>\n",
       "    </tr>\n",
       "    <tr>\n",
       "      <th>4</th>\n",
       "      <td>3.434906</td>\n",
       "      <td>3</td>\n",
       "    </tr>\n",
       "  </tbody>\n",
       "</table>\n",
       "</div>"
      ],
      "text/plain": [
       "     y_pred  y_test\n",
       "0  3.220730       5\n",
       "1  3.736887       3\n",
       "2  3.365555       5\n",
       "3  3.055988       3\n",
       "4  3.434906       3"
      ]
     },
     "execution_count": 22,
     "metadata": {},
     "output_type": "execute_result"
    }
   ],
   "source": [
    "y_pred = pd.DataFrame(y_pred)\n",
    "\n",
    "df_temp = pd.concat([y_pred,y_test],axis = 1)\n",
    "df_temp.columns = ['y_pred','y_test']\n",
    "\n",
    "df_temp.head()"
   ]
  },
  {
   "cell_type": "code",
   "execution_count": 23,
   "metadata": {
    "scrolled": true
   },
   "outputs": [
    {
     "data": {
      "image/png": "[encoded data removed]",
      "text/plain": [
       "<Figure size 432x288 with 1 Axes>"
      ]
     },
     "metadata": {
      "needs_background": "light"
     },
     "output_type": "display_data"
    }
   ],
   "source": [
    "plt.scatter(df_temp['y_test'],df_temp['y_pred'])\n",
    "plt.xlabel('y_test',fontsize = 14)\n",
    "plt.ylabel('y_pred',fontsize = 14)\n",
    "plt.xlim(0,6)\n",
    "plt.ylim(0,6)\n",
    "plt.xticks(list(range(0,6)))\n",
    "plt.yticks(list(range(0,6)))\n",
    "plt.grid()\n",
    "y_lim = plt.ylim()\n",
    "x_lim = plt.xlim()\n",
    "plt.plot(x_lim,y_lim,color = 'g',linewidth = 0.5);"
   ]
  },
  {
   "cell_type": "code",
   "execution_count": 24,
   "metadata": {},
   "outputs": [
    {
     "data": {
      "text/plain": [
       "0.7364101476069883"
      ]
     },
     "execution_count": 24,
     "metadata": {},
     "output_type": "execute_result"
    }
   ],
   "source": [
    "rmse(y_pred,y_test)"
   ]
  },
  {
   "cell_type": "markdown",
   "metadata": {},
   "source": [
    "## XGBoost "
   ]
  },
  {
   "cell_type": "code",
   "execution_count": 25,
   "metadata": {
    "scrolled": true
   },
   "outputs": [
    {
     "data": {
      "text/plain": [
       "GridSearchCV(cv=5, error_score=nan,\n",
       "             estimator=XGBRegressor(base_score=0.5, booster='gbtree',\n",
       "                                    colsample_bylevel=1, colsample_bynode=1,\n",
       "                                    colsample_bytree=1, gamma=0,\n",
       "                                    importance_type='gain', learning_rate=0.1,\n",
       "                                    max_delta_step=0, max_depth=3,\n",
       "                                    min_child_weight=1, missing=None,\n",
       "                                    n_estimators=100, n_jobs=1, nthread=None,\n",
       "                                    objective='reg:linear', random_state=0,\n",
       "                                    reg_alpha=0, reg_lambda=1,\n",
       "                                    scale_pos_weight=1, seed=None, silent=True,\n",
       "                                    subsample=1, verbosity=1),\n",
       "             iid='deprecated', n_jobs=None,\n",
       "             param_grid={'max_depth': [1, 5, 30],\n",
       "                         'min_samples_leaf': [1, 10, 50],\n",
       "                         'n_estimators': [10, 50, 100]},\n",
       "             pre_dispatch='2*n_jobs', refit=True, return_train_score=False,\n",
       "             scoring=make_scorer(rmse, greater_is_better=False), verbose=0)"
      ]
     },
     "execution_count": 25,
     "metadata": {},
     "output_type": "execute_result"
    }
   ],
   "source": [
    "parameters = {'max_depth':[1,5,30],'learning_rate':[0.01,0.1,0.3],'n_estimators':[10,50,100],'objective':'reg:squarederror'}\n",
    "\n",
    "grid_search_cv = GridSearchCV(estimator = xgboost.XGBRegressor(silent = True),param_grid = param_grid,\n",
    "                              cv = 5,scoring = rmse_scorer)\n",
    "grid_search_cv.fit(X_train,y_train)"
   ]
  },
  {
   "cell_type": "code",
   "execution_count": 26,
   "metadata": {
    "scrolled": false
   },
   "outputs": [
    {
     "data": {
      "text/plain": [
       "XGBRegressor(base_score=0.5, booster='gbtree', colsample_bylevel=1,\n",
       "             colsample_bynode=1, colsample_bytree=1, gamma=0,\n",
       "             importance_type='gain', learning_rate=0.1, max_delta_step=0,\n",
       "             max_depth=1, min_child_weight=1, min_samples_leaf=1, missing=None,\n",
       "             n_estimators=100, n_jobs=1, nthread=None, objective='reg:linear',\n",
       "             random_state=0, reg_alpha=0, reg_lambda=1, scale_pos_weight=1,\n",
       "             seed=None, silent=True, subsample=1, verbosity=1)"
      ]
     },
     "execution_count": 26,
     "metadata": {},
     "output_type": "execute_result"
    }
   ],
   "source": [
    "grid_search_cv.best_estimator_"
   ]
  },
  {
   "cell_type": "code",
   "execution_count": 27,
   "metadata": {},
   "outputs": [],
   "source": [
    "y_pred = grid_search_cv.predict(X_test)"
   ]
  },
  {
   "cell_type": "code",
   "execution_count": 28,
   "metadata": {},
   "outputs": [
    {
     "data": {
      "text/html": [
       "<div>\n",
       "<style scoped>\n",
       "    .dataframe tbody tr th:only-of-type {\n",
       "        vertical-align: middle;\n",
       "    }\n",
       "\n",
       "    .dataframe tbody tr th {\n",
       "        vertical-align: top;\n",
       "    }\n",
       "\n",
       "    .dataframe thead th {\n",
       "        text-align: right;\n",
       "    }\n",
       "</style>\n",
       "<table border=\"1\" class=\"dataframe\">\n",
       "  <thead>\n",
       "    <tr style=\"text-align: right;\">\n",
       "      <th></th>\n",
       "      <th>y_pred</th>\n",
       "      <th>y_test</th>\n",
       "    </tr>\n",
       "  </thead>\n",
       "  <tbody>\n",
       "    <tr>\n",
       "      <th>0</th>\n",
       "      <td>3.377187</td>\n",
       "      <td>5</td>\n",
       "    </tr>\n",
       "    <tr>\n",
       "      <th>1</th>\n",
       "      <td>3.636154</td>\n",
       "      <td>3</td>\n",
       "    </tr>\n",
       "    <tr>\n",
       "      <th>2</th>\n",
       "      <td>3.464963</td>\n",
       "      <td>5</td>\n",
       "    </tr>\n",
       "    <tr>\n",
       "      <th>3</th>\n",
       "      <td>3.208647</td>\n",
       "      <td>3</td>\n",
       "    </tr>\n",
       "    <tr>\n",
       "      <th>4</th>\n",
       "      <td>3.464526</td>\n",
       "      <td>3</td>\n",
       "    </tr>\n",
       "  </tbody>\n",
       "</table>\n",
       "</div>"
      ],
      "text/plain": [
       "     y_pred  y_test\n",
       "0  3.377187       5\n",
       "1  3.636154       3\n",
       "2  3.464963       5\n",
       "3  3.208647       3\n",
       "4  3.464526       3"
      ]
     },
     "execution_count": 28,
     "metadata": {},
     "output_type": "execute_result"
    }
   ],
   "source": [
    "y_pred = pd.DataFrame(y_pred)\n",
    "\n",
    "df_temp = pd.concat([y_pred,y_test],axis = 1)\n",
    "df_temp.columns = ['y_pred','y_test']\n",
    "\n",
    "df_temp.head()"
   ]
  },
  {
   "cell_type": "code",
   "execution_count": 29,
   "metadata": {},
   "outputs": [
    {
     "data": {
      "image/png": "[encoded data removed]",
      "text/plain": [
       "<Figure size 432x288 with 1 Axes>"
      ]
     },
     "metadata": {
      "needs_background": "light"
     },
     "output_type": "display_data"
    }
   ],
   "source": [
    "plt.scatter(df_temp['y_test'],df_temp['y_pred'])\n",
    "plt.xlabel('y_test',fontsize = 14)\n",
    "plt.ylabel('y_pred',fontsize = 14)\n",
    "plt.xlim(0,6)\n",
    "plt.ylim(0,6)\n",
    "plt.xticks(list(range(0,6)))\n",
    "plt.yticks(list(range(0,6)))\n",
    "plt.grid()\n",
    "y_lim = plt.ylim()\n",
    "x_lim = plt.xlim()\n",
    "plt.plot(x_lim,y_lim,color = 'g',linewidth = 0.5);"
   ]
  },
  {
   "cell_type": "code",
   "execution_count": 30,
   "metadata": {},
   "outputs": [
    {
     "data": {
      "text/plain": [
       "0.7214607712456146"
      ]
     },
     "execution_count": 30,
     "metadata": {},
     "output_type": "execute_result"
    }
   ],
   "source": [
    "rmse(y_pred,y_test)"
   ]
  },
  {
   "cell_type": "markdown",
   "metadata": {},
   "source": [
    "## Neural Network "
   ]
  },
  {
   "cell_type": "code",
   "execution_count": 31,
   "metadata": {},
   "outputs": [],
   "source": [
    "sc = MinMaxScaler()"
   ]
  },
  {
   "cell_type": "code",
   "execution_count": 32,
   "metadata": {},
   "outputs": [],
   "source": [
    "X_train= sc.fit_transform(X_train)\n",
    "X_test = sc.transform(X_test)"
   ]
  },
  {
   "cell_type": "code",
   "execution_count": 33,
   "metadata": {},
   "outputs": [
    {
     "data": {
      "text/plain": [
       "(519, 15)"
      ]
     },
     "execution_count": 33,
     "metadata": {},
     "output_type": "execute_result"
    }
   ],
   "source": [
    "X_train.shape"
   ]
  },
  {
   "cell_type": "code",
   "execution_count": 34,
   "metadata": {},
   "outputs": [],
   "source": [
    "model = Sequential()"
   ]
  },
  {
   "cell_type": "code",
   "execution_count": 35,
   "metadata": {},
   "outputs": [],
   "source": [
    "model.add(Dense(32,activation = 'relu'))\n",
    "model.add(Dropout(0.25))\n",
    "model.add(Dense(32,activation = 'relu'))\n",
    "model.add(Dropout(0.25))\n",
    "model.add(Dense(32,activation = 'relu'))\n",
    "model.add(Dropout(0.25))\n",
    "model.add(Dense(32,activation = 'relu'))\n",
    "model.add(Dropout(0.25))\n",
    "model.add(Dense(1))\n",
    "\n",
    "model.compile(optimizer = 'adam',loss = 'mse')"
   ]
  },
  {
   "cell_type": "code",
   "execution_count": 36,
   "metadata": {
    "scrolled": true
   },
   "outputs": [
    {
     "name": "stdout",
     "output_type": "stream",
     "text": [
      "Train on 519 samples, validate on 130 samples\n",
      "Epoch 1/250\n",
      "519/519 [==============================] - 1s 2ms/sample - loss: 12.3812 - val_loss: 11.6399\n",
      "Epoch 2/250\n",
      "519/519 [==============================] - 0s 87us/sample - loss: 10.5113 - val_loss: 9.9719\n",
      "Epoch 3/250\n",
      "519/519 [==============================] - 0s 75us/sample - loss: 8.6739 - val_loss: 7.5582\n",
      "Epoch 4/250\n",
      "519/519 [==============================] - 0s 69us/sample - loss: 5.8948 - val_loss: 4.2609\n",
      "Epoch 5/250\n",
      "519/519 [==============================] - 0s 67us/sample - loss: 3.2089 - val_loss: 1.4598\n",
      "Epoch 6/250\n",
      "519/519 [==============================] - 0s 66us/sample - loss: 2.6095 - val_loss: 0.9443\n",
      "Epoch 7/250\n",
      "519/519 [==============================] - 0s 75us/sample - loss: 2.5430 - val_loss: 1.1785\n",
      "Epoch 8/250\n",
      "519/519 [==============================] - 0s 66us/sample - loss: 2.0805 - val_loss: 1.6665\n",
      "Epoch 9/250\n",
      "519/519 [==============================] - 0s 67us/sample - loss: 2.0653 - val_loss: 1.3309\n",
      "Epoch 10/250\n",
      "519/519 [==============================] - 0s 67us/sample - loss: 1.8458 - val_loss: 1.0331\n",
      "Epoch 11/250\n",
      "519/519 [==============================] - 0s 69us/sample - loss: 1.7866 - val_loss: 0.9457\n",
      "Epoch 12/250\n",
      "519/519 [==============================] - 0s 71us/sample - loss: 1.7401 - val_loss: 1.0577\n",
      "Epoch 13/250\n",
      "519/519 [==============================] - 0s 66us/sample - loss: 1.7219 - val_loss: 1.1070\n",
      "Epoch 14/250\n",
      "519/519 [==============================] - 0s 64us/sample - loss: 1.7534 - val_loss: 1.0808\n",
      "Epoch 15/250\n",
      "519/519 [==============================] - 0s 66us/sample - loss: 1.6721 - val_loss: 1.0028\n",
      "Epoch 16/250\n",
      "519/519 [==============================] - 0s 64us/sample - loss: 1.5181 - val_loss: 0.9336\n",
      "Epoch 17/250\n",
      "519/519 [==============================] - 0s 62us/sample - loss: 1.4507 - val_loss: 0.9800\n",
      "Epoch 18/250\n",
      "519/519 [==============================] - 0s 64us/sample - loss: 1.5845 - val_loss: 0.9675\n",
      "Epoch 19/250\n",
      "519/519 [==============================] - 0s 64us/sample - loss: 1.5099 - val_loss: 1.0198\n",
      "Epoch 20/250\n",
      "519/519 [==============================] - 0s 62us/sample - loss: 1.4881 - val_loss: 0.9176\n",
      "Epoch 21/250\n",
      "519/519 [==============================] - 0s 66us/sample - loss: 1.3765 - val_loss: 0.9014\n",
      "Epoch 22/250\n",
      "519/519 [==============================] - 0s 66us/sample - loss: 1.4278 - val_loss: 0.9918\n",
      "Epoch 23/250\n",
      "519/519 [==============================] - 0s 64us/sample - loss: 1.3487 - val_loss: 1.0455\n",
      "Epoch 24/250\n",
      "519/519 [==============================] - 0s 67us/sample - loss: 1.1478 - val_loss: 0.7941\n",
      "Epoch 25/250\n",
      "519/519 [==============================] - 0s 64us/sample - loss: 1.2629 - val_loss: 0.8704\n",
      "Epoch 26/250\n",
      "519/519 [==============================] - 0s 62us/sample - loss: 1.3776 - val_loss: 0.8373\n",
      "Epoch 27/250\n",
      "519/519 [==============================] - 0s 60us/sample - loss: 1.2091 - val_loss: 0.7654\n",
      "Epoch 28/250\n",
      "519/519 [==============================] - 0s 67us/sample - loss: 1.3013 - val_loss: 0.9672\n",
      "Epoch 29/250\n",
      "519/519 [==============================] - 0s 67us/sample - loss: 1.1840 - val_loss: 0.8413\n",
      "Epoch 30/250\n",
      "519/519 [==============================] - 0s 67us/sample - loss: 1.2004 - val_loss: 0.8451\n",
      "Epoch 31/250\n",
      "519/519 [==============================] - 0s 66us/sample - loss: 1.1697 - val_loss: 0.9091\n",
      "Epoch 32/250\n",
      "519/519 [==============================] - 0s 67us/sample - loss: 1.1585 - val_loss: 0.8802\n",
      "Epoch 33/250\n",
      "519/519 [==============================] - 0s 66us/sample - loss: 1.1656 - val_loss: 0.9335\n",
      "Epoch 34/250\n",
      "519/519 [==============================] - 0s 69us/sample - loss: 1.1467 - val_loss: 0.8755\n",
      "Epoch 35/250\n",
      "519/519 [==============================] - 0s 66us/sample - loss: 1.1048 - val_loss: 0.7830\n",
      "Epoch 36/250\n",
      "519/519 [==============================] - 0s 67us/sample - loss: 1.1055 - val_loss: 0.8210\n",
      "Epoch 37/250\n",
      "519/519 [==============================] - 0s 67us/sample - loss: 1.1217 - val_loss: 0.9152\n",
      "Epoch 38/250\n",
      "519/519 [==============================] - 0s 66us/sample - loss: 0.9634 - val_loss: 0.8480\n",
      "Epoch 39/250\n",
      "519/519 [==============================] - 0s 64us/sample - loss: 1.0621 - val_loss: 0.8175\n",
      "Epoch 40/250\n",
      "519/519 [==============================] - 0s 62us/sample - loss: 1.0184 - val_loss: 0.7837\n",
      "Epoch 41/250\n",
      "519/519 [==============================] - 0s 73us/sample - loss: 1.0157 - val_loss: 0.8208\n",
      "Epoch 42/250\n",
      "519/519 [==============================] - 0s 64us/sample - loss: 1.0334 - val_loss: 0.9126\n",
      "Epoch 43/250\n",
      "519/519 [==============================] - 0s 66us/sample - loss: 1.1364 - val_loss: 0.7814\n",
      "Epoch 44/250\n",
      "519/519 [==============================] - 0s 66us/sample - loss: 1.0621 - val_loss: 0.7446\n",
      "Epoch 45/250\n",
      "519/519 [==============================] - 0s 66us/sample - loss: 0.9967 - val_loss: 0.6879\n",
      "Epoch 46/250\n",
      "519/519 [==============================] - 0s 64us/sample - loss: 1.0807 - val_loss: 0.8725\n",
      "Epoch 47/250\n",
      "519/519 [==============================] - 0s 64us/sample - loss: 0.9064 - val_loss: 0.8256\n",
      "Epoch 48/250\n",
      "519/519 [==============================] - 0s 62us/sample - loss: 1.0012 - val_loss: 0.7046\n",
      "Epoch 49/250\n",
      "519/519 [==============================] - 0s 62us/sample - loss: 1.0323 - val_loss: 0.6655\n",
      "Epoch 50/250\n",
      "519/519 [==============================] - 0s 64us/sample - loss: 0.9988 - val_loss: 0.8967\n",
      "Epoch 51/250\n",
      "519/519 [==============================] - 0s 64us/sample - loss: 1.0017 - val_loss: 0.8445\n",
      "Epoch 52/250\n",
      "519/519 [==============================] - 0s 64us/sample - loss: 0.9808 - val_loss: 0.7456\n",
      "Epoch 53/250\n",
      "519/519 [==============================] - 0s 62us/sample - loss: 0.9347 - val_loss: 0.6598\n",
      "Epoch 54/250\n",
      "519/519 [==============================] - 0s 62us/sample - loss: 0.9212 - val_loss: 0.7831\n",
      "Epoch 55/250\n",
      "519/519 [==============================] - 0s 62us/sample - loss: 0.9846 - val_loss: 0.9469\n",
      "Epoch 56/250\n",
      "519/519 [==============================] - 0s 64us/sample - loss: 0.9439 - val_loss: 0.7501\n",
      "Epoch 57/250\n",
      "519/519 [==============================] - 0s 62us/sample - loss: 0.9920 - val_loss: 0.7194\n",
      "Epoch 58/250\n",
      "519/519 [==============================] - 0s 66us/sample - loss: 0.9280 - val_loss: 0.7794\n",
      "Epoch 59/250\n",
      "519/519 [==============================] - 0s 62us/sample - loss: 0.9490 - val_loss: 0.8378\n",
      "Epoch 60/250\n",
      "519/519 [==============================] - 0s 64us/sample - loss: 0.9764 - val_loss: 0.7449\n",
      "Epoch 61/250\n",
      "519/519 [==============================] - 0s 58us/sample - loss: 0.9654 - val_loss: 0.8053\n",
      "Epoch 62/250\n",
      "519/519 [==============================] - 0s 67us/sample - loss: 0.8707 - val_loss: 0.7237\n",
      "Epoch 63/250\n",
      "519/519 [==============================] - 0s 67us/sample - loss: 1.0198 - val_loss: 0.6683\n",
      "Epoch 64/250\n",
      "519/519 [==============================] - 0s 71us/sample - loss: 0.8799 - val_loss: 0.7995\n",
      "Epoch 65/250\n",
      "519/519 [==============================] - 0s 77us/sample - loss: 0.8668 - val_loss: 0.7589\n",
      "Epoch 66/250\n",
      "519/519 [==============================] - 0s 66us/sample - loss: 0.9034 - val_loss: 0.7082\n",
      "Epoch 67/250\n",
      "519/519 [==============================] - 0s 67us/sample - loss: 0.8696 - val_loss: 0.7401\n",
      "Epoch 68/250\n",
      "519/519 [==============================] - 0s 66us/sample - loss: 0.8590 - val_loss: 0.6950\n",
      "Epoch 69/250\n",
      "519/519 [==============================] - 0s 67us/sample - loss: 0.9053 - val_loss: 0.6749\n",
      "Epoch 70/250\n",
      "519/519 [==============================] - 0s 69us/sample - loss: 0.8546 - val_loss: 0.6978\n",
      "Epoch 71/250\n",
      "519/519 [==============================] - 0s 67us/sample - loss: 0.8886 - val_loss: 0.7423\n",
      "Epoch 72/250\n",
      "519/519 [==============================] - 0s 64us/sample - loss: 0.8208 - val_loss: 0.8567\n",
      "Epoch 73/250\n",
      "519/519 [==============================] - 0s 67us/sample - loss: 0.9015 - val_loss: 0.6907\n",
      "Epoch 74/250\n",
      "519/519 [==============================] - 0s 64us/sample - loss: 0.9248 - val_loss: 0.6706\n",
      "Epoch 75/250\n",
      "519/519 [==============================] - 0s 67us/sample - loss: 0.9055 - val_loss: 0.7819\n",
      "Epoch 76/250\n",
      "519/519 [==============================] - 0s 64us/sample - loss: 0.8116 - val_loss: 0.6902\n",
      "Epoch 77/250\n",
      "519/519 [==============================] - 0s 66us/sample - loss: 0.8803 - val_loss: 0.7372\n",
      "Epoch 78/250\n"
     ]
    },
    {
     "name": "stdout",
     "output_type": "stream",
     "text": [
      "519/519 [==============================] - 0s 67us/sample - loss: 0.7609 - val_loss: 0.6908\n",
      "Epoch 79/250\n",
      "519/519 [==============================] - 0s 62us/sample - loss: 0.8709 - val_loss: 0.7351\n",
      "Epoch 80/250\n",
      "519/519 [==============================] - 0s 62us/sample - loss: 0.8866 - val_loss: 0.7705\n",
      "Epoch 81/250\n",
      "519/519 [==============================] - 0s 66us/sample - loss: 0.9706 - val_loss: 0.6221\n",
      "Epoch 82/250\n",
      "519/519 [==============================] - 0s 60us/sample - loss: 0.9198 - val_loss: 0.7455\n",
      "Epoch 83/250\n",
      "519/519 [==============================] - 0s 60us/sample - loss: 0.8797 - val_loss: 0.6915\n",
      "Epoch 84/250\n",
      "519/519 [==============================] - 0s 62us/sample - loss: 0.8744 - val_loss: 0.6916\n",
      "Epoch 85/250\n",
      "519/519 [==============================] - 0s 64us/sample - loss: 0.8032 - val_loss: 0.7214\n",
      "Epoch 86/250\n",
      "519/519 [==============================] - 0s 60us/sample - loss: 0.7496 - val_loss: 0.7309\n",
      "Epoch 87/250\n",
      "519/519 [==============================] - 0s 62us/sample - loss: 0.8647 - val_loss: 0.8043\n",
      "Epoch 88/250\n",
      "519/519 [==============================] - 0s 66us/sample - loss: 0.7715 - val_loss: 0.6677\n",
      "Epoch 89/250\n",
      "519/519 [==============================] - 0s 62us/sample - loss: 0.8226 - val_loss: 0.5833\n",
      "Epoch 90/250\n",
      "519/519 [==============================] - 0s 62us/sample - loss: 0.8886 - val_loss: 0.7801\n",
      "Epoch 91/250\n",
      "519/519 [==============================] - 0s 62us/sample - loss: 0.8539 - val_loss: 0.7518\n",
      "Epoch 92/250\n",
      "519/519 [==============================] - 0s 62us/sample - loss: 0.9127 - val_loss: 0.6095\n",
      "Epoch 93/250\n",
      "519/519 [==============================] - 0s 67us/sample - loss: 0.8333 - val_loss: 0.6715\n",
      "Epoch 94/250\n",
      "519/519 [==============================] - 0s 67us/sample - loss: 0.7394 - val_loss: 0.7878\n",
      "Epoch 95/250\n",
      "519/519 [==============================] - 0s 64us/sample - loss: 0.7786 - val_loss: 0.6506\n",
      "Epoch 96/250\n",
      "519/519 [==============================] - 0s 67us/sample - loss: 0.8455 - val_loss: 0.7458\n",
      "Epoch 97/250\n",
      "519/519 [==============================] - 0s 62us/sample - loss: 0.8630 - val_loss: 0.7222\n",
      "Epoch 98/250\n",
      "519/519 [==============================] - 0s 64us/sample - loss: 0.8117 - val_loss: 0.6826\n",
      "Epoch 99/250\n",
      "519/519 [==============================] - 0s 64us/sample - loss: 0.8831 - val_loss: 0.6266\n",
      "Epoch 100/250\n",
      "519/519 [==============================] - 0s 72us/sample - loss: 0.8241 - val_loss: 0.6745\n",
      "Epoch 101/250\n",
      "519/519 [==============================] - 0s 67us/sample - loss: 0.8196 - val_loss: 0.7304\n",
      "Epoch 102/250\n",
      "519/519 [==============================] - 0s 62us/sample - loss: 0.8137 - val_loss: 0.6688\n",
      "Epoch 103/250\n",
      "519/519 [==============================] - 0s 62us/sample - loss: 0.8007 - val_loss: 0.6274\n",
      "Epoch 104/250\n",
      "519/519 [==============================] - 0s 62us/sample - loss: 0.7565 - val_loss: 0.6380\n",
      "Epoch 105/250\n",
      "519/519 [==============================] - 0s 62us/sample - loss: 0.7449 - val_loss: 0.7180\n",
      "Epoch 106/250\n",
      "519/519 [==============================] - 0s 66us/sample - loss: 0.8582 - val_loss: 0.6593\n",
      "Epoch 107/250\n",
      "519/519 [==============================] - 0s 68us/sample - loss: 0.7881 - val_loss: 0.6351\n",
      "Epoch 108/250\n",
      "519/519 [==============================] - 0s 64us/sample - loss: 0.8679 - val_loss: 0.7918\n",
      "Epoch 109/250\n",
      "519/519 [==============================] - 0s 64us/sample - loss: 0.7756 - val_loss: 0.7198\n",
      "Epoch 110/250\n",
      "519/519 [==============================] - 0s 64us/sample - loss: 0.7944 - val_loss: 0.6742\n",
      "Epoch 111/250\n",
      "519/519 [==============================] - 0s 64us/sample - loss: 0.7636 - val_loss: 0.6926\n",
      "Epoch 112/250\n",
      "519/519 [==============================] - 0s 66us/sample - loss: 0.7513 - val_loss: 0.6399\n",
      "Epoch 113/250\n",
      "519/519 [==============================] - 0s 66us/sample - loss: 0.7763 - val_loss: 0.6522\n",
      "Epoch 114/250\n",
      "519/519 [==============================] - 0s 64us/sample - loss: 0.8217 - val_loss: 0.7147\n",
      "Epoch 115/250\n",
      "519/519 [==============================] - 0s 64us/sample - loss: 0.7513 - val_loss: 0.6660\n",
      "Epoch 116/250\n",
      "519/519 [==============================] - 0s 69us/sample - loss: 0.8009 - val_loss: 0.6964\n",
      "Epoch 117/250\n",
      "519/519 [==============================] - 0s 66us/sample - loss: 0.7492 - val_loss: 0.6638\n",
      "Epoch 118/250\n",
      "519/519 [==============================] - 0s 64us/sample - loss: 0.7272 - val_loss: 0.6549\n",
      "Epoch 119/250\n",
      "519/519 [==============================] - 0s 66us/sample - loss: 0.8109 - val_loss: 0.7058\n",
      "Epoch 120/250\n",
      "519/519 [==============================] - 0s 62us/sample - loss: 0.8075 - val_loss: 0.6871\n",
      "Epoch 121/250\n",
      "519/519 [==============================] - 0s 64us/sample - loss: 0.7698 - val_loss: 0.5950\n",
      "Epoch 122/250\n",
      "519/519 [==============================] - 0s 64us/sample - loss: 0.7752 - val_loss: 0.6769\n",
      "Epoch 123/250\n",
      "519/519 [==============================] - 0s 67us/sample - loss: 0.7681 - val_loss: 0.6482\n",
      "Epoch 124/250\n",
      "519/519 [==============================] - 0s 66us/sample - loss: 0.7902 - val_loss: 0.6046\n",
      "Epoch 125/250\n",
      "519/519 [==============================] - 0s 66us/sample - loss: 0.7145 - val_loss: 0.6387\n",
      "Epoch 126/250\n",
      "519/519 [==============================] - 0s 66us/sample - loss: 0.7976 - val_loss: 0.6656\n",
      "Epoch 127/250\n",
      "519/519 [==============================] - 0s 66us/sample - loss: 0.7926 - val_loss: 0.5874\n",
      "Epoch 128/250\n",
      "519/519 [==============================] - 0s 66us/sample - loss: 0.7729 - val_loss: 0.6377\n",
      "Epoch 129/250\n",
      "519/519 [==============================] - 0s 69us/sample - loss: 0.7500 - val_loss: 0.7008\n",
      "Epoch 130/250\n",
      "519/519 [==============================] - 0s 69us/sample - loss: 0.8059 - val_loss: 0.6608\n",
      "Epoch 131/250\n",
      "519/519 [==============================] - 0s 66us/sample - loss: 0.7793 - val_loss: 0.6049\n",
      "Epoch 132/250\n",
      "519/519 [==============================] - 0s 64us/sample - loss: 0.7391 - val_loss: 0.6037\n",
      "Epoch 133/250\n",
      "519/519 [==============================] - ETA: 0s - loss: 0.920 - 0s 66us/sample - loss: 0.7409 - val_loss: 0.6631\n",
      "Epoch 134/250\n",
      "519/519 [==============================] - 0s 64us/sample - loss: 0.7622 - val_loss: 0.6094\n",
      "Epoch 135/250\n",
      "519/519 [==============================] - 0s 67us/sample - loss: 0.7729 - val_loss: 0.6607\n",
      "Epoch 136/250\n",
      "519/519 [==============================] - 0s 66us/sample - loss: 0.7452 - val_loss: 0.6381\n",
      "Epoch 137/250\n",
      "519/519 [==============================] - 0s 66us/sample - loss: 0.7915 - val_loss: 0.6307\n",
      "Epoch 138/250\n",
      "519/519 [==============================] - 0s 66us/sample - loss: 0.7433 - val_loss: 0.6056\n",
      "Epoch 139/250\n",
      "519/519 [==============================] - 0s 66us/sample - loss: 0.6836 - val_loss: 0.5778\n",
      "Epoch 140/250\n",
      "519/519 [==============================] - 0s 64us/sample - loss: 0.7687 - val_loss: 0.6181\n",
      "Epoch 141/250\n",
      "519/519 [==============================] - 0s 64us/sample - loss: 0.7850 - val_loss: 0.6348\n",
      "Epoch 142/250\n",
      "519/519 [==============================] - 0s 66us/sample - loss: 0.6981 - val_loss: 0.6377\n",
      "Epoch 143/250\n",
      "519/519 [==============================] - 0s 66us/sample - loss: 0.7598 - val_loss: 0.6295\n",
      "Epoch 144/250\n",
      "519/519 [==============================] - 0s 64us/sample - loss: 0.7407 - val_loss: 0.6162\n",
      "Epoch 145/250\n",
      "519/519 [==============================] - 0s 66us/sample - loss: 0.7112 - val_loss: 0.6115\n",
      "Epoch 146/250\n",
      "519/519 [==============================] - 0s 62us/sample - loss: 0.7412 - val_loss: 0.6268\n",
      "Epoch 147/250\n",
      "519/519 [==============================] - 0s 62us/sample - loss: 0.7640 - val_loss: 0.6500\n",
      "Epoch 148/250\n",
      "519/519 [==============================] - 0s 60us/sample - loss: 0.7061 - val_loss: 0.6387\n",
      "Epoch 149/250\n",
      "519/519 [==============================] - 0s 66us/sample - loss: 0.7127 - val_loss: 0.5798\n",
      "Epoch 150/250\n",
      "519/519 [==============================] - 0s 66us/sample - loss: 0.7324 - val_loss: 0.6317\n",
      "Epoch 151/250\n",
      "519/519 [==============================] - 0s 66us/sample - loss: 0.7453 - val_loss: 0.6453\n",
      "Epoch 152/250\n",
      "519/519 [==============================] - 0s 64us/sample - loss: 0.7292 - val_loss: 0.6087\n",
      "Epoch 153/250\n",
      "519/519 [==============================] - 0s 67us/sample - loss: 0.7856 - val_loss: 0.6037\n",
      "Epoch 154/250\n",
      "519/519 [==============================] - 0s 64us/sample - loss: 0.7158 - val_loss: 0.5844\n",
      "Epoch 155/250\n"
     ]
    },
    {
     "name": "stdout",
     "output_type": "stream",
     "text": [
      "519/519 [==============================] - 0s 66us/sample - loss: 0.7699 - val_loss: 0.5567\n",
      "Epoch 156/250\n",
      "519/519 [==============================] - 0s 67us/sample - loss: 0.7087 - val_loss: 0.5976\n",
      "Epoch 157/250\n",
      "519/519 [==============================] - 0s 62us/sample - loss: 0.7108 - val_loss: 0.6199\n",
      "Epoch 158/250\n",
      "519/519 [==============================] - 0s 69us/sample - loss: 0.7522 - val_loss: 0.6326\n",
      "Epoch 159/250\n",
      "519/519 [==============================] - 0s 73us/sample - loss: 0.6847 - val_loss: 0.5963\n",
      "Epoch 160/250\n",
      "519/519 [==============================] - 0s 66us/sample - loss: 0.6661 - val_loss: 0.5373\n",
      "Epoch 161/250\n",
      "519/519 [==============================] - 0s 66us/sample - loss: 0.7490 - val_loss: 0.5437\n",
      "Epoch 162/250\n",
      "519/519 [==============================] - 0s 64us/sample - loss: 0.7576 - val_loss: 0.5796\n",
      "Epoch 163/250\n",
      "519/519 [==============================] - 0s 64us/sample - loss: 0.7264 - val_loss: 0.6347\n",
      "Epoch 164/250\n",
      "519/519 [==============================] - 0s 66us/sample - loss: 0.7028 - val_loss: 0.5991\n",
      "Epoch 165/250\n",
      "519/519 [==============================] - 0s 64us/sample - loss: 0.7852 - val_loss: 0.6013\n",
      "Epoch 166/250\n",
      "519/519 [==============================] - 0s 64us/sample - loss: 0.6620 - val_loss: 0.5945\n",
      "Epoch 167/250\n",
      "519/519 [==============================] - 0s 64us/sample - loss: 0.6867 - val_loss: 0.6565\n",
      "Epoch 168/250\n",
      "519/519 [==============================] - 0s 66us/sample - loss: 0.7288 - val_loss: 0.5699\n",
      "Epoch 169/250\n",
      "519/519 [==============================] - 0s 64us/sample - loss: 0.6918 - val_loss: 0.5365\n",
      "Epoch 170/250\n",
      "519/519 [==============================] - 0s 66us/sample - loss: 0.8002 - val_loss: 0.6128\n",
      "Epoch 171/250\n",
      "519/519 [==============================] - 0s 67us/sample - loss: 0.7153 - val_loss: 0.6021\n",
      "Epoch 172/250\n",
      "519/519 [==============================] - 0s 64us/sample - loss: 0.6972 - val_loss: 0.5521\n",
      "Epoch 173/250\n",
      "519/519 [==============================] - 0s 64us/sample - loss: 0.6720 - val_loss: 0.5627\n",
      "Epoch 174/250\n",
      "519/519 [==============================] - 0s 64us/sample - loss: 0.7324 - val_loss: 0.5535\n",
      "Epoch 175/250\n",
      "519/519 [==============================] - 0s 64us/sample - loss: 0.7580 - val_loss: 0.5992\n",
      "Epoch 176/250\n",
      "519/519 [==============================] - 0s 67us/sample - loss: 0.7308 - val_loss: 0.6240\n",
      "Epoch 177/250\n",
      "519/519 [==============================] - 0s 67us/sample - loss: 0.7787 - val_loss: 0.5483\n",
      "Epoch 178/250\n",
      "519/519 [==============================] - 0s 64us/sample - loss: 0.8092 - val_loss: 0.5707\n",
      "Epoch 179/250\n",
      "519/519 [==============================] - 0s 66us/sample - loss: 0.7244 - val_loss: 0.6583\n",
      "Epoch 180/250\n",
      "519/519 [==============================] - 0s 66us/sample - loss: 0.7024 - val_loss: 0.5863\n",
      "Epoch 181/250\n",
      "519/519 [==============================] - 0s 64us/sample - loss: 0.6554 - val_loss: 0.5417\n",
      "Epoch 182/250\n",
      "519/519 [==============================] - 0s 67us/sample - loss: 0.7549 - val_loss: 0.5888\n",
      "Epoch 183/250\n",
      "519/519 [==============================] - 0s 64us/sample - loss: 0.6950 - val_loss: 0.5825\n",
      "Epoch 184/250\n",
      "519/519 [==============================] - 0s 66us/sample - loss: 0.6903 - val_loss: 0.5851\n",
      "Epoch 185/250\n",
      "519/519 [==============================] - 0s 66us/sample - loss: 0.6933 - val_loss: 0.5747\n",
      "Epoch 186/250\n",
      "519/519 [==============================] - 0s 66us/sample - loss: 0.6470 - val_loss: 0.5441\n",
      "Epoch 187/250\n",
      "519/519 [==============================] - 0s 67us/sample - loss: 0.6898 - val_loss: 0.5763\n",
      "Epoch 188/250\n",
      "519/519 [==============================] - 0s 73us/sample - loss: 0.6653 - val_loss: 0.5759\n",
      "Epoch 189/250\n",
      "519/519 [==============================] - 0s 60us/sample - loss: 0.7531 - val_loss: 0.5627\n",
      "Epoch 190/250\n",
      "519/519 [==============================] - 0s 66us/sample - loss: 0.6228 - val_loss: 0.5867\n",
      "Epoch 191/250\n",
      "519/519 [==============================] - 0s 64us/sample - loss: 0.7049 - val_loss: 0.5749\n",
      "Epoch 192/250\n",
      "519/519 [==============================] - 0s 66us/sample - loss: 0.6952 - val_loss: 0.5595\n",
      "Epoch 193/250\n",
      "519/519 [==============================] - 0s 62us/sample - loss: 0.6700 - val_loss: 0.5917\n",
      "Epoch 194/250\n",
      "519/519 [==============================] - 0s 66us/sample - loss: 0.6516 - val_loss: 0.6323\n",
      "Epoch 195/250\n",
      "519/519 [==============================] - 0s 62us/sample - loss: 0.7065 - val_loss: 0.5839\n",
      "Epoch 196/250\n",
      "519/519 [==============================] - 0s 67us/sample - loss: 0.6653 - val_loss: 0.6138\n",
      "Epoch 197/250\n",
      "519/519 [==============================] - 0s 64us/sample - loss: 0.6247 - val_loss: 0.6232\n",
      "Epoch 198/250\n",
      "519/519 [==============================] - 0s 66us/sample - loss: 0.6412 - val_loss: 0.6086\n",
      "Epoch 199/250\n",
      "519/519 [==============================] - 0s 62us/sample - loss: 0.6781 - val_loss: 0.5667\n",
      "Epoch 200/250\n",
      "519/519 [==============================] - 0s 64us/sample - loss: 0.6921 - val_loss: 0.5677\n",
      "Epoch 201/250\n",
      "519/519 [==============================] - 0s 64us/sample - loss: 0.6748 - val_loss: 0.6042\n",
      "Epoch 202/250\n",
      "519/519 [==============================] - 0s 67us/sample - loss: 0.6438 - val_loss: 0.5743\n",
      "Epoch 203/250\n",
      "519/519 [==============================] - 0s 61us/sample - loss: 0.6759 - val_loss: 0.5683\n",
      "Epoch 204/250\n",
      "519/519 [==============================] - 0s 67us/sample - loss: 0.6639 - val_loss: 0.5469\n",
      "Epoch 205/250\n",
      "519/519 [==============================] - 0s 67us/sample - loss: 0.6422 - val_loss: 0.5233\n",
      "Epoch 206/250\n",
      "519/519 [==============================] - 0s 64us/sample - loss: 0.7124 - val_loss: 0.5904\n",
      "Epoch 207/250\n",
      "519/519 [==============================] - 0s 66us/sample - loss: 0.7004 - val_loss: 0.6118\n",
      "Epoch 208/250\n",
      "519/519 [==============================] - 0s 66us/sample - loss: 0.6953 - val_loss: 0.5782\n",
      "Epoch 209/250\n",
      "519/519 [==============================] - 0s 66us/sample - loss: 0.6183 - val_loss: 0.5310\n",
      "Epoch 210/250\n",
      "519/519 [==============================] - 0s 64us/sample - loss: 0.7501 - val_loss: 0.5486\n",
      "Epoch 211/250\n",
      "519/519 [==============================] - 0s 66us/sample - loss: 0.6486 - val_loss: 0.5948\n",
      "Epoch 212/250\n",
      "519/519 [==============================] - 0s 64us/sample - loss: 0.6889 - val_loss: 0.5920\n",
      "Epoch 213/250\n",
      "519/519 [==============================] - 0s 60us/sample - loss: 0.7343 - val_loss: 0.5453\n",
      "Epoch 214/250\n",
      "519/519 [==============================] - 0s 64us/sample - loss: 0.6191 - val_loss: 0.5301\n",
      "Epoch 215/250\n",
      "519/519 [==============================] - 0s 64us/sample - loss: 0.6278 - val_loss: 0.5665\n",
      "Epoch 216/250\n",
      "519/519 [==============================] - 0s 64us/sample - loss: 0.6548 - val_loss: 0.5907\n",
      "Epoch 217/250\n",
      "519/519 [==============================] - 0s 67us/sample - loss: 0.7131 - val_loss: 0.5772\n",
      "Epoch 218/250\n",
      "519/519 [==============================] - 0s 69us/sample - loss: 0.6406 - val_loss: 0.5487\n",
      "Epoch 219/250\n",
      "519/519 [==============================] - 0s 67us/sample - loss: 0.6262 - val_loss: 0.5772\n",
      "Epoch 220/250\n",
      "519/519 [==============================] - 0s 66us/sample - loss: 0.6787 - val_loss: 0.5594\n",
      "Epoch 221/250\n",
      "519/519 [==============================] - 0s 66us/sample - loss: 0.6643 - val_loss: 0.5409\n",
      "Epoch 222/250\n",
      "519/519 [==============================] - 0s 66us/sample - loss: 0.6132 - val_loss: 0.6217\n",
      "Epoch 223/250\n",
      "519/519 [==============================] - 0s 66us/sample - loss: 0.7008 - val_loss: 0.6012\n",
      "Epoch 224/250\n",
      "519/519 [==============================] - 0s 64us/sample - loss: 0.6298 - val_loss: 0.5419\n",
      "Epoch 225/250\n",
      "519/519 [==============================] - 0s 66us/sample - loss: 0.6459 - val_loss: 0.5616\n",
      "Epoch 226/250\n",
      "519/519 [==============================] - 0s 64us/sample - loss: 0.6579 - val_loss: 0.5667\n",
      "Epoch 227/250\n",
      "519/519 [==============================] - 0s 64us/sample - loss: 0.7282 - val_loss: 0.5940\n",
      "Epoch 228/250\n",
      "519/519 [==============================] - 0s 69us/sample - loss: 0.6426 - val_loss: 0.5580\n",
      "Epoch 229/250\n",
      "519/519 [==============================] - 0s 66us/sample - loss: 0.6814 - val_loss: 0.5274\n",
      "Epoch 230/250\n",
      "519/519 [==============================] - 0s 66us/sample - loss: 0.6594 - val_loss: 0.5457\n",
      "Epoch 231/250\n",
      "519/519 [==============================] - 0s 66us/sample - loss: 0.6428 - val_loss: 0.5617\n",
      "Epoch 232/250\n"
     ]
    },
    {
     "name": "stdout",
     "output_type": "stream",
     "text": [
      "519/519 [==============================] - 0s 66us/sample - loss: 0.6456 - val_loss: 0.5574\n",
      "Epoch 233/250\n",
      "519/519 [==============================] - 0s 64us/sample - loss: 0.6519 - val_loss: 0.5643\n",
      "Epoch 234/250\n",
      "519/519 [==============================] - 0s 62us/sample - loss: 0.6790 - val_loss: 0.5615\n",
      "Epoch 235/250\n",
      "519/519 [==============================] - 0s 62us/sample - loss: 0.6611 - val_loss: 0.5556\n",
      "Epoch 236/250\n",
      "519/519 [==============================] - 0s 62us/sample - loss: 0.6167 - val_loss: 0.5602\n",
      "Epoch 237/250\n",
      "519/519 [==============================] - 0s 62us/sample - loss: 0.6135 - val_loss: 0.5650\n",
      "Epoch 238/250\n",
      "519/519 [==============================] - 0s 64us/sample - loss: 0.6789 - val_loss: 0.5463\n",
      "Epoch 239/250\n",
      "519/519 [==============================] - 0s 58us/sample - loss: 0.6372 - val_loss: 0.5388\n",
      "Epoch 240/250\n",
      "519/519 [==============================] - 0s 62us/sample - loss: 0.5951 - val_loss: 0.5639\n",
      "Epoch 241/250\n",
      "519/519 [==============================] - 0s 60us/sample - loss: 0.5946 - val_loss: 0.5382\n",
      "Epoch 242/250\n",
      "519/519 [==============================] - 0s 64us/sample - loss: 0.5988 - val_loss: 0.5701\n",
      "Epoch 243/250\n",
      "519/519 [==============================] - 0s 60us/sample - loss: 0.6137 - val_loss: 0.5970\n",
      "Epoch 244/250\n",
      "519/519 [==============================] - 0s 62us/sample - loss: 0.6346 - val_loss: 0.5862\n",
      "Epoch 245/250\n",
      "519/519 [==============================] - 0s 60us/sample - loss: 0.6316 - val_loss: 0.5354\n",
      "Epoch 246/250\n",
      "519/519 [==============================] - 0s 62us/sample - loss: 0.6565 - val_loss: 0.5523\n",
      "Epoch 247/250\n",
      "519/519 [==============================] - 0s 66us/sample - loss: 0.6238 - val_loss: 0.5611\n",
      "Epoch 248/250\n",
      "519/519 [==============================] - 0s 69us/sample - loss: 0.6727 - val_loss: 0.5460\n",
      "Epoch 249/250\n",
      "519/519 [==============================] - 0s 62us/sample - loss: 0.6551 - val_loss: 0.5540\n",
      "Epoch 250/250\n",
      "519/519 [==============================] - 0s 62us/sample - loss: 0.5953 - val_loss: 0.5355\n"
     ]
    },
    {
     "data": {
      "text/plain": [
       "<tensorflow.python.keras.callbacks.History at 0x238b6797d08>"
      ]
     },
     "execution_count": 36,
     "metadata": {},
     "output_type": "execute_result"
    }
   ],
   "source": [
    "model.fit(X_train,y_train,validation_data = (X_test,y_test.values),batch_size = 64,epochs = 250)"
   ]
  },
  {
   "cell_type": "code",
   "execution_count": 37,
   "metadata": {},
   "outputs": [
    {
     "data": {
      "image/png": "[encoded data removed]",
      "text/plain": [
       "<Figure size 432x288 with 1 Axes>"
      ]
     },
     "metadata": {
      "needs_background": "light"
     },
     "output_type": "display_data"
    }
   ],
   "source": [
    "losses = pd.DataFrame(model.history.history)\n",
    "\n",
    "losses.plot();"
   ]
  },
  {
   "cell_type": "code",
   "execution_count": 38,
   "metadata": {},
   "outputs": [],
   "source": [
    "y_pred = model.predict(X_test)"
   ]
  },
  {
   "cell_type": "code",
   "execution_count": 39,
   "metadata": {},
   "outputs": [
    {
     "data": {
      "text/html": [
       "<div>\n",
       "<style scoped>\n",
       "    .dataframe tbody tr th:only-of-type {\n",
       "        vertical-align: middle;\n",
       "    }\n",
       "\n",
       "    .dataframe tbody tr th {\n",
       "        vertical-align: top;\n",
       "    }\n",
       "\n",
       "    .dataframe thead th {\n",
       "        text-align: right;\n",
       "    }\n",
       "</style>\n",
       "<table border=\"1\" class=\"dataframe\">\n",
       "  <thead>\n",
       "    <tr style=\"text-align: right;\">\n",
       "      <th></th>\n",
       "      <th>y_pred</th>\n",
       "      <th>y_test</th>\n",
       "    </tr>\n",
       "  </thead>\n",
       "  <tbody>\n",
       "    <tr>\n",
       "      <th>0</th>\n",
       "      <td>3.509541</td>\n",
       "      <td>5</td>\n",
       "    </tr>\n",
       "    <tr>\n",
       "      <th>1</th>\n",
       "      <td>3.381199</td>\n",
       "      <td>3</td>\n",
       "    </tr>\n",
       "    <tr>\n",
       "      <th>2</th>\n",
       "      <td>3.598044</td>\n",
       "      <td>5</td>\n",
       "    </tr>\n",
       "    <tr>\n",
       "      <th>3</th>\n",
       "      <td>3.221613</td>\n",
       "      <td>3</td>\n",
       "    </tr>\n",
       "    <tr>\n",
       "      <th>4</th>\n",
       "      <td>3.151576</td>\n",
       "      <td>3</td>\n",
       "    </tr>\n",
       "  </tbody>\n",
       "</table>\n",
       "</div>"
      ],
      "text/plain": [
       "     y_pred  y_test\n",
       "0  3.509541       5\n",
       "1  3.381199       3\n",
       "2  3.598044       5\n",
       "3  3.221613       3\n",
       "4  3.151576       3"
      ]
     },
     "execution_count": 39,
     "metadata": {},
     "output_type": "execute_result"
    }
   ],
   "source": [
    "y_pred = pd.DataFrame(y_pred)\n",
    "\n",
    "df_temp = pd.concat([y_pred,y_test],axis = 1)\n",
    "df_temp.columns = ['y_pred','y_test']\n",
    "\n",
    "df_temp.head()"
   ]
  },
  {
   "cell_type": "code",
   "execution_count": 40,
   "metadata": {},
   "outputs": [
    {
     "data": {
      "image/png": "[encoded data removed]",
      "text/plain": [
       "<Figure size 432x288 with 1 Axes>"
      ]
     },
     "metadata": {
      "needs_background": "light"
     },
     "output_type": "display_data"
    }
   ],
   "source": [
    "plt.scatter(df_temp['y_test'],df_temp['y_pred'])\n",
    "plt.xlabel('y_test',fontsize = 14)\n",
    "plt.ylabel('y_pred',fontsize = 14)\n",
    "plt.xlim(0,6)\n",
    "plt.ylim(0,6)\n",
    "plt.xticks(list(range(0,6)))\n",
    "plt.yticks(list(range(0,6)))\n",
    "plt.grid()\n",
    "y_lim = plt.ylim()\n",
    "x_lim = plt.xlim()\n",
    "plt.plot(x_lim,y_lim,color = 'g',linewidth = 0.5);"
   ]
  },
  {
   "cell_type": "code",
   "execution_count": 41,
   "metadata": {},
   "outputs": [
    {
     "data": {
      "text/plain": [
       "0.7318043777416486"
      ]
     },
     "execution_count": 41,
     "metadata": {},
     "output_type": "execute_result"
    }
   ],
   "source": [
    "rmse(y_pred,y_test)"
   ]
  },
  {
   "cell_type": "markdown",
   "metadata": {},
   "source": [
    "## Stacking "
   ]
  },
  {
   "cell_type": "code",
   "execution_count": 42,
   "metadata": {},
   "outputs": [],
   "source": [
    "X_base,X_meta,y_base,y_meta = train_test_split(X_train,y_train,test_size = 0.5,random_state = 42)"
   ]
  },
  {
   "cell_type": "markdown",
   "metadata": {},
   "source": [
    "### Base Models "
   ]
  },
  {
   "cell_type": "code",
   "execution_count": 43,
   "metadata": {},
   "outputs": [],
   "source": [
    "model = DecisionTreeRegressor(min_samples_leaf = 20,max_depth = 10)\n",
    "model.fit(X_base,y_base)\n",
    "\n",
    "y_pred_dt_meta = model.predict(X_meta)\n",
    "y_pred_dt_test = model.predict(X_test)"
   ]
  },
  {
   "cell_type": "code",
   "execution_count": 44,
   "metadata": {},
   "outputs": [],
   "source": [
    "model = RandomForestRegressor(min_samples_leaf = 1,n_estimators = 100)\n",
    "model.fit(X_base,y_base)\n",
    "\n",
    "y_pred_rf_meta = model.predict(X_meta)\n",
    "y_pred_rf_test = model.predict(X_test)"
   ]
  },
  {
   "cell_type": "code",
   "execution_count": 45,
   "metadata": {},
   "outputs": [],
   "source": [
    "model = xgboost.XGBRegressor(silent = True,max_depth = 1,learning_rate = 0.1,n_estimators = 100)\n",
    "model.fit(X_base,y_base)\n",
    "\n",
    "y_pred_xgb_meta = model.predict(X_meta)\n",
    "y_pred_xgb_test = model.predict(X_test)"
   ]
  },
  {
   "cell_type": "code",
   "execution_count": 46,
   "metadata": {},
   "outputs": [
    {
     "name": "stdout",
     "output_type": "stream",
     "text": [
      "Train on 519 samples, validate on 259 samples\n",
      "Epoch 1/250\n",
      "519/519 [==============================] - 1s 1ms/sample - loss: 9.4122 - val_loss: 7.9586\n",
      "Epoch 2/250\n",
      "519/519 [==============================] - 0s 85us/sample - loss: 6.7779 - val_loss: 4.7895\n",
      "Epoch 3/250\n",
      "519/519 [==============================] - 0s 69us/sample - loss: 3.7444 - val_loss: 1.7155\n",
      "Epoch 4/250\n",
      "519/519 [==============================] - 0s 75us/sample - loss: 2.4211 - val_loss: 0.8318\n",
      "Epoch 5/250\n",
      "519/519 [==============================] - 0s 69us/sample - loss: 2.2717 - val_loss: 0.8315\n",
      "Epoch 6/250\n",
      "519/519 [==============================] - 0s 67us/sample - loss: 2.0828 - val_loss: 1.1942\n",
      "Epoch 7/250\n",
      "519/519 [==============================] - 0s 77us/sample - loss: 1.9658 - val_loss: 1.0275\n",
      "Epoch 8/250\n",
      "519/519 [==============================] - 0s 75us/sample - loss: 1.8011 - val_loss: 0.8496\n",
      "Epoch 9/250\n",
      "519/519 [==============================] - 0s 75us/sample - loss: 1.7688 - val_loss: 0.8359\n",
      "Epoch 10/250\n",
      "519/519 [==============================] - 0s 71us/sample - loss: 1.5459 - val_loss: 0.8637\n",
      "Epoch 11/250\n",
      "519/519 [==============================] - 0s 71us/sample - loss: 1.5612 - val_loss: 0.9974\n",
      "Epoch 12/250\n",
      "519/519 [==============================] - 0s 73us/sample - loss: 1.5516 - val_loss: 0.8295\n",
      "Epoch 13/250\n",
      "519/519 [==============================] - 0s 73us/sample - loss: 1.6727 - val_loss: 0.7103\n",
      "Epoch 14/250\n",
      "519/519 [==============================] - 0s 79us/sample - loss: 1.4250 - val_loss: 0.6805\n",
      "Epoch 15/250\n",
      "519/519 [==============================] - 0s 69us/sample - loss: 1.5448 - val_loss: 0.8525\n",
      "Epoch 16/250\n",
      "519/519 [==============================] - 0s 78us/sample - loss: 1.4410 - val_loss: 0.7136\n",
      "Epoch 17/250\n",
      "519/519 [==============================] - 0s 77us/sample - loss: 1.3387 - val_loss: 0.7656\n",
      "Epoch 18/250\n",
      "519/519 [==============================] - 0s 69us/sample - loss: 1.2202 - val_loss: 0.7117\n",
      "Epoch 19/250\n",
      "519/519 [==============================] - 0s 67us/sample - loss: 1.2755 - val_loss: 0.7923\n",
      "Epoch 20/250\n",
      "519/519 [==============================] - 0s 73us/sample - loss: 1.2026 - val_loss: 0.7293\n",
      "Epoch 21/250\n",
      "519/519 [==============================] - 0s 69us/sample - loss: 1.2524 - val_loss: 0.7610\n",
      "Epoch 22/250\n",
      "519/519 [==============================] - 0s 71us/sample - loss: 1.2856 - val_loss: 0.6805\n",
      "Epoch 23/250\n",
      "519/519 [==============================] - 0s 67us/sample - loss: 1.2137 - val_loss: 0.6229\n",
      "Epoch 24/250\n",
      "519/519 [==============================] - 0s 73us/sample - loss: 1.2014 - val_loss: 0.7365\n",
      "Epoch 25/250\n",
      "519/519 [==============================] - 0s 69us/sample - loss: 1.1493 - val_loss: 0.8032\n",
      "Epoch 26/250\n",
      "519/519 [==============================] - 0s 71us/sample - loss: 1.1056 - val_loss: 0.6472\n",
      "Epoch 27/250\n",
      "519/519 [==============================] - 0s 67us/sample - loss: 1.1817 - val_loss: 0.6841\n",
      "Epoch 28/250\n",
      "519/519 [==============================] - 0s 73us/sample - loss: 1.1357 - val_loss: 0.7098\n",
      "Epoch 29/250\n",
      "519/519 [==============================] - 0s 79us/sample - loss: 1.1123 - val_loss: 0.7014\n",
      "Epoch 30/250\n",
      "519/519 [==============================] - 0s 71us/sample - loss: 1.0646 - val_loss: 0.5857\n",
      "Epoch 31/250\n",
      "519/519 [==============================] - 0s 71us/sample - loss: 1.0533 - val_loss: 0.6589\n",
      "Epoch 32/250\n",
      "519/519 [==============================] - 0s 67us/sample - loss: 0.9558 - val_loss: 0.6669\n",
      "Epoch 33/250\n",
      "519/519 [==============================] - 0s 73us/sample - loss: 1.0609 - val_loss: 0.5782\n",
      "Epoch 34/250\n",
      "519/519 [==============================] - 0s 71us/sample - loss: 1.0695 - val_loss: 0.6202\n",
      "Epoch 35/250\n",
      "519/519 [==============================] - 0s 68us/sample - loss: 1.0696 - val_loss: 0.6243\n",
      "Epoch 36/250\n",
      "519/519 [==============================] - 0s 66us/sample - loss: 1.0189 - val_loss: 0.6713\n",
      "Epoch 37/250\n",
      "519/519 [==============================] - 0s 66us/sample - loss: 0.9887 - val_loss: 0.6888\n",
      "Epoch 38/250\n",
      "519/519 [==============================] - 0s 69us/sample - loss: 1.0062 - val_loss: 0.6055\n",
      "Epoch 39/250\n",
      "519/519 [==============================] - 0s 69us/sample - loss: 0.8715 - val_loss: 0.5778\n",
      "Epoch 40/250\n",
      "519/519 [==============================] - 0s 71us/sample - loss: 0.9468 - val_loss: 0.6392\n",
      "Epoch 41/250\n",
      "519/519 [==============================] - 0s 85us/sample - loss: 0.9981 - val_loss: 0.7220\n",
      "Epoch 42/250\n",
      "519/519 [==============================] - 0s 75us/sample - loss: 0.9413 - val_loss: 0.5741\n",
      "Epoch 43/250\n",
      "519/519 [==============================] - 0s 77us/sample - loss: 0.9399 - val_loss: 0.6091\n",
      "Epoch 44/250\n",
      "519/519 [==============================] - 0s 67us/sample - loss: 0.9939 - val_loss: 0.5734\n",
      "Epoch 45/250\n",
      "519/519 [==============================] - 0s 71us/sample - loss: 0.9175 - val_loss: 0.5954\n",
      "Epoch 46/250\n",
      "519/519 [==============================] - 0s 67us/sample - loss: 0.9098 - val_loss: 0.7078\n",
      "Epoch 47/250\n",
      "519/519 [==============================] - 0s 71us/sample - loss: 0.8813 - val_loss: 0.5902\n",
      "Epoch 48/250\n",
      "519/519 [==============================] - 0s 69us/sample - loss: 0.9273 - val_loss: 0.5613\n",
      "Epoch 49/250\n",
      "519/519 [==============================] - 0s 69us/sample - loss: 0.9715 - val_loss: 0.5922\n",
      "Epoch 50/250\n",
      "519/519 [==============================] - 0s 67us/sample - loss: 0.8473 - val_loss: 0.5784\n",
      "Epoch 51/250\n",
      "519/519 [==============================] - 0s 73us/sample - loss: 0.8268 - val_loss: 0.6181\n",
      "Epoch 52/250\n",
      "519/519 [==============================] - 0s 69us/sample - loss: 0.8832 - val_loss: 0.7024\n",
      "Epoch 53/250\n",
      "519/519 [==============================] - 0s 67us/sample - loss: 0.8818 - val_loss: 0.6458\n",
      "Epoch 54/250\n",
      "519/519 [==============================] - 0s 66us/sample - loss: 0.8467 - val_loss: 0.5653\n",
      "Epoch 55/250\n",
      "519/519 [==============================] - 0s 67us/sample - loss: 0.8674 - val_loss: 0.6752\n",
      "Epoch 56/250\n",
      "519/519 [==============================] - 0s 73us/sample - loss: 0.8255 - val_loss: 0.6623\n",
      "Epoch 57/250\n",
      "519/519 [==============================] - 0s 67us/sample - loss: 0.8511 - val_loss: 0.5528\n",
      "Epoch 58/250\n",
      "519/519 [==============================] - 0s 67us/sample - loss: 0.8151 - val_loss: 0.6508\n",
      "Epoch 59/250\n",
      "519/519 [==============================] - 0s 69us/sample - loss: 0.8681 - val_loss: 0.7053\n",
      "Epoch 60/250\n",
      "519/519 [==============================] - 0s 66us/sample - loss: 0.8708 - val_loss: 0.5913\n",
      "Epoch 61/250\n",
      "519/519 [==============================] - 0s 67us/sample - loss: 0.8708 - val_loss: 0.5660\n",
      "Epoch 62/250\n",
      "519/519 [==============================] - 0s 67us/sample - loss: 0.8260 - val_loss: 0.6374\n",
      "Epoch 63/250\n",
      "519/519 [==============================] - 0s 71us/sample - loss: 0.8950 - val_loss: 0.6165\n",
      "Epoch 64/250\n",
      "519/519 [==============================] - 0s 71us/sample - loss: 0.8345 - val_loss: 0.5439\n",
      "Epoch 65/250\n",
      "519/519 [==============================] - 0s 67us/sample - loss: 0.8589 - val_loss: 0.5782\n",
      "Epoch 66/250\n",
      "519/519 [==============================] - 0s 67us/sample - loss: 0.7581 - val_loss: 0.6400\n",
      "Epoch 67/250\n",
      "519/519 [==============================] - 0s 64us/sample - loss: 0.8643 - val_loss: 0.5791\n",
      "Epoch 68/250\n",
      "519/519 [==============================] - 0s 79us/sample - loss: 0.7990 - val_loss: 0.5795\n",
      "Epoch 69/250\n",
      "519/519 [==============================] - 0s 80us/sample - loss: 0.7208 - val_loss: 0.5933\n",
      "Epoch 70/250\n",
      "519/519 [==============================] - 0s 73us/sample - loss: 0.8399 - val_loss: 0.5766\n",
      "Epoch 71/250\n",
      "519/519 [==============================] - 0s 75us/sample - loss: 0.8098 - val_loss: 0.5766\n",
      "Epoch 72/250\n",
      "519/519 [==============================] - 0s 77us/sample - loss: 0.8247 - val_loss: 0.6002\n",
      "Epoch 73/250\n",
      "519/519 [==============================] - 0s 72us/sample - loss: 0.8034 - val_loss: 0.6011\n",
      "Epoch 74/250\n",
      "519/519 [==============================] - 0s 73us/sample - loss: 0.7869 - val_loss: 0.5771\n",
      "Epoch 75/250\n",
      "519/519 [==============================] - 0s 81us/sample - loss: 0.7133 - val_loss: 0.5647\n",
      "Epoch 76/250\n",
      "519/519 [==============================] - 0s 75us/sample - loss: 0.7190 - val_loss: 0.5955\n",
      "Epoch 77/250\n",
      "519/519 [==============================] - 0s 75us/sample - loss: 0.8335 - val_loss: 0.5606\n",
      "Epoch 78/250\n"
     ]
    },
    {
     "name": "stdout",
     "output_type": "stream",
     "text": [
      "519/519 [==============================] - 0s 71us/sample - loss: 0.7629 - val_loss: 0.5222\n",
      "Epoch 79/250\n",
      "519/519 [==============================] - 0s 71us/sample - loss: 0.7931 - val_loss: 0.6003\n",
      "Epoch 80/250\n",
      "519/519 [==============================] - 0s 74us/sample - loss: 0.7868 - val_loss: 0.6049\n",
      "Epoch 81/250\n",
      "519/519 [==============================] - 0s 89us/sample - loss: 0.7196 - val_loss: 0.5566\n",
      "Epoch 82/250\n",
      "519/519 [==============================] - 0s 75us/sample - loss: 0.7325 - val_loss: 0.5279\n",
      "Epoch 83/250\n",
      "519/519 [==============================] - 0s 71us/sample - loss: 0.8751 - val_loss: 0.6350\n",
      "Epoch 84/250\n",
      "519/519 [==============================] - 0s 75us/sample - loss: 0.7705 - val_loss: 0.5538\n",
      "Epoch 85/250\n",
      "519/519 [==============================] - 0s 75us/sample - loss: 0.7128 - val_loss: 0.5257\n",
      "Epoch 86/250\n",
      "519/519 [==============================] - 0s 73us/sample - loss: 0.7502 - val_loss: 0.5561\n",
      "Epoch 87/250\n",
      "519/519 [==============================] - 0s 73us/sample - loss: 0.7759 - val_loss: 0.5714\n",
      "Epoch 88/250\n",
      "519/519 [==============================] - 0s 73us/sample - loss: 0.7326 - val_loss: 0.5883\n",
      "Epoch 89/250\n",
      "519/519 [==============================] - 0s 76us/sample - loss: 0.7205 - val_loss: 0.5323\n",
      "Epoch 90/250\n",
      "519/519 [==============================] - 0s 75us/sample - loss: 0.8137 - val_loss: 0.5345\n",
      "Epoch 91/250\n",
      "519/519 [==============================] - 0s 84us/sample - loss: 0.7607 - val_loss: 0.5333\n",
      "Epoch 92/250\n",
      "519/519 [==============================] - 0s 81us/sample - loss: 0.7940 - val_loss: 0.5526\n",
      "Epoch 93/250\n",
      "519/519 [==============================] - 0s 79us/sample - loss: 0.6975 - val_loss: 0.5790\n",
      "Epoch 94/250\n",
      "519/519 [==============================] - 0s 75us/sample - loss: 0.7355 - val_loss: 0.5122\n",
      "Epoch 95/250\n",
      "519/519 [==============================] - 0s 67us/sample - loss: 0.7434 - val_loss: 0.4971\n",
      "Epoch 96/250\n",
      "519/519 [==============================] - 0s 69us/sample - loss: 0.6768 - val_loss: 0.5767\n",
      "Epoch 97/250\n",
      "519/519 [==============================] - 0s 71us/sample - loss: 0.7335 - val_loss: 0.5590\n",
      "Epoch 98/250\n",
      "519/519 [==============================] - 0s 67us/sample - loss: 0.7581 - val_loss: 0.5705\n",
      "Epoch 99/250\n",
      "519/519 [==============================] - 0s 66us/sample - loss: 0.7556 - val_loss: 0.5555\n",
      "Epoch 100/250\n",
      "519/519 [==============================] - 0s 73us/sample - loss: 0.7500 - val_loss: 0.5326\n",
      "Epoch 101/250\n",
      "519/519 [==============================] - 0s 66us/sample - loss: 0.7082 - val_loss: 0.5394\n",
      "Epoch 102/250\n",
      "519/519 [==============================] - 0s 66us/sample - loss: 0.7525 - val_loss: 0.5241\n",
      "Epoch 103/250\n",
      "519/519 [==============================] - 0s 66us/sample - loss: 0.7331 - val_loss: 0.5374\n",
      "Epoch 104/250\n",
      "519/519 [==============================] - 0s 67us/sample - loss: 0.7472 - val_loss: 0.5334\n",
      "Epoch 105/250\n",
      "519/519 [==============================] - 0s 67us/sample - loss: 0.7367 - val_loss: 0.5418\n",
      "Epoch 106/250\n",
      "519/519 [==============================] - 0s 67us/sample - loss: 0.6859 - val_loss: 0.5262\n",
      "Epoch 107/250\n",
      "519/519 [==============================] - 0s 67us/sample - loss: 0.7719 - val_loss: 0.5043\n",
      "Epoch 108/250\n",
      "519/519 [==============================] - 0s 67us/sample - loss: 0.7249 - val_loss: 0.5280\n",
      "Epoch 109/250\n",
      "519/519 [==============================] - 0s 64us/sample - loss: 0.6941 - val_loss: 0.5114\n",
      "Epoch 110/250\n",
      "519/519 [==============================] - 0s 67us/sample - loss: 0.7373 - val_loss: 0.5028\n",
      "Epoch 111/250\n",
      "519/519 [==============================] - 0s 67us/sample - loss: 0.7073 - val_loss: 0.5403\n",
      "Epoch 112/250\n",
      "519/519 [==============================] - 0s 66us/sample - loss: 0.7562 - val_loss: 0.5087\n",
      "Epoch 113/250\n",
      "519/519 [==============================] - 0s 69us/sample - loss: 0.8203 - val_loss: 0.5168\n",
      "Epoch 114/250\n",
      "519/519 [==============================] - 0s 67us/sample - loss: 0.6852 - val_loss: 0.5369\n",
      "Epoch 115/250\n",
      "519/519 [==============================] - 0s 71us/sample - loss: 0.7106 - val_loss: 0.4934\n",
      "Epoch 116/250\n",
      "519/519 [==============================] - 0s 67us/sample - loss: 0.6956 - val_loss: 0.4843\n",
      "Epoch 117/250\n",
      "519/519 [==============================] - 0s 67us/sample - loss: 0.7653 - val_loss: 0.5217\n",
      "Epoch 118/250\n",
      "519/519 [==============================] - 0s 66us/sample - loss: 0.6963 - val_loss: 0.5064\n",
      "Epoch 119/250\n",
      "519/519 [==============================] - 0s 69us/sample - loss: 0.6715 - val_loss: 0.5005\n",
      "Epoch 120/250\n",
      "519/519 [==============================] - 0s 69us/sample - loss: 0.7037 - val_loss: 0.5210\n",
      "Epoch 121/250\n",
      "519/519 [==============================] - 0s 69us/sample - loss: 0.6903 - val_loss: 0.5040\n",
      "Epoch 122/250\n",
      "519/519 [==============================] - 0s 83us/sample - loss: 0.7144 - val_loss: 0.4700\n",
      "Epoch 123/250\n",
      "519/519 [==============================] - 0s 89us/sample - loss: 0.6744 - val_loss: 0.4789\n",
      "Epoch 124/250\n",
      "519/519 [==============================] - 0s 69us/sample - loss: 0.6497 - val_loss: 0.4869\n",
      "Epoch 125/250\n",
      "519/519 [==============================] - 0s 73us/sample - loss: 0.7254 - val_loss: 0.5230\n",
      "Epoch 126/250\n",
      "519/519 [==============================] - 0s 75us/sample - loss: 0.7310 - val_loss: 0.5055\n",
      "Epoch 127/250\n",
      "519/519 [==============================] - 0s 73us/sample - loss: 0.6878 - val_loss: 0.4891\n",
      "Epoch 128/250\n",
      "519/519 [==============================] - 0s 69us/sample - loss: 0.6864 - val_loss: 0.4827\n",
      "Epoch 129/250\n",
      "519/519 [==============================] - 0s 69us/sample - loss: 0.6371 - val_loss: 0.4985\n",
      "Epoch 130/250\n",
      "519/519 [==============================] - 0s 71us/sample - loss: 0.7091 - val_loss: 0.4977\n",
      "Epoch 131/250\n",
      "519/519 [==============================] - 0s 66us/sample - loss: 0.7011 - val_loss: 0.4886\n",
      "Epoch 132/250\n",
      "519/519 [==============================] - 0s 73us/sample - loss: 0.6969 - val_loss: 0.4732\n",
      "Epoch 133/250\n",
      "519/519 [==============================] - 0s 69us/sample - loss: 0.7200 - val_loss: 0.4996\n",
      "Epoch 134/250\n",
      "519/519 [==============================] - 0s 69us/sample - loss: 0.7009 - val_loss: 0.4959\n",
      "Epoch 135/250\n",
      "519/519 [==============================] - 0s 69us/sample - loss: 0.6979 - val_loss: 0.4793\n",
      "Epoch 136/250\n",
      "519/519 [==============================] - 0s 67us/sample - loss: 0.7010 - val_loss: 0.4577\n",
      "Epoch 137/250\n",
      "519/519 [==============================] - 0s 66us/sample - loss: 0.6663 - val_loss: 0.4667\n",
      "Epoch 138/250\n",
      "519/519 [==============================] - 0s 69us/sample - loss: 0.8099 - val_loss: 0.4985\n",
      "Epoch 139/250\n",
      "519/519 [==============================] - 0s 66us/sample - loss: 0.6802 - val_loss: 0.5175\n",
      "Epoch 140/250\n",
      "519/519 [==============================] - 0s 67us/sample - loss: 0.7361 - val_loss: 0.5117\n",
      "Epoch 141/250\n",
      "519/519 [==============================] - 0s 66us/sample - loss: 0.6349 - val_loss: 0.4917\n",
      "Epoch 142/250\n",
      "519/519 [==============================] - 0s 67us/sample - loss: 0.6269 - val_loss: 0.4670\n",
      "Epoch 143/250\n",
      "519/519 [==============================] - 0s 66us/sample - loss: 0.6592 - val_loss: 0.4846\n",
      "Epoch 144/250\n",
      "519/519 [==============================] - 0s 69us/sample - loss: 0.6799 - val_loss: 0.5306\n",
      "Epoch 145/250\n",
      "519/519 [==============================] - 0s 69us/sample - loss: 0.6930 - val_loss: 0.5037\n",
      "Epoch 146/250\n",
      "519/519 [==============================] - 0s 66us/sample - loss: 0.6498 - val_loss: 0.4677\n",
      "Epoch 147/250\n",
      "519/519 [==============================] - 0s 66us/sample - loss: 0.7320 - val_loss: 0.4687\n",
      "Epoch 148/250\n",
      "519/519 [==============================] - 0s 71us/sample - loss: 0.6588 - val_loss: 0.4585\n",
      "Epoch 149/250\n",
      "519/519 [==============================] - 0s 79us/sample - loss: 0.7014 - val_loss: 0.4591\n",
      "Epoch 150/250\n",
      "519/519 [==============================] - 0s 68us/sample - loss: 0.6608 - val_loss: 0.4841\n",
      "Epoch 151/250\n",
      "519/519 [==============================] - 0s 71us/sample - loss: 0.6590 - val_loss: 0.4674\n",
      "Epoch 152/250\n",
      "519/519 [==============================] - 0s 73us/sample - loss: 0.6249 - val_loss: 0.4687\n",
      "Epoch 153/250\n",
      "519/519 [==============================] - 0s 71us/sample - loss: 0.6771 - val_loss: 0.4957\n",
      "Epoch 154/250\n",
      "519/519 [==============================] - 0s 69us/sample - loss: 0.6287 - val_loss: 0.4636\n",
      "Epoch 155/250\n"
     ]
    },
    {
     "name": "stdout",
     "output_type": "stream",
     "text": [
      "519/519 [==============================] - 0s 69us/sample - loss: 0.6504 - val_loss: 0.4676\n",
      "Epoch 156/250\n",
      "519/519 [==============================] - 0s 67us/sample - loss: 0.6888 - val_loss: 0.4527\n",
      "Epoch 157/250\n",
      "519/519 [==============================] - 0s 67us/sample - loss: 0.6857 - val_loss: 0.4634\n",
      "Epoch 158/250\n",
      "519/519 [==============================] - 0s 67us/sample - loss: 0.6025 - val_loss: 0.4735\n",
      "Epoch 159/250\n",
      "519/519 [==============================] - 0s 67us/sample - loss: 0.6713 - val_loss: 0.4670\n",
      "Epoch 160/250\n",
      "519/519 [==============================] - 0s 69us/sample - loss: 0.6787 - val_loss: 0.4720\n",
      "Epoch 161/250\n",
      "519/519 [==============================] - 0s 69us/sample - loss: 0.6662 - val_loss: 0.4599\n",
      "Epoch 162/250\n",
      "519/519 [==============================] - 0s 64us/sample - loss: 0.6720 - val_loss: 0.4732\n",
      "Epoch 163/250\n",
      "519/519 [==============================] - 0s 67us/sample - loss: 0.6779 - val_loss: 0.4790\n",
      "Epoch 164/250\n",
      "519/519 [==============================] - 0s 69us/sample - loss: 0.6542 - val_loss: 0.4718\n",
      "Epoch 165/250\n",
      "519/519 [==============================] - 0s 69us/sample - loss: 0.5913 - val_loss: 0.4704\n",
      "Epoch 166/250\n",
      "519/519 [==============================] - 0s 67us/sample - loss: 0.6438 - val_loss: 0.4651\n",
      "Epoch 167/250\n",
      "519/519 [==============================] - 0s 64us/sample - loss: 0.6471 - val_loss: 0.4412\n",
      "Epoch 168/250\n",
      "519/519 [==============================] - 0s 67us/sample - loss: 0.6231 - val_loss: 0.4477\n",
      "Epoch 169/250\n",
      "519/519 [==============================] - 0s 67us/sample - loss: 0.6561 - val_loss: 0.4462\n",
      "Epoch 170/250\n",
      "519/519 [==============================] - 0s 64us/sample - loss: 0.6535 - val_loss: 0.4617\n",
      "Epoch 171/250\n",
      "519/519 [==============================] - 0s 69us/sample - loss: 0.6139 - val_loss: 0.4628\n",
      "Epoch 172/250\n",
      "519/519 [==============================] - 0s 69us/sample - loss: 0.6289 - val_loss: 0.4555\n",
      "Epoch 173/250\n",
      "519/519 [==============================] - 0s 66us/sample - loss: 0.6997 - val_loss: 0.4584\n",
      "Epoch 174/250\n",
      "519/519 [==============================] - 0s 67us/sample - loss: 0.6099 - val_loss: 0.4628\n",
      "Epoch 175/250\n",
      "519/519 [==============================] - 0s 67us/sample - loss: 0.6375 - val_loss: 0.4537\n",
      "Epoch 176/250\n",
      "519/519 [==============================] - 0s 69us/sample - loss: 0.7039 - val_loss: 0.4518\n",
      "Epoch 177/250\n",
      "519/519 [==============================] - 0s 79us/sample - loss: 0.6458 - val_loss: 0.4519\n",
      "Epoch 178/250\n",
      "519/519 [==============================] - 0s 70us/sample - loss: 0.6626 - val_loss: 0.4618\n",
      "Epoch 179/250\n",
      "519/519 [==============================] - 0s 69us/sample - loss: 0.6282 - val_loss: 0.4608\n",
      "Epoch 180/250\n",
      "519/519 [==============================] - 0s 67us/sample - loss: 0.6405 - val_loss: 0.4607\n",
      "Epoch 181/250\n",
      "519/519 [==============================] - 0s 67us/sample - loss: 0.6681 - val_loss: 0.4527\n",
      "Epoch 182/250\n",
      "519/519 [==============================] - 0s 71us/sample - loss: 0.6287 - val_loss: 0.4462\n",
      "Epoch 183/250\n",
      "519/519 [==============================] - 0s 69us/sample - loss: 0.5555 - val_loss: 0.4576\n",
      "Epoch 184/250\n",
      "519/519 [==============================] - 0s 67us/sample - loss: 0.6541 - val_loss: 0.4588\n",
      "Epoch 185/250\n",
      "519/519 [==============================] - 0s 73us/sample - loss: 0.6349 - val_loss: 0.4615\n",
      "Epoch 186/250\n",
      "519/519 [==============================] - 0s 75us/sample - loss: 0.6779 - val_loss: 0.4494\n",
      "Epoch 187/250\n",
      "519/519 [==============================] - 0s 71us/sample - loss: 0.6041 - val_loss: 0.4492\n",
      "Epoch 188/250\n",
      "519/519 [==============================] - 0s 67us/sample - loss: 0.6800 - val_loss: 0.4452\n",
      "Epoch 189/250\n",
      "519/519 [==============================] - 0s 69us/sample - loss: 0.6196 - val_loss: 0.4357\n",
      "Epoch 190/250\n",
      "519/519 [==============================] - 0s 71us/sample - loss: 0.6457 - val_loss: 0.4504\n",
      "Epoch 191/250\n",
      "519/519 [==============================] - 0s 71us/sample - loss: 0.6496 - val_loss: 0.4379\n",
      "Epoch 192/250\n",
      "519/519 [==============================] - 0s 67us/sample - loss: 0.6281 - val_loss: 0.4379\n",
      "Epoch 193/250\n",
      "519/519 [==============================] - 0s 67us/sample - loss: 0.6135 - val_loss: 0.4560\n",
      "Epoch 194/250\n",
      "519/519 [==============================] - 0s 71us/sample - loss: 0.6418 - val_loss: 0.4443\n",
      "Epoch 195/250\n",
      "519/519 [==============================] - 0s 67us/sample - loss: 0.6267 - val_loss: 0.4432\n",
      "Epoch 196/250\n",
      "519/519 [==============================] - 0s 66us/sample - loss: 0.5965 - val_loss: 0.4298\n",
      "Epoch 197/250\n",
      "519/519 [==============================] - 0s 69us/sample - loss: 0.5701 - val_loss: 0.4424\n",
      "Epoch 198/250\n",
      "519/519 [==============================] - 0s 66us/sample - loss: 0.5675 - val_loss: 0.4342\n",
      "Epoch 199/250\n",
      "519/519 [==============================] - 0s 69us/sample - loss: 0.6178 - val_loss: 0.4262\n",
      "Epoch 200/250\n",
      "519/519 [==============================] - 0s 69us/sample - loss: 0.5638 - val_loss: 0.4308\n",
      "Epoch 201/250\n",
      "519/519 [==============================] - 0s 74us/sample - loss: 0.6147 - val_loss: 0.4232\n",
      "Epoch 202/250\n",
      "519/519 [==============================] - 0s 73us/sample - loss: 0.6366 - val_loss: 0.4323\n",
      "Epoch 203/250\n",
      "519/519 [==============================] - 0s 69us/sample - loss: 0.6004 - val_loss: 0.4672\n",
      "Epoch 204/250\n",
      "519/519 [==============================] - 0s 73us/sample - loss: 0.6230 - val_loss: 0.4377\n",
      "Epoch 205/250\n",
      "519/519 [==============================] - 0s 79us/sample - loss: 0.6019 - val_loss: 0.4346\n",
      "Epoch 206/250\n",
      "519/519 [==============================] - 0s 69us/sample - loss: 0.5658 - val_loss: 0.4259\n",
      "Epoch 207/250\n",
      "519/519 [==============================] - 0s 71us/sample - loss: 0.5792 - val_loss: 0.4245\n",
      "Epoch 208/250\n",
      "519/519 [==============================] - 0s 69us/sample - loss: 0.5882 - val_loss: 0.4375\n",
      "Epoch 209/250\n",
      "519/519 [==============================] - 0s 68us/sample - loss: 0.6259 - val_loss: 0.4404\n",
      "Epoch 210/250\n",
      "519/519 [==============================] - 0s 67us/sample - loss: 0.6417 - val_loss: 0.4321\n",
      "Epoch 211/250\n",
      "519/519 [==============================] - 0s 67us/sample - loss: 0.5941 - val_loss: 0.4306\n",
      "Epoch 212/250\n",
      "519/519 [==============================] - 0s 67us/sample - loss: 0.6321 - val_loss: 0.4276\n",
      "Epoch 213/250\n",
      "519/519 [==============================] - 0s 71us/sample - loss: 0.5634 - val_loss: 0.4297\n",
      "Epoch 214/250\n",
      "519/519 [==============================] - 0s 69us/sample - loss: 0.6329 - val_loss: 0.4287\n",
      "Epoch 215/250\n",
      "519/519 [==============================] - 0s 71us/sample - loss: 0.5931 - val_loss: 0.4328\n",
      "Epoch 216/250\n",
      "519/519 [==============================] - 0s 67us/sample - loss: 0.6182 - val_loss: 0.4222\n",
      "Epoch 217/250\n",
      "519/519 [==============================] - 0s 71us/sample - loss: 0.6174 - val_loss: 0.4487\n",
      "Epoch 218/250\n",
      "519/519 [==============================] - 0s 66us/sample - loss: 0.6644 - val_loss: 0.4482\n",
      "Epoch 219/250\n",
      "519/519 [==============================] - 0s 67us/sample - loss: 0.6011 - val_loss: 0.4209\n",
      "Epoch 220/250\n",
      "519/519 [==============================] - 0s 67us/sample - loss: 0.5966 - val_loss: 0.4182\n",
      "Epoch 221/250\n",
      "519/519 [==============================] - 0s 69us/sample - loss: 0.6384 - val_loss: 0.4232\n",
      "Epoch 222/250\n",
      "519/519 [==============================] - 0s 67us/sample - loss: 0.6135 - val_loss: 0.4288\n",
      "Epoch 223/250\n",
      "519/519 [==============================] - 0s 67us/sample - loss: 0.5537 - val_loss: 0.4414\n",
      "Epoch 224/250\n",
      "519/519 [==============================] - 0s 73us/sample - loss: 0.6062 - val_loss: 0.4270\n",
      "Epoch 225/250\n",
      "519/519 [==============================] - 0s 75us/sample - loss: 0.5994 - val_loss: 0.4191\n",
      "Epoch 226/250\n",
      "519/519 [==============================] - 0s 71us/sample - loss: 0.5697 - val_loss: 0.4212\n",
      "Epoch 227/250\n",
      "519/519 [==============================] - 0s 71us/sample - loss: 0.5912 - val_loss: 0.4351\n",
      "Epoch 228/250\n",
      "519/519 [==============================] - 0s 73us/sample - loss: 0.5823 - val_loss: 0.4299\n",
      "Epoch 229/250\n",
      "519/519 [==============================] - 0s 69us/sample - loss: 0.6615 - val_loss: 0.4158\n",
      "Epoch 230/250\n",
      "519/519 [==============================] - 0s 73us/sample - loss: 0.5795 - val_loss: 0.4272\n",
      "Epoch 231/250\n",
      "519/519 [==============================] - 0s 73us/sample - loss: 0.5944 - val_loss: 0.4161\n",
      "Epoch 232/250\n"
     ]
    },
    {
     "name": "stdout",
     "output_type": "stream",
     "text": [
      "519/519 [==============================] - 0s 73us/sample - loss: 0.6024 - val_loss: 0.4107\n",
      "Epoch 233/250\n",
      "519/519 [==============================] - 0s 69us/sample - loss: 0.5950 - val_loss: 0.4235\n",
      "Epoch 234/250\n",
      "519/519 [==============================] - 0s 67us/sample - loss: 0.5731 - val_loss: 0.4357\n",
      "Epoch 235/250\n",
      "519/519 [==============================] - 0s 69us/sample - loss: 0.5731 - val_loss: 0.4303\n",
      "Epoch 236/250\n",
      "519/519 [==============================] - 0s 67us/sample - loss: 0.5904 - val_loss: 0.4379\n",
      "Epoch 237/250\n",
      "519/519 [==============================] - 0s 64us/sample - loss: 0.5500 - val_loss: 0.4237\n",
      "Epoch 238/250\n",
      "519/519 [==============================] - 0s 66us/sample - loss: 0.6381 - val_loss: 0.4191\n",
      "Epoch 239/250\n",
      "519/519 [==============================] - 0s 69us/sample - loss: 0.5936 - val_loss: 0.4330\n",
      "Epoch 240/250\n",
      "519/519 [==============================] - 0s 66us/sample - loss: 0.5780 - val_loss: 0.4482\n",
      "Epoch 241/250\n",
      "519/519 [==============================] - 0s 69us/sample - loss: 0.6047 - val_loss: 0.4232\n",
      "Epoch 242/250\n",
      "519/519 [==============================] - 0s 66us/sample - loss: 0.5980 - val_loss: 0.4255\n",
      "Epoch 243/250\n",
      "519/519 [==============================] - 0s 67us/sample - loss: 0.6291 - val_loss: 0.4409\n",
      "Epoch 244/250\n",
      "519/519 [==============================] - 0s 69us/sample - loss: 0.5640 - val_loss: 0.4204\n",
      "Epoch 245/250\n",
      "519/519 [==============================] - 0s 69us/sample - loss: 0.5552 - val_loss: 0.4103\n",
      "Epoch 246/250\n",
      "519/519 [==============================] - 0s 69us/sample - loss: 0.5661 - val_loss: 0.4297\n",
      "Epoch 247/250\n",
      "519/519 [==============================] - 0s 67us/sample - loss: 0.5630 - val_loss: 0.4249\n",
      "Epoch 248/250\n",
      "519/519 [==============================] - 0s 69us/sample - loss: 0.5932 - val_loss: 0.4194\n",
      "Epoch 249/250\n",
      "519/519 [==============================] - 0s 66us/sample - loss: 0.5314 - val_loss: 0.4181\n",
      "Epoch 250/250\n",
      "519/519 [==============================] - 0s 67us/sample - loss: 0.6001 - val_loss: 0.4218\n"
     ]
    },
    {
     "data": {
      "text/plain": [
       "<tensorflow.python.keras.callbacks.History at 0x238b86ef8c8>"
      ]
     },
     "execution_count": 46,
     "metadata": {},
     "output_type": "execute_result"
    }
   ],
   "source": [
    "model = Sequential()\n",
    "\n",
    "model.add(Dense(32,activation = 'relu'))\n",
    "model.add(Dropout(0.25))\n",
    "model.add(Dense(32,activation = 'relu'))\n",
    "model.add(Dropout(0.25))\n",
    "model.add(Dense(32,activation = 'relu'))\n",
    "model.add(Dropout(0.25))\n",
    "model.add(Dense(32,activation = 'relu'))\n",
    "model.add(Dropout(0.25))\n",
    "model.add(Dense(1))\n",
    "\n",
    "model.compile(optimizer = 'adam',loss = 'mse')\n",
    "\n",
    "model.fit(X_train,y_train,validation_data = (X_base,y_base),batch_size = 64,epochs = 250)"
   ]
  },
  {
   "cell_type": "code",
   "execution_count": 47,
   "metadata": {},
   "outputs": [],
   "source": [
    "y_pred_nn_meta = model.predict(X_meta)\n",
    "y_pred_nn_test = model.predict(X_test)"
   ]
  },
  {
   "cell_type": "code",
   "execution_count": 48,
   "metadata": {},
   "outputs": [
    {
     "data": {
      "text/html": [
       "<div>\n",
       "<style scoped>\n",
       "    .dataframe tbody tr th:only-of-type {\n",
       "        vertical-align: middle;\n",
       "    }\n",
       "\n",
       "    .dataframe tbody tr th {\n",
       "        vertical-align: top;\n",
       "    }\n",
       "\n",
       "    .dataframe thead th {\n",
       "        text-align: right;\n",
       "    }\n",
       "</style>\n",
       "<table border=\"1\" class=\"dataframe\">\n",
       "  <thead>\n",
       "    <tr style=\"text-align: right;\">\n",
       "      <th></th>\n",
       "      <th>y_pred_dt_meta</th>\n",
       "      <th>y_pred_rf_meta</th>\n",
       "      <th>y_pred_xgb_meta</th>\n",
       "      <th>y_pred_nn_meta</th>\n",
       "    </tr>\n",
       "  </thead>\n",
       "  <tbody>\n",
       "    <tr>\n",
       "      <th>0</th>\n",
       "      <td>2.892857</td>\n",
       "      <td>3.290500</td>\n",
       "      <td>2.907519</td>\n",
       "      <td>2.669898</td>\n",
       "    </tr>\n",
       "    <tr>\n",
       "      <th>1</th>\n",
       "      <td>3.725000</td>\n",
       "      <td>4.018786</td>\n",
       "      <td>3.502569</td>\n",
       "      <td>3.414090</td>\n",
       "    </tr>\n",
       "    <tr>\n",
       "      <th>2</th>\n",
       "      <td>3.291667</td>\n",
       "      <td>2.901508</td>\n",
       "      <td>2.962281</td>\n",
       "      <td>3.218750</td>\n",
       "    </tr>\n",
       "    <tr>\n",
       "      <th>3</th>\n",
       "      <td>3.769231</td>\n",
       "      <td>3.506000</td>\n",
       "      <td>3.630373</td>\n",
       "      <td>3.341861</td>\n",
       "    </tr>\n",
       "    <tr>\n",
       "      <th>4</th>\n",
       "      <td>3.350000</td>\n",
       "      <td>3.921667</td>\n",
       "      <td>3.622243</td>\n",
       "      <td>3.479585</td>\n",
       "    </tr>\n",
       "  </tbody>\n",
       "</table>\n",
       "</div>"
      ],
      "text/plain": [
       "   y_pred_dt_meta  y_pred_rf_meta  y_pred_xgb_meta  y_pred_nn_meta\n",
       "0        2.892857        3.290500         2.907519        2.669898\n",
       "1        3.725000        4.018786         3.502569        3.414090\n",
       "2        3.291667        2.901508         2.962281        3.218750\n",
       "3        3.769231        3.506000         3.630373        3.341861\n",
       "4        3.350000        3.921667         3.622243        3.479585"
      ]
     },
     "execution_count": 48,
     "metadata": {},
     "output_type": "execute_result"
    }
   ],
   "source": [
    "y_pred_dt_meta = pd.DataFrame(y_pred_dt_meta)\n",
    "y_pred_rf_meta = pd.DataFrame(y_pred_rf_meta)\n",
    "y_pred_xgb_meta = pd.DataFrame(y_pred_xgb_meta)\n",
    "y_pred_nn_meta = pd.DataFrame(y_pred_nn_meta)\n",
    "\n",
    "df_X_meta = pd.concat([y_pred_dt_meta,y_pred_rf_meta,y_pred_xgb_meta,y_pred_nn_meta],axis = 1)\n",
    "df_X_meta.columns = ['y_pred_dt_meta','y_pred_rf_meta','y_pred_xgb_meta','y_pred_nn_meta']\n",
    "\n",
    "df_X_meta.head()"
   ]
  },
  {
   "cell_type": "code",
   "execution_count": 49,
   "metadata": {
    "scrolled": false
   },
   "outputs": [
    {
     "data": {
      "text/html": [
       "<div>\n",
       "<style scoped>\n",
       "    .dataframe tbody tr th:only-of-type {\n",
       "        vertical-align: middle;\n",
       "    }\n",
       "\n",
       "    .dataframe tbody tr th {\n",
       "        vertical-align: top;\n",
       "    }\n",
       "\n",
       "    .dataframe thead th {\n",
       "        text-align: right;\n",
       "    }\n",
       "</style>\n",
       "<table border=\"1\" class=\"dataframe\">\n",
       "  <thead>\n",
       "    <tr style=\"text-align: right;\">\n",
       "      <th></th>\n",
       "      <th>y_pred_dt_test</th>\n",
       "      <th>y_pred_rf_test</th>\n",
       "      <th>y_pred_xgb_test</th>\n",
       "      <th>y_pred_nn_test</th>\n",
       "    </tr>\n",
       "  </thead>\n",
       "  <tbody>\n",
       "    <tr>\n",
       "      <th>0</th>\n",
       "      <td>3.090909</td>\n",
       "      <td>2.990000</td>\n",
       "      <td>3.325236</td>\n",
       "      <td>3.734364</td>\n",
       "    </tr>\n",
       "    <tr>\n",
       "      <th>1</th>\n",
       "      <td>3.769231</td>\n",
       "      <td>3.971155</td>\n",
       "      <td>3.675190</td>\n",
       "      <td>3.453629</td>\n",
       "    </tr>\n",
       "    <tr>\n",
       "      <th>2</th>\n",
       "      <td>3.090909</td>\n",
       "      <td>2.900000</td>\n",
       "      <td>3.370053</td>\n",
       "      <td>3.780558</td>\n",
       "    </tr>\n",
       "    <tr>\n",
       "      <th>3</th>\n",
       "      <td>3.090909</td>\n",
       "      <td>2.918000</td>\n",
       "      <td>3.209392</td>\n",
       "      <td>3.381326</td>\n",
       "    </tr>\n",
       "    <tr>\n",
       "      <th>4</th>\n",
       "      <td>3.750000</td>\n",
       "      <td>3.034667</td>\n",
       "      <td>3.253415</td>\n",
       "      <td>3.286685</td>\n",
       "    </tr>\n",
       "  </tbody>\n",
       "</table>\n",
       "</div>"
      ],
      "text/plain": [
       "   y_pred_dt_test  y_pred_rf_test  y_pred_xgb_test  y_pred_nn_test\n",
       "0        3.090909        2.990000         3.325236        3.734364\n",
       "1        3.769231        3.971155         3.675190        3.453629\n",
       "2        3.090909        2.900000         3.370053        3.780558\n",
       "3        3.090909        2.918000         3.209392        3.381326\n",
       "4        3.750000        3.034667         3.253415        3.286685"
      ]
     },
     "execution_count": 49,
     "metadata": {},
     "output_type": "execute_result"
    }
   ],
   "source": [
    "y_pred_dt_test = pd.DataFrame(y_pred_dt_test)\n",
    "y_pred_rf_test = pd.DataFrame(y_pred_rf_test)\n",
    "y_pred_xgb_test = pd.DataFrame(y_pred_xgb_test)\n",
    "y_pred_nn_test = pd.DataFrame(y_pred_nn_test)\n",
    "\n",
    "df_X_test = pd.concat([y_pred_dt_test,y_pred_rf_test,y_pred_xgb_test,y_pred_nn_test],axis = 1)\n",
    "df_X_test.columns = ['y_pred_dt_test','y_pred_rf_test','y_pred_xgb_test','y_pred_nn_test']\n",
    "\n",
    "df_X_test.head()"
   ]
  },
  {
   "cell_type": "markdown",
   "metadata": {},
   "source": [
    "### Meta Model "
   ]
  },
  {
   "cell_type": "code",
   "execution_count": 50,
   "metadata": {},
   "outputs": [],
   "source": [
    "model = LinearRegression()\n",
    "model.fit(df_X_meta,y_meta)\n",
    "\n",
    "y_pred_test = model.predict(df_X_test)"
   ]
  },
  {
   "cell_type": "code",
   "execution_count": 51,
   "metadata": {},
   "outputs": [
    {
     "data": {
      "text/html": [
       "<div>\n",
       "<style scoped>\n",
       "    .dataframe tbody tr th:only-of-type {\n",
       "        vertical-align: middle;\n",
       "    }\n",
       "\n",
       "    .dataframe tbody tr th {\n",
       "        vertical-align: top;\n",
       "    }\n",
       "\n",
       "    .dataframe thead th {\n",
       "        text-align: right;\n",
       "    }\n",
       "</style>\n",
       "<table border=\"1\" class=\"dataframe\">\n",
       "  <thead>\n",
       "    <tr style=\"text-align: right;\">\n",
       "      <th></th>\n",
       "      <th>y_pred_test</th>\n",
       "      <th>y_test</th>\n",
       "    </tr>\n",
       "  </thead>\n",
       "  <tbody>\n",
       "    <tr>\n",
       "      <th>0</th>\n",
       "      <td>4.498158</td>\n",
       "      <td>5</td>\n",
       "    </tr>\n",
       "    <tr>\n",
       "      <th>1</th>\n",
       "      <td>3.550216</td>\n",
       "      <td>3</td>\n",
       "    </tr>\n",
       "    <tr>\n",
       "      <th>2</th>\n",
       "      <td>4.595404</td>\n",
       "      <td>5</td>\n",
       "    </tr>\n",
       "    <tr>\n",
       "      <th>3</th>\n",
       "      <td>3.837060</td>\n",
       "      <td>3</td>\n",
       "    </tr>\n",
       "    <tr>\n",
       "      <th>4</th>\n",
       "      <td>3.485592</td>\n",
       "      <td>3</td>\n",
       "    </tr>\n",
       "  </tbody>\n",
       "</table>\n",
       "</div>"
      ],
      "text/plain": [
       "   y_pred_test  y_test\n",
       "0     4.498158       5\n",
       "1     3.550216       3\n",
       "2     4.595404       5\n",
       "3     3.837060       3\n",
       "4     3.485592       3"
      ]
     },
     "execution_count": 51,
     "metadata": {},
     "output_type": "execute_result"
    }
   ],
   "source": [
    "y_pred_test = pd.DataFrame(y_pred_test)\n",
    "\n",
    "df_temp = pd.concat([y_pred_test,y_test],axis = 1)\n",
    "df_temp.columns = ['y_pred_test','y_test']\n",
    "\n",
    "df_temp.head()"
   ]
  },
  {
   "cell_type": "code",
   "execution_count": 52,
   "metadata": {},
   "outputs": [
    {
     "data": {
      "image/png": "[encoded data removed]",
      "text/plain": [
       "<Figure size 432x288 with 1 Axes>"
      ]
     },
     "metadata": {
      "needs_background": "light"
     },
     "output_type": "display_data"
    }
   ],
   "source": [
    "plt.scatter(df_temp['y_test'],df_temp['y_pred_test'])\n",
    "plt.xlabel('y_test',fontsize = 14)\n",
    "plt.ylabel('y_pred_test',fontsize = 14)\n",
    "plt.xlim(0,6)\n",
    "plt.ylim(0,6)\n",
    "plt.xticks(list(range(0,6)))\n",
    "plt.yticks(list(range(0,6)))\n",
    "plt.grid()\n",
    "y_lim = plt.ylim()\n",
    "x_lim = plt.xlim()\n",
    "plt.plot(x_lim,y_lim,color = 'g',linewidth = 0.5);"
   ]
  },
  {
   "cell_type": "code",
   "execution_count": 53,
   "metadata": {},
   "outputs": [
    {
     "data": {
      "text/plain": [
       "0.6888411935619569"
      ]
     },
     "execution_count": 53,
     "metadata": {},
     "output_type": "execute_result"
    }
   ],
   "source": [
    "rmse(y_pred_test,y_test)"
   ]
  },
  {
   "cell_type": "code",
   "execution_count": 54,
   "metadata": {},
   "outputs": [
    {
     "data": {
      "text/plain": [
       "0.536770943376205"
      ]
     },
     "execution_count": 54,
     "metadata": {},
     "output_type": "execute_result"
    }
   ],
   "source": [
    "mean_absolute_error(y_pred_test,y_test)"
   ]
  }
 ],
 "metadata": {
  "kernelspec": {
   "display_name": "Python 3",
   "language": "python",
   "name": "python3"
  },
  "language_info": {
   "codemirror_mode": {
    "name": "ipython",
    "version": 3
   },
   "file_extension": ".py",
   "mimetype": "text/x-python",
   "name": "python",
   "nbconvert_exporter": "python",
   "pygments_lexer": "ipython3",
   "version": "3.7.7"
  }
 },
 "nbformat": 4,
 "nbformat_minor": 4
}
