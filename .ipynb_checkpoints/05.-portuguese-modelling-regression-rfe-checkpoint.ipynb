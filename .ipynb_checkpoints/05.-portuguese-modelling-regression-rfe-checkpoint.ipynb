{
 "cells": [
  {
   "cell_type": "code",
   "execution_count": 1,
   "metadata": {},
   "outputs": [],
   "source": [
    "import numpy as np\n",
    "import pandas as pd\n",
    "\n",
    "import matplotlib.pyplot as plt\n",
    "import seaborn as sns\n",
    "%matplotlib inline\n",
    "\n",
    "from sklearn.preprocessing import MinMaxScaler\n",
    "\n",
    "from sklearn.model_selection import train_test_split\n",
    "from sklearn.model_selection import GridSearchCV\n",
    "\n",
    "from sklearn.linear_model import LinearRegression\n",
    "from sklearn.tree import DecisionTreeRegressor\n",
    "from sklearn.ensemble import RandomForestRegressor\n",
    "import xgboost\n",
    "import tensorflow as tf\n",
    "from tensorflow.keras.models import Sequential\n",
    "from tensorflow.keras.layers import Dense,Dropout\n",
    "\n",
    "from sklearn.metrics import make_scorer,mean_squared_error,mean_absolute_error\n",
    "\n",
    "import warnings\n",
    "warnings.filterwarnings('ignore')\n",
    "\n",
    "pd.set_option('display.max_columns',100)\n",
    "pd.set_option('display.max_rows',1000)"
   ]
  },
  {
   "cell_type": "code",
   "execution_count": 2,
   "metadata": {},
   "outputs": [
    {
     "data": {
      "text/html": [
       "<div>\n",
       "<style scoped>\n",
       "    .dataframe tbody tr th:only-of-type {\n",
       "        vertical-align: middle;\n",
       "    }\n",
       "\n",
       "    .dataframe tbody tr th {\n",
       "        vertical-align: top;\n",
       "    }\n",
       "\n",
       "    .dataframe thead th {\n",
       "        text-align: right;\n",
       "    }\n",
       "</style>\n",
       "<table border=\"1\" class=\"dataframe\">\n",
       "  <thead>\n",
       "    <tr style=\"text-align: right;\">\n",
       "      <th></th>\n",
       "      <th>school</th>\n",
       "      <th>sex</th>\n",
       "      <th>studytime</th>\n",
       "      <th>schoolsup</th>\n",
       "      <th>paid</th>\n",
       "      <th>higher</th>\n",
       "      <th>internet</th>\n",
       "      <th>romantic</th>\n",
       "      <th>absences</th>\n",
       "      <th>Mjob_health</th>\n",
       "      <th>Mjob_teacher</th>\n",
       "      <th>Fjob_at_home</th>\n",
       "      <th>Fjob_teacher</th>\n",
       "      <th>reason_course</th>\n",
       "      <th>reason_other</th>\n",
       "      <th>G3</th>\n",
       "    </tr>\n",
       "  </thead>\n",
       "  <tbody>\n",
       "    <tr>\n",
       "      <th>0</th>\n",
       "      <td>1</td>\n",
       "      <td>1</td>\n",
       "      <td>2</td>\n",
       "      <td>1</td>\n",
       "      <td>0</td>\n",
       "      <td>1</td>\n",
       "      <td>0</td>\n",
       "      <td>0</td>\n",
       "      <td>2</td>\n",
       "      <td>0</td>\n",
       "      <td>0</td>\n",
       "      <td>0</td>\n",
       "      <td>1</td>\n",
       "      <td>1</td>\n",
       "      <td>0</td>\n",
       "      <td>3</td>\n",
       "    </tr>\n",
       "    <tr>\n",
       "      <th>1</th>\n",
       "      <td>1</td>\n",
       "      <td>1</td>\n",
       "      <td>2</td>\n",
       "      <td>0</td>\n",
       "      <td>0</td>\n",
       "      <td>1</td>\n",
       "      <td>1</td>\n",
       "      <td>0</td>\n",
       "      <td>2</td>\n",
       "      <td>0</td>\n",
       "      <td>0</td>\n",
       "      <td>0</td>\n",
       "      <td>0</td>\n",
       "      <td>1</td>\n",
       "      <td>0</td>\n",
       "      <td>3</td>\n",
       "    </tr>\n",
       "    <tr>\n",
       "      <th>2</th>\n",
       "      <td>1</td>\n",
       "      <td>1</td>\n",
       "      <td>2</td>\n",
       "      <td>1</td>\n",
       "      <td>0</td>\n",
       "      <td>1</td>\n",
       "      <td>1</td>\n",
       "      <td>0</td>\n",
       "      <td>1</td>\n",
       "      <td>0</td>\n",
       "      <td>0</td>\n",
       "      <td>0</td>\n",
       "      <td>0</td>\n",
       "      <td>0</td>\n",
       "      <td>1</td>\n",
       "      <td>3</td>\n",
       "    </tr>\n",
       "    <tr>\n",
       "      <th>3</th>\n",
       "      <td>1</td>\n",
       "      <td>1</td>\n",
       "      <td>3</td>\n",
       "      <td>0</td>\n",
       "      <td>0</td>\n",
       "      <td>1</td>\n",
       "      <td>1</td>\n",
       "      <td>1</td>\n",
       "      <td>2</td>\n",
       "      <td>1</td>\n",
       "      <td>0</td>\n",
       "      <td>0</td>\n",
       "      <td>0</td>\n",
       "      <td>0</td>\n",
       "      <td>0</td>\n",
       "      <td>4</td>\n",
       "    </tr>\n",
       "    <tr>\n",
       "      <th>4</th>\n",
       "      <td>1</td>\n",
       "      <td>1</td>\n",
       "      <td>2</td>\n",
       "      <td>0</td>\n",
       "      <td>0</td>\n",
       "      <td>1</td>\n",
       "      <td>0</td>\n",
       "      <td>0</td>\n",
       "      <td>2</td>\n",
       "      <td>0</td>\n",
       "      <td>0</td>\n",
       "      <td>0</td>\n",
       "      <td>0</td>\n",
       "      <td>0</td>\n",
       "      <td>0</td>\n",
       "      <td>4</td>\n",
       "    </tr>\n",
       "  </tbody>\n",
       "</table>\n",
       "</div>"
      ],
      "text/plain": [
       "   school  sex  studytime  schoolsup  paid  higher  internet  romantic  \\\n",
       "0       1    1          2          1     0       1         0         0   \n",
       "1       1    1          2          0     0       1         1         0   \n",
       "2       1    1          2          1     0       1         1         0   \n",
       "3       1    1          3          0     0       1         1         1   \n",
       "4       1    1          2          0     0       1         0         0   \n",
       "\n",
       "   absences  Mjob_health  Mjob_teacher  Fjob_at_home  Fjob_teacher  \\\n",
       "0         2            0             0             0             1   \n",
       "1         2            0             0             0             0   \n",
       "2         1            0             0             0             0   \n",
       "3         2            1             0             0             0   \n",
       "4         2            0             0             0             0   \n",
       "\n",
       "   reason_course  reason_other  G3  \n",
       "0              1             0   3  \n",
       "1              1             0   3  \n",
       "2              0             1   3  \n",
       "3              0             0   4  \n",
       "4              0             0   4  "
      ]
     },
     "execution_count": 2,
     "metadata": {},
     "output_type": "execute_result"
    }
   ],
   "source": [
    "df_por = pd.read_pickle('df_por-modelling-RFE-range_G3_5-repaired_G3_0_values.pkl')\n",
    "\n",
    "df_por.head()"
   ]
  },
  {
   "cell_type": "code",
   "execution_count": 3,
   "metadata": {},
   "outputs": [
    {
     "data": {
      "text/plain": [
       "(649, 16)"
      ]
     },
     "execution_count": 3,
     "metadata": {},
     "output_type": "execute_result"
    }
   ],
   "source": [
    "df_por.shape"
   ]
  },
  {
   "cell_type": "code",
   "execution_count": 4,
   "metadata": {},
   "outputs": [],
   "source": [
    "X = np.array(df_por.drop('G3',axis = 1))\n",
    "y = np.array(df_por['G3'])"
   ]
  },
  {
   "cell_type": "code",
   "execution_count": 5,
   "metadata": {},
   "outputs": [],
   "source": [
    "X_train,X_test,y_train,y_test = train_test_split(X,y,test_size = 0.2,random_state = 42)"
   ]
  },
  {
   "cell_type": "markdown",
   "metadata": {},
   "source": [
    "## Linear Regression "
   ]
  },
  {
   "cell_type": "code",
   "execution_count": 6,
   "metadata": {},
   "outputs": [
    {
     "data": {
      "text/plain": [
       "LinearRegression(copy_X=True, fit_intercept=True, n_jobs=None, normalize=False)"
      ]
     },
     "execution_count": 6,
     "metadata": {},
     "output_type": "execute_result"
    }
   ],
   "source": [
    "model = LinearRegression()\n",
    "model.fit(X_train,y_train)"
   ]
  },
  {
   "cell_type": "code",
   "execution_count": 7,
   "metadata": {},
   "outputs": [],
   "source": [
    "y_pred = model.predict(X_test)"
   ]
  },
  {
   "cell_type": "code",
   "execution_count": 8,
   "metadata": {},
   "outputs": [
    {
     "data": {
      "text/html": [
       "<div>\n",
       "<style scoped>\n",
       "    .dataframe tbody tr th:only-of-type {\n",
       "        vertical-align: middle;\n",
       "    }\n",
       "\n",
       "    .dataframe tbody tr th {\n",
       "        vertical-align: top;\n",
       "    }\n",
       "\n",
       "    .dataframe thead th {\n",
       "        text-align: right;\n",
       "    }\n",
       "</style>\n",
       "<table border=\"1\" class=\"dataframe\">\n",
       "  <thead>\n",
       "    <tr style=\"text-align: right;\">\n",
       "      <th></th>\n",
       "      <th>y_pred</th>\n",
       "      <th>y_test</th>\n",
       "    </tr>\n",
       "  </thead>\n",
       "  <tbody>\n",
       "    <tr>\n",
       "      <th>0</th>\n",
       "      <td>3.679493</td>\n",
       "      <td>5</td>\n",
       "    </tr>\n",
       "    <tr>\n",
       "      <th>1</th>\n",
       "      <td>3.729425</td>\n",
       "      <td>3</td>\n",
       "    </tr>\n",
       "    <tr>\n",
       "      <th>2</th>\n",
       "      <td>3.866689</td>\n",
       "      <td>5</td>\n",
       "    </tr>\n",
       "    <tr>\n",
       "      <th>3</th>\n",
       "      <td>3.049549</td>\n",
       "      <td>3</td>\n",
       "    </tr>\n",
       "    <tr>\n",
       "      <th>4</th>\n",
       "      <td>3.376152</td>\n",
       "      <td>3</td>\n",
       "    </tr>\n",
       "  </tbody>\n",
       "</table>\n",
       "</div>"
      ],
      "text/plain": [
       "     y_pred  y_test\n",
       "0  3.679493       5\n",
       "1  3.729425       3\n",
       "2  3.866689       5\n",
       "3  3.049549       3\n",
       "4  3.376152       3"
      ]
     },
     "execution_count": 8,
     "metadata": {},
     "output_type": "execute_result"
    }
   ],
   "source": [
    "y_test = pd.DataFrame(y_test)\n",
    "y_pred = pd.DataFrame(y_pred)\n",
    "\n",
    "df_temp = pd.concat([y_pred,y_test],axis = 1)\n",
    "df_temp.columns = ['y_pred','y_test']\n",
    "\n",
    "df_temp.head()"
   ]
  },
  {
   "cell_type": "code",
   "execution_count": 9,
   "metadata": {
    "scrolled": true
   },
   "outputs": [
    {
     "data": {
      "image/png": "[encoded data removed]",
      "text/plain": [
       "<Figure size 432x288 with 1 Axes>"
      ]
     },
     "metadata": {
      "needs_background": "light"
     },
     "output_type": "display_data"
    }
   ],
   "source": [
    "plt.scatter(df_temp['y_test'],df_temp['y_pred'])\n",
    "plt.xlabel('y_test',fontsize = 14)\n",
    "plt.ylabel('y_pred',fontsize = 14)\n",
    "plt.xlim(0,6)\n",
    "plt.ylim(0,6)\n",
    "plt.xticks(list(range(0,6)))\n",
    "plt.yticks(list(range(0,6)))\n",
    "plt.grid()\n",
    "y_lim = plt.ylim()\n",
    "x_lim = plt.xlim()\n",
    "plt.plot(x_lim,y_lim,color = 'g',linewidth = 0.5);"
   ]
  },
  {
   "cell_type": "code",
   "execution_count": 10,
   "metadata": {},
   "outputs": [],
   "source": [
    "def rmse(y_true,y_pred):\n",
    "    return np.sqrt(mean_squared_error(y_true,y_pred))"
   ]
  },
  {
   "cell_type": "code",
   "execution_count": 11,
   "metadata": {},
   "outputs": [
    {
     "data": {
      "text/plain": [
       "0.7015528827283138"
      ]
     },
     "execution_count": 11,
     "metadata": {},
     "output_type": "execute_result"
    }
   ],
   "source": [
    "rmse(y_pred,y_test)"
   ]
  },
  {
   "cell_type": "markdown",
   "metadata": {},
   "source": [
    "## Decision Tree Regression"
   ]
  },
  {
   "cell_type": "code",
   "execution_count": 12,
   "metadata": {},
   "outputs": [],
   "source": [
    "rmse_scorer = make_scorer(rmse,greater_is_better = False)"
   ]
  },
  {
   "cell_type": "code",
   "execution_count": 13,
   "metadata": {
    "scrolled": false
   },
   "outputs": [
    {
     "data": {
      "text/plain": [
       "GridSearchCV(cv=5, error_score=nan,\n",
       "             estimator=DecisionTreeRegressor(ccp_alpha=0.0, criterion='mse',\n",
       "                                             max_depth=None, max_features=None,\n",
       "                                             max_leaf_nodes=None,\n",
       "                                             min_impurity_decrease=0.0,\n",
       "                                             min_impurity_split=None,\n",
       "                                             min_samples_leaf=1,\n",
       "                                             min_samples_split=2,\n",
       "                                             min_weight_fraction_leaf=0.0,\n",
       "                                             presort='deprecated',\n",
       "                                             random_state=None,\n",
       "                                             splitter='best'),\n",
       "             iid='deprecated', n_jobs=None,\n",
       "             param_grid={'max_depth': [1, 2, 5, 10, 20, 30, 50],\n",
       "                         'min_samples_leaf': [1, 5, 10, 20, 50, 100]},\n",
       "             pre_dispatch='2*n_jobs', refit=True, return_train_score=False,\n",
       "             scoring=make_scorer(rmse, greater_is_better=False), verbose=0)"
      ]
     },
     "execution_count": 13,
     "metadata": {},
     "output_type": "execute_result"
    }
   ],
   "source": [
    "param_grid = {'min_samples_leaf':[1,5,10,20,50,100],'max_depth':[1,2,5,10,20,30,50]}\n",
    "\n",
    "grid_search_cv = GridSearchCV(estimator = DecisionTreeRegressor(),param_grid = param_grid,cv=5,scoring = rmse_scorer)\n",
    "grid_search_cv.fit(X_train,y_train)"
   ]
  },
  {
   "cell_type": "code",
   "execution_count": 14,
   "metadata": {},
   "outputs": [
    {
     "data": {
      "text/plain": [
       "DecisionTreeRegressor(ccp_alpha=0.0, criterion='mse', max_depth=2,\n",
       "                      max_features=None, max_leaf_nodes=None,\n",
       "                      min_impurity_decrease=0.0, min_impurity_split=None,\n",
       "                      min_samples_leaf=10, min_samples_split=2,\n",
       "                      min_weight_fraction_leaf=0.0, presort='deprecated',\n",
       "                      random_state=None, splitter='best')"
      ]
     },
     "execution_count": 14,
     "metadata": {},
     "output_type": "execute_result"
    }
   ],
   "source": [
    "grid_search_cv.best_estimator_"
   ]
  },
  {
   "cell_type": "code",
   "execution_count": 15,
   "metadata": {},
   "outputs": [],
   "source": [
    "y_pred = grid_search_cv.predict(X_test)"
   ]
  },
  {
   "cell_type": "code",
   "execution_count": 16,
   "metadata": {},
   "outputs": [
    {
     "data": {
      "text/html": [
       "<div>\n",
       "<style scoped>\n",
       "    .dataframe tbody tr th:only-of-type {\n",
       "        vertical-align: middle;\n",
       "    }\n",
       "\n",
       "    .dataframe tbody tr th {\n",
       "        vertical-align: top;\n",
       "    }\n",
       "\n",
       "    .dataframe thead th {\n",
       "        text-align: right;\n",
       "    }\n",
       "</style>\n",
       "<table border=\"1\" class=\"dataframe\">\n",
       "  <thead>\n",
       "    <tr style=\"text-align: right;\">\n",
       "      <th></th>\n",
       "      <th>y_pred</th>\n",
       "      <th>y_test</th>\n",
       "    </tr>\n",
       "  </thead>\n",
       "  <tbody>\n",
       "    <tr>\n",
       "      <th>0</th>\n",
       "      <td>3.153333</td>\n",
       "      <td>5</td>\n",
       "    </tr>\n",
       "    <tr>\n",
       "      <th>1</th>\n",
       "      <td>3.599359</td>\n",
       "      <td>3</td>\n",
       "    </tr>\n",
       "    <tr>\n",
       "      <th>2</th>\n",
       "      <td>3.153333</td>\n",
       "      <td>5</td>\n",
       "    </tr>\n",
       "    <tr>\n",
       "      <th>3</th>\n",
       "      <td>3.153333</td>\n",
       "      <td>3</td>\n",
       "    </tr>\n",
       "    <tr>\n",
       "      <th>4</th>\n",
       "      <td>3.599359</td>\n",
       "      <td>3</td>\n",
       "    </tr>\n",
       "  </tbody>\n",
       "</table>\n",
       "</div>"
      ],
      "text/plain": [
       "     y_pred  y_test\n",
       "0  3.153333       5\n",
       "1  3.599359       3\n",
       "2  3.153333       5\n",
       "3  3.153333       3\n",
       "4  3.599359       3"
      ]
     },
     "execution_count": 16,
     "metadata": {},
     "output_type": "execute_result"
    }
   ],
   "source": [
    "y_pred = pd.DataFrame(y_pred)\n",
    "\n",
    "df_temp = pd.concat([y_pred,y_test],axis = 1)\n",
    "df_temp.columns = ['y_pred','y_test']\n",
    "\n",
    "df_temp.head()"
   ]
  },
  {
   "cell_type": "code",
   "execution_count": 17,
   "metadata": {},
   "outputs": [
    {
     "data": {
      "image/png": "[encoded data removed]",
      "text/plain": [
       "<Figure size 432x288 with 1 Axes>"
      ]
     },
     "metadata": {
      "needs_background": "light"
     },
     "output_type": "display_data"
    }
   ],
   "source": [
    "plt.scatter(df_temp['y_test'],df_temp['y_pred'])\n",
    "plt.xlabel('y_test',fontsize = 14)\n",
    "plt.ylabel('y_pred',fontsize = 14)\n",
    "plt.xlim(0,6)\n",
    "plt.ylim(0,6)\n",
    "plt.xticks(list(range(0,6)))\n",
    "plt.yticks(list(range(0,6)))\n",
    "plt.grid()\n",
    "y_lim = plt.ylim()\n",
    "x_lim = plt.xlim()\n",
    "plt.plot(x_lim,y_lim,color = 'g',linewidth = 0.5);"
   ]
  },
  {
   "cell_type": "code",
   "execution_count": 18,
   "metadata": {},
   "outputs": [
    {
     "data": {
      "text/plain": [
       "0.7530988167446169"
      ]
     },
     "execution_count": 18,
     "metadata": {},
     "output_type": "execute_result"
    }
   ],
   "source": [
    "rmse(y_pred,y_test)"
   ]
  },
  {
   "cell_type": "markdown",
   "metadata": {},
   "source": [
    "## Random Forest Regression"
   ]
  },
  {
   "cell_type": "code",
   "execution_count": 19,
   "metadata": {},
   "outputs": [
    {
     "data": {
      "text/plain": [
       "GridSearchCV(cv=5, error_score=nan,\n",
       "             estimator=RandomForestRegressor(bootstrap=True, ccp_alpha=0.0,\n",
       "                                             criterion='mse', max_depth=None,\n",
       "                                             max_features='auto',\n",
       "                                             max_leaf_nodes=None,\n",
       "                                             max_samples=None,\n",
       "                                             min_impurity_decrease=0.0,\n",
       "                                             min_impurity_split=None,\n",
       "                                             min_samples_leaf=1,\n",
       "                                             min_samples_split=2,\n",
       "                                             min_weight_fraction_leaf=0.0,\n",
       "                                             n_estimators=100, n_jobs=None,\n",
       "                                             oob_score=False, random_state=None,\n",
       "                                             verbose=0, warm_start=False),\n",
       "             iid='deprecated', n_jobs=None,\n",
       "             param_grid={'max_depth': [1, 5, 30],\n",
       "                         'min_samples_leaf': [1, 10, 50],\n",
       "                         'n_estimators': [10, 50, 100]},\n",
       "             pre_dispatch='2*n_jobs', refit=True, return_train_score=False,\n",
       "             scoring=make_scorer(rmse, greater_is_better=False), verbose=0)"
      ]
     },
     "execution_count": 19,
     "metadata": {},
     "output_type": "execute_result"
    }
   ],
   "source": [
    "param_grid = {'min_samples_leaf':[1,10,50],'max_depth':[1,5,30],'n_estimators':[10,50,100]}\n",
    "\n",
    "grid_search_cv = GridSearchCV(estimator = RandomForestRegressor(),param_grid = param_grid,cv = 5,scoring = rmse_scorer)\n",
    "grid_search_cv.fit(X_train,y_train)"
   ]
  },
  {
   "cell_type": "code",
   "execution_count": 20,
   "metadata": {},
   "outputs": [
    {
     "data": {
      "text/plain": [
       "RandomForestRegressor(bootstrap=True, ccp_alpha=0.0, criterion='mse',\n",
       "                      max_depth=5, max_features='auto', max_leaf_nodes=None,\n",
       "                      max_samples=None, min_impurity_decrease=0.0,\n",
       "                      min_impurity_split=None, min_samples_leaf=10,\n",
       "                      min_samples_split=2, min_weight_fraction_leaf=0.0,\n",
       "                      n_estimators=100, n_jobs=None, oob_score=False,\n",
       "                      random_state=None, verbose=0, warm_start=False)"
      ]
     },
     "execution_count": 20,
     "metadata": {},
     "output_type": "execute_result"
    }
   ],
   "source": [
    "grid_search_cv.best_estimator_"
   ]
  },
  {
   "cell_type": "code",
   "execution_count": 21,
   "metadata": {},
   "outputs": [],
   "source": [
    "y_pred = grid_search_cv.predict(X_test)"
   ]
  },
  {
   "cell_type": "code",
   "execution_count": 22,
   "metadata": {},
   "outputs": [
    {
     "data": {
      "text/html": [
       "<div>\n",
       "<style scoped>\n",
       "    .dataframe tbody tr th:only-of-type {\n",
       "        vertical-align: middle;\n",
       "    }\n",
       "\n",
       "    .dataframe tbody tr th {\n",
       "        vertical-align: top;\n",
       "    }\n",
       "\n",
       "    .dataframe thead th {\n",
       "        text-align: right;\n",
       "    }\n",
       "</style>\n",
       "<table border=\"1\" class=\"dataframe\">\n",
       "  <thead>\n",
       "    <tr style=\"text-align: right;\">\n",
       "      <th></th>\n",
       "      <th>y_pred</th>\n",
       "      <th>y_test</th>\n",
       "    </tr>\n",
       "  </thead>\n",
       "  <tbody>\n",
       "    <tr>\n",
       "      <th>0</th>\n",
       "      <td>3.264901</td>\n",
       "      <td>5</td>\n",
       "    </tr>\n",
       "    <tr>\n",
       "      <th>1</th>\n",
       "      <td>3.749599</td>\n",
       "      <td>3</td>\n",
       "    </tr>\n",
       "    <tr>\n",
       "      <th>2</th>\n",
       "      <td>3.418526</td>\n",
       "      <td>5</td>\n",
       "    </tr>\n",
       "    <tr>\n",
       "      <th>3</th>\n",
       "      <td>3.026496</td>\n",
       "      <td>3</td>\n",
       "    </tr>\n",
       "    <tr>\n",
       "      <th>4</th>\n",
       "      <td>3.394094</td>\n",
       "      <td>3</td>\n",
       "    </tr>\n",
       "  </tbody>\n",
       "</table>\n",
       "</div>"
      ],
      "text/plain": [
       "     y_pred  y_test\n",
       "0  3.264901       5\n",
       "1  3.749599       3\n",
       "2  3.418526       5\n",
       "3  3.026496       3\n",
       "4  3.394094       3"
      ]
     },
     "execution_count": 22,
     "metadata": {},
     "output_type": "execute_result"
    }
   ],
   "source": [
    "y_pred = pd.DataFrame(y_pred)\n",
    "\n",
    "df_temp = pd.concat([y_pred,y_test],axis = 1)\n",
    "df_temp.columns = ['y_pred','y_test']\n",
    "\n",
    "df_temp.head()"
   ]
  },
  {
   "cell_type": "code",
   "execution_count": 23,
   "metadata": {
    "scrolled": true
   },
   "outputs": [
    {
     "data": {
      "image/png": "[encoded data removed]",
      "text/plain": [
       "<Figure size 432x288 with 1 Axes>"
      ]
     },
     "metadata": {
      "needs_background": "light"
     },
     "output_type": "display_data"
    }
   ],
   "source": [
    "plt.scatter(df_temp['y_test'],df_temp['y_pred'])\n",
    "plt.xlabel('y_test',fontsize = 14)\n",
    "plt.ylabel('y_pred',fontsize = 14)\n",
    "plt.xlim(0,6)\n",
    "plt.ylim(0,6)\n",
    "plt.xticks(list(range(0,6)))\n",
    "plt.yticks(list(range(0,6)))\n",
    "plt.grid()\n",
    "y_lim = plt.ylim()\n",
    "x_lim = plt.xlim()\n",
    "plt.plot(x_lim,y_lim,color = 'g',linewidth = 0.5);"
   ]
  },
  {
   "cell_type": "code",
   "execution_count": 24,
   "metadata": {},
   "outputs": [
    {
     "data": {
      "text/plain": [
       "0.7378031501079234"
      ]
     },
     "execution_count": 24,
     "metadata": {},
     "output_type": "execute_result"
    }
   ],
   "source": [
    "rmse(y_pred,y_test)"
   ]
  },
  {
   "cell_type": "markdown",
   "metadata": {},
   "source": [
    "## XGBoost "
   ]
  },
  {
   "cell_type": "code",
   "execution_count": 25,
   "metadata": {
    "scrolled": true
   },
   "outputs": [
    {
     "data": {
      "text/plain": [
       "GridSearchCV(cv=5, error_score=nan,\n",
       "             estimator=XGBRegressor(base_score=0.5, booster='gbtree',\n",
       "                                    colsample_bylevel=1, colsample_bynode=1,\n",
       "                                    colsample_bytree=1, gamma=0,\n",
       "                                    importance_type='gain', learning_rate=0.1,\n",
       "                                    max_delta_step=0, max_depth=3,\n",
       "                                    min_child_weight=1, missing=None,\n",
       "                                    n_estimators=100, n_jobs=1, nthread=None,\n",
       "                                    objective='reg:linear', random_state=0,\n",
       "                                    reg_alpha=0, reg_lambda=1,\n",
       "                                    scale_pos_weight=1, seed=None, silent=True,\n",
       "                                    subsample=1, verbosity=1),\n",
       "             iid='deprecated', n_jobs=None,\n",
       "             param_grid={'max_depth': [1, 5, 30],\n",
       "                         'min_samples_leaf': [1, 10, 50],\n",
       "                         'n_estimators': [10, 50, 100]},\n",
       "             pre_dispatch='2*n_jobs', refit=True, return_train_score=False,\n",
       "             scoring=make_scorer(rmse, greater_is_better=False), verbose=0)"
      ]
     },
     "execution_count": 25,
     "metadata": {},
     "output_type": "execute_result"
    }
   ],
   "source": [
    "parameters = {'max_depth':[1,5,30],'learning_rate':[0.01,0.1,0.3],'n_estimators':[10,50,100],'objective':'reg:squarederror'}\n",
    "\n",
    "grid_search_cv = GridSearchCV(estimator = xgboost.XGBRegressor(silent = True),param_grid = param_grid,\n",
    "                              cv = 5,scoring = rmse_scorer)\n",
    "grid_search_cv.fit(X_train,y_train)"
   ]
  },
  {
   "cell_type": "code",
   "execution_count": 26,
   "metadata": {
    "scrolled": false
   },
   "outputs": [
    {
     "data": {
      "text/plain": [
       "XGBRegressor(base_score=0.5, booster='gbtree', colsample_bylevel=1,\n",
       "             colsample_bynode=1, colsample_bytree=1, gamma=0,\n",
       "             importance_type='gain', learning_rate=0.1, max_delta_step=0,\n",
       "             max_depth=1, min_child_weight=1, min_samples_leaf=1, missing=None,\n",
       "             n_estimators=100, n_jobs=1, nthread=None, objective='reg:linear',\n",
       "             random_state=0, reg_alpha=0, reg_lambda=1, scale_pos_weight=1,\n",
       "             seed=None, silent=True, subsample=1, verbosity=1)"
      ]
     },
     "execution_count": 26,
     "metadata": {},
     "output_type": "execute_result"
    }
   ],
   "source": [
    "grid_search_cv.best_estimator_"
   ]
  },
  {
   "cell_type": "code",
   "execution_count": 27,
   "metadata": {},
   "outputs": [],
   "source": [
    "y_pred = grid_search_cv.predict(X_test)"
   ]
  },
  {
   "cell_type": "code",
   "execution_count": 28,
   "metadata": {},
   "outputs": [
    {
     "data": {
      "text/html": [
       "<div>\n",
       "<style scoped>\n",
       "    .dataframe tbody tr th:only-of-type {\n",
       "        vertical-align: middle;\n",
       "    }\n",
       "\n",
       "    .dataframe tbody tr th {\n",
       "        vertical-align: top;\n",
       "    }\n",
       "\n",
       "    .dataframe thead th {\n",
       "        text-align: right;\n",
       "    }\n",
       "</style>\n",
       "<table border=\"1\" class=\"dataframe\">\n",
       "  <thead>\n",
       "    <tr style=\"text-align: right;\">\n",
       "      <th></th>\n",
       "      <th>y_pred</th>\n",
       "      <th>y_test</th>\n",
       "    </tr>\n",
       "  </thead>\n",
       "  <tbody>\n",
       "    <tr>\n",
       "      <th>0</th>\n",
       "      <td>3.377187</td>\n",
       "      <td>5</td>\n",
       "    </tr>\n",
       "    <tr>\n",
       "      <th>1</th>\n",
       "      <td>3.636154</td>\n",
       "      <td>3</td>\n",
       "    </tr>\n",
       "    <tr>\n",
       "      <th>2</th>\n",
       "      <td>3.464963</td>\n",
       "      <td>5</td>\n",
       "    </tr>\n",
       "    <tr>\n",
       "      <th>3</th>\n",
       "      <td>3.208647</td>\n",
       "      <td>3</td>\n",
       "    </tr>\n",
       "    <tr>\n",
       "      <th>4</th>\n",
       "      <td>3.464526</td>\n",
       "      <td>3</td>\n",
       "    </tr>\n",
       "  </tbody>\n",
       "</table>\n",
       "</div>"
      ],
      "text/plain": [
       "     y_pred  y_test\n",
       "0  3.377187       5\n",
       "1  3.636154       3\n",
       "2  3.464963       5\n",
       "3  3.208647       3\n",
       "4  3.464526       3"
      ]
     },
     "execution_count": 28,
     "metadata": {},
     "output_type": "execute_result"
    }
   ],
   "source": [
    "y_pred = pd.DataFrame(y_pred)\n",
    "\n",
    "df_temp = pd.concat([y_pred,y_test],axis = 1)\n",
    "df_temp.columns = ['y_pred','y_test']\n",
    "\n",
    "df_temp.head()"
   ]
  },
  {
   "cell_type": "code",
   "execution_count": 29,
   "metadata": {},
   "outputs": [
    {
     "data": {
      "image/png": "[encoded data removed]",
      "text/plain": [
       "<Figure size 432x288 with 1 Axes>"
      ]
     },
     "metadata": {
      "needs_background": "light"
     },
     "output_type": "display_data"
    }
   ],
   "source": [
    "plt.scatter(df_temp['y_test'],df_temp['y_pred'])\n",
    "plt.xlabel('y_test',fontsize = 14)\n",
    "plt.ylabel('y_pred',fontsize = 14)\n",
    "plt.xlim(0,6)\n",
    "plt.ylim(0,6)\n",
    "plt.xticks(list(range(0,6)))\n",
    "plt.yticks(list(range(0,6)))\n",
    "plt.grid()\n",
    "y_lim = plt.ylim()\n",
    "x_lim = plt.xlim()\n",
    "plt.plot(x_lim,y_lim,color = 'g',linewidth = 0.5);"
   ]
  },
  {
   "cell_type": "code",
   "execution_count": 30,
   "metadata": {},
   "outputs": [
    {
     "data": {
      "text/plain": [
       "0.7214607712456146"
      ]
     },
     "execution_count": 30,
     "metadata": {},
     "output_type": "execute_result"
    }
   ],
   "source": [
    "rmse(y_pred,y_test)"
   ]
  },
  {
   "cell_type": "markdown",
   "metadata": {},
   "source": [
    "## Neural Network "
   ]
  },
  {
   "cell_type": "code",
   "execution_count": 31,
   "metadata": {},
   "outputs": [],
   "source": [
    "sc = MinMaxScaler()"
   ]
  },
  {
   "cell_type": "code",
   "execution_count": 32,
   "metadata": {},
   "outputs": [],
   "source": [
    "X_train= sc.fit_transform(X_train)\n",
    "X_test = sc.transform(X_test)"
   ]
  },
  {
   "cell_type": "code",
   "execution_count": 33,
   "metadata": {},
   "outputs": [
    {
     "data": {
      "text/plain": [
       "(519, 15)"
      ]
     },
     "execution_count": 33,
     "metadata": {},
     "output_type": "execute_result"
    }
   ],
   "source": [
    "X_train.shape"
   ]
  },
  {
   "cell_type": "code",
   "execution_count": 34,
   "metadata": {},
   "outputs": [],
   "source": [
    "model = Sequential()"
   ]
  },
  {
   "cell_type": "code",
   "execution_count": 35,
   "metadata": {},
   "outputs": [],
   "source": [
    "model.add(Dense(32,activation = 'relu'))\n",
    "model.add(Dropout(0.25))\n",
    "model.add(Dense(32,activation = 'relu'))\n",
    "model.add(Dropout(0.25))\n",
    "model.add(Dense(32,activation = 'relu'))\n",
    "model.add(Dropout(0.25))\n",
    "model.add(Dense(32,activation = 'relu'))\n",
    "model.add(Dropout(0.25))\n",
    "model.add(Dense(1))\n",
    "\n",
    "model.compile(optimizer = 'adam',loss = 'mse')"
   ]
  },
  {
   "cell_type": "code",
   "execution_count": 36,
   "metadata": {
    "scrolled": true
   },
   "outputs": [
    {
     "name": "stdout",
     "output_type": "stream",
     "text": [
      "Train on 519 samples, validate on 130 samples\n",
      "Epoch 1/250\n",
      "519/519 [==============================] - 1s 2ms/sample - loss: 10.6622 - val_loss: 9.6505\n",
      "Epoch 2/250\n",
      "519/519 [==============================] - 0s 95us/sample - loss: 8.1448 - val_loss: 6.6137\n",
      "Epoch 3/250\n",
      "519/519 [==============================] - 0s 67us/sample - loss: 5.3200 - val_loss: 2.9394\n",
      "Epoch 4/250\n",
      "519/519 [==============================] - 0s 66us/sample - loss: 2.5784 - val_loss: 0.8468\n",
      "Epoch 5/250\n",
      "519/519 [==============================] - 0s 62us/sample - loss: 2.3352 - val_loss: 0.8553\n",
      "Epoch 6/250\n",
      "519/519 [==============================] - 0s 66us/sample - loss: 1.9735 - val_loss: 0.9333\n",
      "Epoch 7/250\n",
      "519/519 [==============================] - 0s 69us/sample - loss: 2.0289 - val_loss: 1.0113\n",
      "Epoch 8/250\n",
      "519/519 [==============================] - 0s 73us/sample - loss: 1.7902 - val_loss: 0.8683\n",
      "Epoch 9/250\n",
      "519/519 [==============================] - 0s 66us/sample - loss: 1.7355 - val_loss: 0.7883\n",
      "Epoch 10/250\n",
      "519/519 [==============================] - 0s 71us/sample - loss: 1.7443 - val_loss: 0.7589\n",
      "Epoch 11/250\n",
      "519/519 [==============================] - 0s 67us/sample - loss: 1.9000 - val_loss: 0.7478\n",
      "Epoch 12/250\n",
      "519/519 [==============================] - 0s 64us/sample - loss: 1.7137 - val_loss: 0.7692\n",
      "Epoch 13/250\n",
      "519/519 [==============================] - 0s 69us/sample - loss: 1.7139 - val_loss: 0.7403\n",
      "Epoch 14/250\n",
      "519/519 [==============================] - 0s 66us/sample - loss: 1.6392 - val_loss: 0.7238\n",
      "Epoch 15/250\n",
      "519/519 [==============================] - 0s 66us/sample - loss: 1.5985 - val_loss: 0.7404\n",
      "Epoch 16/250\n",
      "519/519 [==============================] - 0s 64us/sample - loss: 1.4581 - val_loss: 0.6831\n",
      "Epoch 17/250\n",
      "519/519 [==============================] - 0s 66us/sample - loss: 1.4356 - val_loss: 0.6477\n",
      "Epoch 18/250\n",
      "519/519 [==============================] - 0s 66us/sample - loss: 1.4736 - val_loss: 0.6747\n",
      "Epoch 19/250\n",
      "519/519 [==============================] - 0s 64us/sample - loss: 1.4716 - val_loss: 0.7523\n",
      "Epoch 20/250\n",
      "519/519 [==============================] - 0s 62us/sample - loss: 1.4969 - val_loss: 0.6315\n",
      "Epoch 21/250\n",
      "519/519 [==============================] - 0s 62us/sample - loss: 1.3277 - val_loss: 0.6349\n",
      "Epoch 22/250\n",
      "519/519 [==============================] - 0s 64us/sample - loss: 1.4464 - val_loss: 0.6875\n",
      "Epoch 23/250\n",
      "519/519 [==============================] - 0s 62us/sample - loss: 1.3572 - val_loss: 0.6875\n",
      "Epoch 24/250\n",
      "519/519 [==============================] - 0s 66us/sample - loss: 1.2794 - val_loss: 0.6738\n",
      "Epoch 25/250\n",
      "519/519 [==============================] - 0s 64us/sample - loss: 1.3320 - val_loss: 0.7106\n",
      "Epoch 26/250\n",
      "519/519 [==============================] - 0s 67us/sample - loss: 1.2128 - val_loss: 0.7363\n",
      "Epoch 27/250\n",
      "519/519 [==============================] - 0s 67us/sample - loss: 1.2114 - val_loss: 0.5805\n",
      "Epoch 28/250\n",
      "519/519 [==============================] - 0s 67us/sample - loss: 1.3357 - val_loss: 0.5928\n",
      "Epoch 29/250\n",
      "519/519 [==============================] - 0s 64us/sample - loss: 1.2196 - val_loss: 0.7520\n",
      "Epoch 30/250\n",
      "519/519 [==============================] - 0s 67us/sample - loss: 1.2196 - val_loss: 0.7838\n",
      "Epoch 31/250\n",
      "519/519 [==============================] - 0s 66us/sample - loss: 1.1992 - val_loss: 0.6095\n",
      "Epoch 32/250\n",
      "519/519 [==============================] - 0s 64us/sample - loss: 1.1002 - val_loss: 0.6361\n",
      "Epoch 33/250\n",
      "519/519 [==============================] - 0s 67us/sample - loss: 1.1529 - val_loss: 0.8069\n",
      "Epoch 34/250\n",
      "519/519 [==============================] - 0s 66us/sample - loss: 1.1231 - val_loss: 0.6697\n",
      "Epoch 35/250\n",
      "519/519 [==============================] - 0s 64us/sample - loss: 1.1662 - val_loss: 0.6431\n",
      "Epoch 36/250\n",
      "519/519 [==============================] - 0s 64us/sample - loss: 0.9874 - val_loss: 0.7123\n",
      "Epoch 37/250\n",
      "519/519 [==============================] - 0s 62us/sample - loss: 1.0542 - val_loss: 0.8087\n",
      "Epoch 38/250\n",
      "519/519 [==============================] - 0s 66us/sample - loss: 1.1062 - val_loss: 0.7008\n",
      "Epoch 39/250\n",
      "519/519 [==============================] - 0s 64us/sample - loss: 1.1025 - val_loss: 0.7422\n",
      "Epoch 40/250\n",
      "519/519 [==============================] - 0s 62us/sample - loss: 1.0146 - val_loss: 0.6795\n",
      "Epoch 41/250\n",
      "519/519 [==============================] - 0s 64us/sample - loss: 1.0696 - val_loss: 0.6383\n",
      "Epoch 42/250\n",
      "519/519 [==============================] - 0s 62us/sample - loss: 1.0063 - val_loss: 0.6387\n",
      "Epoch 43/250\n",
      "519/519 [==============================] - 0s 64us/sample - loss: 0.9649 - val_loss: 0.7242\n",
      "Epoch 44/250\n",
      "519/519 [==============================] - 0s 64us/sample - loss: 1.0872 - val_loss: 0.5960\n",
      "Epoch 45/250\n",
      "519/519 [==============================] - 0s 61us/sample - loss: 0.9966 - val_loss: 0.6911\n",
      "Epoch 46/250\n",
      "519/519 [==============================] - 0s 64us/sample - loss: 1.0354 - val_loss: 0.6025\n",
      "Epoch 47/250\n",
      "519/519 [==============================] - 0s 64us/sample - loss: 0.9784 - val_loss: 0.6507\n",
      "Epoch 48/250\n",
      "519/519 [==============================] - 0s 60us/sample - loss: 1.0120 - val_loss: 0.6925\n",
      "Epoch 49/250\n",
      "519/519 [==============================] - 0s 62us/sample - loss: 1.0266 - val_loss: 0.6378\n",
      "Epoch 50/250\n",
      "519/519 [==============================] - 0s 62us/sample - loss: 0.9936 - val_loss: 0.6716\n",
      "Epoch 51/250\n",
      "519/519 [==============================] - 0s 67us/sample - loss: 0.9960 - val_loss: 0.7081\n",
      "Epoch 52/250\n",
      "519/519 [==============================] - 0s 62us/sample - loss: 0.9780 - val_loss: 0.6857\n",
      "Epoch 53/250\n",
      "519/519 [==============================] - 0s 60us/sample - loss: 0.9446 - val_loss: 0.7759\n",
      "Epoch 54/250\n",
      "519/519 [==============================] - 0s 67us/sample - loss: 0.9206 - val_loss: 0.6274\n",
      "Epoch 55/250\n",
      "519/519 [==============================] - 0s 66us/sample - loss: 1.0089 - val_loss: 0.6009\n",
      "Epoch 56/250\n",
      "519/519 [==============================] - 0s 71us/sample - loss: 0.9746 - val_loss: 0.7540\n",
      "Epoch 57/250\n",
      "519/519 [==============================] - 0s 69us/sample - loss: 1.0273 - val_loss: 0.7425\n",
      "Epoch 58/250\n",
      "519/519 [==============================] - 0s 66us/sample - loss: 0.8854 - val_loss: 0.6080\n",
      "Epoch 59/250\n",
      "519/519 [==============================] - 0s 66us/sample - loss: 0.9189 - val_loss: 0.6862\n",
      "Epoch 60/250\n",
      "519/519 [==============================] - 0s 66us/sample - loss: 0.9060 - val_loss: 0.6816\n",
      "Epoch 61/250\n",
      "519/519 [==============================] - 0s 66us/sample - loss: 0.9423 - val_loss: 0.6824\n",
      "Epoch 62/250\n",
      "519/519 [==============================] - ETA: 0s - loss: 0.862 - 0s 69us/sample - loss: 0.8865 - val_loss: 0.6949\n",
      "Epoch 63/250\n",
      "519/519 [==============================] - 0s 64us/sample - loss: 0.8678 - val_loss: 0.6665\n",
      "Epoch 64/250\n",
      "519/519 [==============================] - 0s 77us/sample - loss: 0.8536 - val_loss: 0.6310\n",
      "Epoch 65/250\n",
      "519/519 [==============================] - 0s 71us/sample - loss: 0.8635 - val_loss: 0.7324\n",
      "Epoch 66/250\n",
      "519/519 [==============================] - 0s 77us/sample - loss: 0.8908 - val_loss: 0.6848\n",
      "Epoch 67/250\n",
      "519/519 [==============================] - 0s 67us/sample - loss: 0.9351 - val_loss: 0.7119\n",
      "Epoch 68/250\n",
      "519/519 [==============================] - 0s 62us/sample - loss: 0.9599 - val_loss: 0.6930\n",
      "Epoch 69/250\n",
      "519/519 [==============================] - 0s 64us/sample - loss: 0.7922 - val_loss: 0.5574\n",
      "Epoch 70/250\n",
      "519/519 [==============================] - 0s 67us/sample - loss: 0.9083 - val_loss: 0.6603\n",
      "Epoch 71/250\n",
      "519/519 [==============================] - 0s 64us/sample - loss: 0.9028 - val_loss: 0.6630\n",
      "Epoch 72/250\n",
      "519/519 [==============================] - 0s 66us/sample - loss: 0.9346 - val_loss: 0.6533\n",
      "Epoch 73/250\n",
      "519/519 [==============================] - 0s 64us/sample - loss: 0.8261 - val_loss: 0.6034\n",
      "Epoch 74/250\n",
      "519/519 [==============================] - 0s 64us/sample - loss: 0.8199 - val_loss: 0.6446\n",
      "Epoch 75/250\n",
      "519/519 [==============================] - 0s 60us/sample - loss: 0.9795 - val_loss: 0.6948\n",
      "Epoch 76/250\n",
      "519/519 [==============================] - 0s 64us/sample - loss: 0.9506 - val_loss: 0.6832\n",
      "Epoch 77/250\n",
      "519/519 [==============================] - 0s 64us/sample - loss: 0.8836 - val_loss: 0.6547\n",
      "Epoch 78/250\n"
     ]
    },
    {
     "name": "stdout",
     "output_type": "stream",
     "text": [
      "519/519 [==============================] - 0s 69us/sample - loss: 0.8190 - val_loss: 0.6112\n",
      "Epoch 79/250\n",
      "519/519 [==============================] - 0s 64us/sample - loss: 0.8253 - val_loss: 0.6269\n",
      "Epoch 80/250\n",
      "519/519 [==============================] - 0s 66us/sample - loss: 0.8359 - val_loss: 0.6863\n",
      "Epoch 81/250\n",
      "519/519 [==============================] - 0s 66us/sample - loss: 0.8621 - val_loss: 0.6501\n",
      "Epoch 82/250\n",
      "519/519 [==============================] - 0s 69us/sample - loss: 0.8320 - val_loss: 0.6130\n",
      "Epoch 83/250\n",
      "519/519 [==============================] - 0s 85us/sample - loss: 0.7601 - val_loss: 0.6224\n",
      "Epoch 84/250\n",
      "519/519 [==============================] - 0s 73us/sample - loss: 0.8575 - val_loss: 0.6737\n",
      "Epoch 85/250\n",
      "519/519 [==============================] - 0s 83us/sample - loss: 0.8471 - val_loss: 0.6361\n",
      "Epoch 86/250\n",
      "519/519 [==============================] - 0s 67us/sample - loss: 0.7910 - val_loss: 0.5899\n",
      "Epoch 87/250\n",
      "519/519 [==============================] - 0s 67us/sample - loss: 0.8445 - val_loss: 0.6197\n",
      "Epoch 88/250\n",
      "519/519 [==============================] - 0s 66us/sample - loss: 0.7930 - val_loss: 0.6678\n",
      "Epoch 89/250\n",
      "519/519 [==============================] - 0s 66us/sample - loss: 0.8570 - val_loss: 0.6149\n",
      "Epoch 90/250\n",
      "519/519 [==============================] - 0s 64us/sample - loss: 0.7767 - val_loss: 0.5964\n",
      "Epoch 91/250\n",
      "519/519 [==============================] - 0s 64us/sample - loss: 0.8807 - val_loss: 0.5892\n",
      "Epoch 92/250\n",
      "519/519 [==============================] - 0s 64us/sample - loss: 0.8809 - val_loss: 0.6462\n",
      "Epoch 93/250\n",
      "519/519 [==============================] - 0s 62us/sample - loss: 0.7624 - val_loss: 0.6855\n",
      "Epoch 94/250\n",
      "519/519 [==============================] - 0s 62us/sample - loss: 0.8564 - val_loss: 0.5965\n",
      "Epoch 95/250\n",
      "519/519 [==============================] - 0s 64us/sample - loss: 0.8405 - val_loss: 0.5969\n",
      "Epoch 96/250\n",
      "519/519 [==============================] - 0s 67us/sample - loss: 0.8210 - val_loss: 0.5789\n",
      "Epoch 97/250\n",
      "519/519 [==============================] - 0s 64us/sample - loss: 0.7946 - val_loss: 0.5514\n",
      "Epoch 98/250\n",
      "519/519 [==============================] - 0s 64us/sample - loss: 0.8296 - val_loss: 0.5701\n",
      "Epoch 99/250\n",
      "519/519 [==============================] - 0s 64us/sample - loss: 0.8313 - val_loss: 0.6376\n",
      "Epoch 100/250\n",
      "519/519 [==============================] - 0s 69us/sample - loss: 0.7601 - val_loss: 0.5732\n",
      "Epoch 101/250\n",
      "519/519 [==============================] - 0s 66us/sample - loss: 0.8201 - val_loss: 0.5522\n",
      "Epoch 102/250\n",
      "519/519 [==============================] - 0s 66us/sample - loss: 0.8473 - val_loss: 0.6314\n",
      "Epoch 103/250\n",
      "519/519 [==============================] - 0s 66us/sample - loss: 0.7714 - val_loss: 0.6221\n",
      "Epoch 104/250\n",
      "519/519 [==============================] - 0s 64us/sample - loss: 0.7758 - val_loss: 0.5838\n",
      "Epoch 105/250\n",
      "519/519 [==============================] - 0s 66us/sample - loss: 0.8144 - val_loss: 0.5746\n",
      "Epoch 106/250\n",
      "519/519 [==============================] - 0s 67us/sample - loss: 0.7552 - val_loss: 0.5601\n",
      "Epoch 107/250\n",
      "519/519 [==============================] - 0s 64us/sample - loss: 0.7396 - val_loss: 0.5584\n",
      "Epoch 108/250\n",
      "519/519 [==============================] - 0s 62us/sample - loss: 0.7710 - val_loss: 0.5944\n",
      "Epoch 109/250\n",
      "519/519 [==============================] - 0s 66us/sample - loss: 0.7508 - val_loss: 0.6669\n",
      "Epoch 110/250\n",
      "519/519 [==============================] - 0s 67us/sample - loss: 0.7218 - val_loss: 0.6116\n",
      "Epoch 111/250\n",
      "519/519 [==============================] - 0s 64us/sample - loss: 0.7720 - val_loss: 0.5888\n",
      "Epoch 112/250\n",
      "519/519 [==============================] - 0s 64us/sample - loss: 0.7702 - val_loss: 0.6155\n",
      "Epoch 113/250\n",
      "519/519 [==============================] - 0s 64us/sample - loss: 0.7723 - val_loss: 0.5966\n",
      "Epoch 114/250\n",
      "519/519 [==============================] - 0s 75us/sample - loss: 0.7990 - val_loss: 0.5874\n",
      "Epoch 115/250\n",
      "519/519 [==============================] - 0s 67us/sample - loss: 0.7699 - val_loss: 0.5928\n",
      "Epoch 116/250\n",
      "519/519 [==============================] - 0s 66us/sample - loss: 0.8037 - val_loss: 0.6542\n",
      "Epoch 117/250\n",
      "519/519 [==============================] - 0s 64us/sample - loss: 0.7025 - val_loss: 0.5932\n",
      "Epoch 118/250\n",
      "519/519 [==============================] - 0s 67us/sample - loss: 0.6830 - val_loss: 0.5538\n",
      "Epoch 119/250\n",
      "519/519 [==============================] - 0s 64us/sample - loss: 0.8007 - val_loss: 0.6640\n",
      "Epoch 120/250\n",
      "519/519 [==============================] - 0s 66us/sample - loss: 0.7788 - val_loss: 0.6880\n",
      "Epoch 121/250\n",
      "519/519 [==============================] - 0s 64us/sample - loss: 0.8123 - val_loss: 0.6351\n",
      "Epoch 122/250\n",
      "519/519 [==============================] - 0s 66us/sample - loss: 0.6855 - val_loss: 0.5453\n",
      "Epoch 123/250\n",
      "519/519 [==============================] - 0s 66us/sample - loss: 0.8075 - val_loss: 0.5758\n",
      "Epoch 124/250\n",
      "519/519 [==============================] - 0s 64us/sample - loss: 0.7414 - val_loss: 0.6212\n",
      "Epoch 125/250\n",
      "519/519 [==============================] - 0s 67us/sample - loss: 0.7725 - val_loss: 0.5840\n",
      "Epoch 126/250\n",
      "519/519 [==============================] - 0s 62us/sample - loss: 0.6968 - val_loss: 0.6119\n",
      "Epoch 127/250\n",
      "519/519 [==============================] - 0s 64us/sample - loss: 0.7372 - val_loss: 0.6255\n",
      "Epoch 128/250\n",
      "519/519 [==============================] - 0s 62us/sample - loss: 0.7307 - val_loss: 0.5969\n",
      "Epoch 129/250\n",
      "519/519 [==============================] - 0s 62us/sample - loss: 0.7313 - val_loss: 0.5960\n",
      "Epoch 130/250\n",
      "519/519 [==============================] - 0s 66us/sample - loss: 0.7589 - val_loss: 0.6259\n",
      "Epoch 131/250\n",
      "519/519 [==============================] - 0s 66us/sample - loss: 0.7691 - val_loss: 0.5919\n",
      "Epoch 132/250\n",
      "519/519 [==============================] - 0s 64us/sample - loss: 0.6881 - val_loss: 0.5838\n",
      "Epoch 133/250\n",
      "519/519 [==============================] - 0s 66us/sample - loss: 0.7336 - val_loss: 0.6227\n",
      "Epoch 134/250\n",
      "519/519 [==============================] - 0s 66us/sample - loss: 0.6808 - val_loss: 0.5897\n",
      "Epoch 135/250\n",
      "519/519 [==============================] - 0s 64us/sample - loss: 0.7408 - val_loss: 0.5855\n",
      "Epoch 136/250\n",
      "519/519 [==============================] - 0s 64us/sample - loss: 0.7713 - val_loss: 0.6153\n",
      "Epoch 137/250\n",
      "519/519 [==============================] - 0s 62us/sample - loss: 0.7747 - val_loss: 0.6062\n",
      "Epoch 138/250\n",
      "519/519 [==============================] - 0s 64us/sample - loss: 0.7617 - val_loss: 0.5463\n",
      "Epoch 139/250\n",
      "519/519 [==============================] - 0s 69us/sample - loss: 0.7694 - val_loss: 0.6046\n",
      "Epoch 140/250\n",
      "519/519 [==============================] - 0s 67us/sample - loss: 0.6977 - val_loss: 0.6339\n",
      "Epoch 141/250\n",
      "519/519 [==============================] - 0s 66us/sample - loss: 0.7061 - val_loss: 0.5881\n",
      "Epoch 142/250\n",
      "519/519 [==============================] - 0s 66us/sample - loss: 0.7607 - val_loss: 0.6193\n",
      "Epoch 143/250\n",
      "519/519 [==============================] - 0s 69us/sample - loss: 0.7070 - val_loss: 0.5686\n",
      "Epoch 144/250\n",
      "519/519 [==============================] - 0s 67us/sample - loss: 0.6907 - val_loss: 0.6106\n",
      "Epoch 145/250\n",
      "519/519 [==============================] - 0s 64us/sample - loss: 0.7171 - val_loss: 0.5857\n",
      "Epoch 146/250\n",
      "519/519 [==============================] - 0s 67us/sample - loss: 0.7305 - val_loss: 0.5566\n",
      "Epoch 147/250\n",
      "519/519 [==============================] - 0s 67us/sample - loss: 0.7628 - val_loss: 0.5841\n",
      "Epoch 148/250\n",
      "519/519 [==============================] - 0s 67us/sample - loss: 0.6540 - val_loss: 0.5935\n",
      "Epoch 149/250\n",
      "519/519 [==============================] - 0s 67us/sample - loss: 0.6906 - val_loss: 0.5672\n",
      "Epoch 150/250\n",
      "519/519 [==============================] - 0s 64us/sample - loss: 0.6998 - val_loss: 0.5858\n",
      "Epoch 151/250\n",
      "519/519 [==============================] - 0s 66us/sample - loss: 0.7195 - val_loss: 0.5783\n",
      "Epoch 152/250\n",
      "519/519 [==============================] - 0s 66us/sample - loss: 0.7302 - val_loss: 0.5497\n",
      "Epoch 153/250\n",
      "519/519 [==============================] - 0s 66us/sample - loss: 0.7185 - val_loss: 0.5848\n",
      "Epoch 154/250\n",
      "519/519 [==============================] - 0s 64us/sample - loss: 0.7623 - val_loss: 0.5826\n",
      "Epoch 155/250\n"
     ]
    },
    {
     "name": "stdout",
     "output_type": "stream",
     "text": [
      "519/519 [==============================] - 0s 67us/sample - loss: 0.7221 - val_loss: 0.5863\n",
      "Epoch 156/250\n",
      "519/519 [==============================] - 0s 67us/sample - loss: 0.6867 - val_loss: 0.5866\n",
      "Epoch 157/250\n",
      "519/519 [==============================] - 0s 64us/sample - loss: 0.6850 - val_loss: 0.5549\n",
      "Epoch 158/250\n",
      "519/519 [==============================] - 0s 64us/sample - loss: 0.7244 - val_loss: 0.5675\n",
      "Epoch 159/250\n",
      "519/519 [==============================] - 0s 60us/sample - loss: 0.7024 - val_loss: 0.5746\n",
      "Epoch 160/250\n",
      "519/519 [==============================] - 0s 64us/sample - loss: 0.7376 - val_loss: 0.5640\n",
      "Epoch 161/250\n",
      "519/519 [==============================] - 0s 62us/sample - loss: 0.7670 - val_loss: 0.5984\n",
      "Epoch 162/250\n",
      "519/519 [==============================] - 0s 64us/sample - loss: 0.7009 - val_loss: 0.5621\n",
      "Epoch 163/250\n",
      "519/519 [==============================] - 0s 58us/sample - loss: 0.6742 - val_loss: 0.5502\n",
      "Epoch 164/250\n",
      "519/519 [==============================] - 0s 62us/sample - loss: 0.6800 - val_loss: 0.5775\n",
      "Epoch 165/250\n",
      "519/519 [==============================] - 0s 60us/sample - loss: 0.6855 - val_loss: 0.6731\n",
      "Epoch 166/250\n",
      "519/519 [==============================] - 0s 64us/sample - loss: 0.7047 - val_loss: 0.5829\n",
      "Epoch 167/250\n",
      "519/519 [==============================] - 0s 64us/sample - loss: 0.6761 - val_loss: 0.5357\n",
      "Epoch 168/250\n",
      "519/519 [==============================] - 0s 60us/sample - loss: 0.6520 - val_loss: 0.5982\n",
      "Epoch 169/250\n",
      "519/519 [==============================] - 0s 64us/sample - loss: 0.6824 - val_loss: 0.5454\n",
      "Epoch 170/250\n",
      "519/519 [==============================] - 0s 62us/sample - loss: 0.7095 - val_loss: 0.5779\n",
      "Epoch 171/250\n",
      "519/519 [==============================] - 0s 60us/sample - loss: 0.6944 - val_loss: 0.5683\n",
      "Epoch 172/250\n",
      "519/519 [==============================] - 0s 60us/sample - loss: 0.6575 - val_loss: 0.5627\n",
      "Epoch 173/250\n",
      "519/519 [==============================] - 0s 72us/sample - loss: 0.7363 - val_loss: 0.5538\n",
      "Epoch 174/250\n",
      "519/519 [==============================] - 0s 67us/sample - loss: 0.6681 - val_loss: 0.5686\n",
      "Epoch 175/250\n",
      "519/519 [==============================] - 0s 66us/sample - loss: 0.7084 - val_loss: 0.5596\n",
      "Epoch 176/250\n",
      "519/519 [==============================] - 0s 66us/sample - loss: 0.7268 - val_loss: 0.5694\n",
      "Epoch 177/250\n",
      "519/519 [==============================] - 0s 66us/sample - loss: 0.7579 - val_loss: 0.6036\n",
      "Epoch 178/250\n",
      "519/519 [==============================] - 0s 64us/sample - loss: 0.7120 - val_loss: 0.5651\n",
      "Epoch 179/250\n",
      "519/519 [==============================] - 0s 66us/sample - loss: 0.6684 - val_loss: 0.5782\n",
      "Epoch 180/250\n",
      "519/519 [==============================] - 0s 64us/sample - loss: 0.6452 - val_loss: 0.5758\n",
      "Epoch 181/250\n",
      "519/519 [==============================] - 0s 66us/sample - loss: 0.6468 - val_loss: 0.5516\n",
      "Epoch 182/250\n",
      "519/519 [==============================] - 0s 66us/sample - loss: 0.6835 - val_loss: 0.5912\n",
      "Epoch 183/250\n",
      "519/519 [==============================] - 0s 66us/sample - loss: 0.7474 - val_loss: 0.6551\n",
      "Epoch 184/250\n",
      "519/519 [==============================] - 0s 60us/sample - loss: 0.7035 - val_loss: 0.5654\n",
      "Epoch 185/250\n",
      "519/519 [==============================] - 0s 64us/sample - loss: 0.6727 - val_loss: 0.5296\n",
      "Epoch 186/250\n",
      "519/519 [==============================] - 0s 64us/sample - loss: 0.6435 - val_loss: 0.5777\n",
      "Epoch 187/250\n",
      "519/519 [==============================] - 0s 62us/sample - loss: 0.6870 - val_loss: 0.5931\n",
      "Epoch 188/250\n",
      "519/519 [==============================] - 0s 60us/sample - loss: 0.6307 - val_loss: 0.5509\n",
      "Epoch 189/250\n",
      "519/519 [==============================] - 0s 66us/sample - loss: 0.6246 - val_loss: 0.5631\n",
      "Epoch 190/250\n",
      "519/519 [==============================] - 0s 64us/sample - loss: 0.6601 - val_loss: 0.5797\n",
      "Epoch 191/250\n",
      "519/519 [==============================] - 0s 66us/sample - loss: 0.6993 - val_loss: 0.5576\n",
      "Epoch 192/250\n",
      "519/519 [==============================] - 0s 66us/sample - loss: 0.6969 - val_loss: 0.5724\n",
      "Epoch 193/250\n",
      "519/519 [==============================] - 0s 67us/sample - loss: 0.6271 - val_loss: 0.5605\n",
      "Epoch 194/250\n",
      "519/519 [==============================] - 0s 66us/sample - loss: 0.6611 - val_loss: 0.5578\n",
      "Epoch 195/250\n",
      "519/519 [==============================] - 0s 66us/sample - loss: 0.6300 - val_loss: 0.5627\n",
      "Epoch 196/250\n",
      "519/519 [==============================] - 0s 66us/sample - loss: 0.6424 - val_loss: 0.5876\n",
      "Epoch 197/250\n",
      "519/519 [==============================] - 0s 66us/sample - loss: 0.6392 - val_loss: 0.5498\n",
      "Epoch 198/250\n",
      "519/519 [==============================] - 0s 64us/sample - loss: 0.6186 - val_loss: 0.5820\n",
      "Epoch 199/250\n",
      "519/519 [==============================] - 0s 64us/sample - loss: 0.6579 - val_loss: 0.5741\n",
      "Epoch 200/250\n",
      "519/519 [==============================] - 0s 64us/sample - loss: 0.6683 - val_loss: 0.5620\n",
      "Epoch 201/250\n",
      "519/519 [==============================] - 0s 62us/sample - loss: 0.6286 - val_loss: 0.5595\n",
      "Epoch 202/250\n",
      "519/519 [==============================] - 0s 69us/sample - loss: 0.6225 - val_loss: 0.5414\n",
      "Epoch 203/250\n",
      "519/519 [==============================] - 0s 66us/sample - loss: 0.6910 - val_loss: 0.5690\n",
      "Epoch 204/250\n",
      "519/519 [==============================] - 0s 67us/sample - loss: 0.6133 - val_loss: 0.5519\n",
      "Epoch 205/250\n",
      "519/519 [==============================] - 0s 66us/sample - loss: 0.7261 - val_loss: 0.5628\n",
      "Epoch 206/250\n",
      "519/519 [==============================] - 0s 64us/sample - loss: 0.6826 - val_loss: 0.6267\n",
      "Epoch 207/250\n",
      "519/519 [==============================] - 0s 64us/sample - loss: 0.6440 - val_loss: 0.5992\n",
      "Epoch 208/250\n",
      "519/519 [==============================] - 0s 64us/sample - loss: 0.6525 - val_loss: 0.5934\n",
      "Epoch 209/250\n",
      "519/519 [==============================] - 0s 62us/sample - loss: 0.7255 - val_loss: 0.5611\n",
      "Epoch 210/250\n",
      "519/519 [==============================] - 0s 67us/sample - loss: 0.6646 - val_loss: 0.6025\n",
      "Epoch 211/250\n",
      "519/519 [==============================] - 0s 64us/sample - loss: 0.6715 - val_loss: 0.5929\n",
      "Epoch 212/250\n",
      "519/519 [==============================] - 0s 64us/sample - loss: 0.6380 - val_loss: 0.5844\n",
      "Epoch 213/250\n",
      "519/519 [==============================] - 0s 66us/sample - loss: 0.6184 - val_loss: 0.5827\n",
      "Epoch 214/250\n",
      "519/519 [==============================] - 0s 66us/sample - loss: 0.6773 - val_loss: 0.5803\n",
      "Epoch 215/250\n",
      "519/519 [==============================] - 0s 64us/sample - loss: 0.6397 - val_loss: 0.5623\n",
      "Epoch 216/250\n",
      "519/519 [==============================] - 0s 66us/sample - loss: 0.6433 - val_loss: 0.5847\n",
      "Epoch 217/250\n",
      "519/519 [==============================] - 0s 64us/sample - loss: 0.6509 - val_loss: 0.5824\n",
      "Epoch 218/250\n",
      "519/519 [==============================] - 0s 66us/sample - loss: 0.6058 - val_loss: 0.5831\n",
      "Epoch 219/250\n",
      "519/519 [==============================] - 0s 64us/sample - loss: 0.6766 - val_loss: 0.5594\n",
      "Epoch 220/250\n",
      "519/519 [==============================] - 0s 64us/sample - loss: 0.6397 - val_loss: 0.5636\n",
      "Epoch 221/250\n",
      "519/519 [==============================] - 0s 67us/sample - loss: 0.6642 - val_loss: 0.5478\n",
      "Epoch 222/250\n",
      "519/519 [==============================] - 0s 64us/sample - loss: 0.6749 - val_loss: 0.5629\n",
      "Epoch 223/250\n",
      "519/519 [==============================] - 0s 64us/sample - loss: 0.6403 - val_loss: 0.5887\n",
      "Epoch 224/250\n",
      "519/519 [==============================] - 0s 64us/sample - loss: 0.6195 - val_loss: 0.5640\n",
      "Epoch 225/250\n",
      "519/519 [==============================] - 0s 66us/sample - loss: 0.5872 - val_loss: 0.5508\n",
      "Epoch 226/250\n",
      "519/519 [==============================] - 0s 60us/sample - loss: 0.5989 - val_loss: 0.5667\n",
      "Epoch 227/250\n",
      "519/519 [==============================] - 0s 64us/sample - loss: 0.6695 - val_loss: 0.5591\n",
      "Epoch 228/250\n",
      "519/519 [==============================] - 0s 62us/sample - loss: 0.6487 - val_loss: 0.5472\n",
      "Epoch 229/250\n",
      "519/519 [==============================] - 0s 67us/sample - loss: 0.6406 - val_loss: 0.5496\n",
      "Epoch 230/250\n",
      "519/519 [==============================] - 0s 64us/sample - loss: 0.6320 - val_loss: 0.5891\n",
      "Epoch 231/250\n",
      "519/519 [==============================] - 0s 66us/sample - loss: 0.5836 - val_loss: 0.5523\n",
      "Epoch 232/250\n"
     ]
    },
    {
     "name": "stdout",
     "output_type": "stream",
     "text": [
      "519/519 [==============================] - 0s 73us/sample - loss: 0.6328 - val_loss: 0.5444\n",
      "Epoch 233/250\n",
      "519/519 [==============================] - 0s 69us/sample - loss: 0.6662 - val_loss: 0.5313\n",
      "Epoch 234/250\n",
      "519/519 [==============================] - 0s 64us/sample - loss: 0.6228 - val_loss: 0.5513\n",
      "Epoch 235/250\n",
      "519/519 [==============================] - 0s 64us/sample - loss: 0.5799 - val_loss: 0.5628\n",
      "Epoch 236/250\n",
      "519/519 [==============================] - 0s 62us/sample - loss: 0.6161 - val_loss: 0.5636\n",
      "Epoch 237/250\n",
      "519/519 [==============================] - 0s 64us/sample - loss: 0.6239 - val_loss: 0.5424\n",
      "Epoch 238/250\n",
      "519/519 [==============================] - 0s 64us/sample - loss: 0.5923 - val_loss: 0.5447\n",
      "Epoch 239/250\n",
      "519/519 [==============================] - 0s 60us/sample - loss: 0.6024 - val_loss: 0.5283\n",
      "Epoch 240/250\n",
      "519/519 [==============================] - 0s 62us/sample - loss: 0.6783 - val_loss: 0.5337\n",
      "Epoch 241/250\n",
      "519/519 [==============================] - 0s 64us/sample - loss: 0.5779 - val_loss: 0.5417\n",
      "Epoch 242/250\n",
      "519/519 [==============================] - 0s 64us/sample - loss: 0.6034 - val_loss: 0.5649\n",
      "Epoch 243/250\n",
      "519/519 [==============================] - 0s 62us/sample - loss: 0.6722 - val_loss: 0.5818\n",
      "Epoch 244/250\n",
      "519/519 [==============================] - 0s 62us/sample - loss: 0.5970 - val_loss: 0.6048\n",
      "Epoch 245/250\n",
      "519/519 [==============================] - 0s 64us/sample - loss: 0.5811 - val_loss: 0.5714\n",
      "Epoch 246/250\n",
      "519/519 [==============================] - 0s 64us/sample - loss: 0.6173 - val_loss: 0.5334\n",
      "Epoch 247/250\n",
      "519/519 [==============================] - 0s 62us/sample - loss: 0.6303 - val_loss: 0.5561\n",
      "Epoch 248/250\n",
      "519/519 [==============================] - 0s 62us/sample - loss: 0.5704 - val_loss: 0.5710\n",
      "Epoch 249/250\n",
      "519/519 [==============================] - 0s 67us/sample - loss: 0.6156 - val_loss: 0.5342\n",
      "Epoch 250/250\n",
      "519/519 [==============================] - 0s 69us/sample - loss: 0.5984 - val_loss: 0.5391\n"
     ]
    },
    {
     "data": {
      "text/plain": [
       "<tensorflow.python.keras.callbacks.History at 0x2261ba53e08>"
      ]
     },
     "execution_count": 36,
     "metadata": {},
     "output_type": "execute_result"
    }
   ],
   "source": [
    "model.fit(X_train,y_train,validation_data = (X_test,y_test.values),batch_size = 64,epochs = 250)"
   ]
  },
  {
   "cell_type": "code",
   "execution_count": 37,
   "metadata": {},
   "outputs": [
    {
     "data": {
      "image/png": "[encoded data removed]",
      "text/plain": [
       "<Figure size 432x288 with 1 Axes>"
      ]
     },
     "metadata": {
      "needs_background": "light"
     },
     "output_type": "display_data"
    }
   ],
   "source": [
    "losses = pd.DataFrame(model.history.history)\n",
    "\n",
    "losses.plot();"
   ]
  },
  {
   "cell_type": "code",
   "execution_count": 38,
   "metadata": {},
   "outputs": [],
   "source": [
    "y_pred = model.predict(X_test)"
   ]
  },
  {
   "cell_type": "code",
   "execution_count": 39,
   "metadata": {},
   "outputs": [
    {
     "data": {
      "text/html": [
       "<div>\n",
       "<style scoped>\n",
       "    .dataframe tbody tr th:only-of-type {\n",
       "        vertical-align: middle;\n",
       "    }\n",
       "\n",
       "    .dataframe tbody tr th {\n",
       "        vertical-align: top;\n",
       "    }\n",
       "\n",
       "    .dataframe thead th {\n",
       "        text-align: right;\n",
       "    }\n",
       "</style>\n",
       "<table border=\"1\" class=\"dataframe\">\n",
       "  <thead>\n",
       "    <tr style=\"text-align: right;\">\n",
       "      <th></th>\n",
       "      <th>y_pred</th>\n",
       "      <th>y_test</th>\n",
       "    </tr>\n",
       "  </thead>\n",
       "  <tbody>\n",
       "    <tr>\n",
       "      <th>0</th>\n",
       "      <td>3.589044</td>\n",
       "      <td>5</td>\n",
       "    </tr>\n",
       "    <tr>\n",
       "      <th>1</th>\n",
       "      <td>3.419404</td>\n",
       "      <td>3</td>\n",
       "    </tr>\n",
       "    <tr>\n",
       "      <th>2</th>\n",
       "      <td>3.729816</td>\n",
       "      <td>5</td>\n",
       "    </tr>\n",
       "    <tr>\n",
       "      <th>3</th>\n",
       "      <td>3.316133</td>\n",
       "      <td>3</td>\n",
       "    </tr>\n",
       "    <tr>\n",
       "      <th>4</th>\n",
       "      <td>3.284396</td>\n",
       "      <td>3</td>\n",
       "    </tr>\n",
       "  </tbody>\n",
       "</table>\n",
       "</div>"
      ],
      "text/plain": [
       "     y_pred  y_test\n",
       "0  3.589044       5\n",
       "1  3.419404       3\n",
       "2  3.729816       5\n",
       "3  3.316133       3\n",
       "4  3.284396       3"
      ]
     },
     "execution_count": 39,
     "metadata": {},
     "output_type": "execute_result"
    }
   ],
   "source": [
    "y_pred = pd.DataFrame(y_pred)\n",
    "\n",
    "df_temp = pd.concat([y_pred,y_test],axis = 1)\n",
    "df_temp.columns = ['y_pred','y_test']\n",
    "\n",
    "df_temp.head()"
   ]
  },
  {
   "cell_type": "code",
   "execution_count": 40,
   "metadata": {},
   "outputs": [
    {
     "data": {
      "image/png": "[encoded data removed]",
      "text/plain": [
       "<Figure size 432x288 with 1 Axes>"
      ]
     },
     "metadata": {
      "needs_background": "light"
     },
     "output_type": "display_data"
    }
   ],
   "source": [
    "plt.scatter(df_temp['y_test'],df_temp['y_pred'])\n",
    "plt.xlabel('y_test',fontsize = 14)\n",
    "plt.ylabel('y_pred',fontsize = 14)\n",
    "plt.xlim(0,6)\n",
    "plt.ylim(0,6)\n",
    "plt.xticks(list(range(0,6)))\n",
    "plt.yticks(list(range(0,6)))\n",
    "plt.grid()\n",
    "y_lim = plt.ylim()\n",
    "x_lim = plt.xlim()\n",
    "plt.plot(x_lim,y_lim,color = 'g',linewidth = 0.5);"
   ]
  },
  {
   "cell_type": "code",
   "execution_count": 41,
   "metadata": {},
   "outputs": [
    {
     "data": {
      "text/plain": [
       "0.7342056239280748"
      ]
     },
     "execution_count": 41,
     "metadata": {},
     "output_type": "execute_result"
    }
   ],
   "source": [
    "rmse(y_pred,y_test)"
   ]
  },
  {
   "cell_type": "markdown",
   "metadata": {},
   "source": [
    "## Stacking "
   ]
  },
  {
   "cell_type": "code",
   "execution_count": 42,
   "metadata": {},
   "outputs": [],
   "source": [
    "X_base,X_meta,y_base,y_meta = train_test_split(X_train,y_train,test_size = 0.5,random_state = 42)"
   ]
  },
  {
   "cell_type": "markdown",
   "metadata": {},
   "source": [
    "### Base Models "
   ]
  },
  {
   "cell_type": "code",
   "execution_count": 43,
   "metadata": {},
   "outputs": [],
   "source": [
    "model = DecisionTreeRegressor(min_samples_leaf = 20,max_depth = 10)\n",
    "model.fit(X_base,y_base)\n",
    "\n",
    "y_pred_dt_meta = model.predict(X_meta)\n",
    "y_pred_dt_test = model.predict(X_test)"
   ]
  },
  {
   "cell_type": "code",
   "execution_count": 44,
   "metadata": {},
   "outputs": [],
   "source": [
    "model = RandomForestRegressor(min_samples_leaf = 1,n_estimators = 100)\n",
    "model.fit(X_base,y_base)\n",
    "\n",
    "y_pred_rf_meta = model.predict(X_meta)\n",
    "y_pred_rf_test = model.predict(X_test)"
   ]
  },
  {
   "cell_type": "code",
   "execution_count": 45,
   "metadata": {},
   "outputs": [],
   "source": [
    "model = xgboost.XGBRegressor(silent = True,max_depth = 1,learning_rate = 0.1,n_estimators = 100)\n",
    "model.fit(X_base,y_base)\n",
    "\n",
    "y_pred_xgb_meta = model.predict(X_meta)\n",
    "y_pred_xgb_test = model.predict(X_test)"
   ]
  },
  {
   "cell_type": "code",
   "execution_count": 46,
   "metadata": {},
   "outputs": [
    {
     "name": "stdout",
     "output_type": "stream",
     "text": [
      "Train on 519 samples, validate on 259 samples\n",
      "Epoch 1/250\n",
      "519/519 [==============================] - 1s 1ms/sample - loss: 12.1598 - val_loss: 10.5341\n",
      "Epoch 2/250\n",
      "519/519 [==============================] - 0s 106us/sample - loss: 10.4002 - val_loss: 9.2637\n",
      "Epoch 3/250\n",
      "519/519 [==============================] - 0s 71us/sample - loss: 8.7176 - val_loss: 7.5799\n",
      "Epoch 4/250\n",
      "519/519 [==============================] - 0s 77us/sample - loss: 6.5139 - val_loss: 5.1129\n",
      "Epoch 5/250\n",
      "519/519 [==============================] - 0s 71us/sample - loss: 3.9879 - val_loss: 2.2262\n",
      "Epoch 6/250\n",
      "519/519 [==============================] - 0s 71us/sample - loss: 2.3216 - val_loss: 0.7906\n",
      "Epoch 7/250\n",
      "519/519 [==============================] - 0s 73us/sample - loss: 2.0917 - val_loss: 0.8488\n",
      "Epoch 8/250\n",
      "519/519 [==============================] - 0s 69us/sample - loss: 1.9944 - val_loss: 1.1483\n",
      "Epoch 9/250\n",
      "519/519 [==============================] - 0s 71us/sample - loss: 1.7480 - val_loss: 1.1550\n",
      "Epoch 10/250\n",
      "519/519 [==============================] - 0s 75us/sample - loss: 1.8967 - val_loss: 1.0488\n",
      "Epoch 11/250\n",
      "519/519 [==============================] - 0s 69us/sample - loss: 1.6503 - val_loss: 0.9762\n",
      "Epoch 12/250\n",
      "519/519 [==============================] - 0s 71us/sample - loss: 1.7773 - val_loss: 1.0794\n",
      "Epoch 13/250\n",
      "519/519 [==============================] - 0s 69us/sample - loss: 1.7673 - val_loss: 1.1383\n",
      "Epoch 14/250\n",
      "519/519 [==============================] - 0s 67us/sample - loss: 1.7509 - val_loss: 0.9486\n",
      "Epoch 15/250\n",
      "519/519 [==============================] - 0s 71us/sample - loss: 1.5434 - val_loss: 0.8374\n",
      "Epoch 16/250\n",
      "519/519 [==============================] - 0s 69us/sample - loss: 1.5334 - val_loss: 1.0349\n",
      "Epoch 17/250\n",
      "519/519 [==============================] - 0s 78us/sample - loss: 1.4124 - val_loss: 1.0666\n",
      "Epoch 18/250\n",
      "519/519 [==============================] - 0s 71us/sample - loss: 1.4332 - val_loss: 1.0829\n",
      "Epoch 19/250\n",
      "519/519 [==============================] - 0s 77us/sample - loss: 1.2749 - val_loss: 0.9195\n",
      "Epoch 20/250\n",
      "519/519 [==============================] - 0s 69us/sample - loss: 1.4423 - val_loss: 0.7871\n",
      "Epoch 21/250\n",
      "519/519 [==============================] - 0s 69us/sample - loss: 1.3857 - val_loss: 0.9128\n",
      "Epoch 22/250\n",
      "519/519 [==============================] - 0s 77us/sample - loss: 1.2623 - val_loss: 0.8943\n",
      "Epoch 23/250\n",
      "519/519 [==============================] - 0s 79us/sample - loss: 1.2245 - val_loss: 1.0024\n",
      "Epoch 24/250\n",
      "519/519 [==============================] - 0s 83us/sample - loss: 1.4135 - val_loss: 0.8766\n",
      "Epoch 25/250\n",
      "519/519 [==============================] - 0s 53us/sample - loss: 1.3557 - val_loss: 0.8251\n",
      "Epoch 26/250\n",
      "519/519 [==============================] - 0s 83us/sample - loss: 1.2916 - val_loss: 0.9302\n",
      "Epoch 27/250\n",
      "519/519 [==============================] - 0s 79us/sample - loss: 1.2765 - val_loss: 0.8839\n",
      "Epoch 28/250\n",
      "519/519 [==============================] - 0s 77us/sample - loss: 1.2459 - val_loss: 0.9207\n",
      "Epoch 29/250\n",
      "519/519 [==============================] - 0s 77us/sample - loss: 1.2331 - val_loss: 0.7788\n",
      "Epoch 30/250\n",
      "519/519 [==============================] - 0s 77us/sample - loss: 1.0837 - val_loss: 0.8098\n",
      "Epoch 31/250\n",
      "519/519 [==============================] - 0s 79us/sample - loss: 1.1760 - val_loss: 0.8269\n",
      "Epoch 32/250\n",
      "519/519 [==============================] - 0s 77us/sample - loss: 1.1846 - val_loss: 0.9111\n",
      "Epoch 33/250\n",
      "519/519 [==============================] - 0s 77us/sample - loss: 1.1520 - val_loss: 0.8459\n",
      "Epoch 34/250\n",
      "519/519 [==============================] - 0s 77us/sample - loss: 1.1978 - val_loss: 0.9971\n",
      "Epoch 35/250\n",
      "519/519 [==============================] - 0s 77us/sample - loss: 1.1688 - val_loss: 0.9667\n",
      "Epoch 36/250\n",
      "519/519 [==============================] - 0s 73us/sample - loss: 1.1978 - val_loss: 0.7891\n",
      "Epoch 37/250\n",
      "519/519 [==============================] - 0s 79us/sample - loss: 1.3014 - val_loss: 0.8092\n",
      "Epoch 38/250\n",
      "519/519 [==============================] - 0s 77us/sample - loss: 1.2562 - val_loss: 1.0286\n",
      "Epoch 39/250\n",
      "519/519 [==============================] - 0s 79us/sample - loss: 1.1371 - val_loss: 1.1407\n",
      "Epoch 40/250\n",
      "519/519 [==============================] - 0s 75us/sample - loss: 1.0698 - val_loss: 0.7774\n",
      "Epoch 41/250\n",
      "519/519 [==============================] - 0s 81us/sample - loss: 1.1593 - val_loss: 0.8656\n",
      "Epoch 42/250\n",
      "519/519 [==============================] - 0s 79us/sample - loss: 1.0828 - val_loss: 0.9499\n",
      "Epoch 43/250\n",
      "519/519 [==============================] - 0s 79us/sample - loss: 1.0910 - val_loss: 0.8597\n",
      "Epoch 44/250\n",
      "519/519 [==============================] - 0s 81us/sample - loss: 1.1004 - val_loss: 0.9303\n",
      "Epoch 45/250\n",
      "519/519 [==============================] - 0s 77us/sample - loss: 0.9891 - val_loss: 0.8920\n",
      "Epoch 46/250\n",
      "519/519 [==============================] - 0s 83us/sample - loss: 1.1115 - val_loss: 1.0032\n",
      "Epoch 47/250\n",
      "519/519 [==============================] - 0s 91us/sample - loss: 1.0830 - val_loss: 0.9187\n",
      "Epoch 48/250\n",
      "519/519 [==============================] - 0s 79us/sample - loss: 0.9781 - val_loss: 0.7586\n",
      "Epoch 49/250\n",
      "519/519 [==============================] - 0s 77us/sample - loss: 1.0590 - val_loss: 0.8983\n",
      "Epoch 50/250\n",
      "519/519 [==============================] - 0s 79us/sample - loss: 0.9332 - val_loss: 0.9048\n",
      "Epoch 51/250\n",
      "519/519 [==============================] - 0s 73us/sample - loss: 1.0513 - val_loss: 0.8134\n",
      "Epoch 52/250\n",
      "519/519 [==============================] - 0s 67us/sample - loss: 0.9572 - val_loss: 0.7290\n",
      "Epoch 53/250\n",
      "519/519 [==============================] - 0s 73us/sample - loss: 0.9838 - val_loss: 0.8924\n",
      "Epoch 54/250\n",
      "519/519 [==============================] - 0s 69us/sample - loss: 1.0164 - val_loss: 0.8926\n",
      "Epoch 55/250\n",
      "519/519 [==============================] - 0s 66us/sample - loss: 0.9755 - val_loss: 0.7422\n",
      "Epoch 56/250\n",
      "519/519 [==============================] - 0s 64us/sample - loss: 0.9642 - val_loss: 0.8808\n",
      "Epoch 57/250\n",
      "519/519 [==============================] - 0s 67us/sample - loss: 1.0593 - val_loss: 0.7879\n",
      "Epoch 58/250\n",
      "519/519 [==============================] - 0s 67us/sample - loss: 0.9871 - val_loss: 0.8135\n",
      "Epoch 59/250\n",
      "519/519 [==============================] - 0s 69us/sample - loss: 1.0432 - val_loss: 0.8013\n",
      "Epoch 60/250\n",
      "519/519 [==============================] - 0s 71us/sample - loss: 0.9625 - val_loss: 0.8003\n",
      "Epoch 61/250\n",
      "519/519 [==============================] - ETA: 0s - loss: 1.118 - 0s 71us/sample - loss: 0.9485 - val_loss: 0.6825\n",
      "Epoch 62/250\n",
      "519/519 [==============================] - 0s 69us/sample - loss: 1.0635 - val_loss: 0.7235\n",
      "Epoch 63/250\n",
      "519/519 [==============================] - 0s 67us/sample - loss: 0.9517 - val_loss: 0.7707\n",
      "Epoch 64/250\n",
      "519/519 [==============================] - 0s 67us/sample - loss: 0.9226 - val_loss: 0.8173\n",
      "Epoch 65/250\n",
      "519/519 [==============================] - 0s 69us/sample - loss: 1.0192 - val_loss: 0.7544\n",
      "Epoch 66/250\n",
      "519/519 [==============================] - 0s 69us/sample - loss: 0.9740 - val_loss: 0.6667\n",
      "Epoch 67/250\n",
      "519/519 [==============================] - 0s 67us/sample - loss: 0.9651 - val_loss: 0.7218\n",
      "Epoch 68/250\n",
      "519/519 [==============================] - 0s 69us/sample - loss: 0.8794 - val_loss: 0.6645\n",
      "Epoch 69/250\n",
      "519/519 [==============================] - 0s 71us/sample - loss: 0.9047 - val_loss: 0.6679\n",
      "Epoch 70/250\n",
      "519/519 [==============================] - 0s 67us/sample - loss: 1.0804 - val_loss: 0.6969\n",
      "Epoch 71/250\n",
      "519/519 [==============================] - 0s 69us/sample - loss: 0.8576 - val_loss: 0.6507\n",
      "Epoch 72/250\n",
      "519/519 [==============================] - 0s 66us/sample - loss: 0.9586 - val_loss: 0.6917\n",
      "Epoch 73/250\n",
      "519/519 [==============================] - 0s 67us/sample - loss: 0.8694 - val_loss: 0.7339\n",
      "Epoch 74/250\n",
      "519/519 [==============================] - 0s 69us/sample - loss: 0.9408 - val_loss: 0.7391\n",
      "Epoch 75/250\n",
      "519/519 [==============================] - 0s 67us/sample - loss: 0.9539 - val_loss: 0.7242\n",
      "Epoch 76/250\n",
      "519/519 [==============================] - 0s 69us/sample - loss: 0.9457 - val_loss: 0.6791\n",
      "Epoch 77/250\n",
      "519/519 [==============================] - 0s 79us/sample - loss: 0.9008 - val_loss: 0.6595\n",
      "Epoch 78/250\n"
     ]
    },
    {
     "name": "stdout",
     "output_type": "stream",
     "text": [
      "519/519 [==============================] - 0s 69us/sample - loss: 0.8574 - val_loss: 0.6614\n",
      "Epoch 79/250\n",
      "519/519 [==============================] - 0s 73us/sample - loss: 0.8771 - val_loss: 0.6567\n",
      "Epoch 80/250\n",
      "519/519 [==============================] - 0s 69us/sample - loss: 0.8803 - val_loss: 0.6423\n",
      "Epoch 81/250\n",
      "519/519 [==============================] - 0s 67us/sample - loss: 0.9447 - val_loss: 0.6642\n",
      "Epoch 82/250\n",
      "519/519 [==============================] - 0s 69us/sample - loss: 0.8619 - val_loss: 0.7479\n",
      "Epoch 83/250\n",
      "519/519 [==============================] - 0s 69us/sample - loss: 0.8866 - val_loss: 0.8042\n",
      "Epoch 84/250\n",
      "519/519 [==============================] - 0s 69us/sample - loss: 0.9484 - val_loss: 0.6699\n",
      "Epoch 85/250\n",
      "519/519 [==============================] - 0s 67us/sample - loss: 0.9206 - val_loss: 0.6815\n",
      "Epoch 86/250\n",
      "519/519 [==============================] - 0s 67us/sample - loss: 0.8517 - val_loss: 0.6599\n",
      "Epoch 87/250\n",
      "519/519 [==============================] - 0s 71us/sample - loss: 0.8900 - val_loss: 0.7130\n",
      "Epoch 88/250\n",
      "519/519 [==============================] - 0s 71us/sample - loss: 0.8987 - val_loss: 0.6468\n",
      "Epoch 89/250\n",
      "519/519 [==============================] - 0s 66us/sample - loss: 0.8300 - val_loss: 0.6642\n",
      "Epoch 90/250\n",
      "519/519 [==============================] - 0s 71us/sample - loss: 0.8814 - val_loss: 0.6052\n",
      "Epoch 91/250\n",
      "519/519 [==============================] - 0s 69us/sample - loss: 0.8777 - val_loss: 0.6437\n",
      "Epoch 92/250\n",
      "519/519 [==============================] - 0s 69us/sample - loss: 0.8248 - val_loss: 0.7194\n",
      "Epoch 93/250\n",
      "519/519 [==============================] - 0s 67us/sample - loss: 0.8785 - val_loss: 0.5922\n",
      "Epoch 94/250\n",
      "519/519 [==============================] - 0s 69us/sample - loss: 0.9317 - val_loss: 0.6059\n",
      "Epoch 95/250\n",
      "519/519 [==============================] - 0s 69us/sample - loss: 0.8711 - val_loss: 0.6430\n",
      "Epoch 96/250\n",
      "519/519 [==============================] - 0s 67us/sample - loss: 0.8574 - val_loss: 0.6758\n",
      "Epoch 97/250\n",
      "519/519 [==============================] - 0s 67us/sample - loss: 0.9516 - val_loss: 0.7132\n",
      "Epoch 98/250\n",
      "519/519 [==============================] - 0s 67us/sample - loss: 0.8911 - val_loss: 0.6494\n",
      "Epoch 99/250\n",
      "519/519 [==============================] - 0s 81us/sample - loss: 0.9154 - val_loss: 0.6635\n",
      "Epoch 100/250\n",
      "519/519 [==============================] - 0s 73us/sample - loss: 0.8391 - val_loss: 0.6362\n",
      "Epoch 101/250\n",
      "519/519 [==============================] - 0s 71us/sample - loss: 0.8532 - val_loss: 0.7015\n",
      "Epoch 102/250\n",
      "519/519 [==============================] - 0s 71us/sample - loss: 0.8504 - val_loss: 0.6603\n",
      "Epoch 103/250\n",
      "519/519 [==============================] - 0s 69us/sample - loss: 0.8844 - val_loss: 0.6057\n",
      "Epoch 104/250\n",
      "519/519 [==============================] - 0s 73us/sample - loss: 0.8619 - val_loss: 0.6300\n",
      "Epoch 105/250\n",
      "519/519 [==============================] - 0s 73us/sample - loss: 0.7385 - val_loss: 0.6922\n",
      "Epoch 106/250\n",
      "519/519 [==============================] - 0s 69us/sample - loss: 0.8767 - val_loss: 0.5919\n",
      "Epoch 107/250\n",
      "519/519 [==============================] - 0s 69us/sample - loss: 0.8205 - val_loss: 0.5848\n",
      "Epoch 108/250\n",
      "519/519 [==============================] - 0s 71us/sample - loss: 0.8127 - val_loss: 0.6244\n",
      "Epoch 109/250\n",
      "519/519 [==============================] - 0s 67us/sample - loss: 0.8344 - val_loss: 0.6343\n",
      "Epoch 110/250\n",
      "519/519 [==============================] - 0s 66us/sample - loss: 0.8333 - val_loss: 0.6184\n",
      "Epoch 111/250\n",
      "519/519 [==============================] - 0s 67us/sample - loss: 0.8258 - val_loss: 0.6339\n",
      "Epoch 112/250\n",
      "519/519 [==============================] - 0s 73us/sample - loss: 0.8301 - val_loss: 0.6078\n",
      "Epoch 113/250\n",
      "519/519 [==============================] - 0s 69us/sample - loss: 0.7869 - val_loss: 0.5393\n",
      "Epoch 114/250\n",
      "519/519 [==============================] - 0s 71us/sample - loss: 0.9051 - val_loss: 0.6180\n",
      "Epoch 115/250\n",
      "519/519 [==============================] - 0s 73us/sample - loss: 0.7447 - val_loss: 0.6966\n",
      "Epoch 116/250\n",
      "519/519 [==============================] - 0s 69us/sample - loss: 0.8211 - val_loss: 0.5900\n",
      "Epoch 117/250\n",
      "519/519 [==============================] - 0s 89us/sample - loss: 0.8606 - val_loss: 0.5619\n",
      "Epoch 118/250\n",
      "519/519 [==============================] - 0s 72us/sample - loss: 0.7823 - val_loss: 0.6315\n",
      "Epoch 119/250\n",
      "519/519 [==============================] - 0s 69us/sample - loss: 0.7487 - val_loss: 0.6441\n",
      "Epoch 120/250\n",
      "519/519 [==============================] - 0s 69us/sample - loss: 0.9054 - val_loss: 0.5410\n",
      "Epoch 121/250\n",
      "519/519 [==============================] - 0s 69us/sample - loss: 0.8123 - val_loss: 0.5730\n",
      "Epoch 122/250\n",
      "519/519 [==============================] - 0s 69us/sample - loss: 0.8683 - val_loss: 0.7246\n",
      "Epoch 123/250\n",
      "519/519 [==============================] - 0s 69us/sample - loss: 0.8007 - val_loss: 0.5871\n",
      "Epoch 124/250\n",
      "519/519 [==============================] - 0s 75us/sample - loss: 0.7677 - val_loss: 0.5256\n",
      "Epoch 125/250\n",
      "519/519 [==============================] - 0s 71us/sample - loss: 0.7615 - val_loss: 0.5951\n",
      "Epoch 126/250\n",
      "519/519 [==============================] - 0s 69us/sample - loss: 0.8172 - val_loss: 0.5856\n",
      "Epoch 127/250\n",
      "519/519 [==============================] - 0s 69us/sample - loss: 0.7543 - val_loss: 0.5823\n",
      "Epoch 128/250\n",
      "519/519 [==============================] - 0s 69us/sample - loss: 0.7962 - val_loss: 0.6092\n",
      "Epoch 129/250\n",
      "519/519 [==============================] - 0s 66us/sample - loss: 0.7541 - val_loss: 0.6137\n",
      "Epoch 130/250\n",
      "519/519 [==============================] - 0s 77us/sample - loss: 0.8290 - val_loss: 0.6057\n",
      "Epoch 131/250\n",
      "519/519 [==============================] - 0s 73us/sample - loss: 0.7827 - val_loss: 0.5729\n",
      "Epoch 132/250\n",
      "519/519 [==============================] - 0s 75us/sample - loss: 0.7706 - val_loss: 0.5914\n",
      "Epoch 133/250\n",
      "519/519 [==============================] - 0s 71us/sample - loss: 0.7945 - val_loss: 0.5552\n",
      "Epoch 134/250\n",
      "519/519 [==============================] - 0s 69us/sample - loss: 0.7563 - val_loss: 0.6066\n",
      "Epoch 135/250\n",
      "519/519 [==============================] - 0s 69us/sample - loss: 0.7619 - val_loss: 0.5968\n",
      "Epoch 136/250\n",
      "519/519 [==============================] - 0s 69us/sample - loss: 0.7715 - val_loss: 0.5552\n",
      "Epoch 137/250\n",
      "519/519 [==============================] - 0s 66us/sample - loss: 0.7528 - val_loss: 0.5674\n",
      "Epoch 138/250\n",
      "519/519 [==============================] - 0s 69us/sample - loss: 0.7562 - val_loss: 0.6048\n",
      "Epoch 139/250\n",
      "519/519 [==============================] - 0s 71us/sample - loss: 0.7325 - val_loss: 0.5852\n",
      "Epoch 140/250\n",
      "519/519 [==============================] - 0s 73us/sample - loss: 0.7981 - val_loss: 0.5839\n",
      "Epoch 141/250\n",
      "519/519 [==============================] - 0s 71us/sample - loss: 0.7585 - val_loss: 0.5476\n",
      "Epoch 142/250\n",
      "519/519 [==============================] - 0s 71us/sample - loss: 0.7357 - val_loss: 0.5338\n",
      "Epoch 143/250\n",
      "519/519 [==============================] - 0s 67us/sample - loss: 0.8101 - val_loss: 0.5536\n",
      "Epoch 144/250\n",
      "519/519 [==============================] - 0s 71us/sample - loss: 0.7480 - val_loss: 0.5795\n",
      "Epoch 145/250\n",
      "519/519 [==============================] - 0s 67us/sample - loss: 0.7201 - val_loss: 0.5455\n",
      "Epoch 146/250\n",
      "519/519 [==============================] - 0s 67us/sample - loss: 0.8086 - val_loss: 0.6161\n",
      "Epoch 147/250\n",
      "519/519 [==============================] - 0s 69us/sample - loss: 0.8152 - val_loss: 0.5771\n",
      "Epoch 148/250\n",
      "519/519 [==============================] - 0s 69us/sample - loss: 0.7704 - val_loss: 0.5722\n",
      "Epoch 149/250\n",
      "519/519 [==============================] - 0s 69us/sample - loss: 0.7875 - val_loss: 0.5335\n",
      "Epoch 150/250\n",
      "519/519 [==============================] - 0s 69us/sample - loss: 0.7426 - val_loss: 0.5481\n",
      "Epoch 151/250\n",
      "519/519 [==============================] - 0s 75us/sample - loss: 0.7916 - val_loss: 0.5289\n",
      "Epoch 152/250\n",
      "519/519 [==============================] - 0s 67us/sample - loss: 0.7247 - val_loss: 0.5750\n",
      "Epoch 153/250\n",
      "519/519 [==============================] - 0s 69us/sample - loss: 0.7695 - val_loss: 0.5581\n",
      "Epoch 154/250\n",
      "519/519 [==============================] - 0s 66us/sample - loss: 0.7750 - val_loss: 0.5362\n",
      "Epoch 155/250\n"
     ]
    },
    {
     "name": "stdout",
     "output_type": "stream",
     "text": [
      "519/519 [==============================] - 0s 67us/sample - loss: 0.7739 - val_loss: 0.5557\n",
      "Epoch 156/250\n",
      "519/519 [==============================] - 0s 66us/sample - loss: 0.7604 - val_loss: 0.5377\n",
      "Epoch 157/250\n",
      "519/519 [==============================] - 0s 69us/sample - loss: 0.7557 - val_loss: 0.5938\n",
      "Epoch 158/250\n",
      "519/519 [==============================] - 0s 73us/sample - loss: 0.8199 - val_loss: 0.5905\n",
      "Epoch 159/250\n",
      "519/519 [==============================] - 0s 79us/sample - loss: 0.7359 - val_loss: 0.5482\n",
      "Epoch 160/250\n",
      "519/519 [==============================] - 0s 69us/sample - loss: 0.6844 - val_loss: 0.5396\n",
      "Epoch 161/250\n",
      "519/519 [==============================] - 0s 71us/sample - loss: 0.7089 - val_loss: 0.5692\n",
      "Epoch 162/250\n",
      "519/519 [==============================] - 0s 71us/sample - loss: 0.7362 - val_loss: 0.5361\n",
      "Epoch 163/250\n",
      "519/519 [==============================] - 0s 67us/sample - loss: 0.8009 - val_loss: 0.5284\n",
      "Epoch 164/250\n",
      "519/519 [==============================] - 0s 66us/sample - loss: 0.7575 - val_loss: 0.5367\n",
      "Epoch 165/250\n",
      "519/519 [==============================] - 0s 67us/sample - loss: 0.7527 - val_loss: 0.5800\n",
      "Epoch 166/250\n",
      "519/519 [==============================] - 0s 66us/sample - loss: 0.7503 - val_loss: 0.6110\n",
      "Epoch 167/250\n",
      "519/519 [==============================] - 0s 67us/sample - loss: 0.7258 - val_loss: 0.5621\n",
      "Epoch 168/250\n",
      "519/519 [==============================] - 0s 67us/sample - loss: 0.7445 - val_loss: 0.5430\n",
      "Epoch 169/250\n",
      "519/519 [==============================] - 0s 71us/sample - loss: 0.6995 - val_loss: 0.5173\n",
      "Epoch 170/250\n",
      "519/519 [==============================] - 0s 71us/sample - loss: 0.7495 - val_loss: 0.5644\n",
      "Epoch 171/250\n",
      "519/519 [==============================] - 0s 69us/sample - loss: 0.6672 - val_loss: 0.5795\n",
      "Epoch 172/250\n",
      "519/519 [==============================] - 0s 71us/sample - loss: 0.6181 - val_loss: 0.5181\n",
      "Epoch 173/250\n",
      "519/519 [==============================] - 0s 69us/sample - loss: 0.6923 - val_loss: 0.4949\n",
      "Epoch 174/250\n",
      "519/519 [==============================] - 0s 71us/sample - loss: 0.7158 - val_loss: 0.5673\n",
      "Epoch 175/250\n",
      "519/519 [==============================] - 0s 66us/sample - loss: 0.7258 - val_loss: 0.5645\n",
      "Epoch 176/250\n",
      "519/519 [==============================] - 0s 69us/sample - loss: 0.7185 - val_loss: 0.5099\n",
      "Epoch 177/250\n",
      "519/519 [==============================] - 0s 71us/sample - loss: 0.7582 - val_loss: 0.5126\n",
      "Epoch 178/250\n",
      "519/519 [==============================] - 0s 67us/sample - loss: 0.7359 - val_loss: 0.5667\n",
      "Epoch 179/250\n",
      "519/519 [==============================] - 0s 69us/sample - loss: 0.7328 - val_loss: 0.5728\n",
      "Epoch 180/250\n",
      "519/519 [==============================] - 0s 69us/sample - loss: 0.7654 - val_loss: 0.4972\n",
      "Epoch 181/250\n",
      "519/519 [==============================] - 0s 67us/sample - loss: 0.6865 - val_loss: 0.5064\n",
      "Epoch 182/250\n",
      "519/519 [==============================] - 0s 71us/sample - loss: 0.7308 - val_loss: 0.5435\n",
      "Epoch 183/250\n",
      "519/519 [==============================] - 0s 69us/sample - loss: 0.6694 - val_loss: 0.5221\n",
      "Epoch 184/250\n",
      "519/519 [==============================] - 0s 69us/sample - loss: 0.7047 - val_loss: 0.5189\n",
      "Epoch 185/250\n",
      "519/519 [==============================] - 0s 67us/sample - loss: 0.7705 - val_loss: 0.5393\n",
      "Epoch 186/250\n",
      "519/519 [==============================] - 0s 75us/sample - loss: 0.7799 - val_loss: 0.5227\n",
      "Epoch 187/250\n",
      "519/519 [==============================] - 0s 77us/sample - loss: 0.6860 - val_loss: 0.4753\n",
      "Epoch 188/250\n",
      "519/519 [==============================] - 0s 71us/sample - loss: 0.6886 - val_loss: 0.5236\n",
      "Epoch 189/250\n",
      "519/519 [==============================] - 0s 71us/sample - loss: 0.7291 - val_loss: 0.5240\n",
      "Epoch 190/250\n",
      "519/519 [==============================] - 0s 69us/sample - loss: 0.6657 - val_loss: 0.5349\n",
      "Epoch 191/250\n",
      "519/519 [==============================] - 0s 71us/sample - loss: 0.7291 - val_loss: 0.5103\n",
      "Epoch 192/250\n",
      "519/519 [==============================] - 0s 66us/sample - loss: 0.6813 - val_loss: 0.4893\n",
      "Epoch 193/250\n",
      "519/519 [==============================] - 0s 66us/sample - loss: 0.6606 - val_loss: 0.5103\n",
      "Epoch 194/250\n",
      "519/519 [==============================] - 0s 69us/sample - loss: 0.7069 - val_loss: 0.5487\n",
      "Epoch 195/250\n",
      "519/519 [==============================] - 0s 67us/sample - loss: 0.7579 - val_loss: 0.4863\n",
      "Epoch 196/250\n",
      "519/519 [==============================] - 0s 67us/sample - loss: 0.6824 - val_loss: 0.4956\n",
      "Epoch 197/250\n",
      "519/519 [==============================] - 0s 66us/sample - loss: 0.6798 - val_loss: 0.5250\n",
      "Epoch 198/250\n",
      "519/519 [==============================] - 0s 66us/sample - loss: 0.7100 - val_loss: 0.5115\n",
      "Epoch 199/250\n",
      "519/519 [==============================] - 0s 69us/sample - loss: 0.7306 - val_loss: 0.4795\n",
      "Epoch 200/250\n",
      "519/519 [==============================] - 0s 69us/sample - loss: 0.6748 - val_loss: 0.5450\n",
      "Epoch 201/250\n",
      "519/519 [==============================] - 0s 71us/sample - loss: 0.7005 - val_loss: 0.5615\n",
      "Epoch 202/250\n",
      "519/519 [==============================] - 0s 69us/sample - loss: 0.7227 - val_loss: 0.4954\n",
      "Epoch 203/250\n",
      "519/519 [==============================] - 0s 66us/sample - loss: 0.7402 - val_loss: 0.5379\n",
      "Epoch 204/250\n",
      "519/519 [==============================] - 0s 67us/sample - loss: 0.6834 - val_loss: 0.5379\n",
      "Epoch 205/250\n",
      "519/519 [==============================] - 0s 71us/sample - loss: 0.6954 - val_loss: 0.5020\n",
      "Epoch 206/250\n",
      "519/519 [==============================] - 0s 71us/sample - loss: 0.6809 - val_loss: 0.4626\n",
      "Epoch 207/250\n",
      "519/519 [==============================] - 0s 67us/sample - loss: 0.7843 - val_loss: 0.4869\n",
      "Epoch 208/250\n",
      "519/519 [==============================] - 0s 69us/sample - loss: 0.6420 - val_loss: 0.5111\n",
      "Epoch 209/250\n",
      "519/519 [==============================] - ETA: 0s - loss: 0.479 - 0s 67us/sample - loss: 0.6646 - val_loss: 0.4828\n",
      "Epoch 210/250\n",
      "519/519 [==============================] - 0s 69us/sample - loss: 0.6620 - val_loss: 0.4946\n",
      "Epoch 211/250\n",
      "519/519 [==============================] - 0s 73us/sample - loss: 0.6104 - val_loss: 0.4663\n",
      "Epoch 212/250\n",
      "519/519 [==============================] - 0s 69us/sample - loss: 0.6308 - val_loss: 0.5186\n",
      "Epoch 213/250\n",
      "519/519 [==============================] - 0s 69us/sample - loss: 0.6963 - val_loss: 0.5054\n",
      "Epoch 214/250\n",
      "519/519 [==============================] - 0s 75us/sample - loss: 0.6747 - val_loss: 0.4773\n",
      "Epoch 215/250\n",
      "519/519 [==============================] - 0s 71us/sample - loss: 0.6505 - val_loss: 0.4769\n",
      "Epoch 216/250\n",
      "519/519 [==============================] - 0s 71us/sample - loss: 0.6950 - val_loss: 0.5171\n",
      "Epoch 217/250\n",
      "519/519 [==============================] - 0s 73us/sample - loss: 0.6503 - val_loss: 0.5140\n",
      "Epoch 218/250\n",
      "519/519 [==============================] - 0s 69us/sample - loss: 0.6707 - val_loss: 0.4862\n",
      "Epoch 219/250\n",
      "519/519 [==============================] - 0s 73us/sample - loss: 0.6622 - val_loss: 0.4505\n",
      "Epoch 220/250\n",
      "519/519 [==============================] - 0s 71us/sample - loss: 0.6919 - val_loss: 0.4555\n",
      "Epoch 221/250\n",
      "519/519 [==============================] - 0s 71us/sample - loss: 0.6258 - val_loss: 0.4689\n",
      "Epoch 222/250\n",
      "519/519 [==============================] - 0s 71us/sample - loss: 0.6660 - val_loss: 0.4884\n",
      "Epoch 223/250\n",
      "519/519 [==============================] - 0s 69us/sample - loss: 0.6556 - val_loss: 0.4939\n",
      "Epoch 224/250\n",
      "519/519 [==============================] - 0s 67us/sample - loss: 0.6614 - val_loss: 0.4879\n",
      "Epoch 225/250\n",
      "519/519 [==============================] - 0s 66us/sample - loss: 0.7202 - val_loss: 0.4917\n",
      "Epoch 226/250\n",
      "519/519 [==============================] - 0s 69us/sample - loss: 0.6495 - val_loss: 0.4975\n",
      "Epoch 227/250\n",
      "519/519 [==============================] - 0s 64us/sample - loss: 0.6594 - val_loss: 0.4759\n",
      "Epoch 228/250\n",
      "519/519 [==============================] - 0s 69us/sample - loss: 0.6677 - val_loss: 0.4729\n",
      "Epoch 229/250\n",
      "519/519 [==============================] - 0s 73us/sample - loss: 0.6626 - val_loss: 0.4666\n",
      "Epoch 230/250\n",
      "519/519 [==============================] - 0s 73us/sample - loss: 0.6246 - val_loss: 0.4791\n",
      "Epoch 231/250\n",
      "519/519 [==============================] - 0s 71us/sample - loss: 0.6199 - val_loss: 0.4718\n",
      "Epoch 232/250\n"
     ]
    },
    {
     "name": "stdout",
     "output_type": "stream",
     "text": [
      "519/519 [==============================] - 0s 71us/sample - loss: 0.5883 - val_loss: 0.4661\n",
      "Epoch 233/250\n",
      "519/519 [==============================] - 0s 69us/sample - loss: 0.6446 - val_loss: 0.4658\n",
      "Epoch 234/250\n",
      "519/519 [==============================] - 0s 66us/sample - loss: 0.6816 - val_loss: 0.4834\n",
      "Epoch 235/250\n",
      "519/519 [==============================] - 0s 66us/sample - loss: 0.6582 - val_loss: 0.4529\n",
      "Epoch 236/250\n",
      "519/519 [==============================] - 0s 66us/sample - loss: 0.6621 - val_loss: 0.4709\n",
      "Epoch 237/250\n",
      "519/519 [==============================] - 0s 71us/sample - loss: 0.6164 - val_loss: 0.4654\n",
      "Epoch 238/250\n",
      "519/519 [==============================] - 0s 69us/sample - loss: 0.6569 - val_loss: 0.4662\n",
      "Epoch 239/250\n",
      "519/519 [==============================] - 0s 67us/sample - loss: 0.6502 - val_loss: 0.4714\n",
      "Epoch 240/250\n",
      "519/519 [==============================] - 0s 75us/sample - loss: 0.6317 - val_loss: 0.4636\n",
      "Epoch 241/250\n",
      "519/519 [==============================] - 0s 73us/sample - loss: 0.7208 - val_loss: 0.4816\n",
      "Epoch 242/250\n",
      "519/519 [==============================] - 0s 73us/sample - loss: 0.6243 - val_loss: 0.4934\n",
      "Epoch 243/250\n",
      "519/519 [==============================] - 0s 71us/sample - loss: 0.6067 - val_loss: 0.4804\n",
      "Epoch 244/250\n",
      "519/519 [==============================] - 0s 69us/sample - loss: 0.6583 - val_loss: 0.4656\n",
      "Epoch 245/250\n",
      "519/519 [==============================] - 0s 67us/sample - loss: 0.6112 - val_loss: 0.4394\n",
      "Epoch 246/250\n",
      "519/519 [==============================] - 0s 67us/sample - loss: 0.6301 - val_loss: 0.4609\n",
      "Epoch 247/250\n",
      "519/519 [==============================] - 0s 67us/sample - loss: 0.6607 - val_loss: 0.5056\n",
      "Epoch 248/250\n",
      "519/519 [==============================] - 0s 66us/sample - loss: 0.7208 - val_loss: 0.4900\n",
      "Epoch 249/250\n",
      "519/519 [==============================] - 0s 67us/sample - loss: 0.6906 - val_loss: 0.4865\n",
      "Epoch 250/250\n",
      "519/519 [==============================] - 0s 69us/sample - loss: 0.7054 - val_loss: 0.5052\n"
     ]
    },
    {
     "data": {
      "text/plain": [
       "<tensorflow.python.keras.callbacks.History at 0x2261d9aaa08>"
      ]
     },
     "execution_count": 46,
     "metadata": {},
     "output_type": "execute_result"
    }
   ],
   "source": [
    "model = Sequential()\n",
    "\n",
    "model.add(Dense(32,activation = 'relu'))\n",
    "model.add(Dropout(0.25))\n",
    "model.add(Dense(32,activation = 'relu'))\n",
    "model.add(Dropout(0.25))\n",
    "model.add(Dense(32,activation = 'relu'))\n",
    "model.add(Dropout(0.25))\n",
    "model.add(Dense(32,activation = 'relu'))\n",
    "model.add(Dropout(0.25))\n",
    "model.add(Dense(1))\n",
    "\n",
    "model.compile(optimizer = 'adam',loss = 'mse')\n",
    "\n",
    "model.fit(X_train,y_train,validation_data = (X_base,y_base),batch_size = 64,epochs = 250)"
   ]
  },
  {
   "cell_type": "code",
   "execution_count": 47,
   "metadata": {},
   "outputs": [],
   "source": [
    "y_pred_nn_meta = model.predict(X_meta)\n",
    "y_pred_nn_test = model.predict(X_test)"
   ]
  },
  {
   "cell_type": "code",
   "execution_count": 48,
   "metadata": {},
   "outputs": [
    {
     "data": {
      "text/html": [
       "<div>\n",
       "<style scoped>\n",
       "    .dataframe tbody tr th:only-of-type {\n",
       "        vertical-align: middle;\n",
       "    }\n",
       "\n",
       "    .dataframe tbody tr th {\n",
       "        vertical-align: top;\n",
       "    }\n",
       "\n",
       "    .dataframe thead th {\n",
       "        text-align: right;\n",
       "    }\n",
       "</style>\n",
       "<table border=\"1\" class=\"dataframe\">\n",
       "  <thead>\n",
       "    <tr style=\"text-align: right;\">\n",
       "      <th></th>\n",
       "      <th>y_pred_dt_meta</th>\n",
       "      <th>y_pred_rf_meta</th>\n",
       "      <th>y_pred_xgb_meta</th>\n",
       "      <th>y_pred_nn_meta</th>\n",
       "    </tr>\n",
       "  </thead>\n",
       "  <tbody>\n",
       "    <tr>\n",
       "      <th>0</th>\n",
       "      <td>2.892857</td>\n",
       "      <td>3.227000</td>\n",
       "      <td>2.907519</td>\n",
       "      <td>2.677000</td>\n",
       "    </tr>\n",
       "    <tr>\n",
       "      <th>1</th>\n",
       "      <td>3.725000</td>\n",
       "      <td>3.851048</td>\n",
       "      <td>3.502569</td>\n",
       "      <td>3.319876</td>\n",
       "    </tr>\n",
       "    <tr>\n",
       "      <th>2</th>\n",
       "      <td>3.291667</td>\n",
       "      <td>2.926667</td>\n",
       "      <td>2.962281</td>\n",
       "      <td>2.708686</td>\n",
       "    </tr>\n",
       "    <tr>\n",
       "      <th>3</th>\n",
       "      <td>3.769231</td>\n",
       "      <td>3.497333</td>\n",
       "      <td>3.630373</td>\n",
       "      <td>3.193026</td>\n",
       "    </tr>\n",
       "    <tr>\n",
       "      <th>4</th>\n",
       "      <td>3.350000</td>\n",
       "      <td>3.941667</td>\n",
       "      <td>3.622243</td>\n",
       "      <td>3.259644</td>\n",
       "    </tr>\n",
       "  </tbody>\n",
       "</table>\n",
       "</div>"
      ],
      "text/plain": [
       "   y_pred_dt_meta  y_pred_rf_meta  y_pred_xgb_meta  y_pred_nn_meta\n",
       "0        2.892857        3.227000         2.907519        2.677000\n",
       "1        3.725000        3.851048         3.502569        3.319876\n",
       "2        3.291667        2.926667         2.962281        2.708686\n",
       "3        3.769231        3.497333         3.630373        3.193026\n",
       "4        3.350000        3.941667         3.622243        3.259644"
      ]
     },
     "execution_count": 48,
     "metadata": {},
     "output_type": "execute_result"
    }
   ],
   "source": [
    "y_pred_dt_meta = pd.DataFrame(y_pred_dt_meta)\n",
    "y_pred_rf_meta = pd.DataFrame(y_pred_rf_meta)\n",
    "y_pred_xgb_meta = pd.DataFrame(y_pred_xgb_meta)\n",
    "y_pred_nn_meta = pd.DataFrame(y_pred_nn_meta)\n",
    "\n",
    "df_X_meta = pd.concat([y_pred_dt_meta,y_pred_rf_meta,y_pred_xgb_meta,y_pred_nn_meta],axis = 1)\n",
    "df_X_meta.columns = ['y_pred_dt_meta','y_pred_rf_meta','y_pred_xgb_meta','y_pred_nn_meta']\n",
    "\n",
    "df_X_meta.head()"
   ]
  },
  {
   "cell_type": "code",
   "execution_count": 49,
   "metadata": {
    "scrolled": false
   },
   "outputs": [
    {
     "data": {
      "text/html": [
       "<div>\n",
       "<style scoped>\n",
       "    .dataframe tbody tr th:only-of-type {\n",
       "        vertical-align: middle;\n",
       "    }\n",
       "\n",
       "    .dataframe tbody tr th {\n",
       "        vertical-align: top;\n",
       "    }\n",
       "\n",
       "    .dataframe thead th {\n",
       "        text-align: right;\n",
       "    }\n",
       "</style>\n",
       "<table border=\"1\" class=\"dataframe\">\n",
       "  <thead>\n",
       "    <tr style=\"text-align: right;\">\n",
       "      <th></th>\n",
       "      <th>y_pred_dt_test</th>\n",
       "      <th>y_pred_rf_test</th>\n",
       "      <th>y_pred_xgb_test</th>\n",
       "      <th>y_pred_nn_test</th>\n",
       "    </tr>\n",
       "  </thead>\n",
       "  <tbody>\n",
       "    <tr>\n",
       "      <th>0</th>\n",
       "      <td>3.090909</td>\n",
       "      <td>3.150000</td>\n",
       "      <td>3.325236</td>\n",
       "      <td>3.271231</td>\n",
       "    </tr>\n",
       "    <tr>\n",
       "      <th>1</th>\n",
       "      <td>3.769231</td>\n",
       "      <td>3.961825</td>\n",
       "      <td>3.675190</td>\n",
       "      <td>3.216728</td>\n",
       "    </tr>\n",
       "    <tr>\n",
       "      <th>2</th>\n",
       "      <td>3.090909</td>\n",
       "      <td>2.930000</td>\n",
       "      <td>3.370053</td>\n",
       "      <td>3.368828</td>\n",
       "    </tr>\n",
       "    <tr>\n",
       "      <th>3</th>\n",
       "      <td>3.090909</td>\n",
       "      <td>2.925000</td>\n",
       "      <td>3.209392</td>\n",
       "      <td>2.919083</td>\n",
       "    </tr>\n",
       "    <tr>\n",
       "      <th>4</th>\n",
       "      <td>3.750000</td>\n",
       "      <td>3.001673</td>\n",
       "      <td>3.253415</td>\n",
       "      <td>3.096344</td>\n",
       "    </tr>\n",
       "  </tbody>\n",
       "</table>\n",
       "</div>"
      ],
      "text/plain": [
       "   y_pred_dt_test  y_pred_rf_test  y_pred_xgb_test  y_pred_nn_test\n",
       "0        3.090909        3.150000         3.325236        3.271231\n",
       "1        3.769231        3.961825         3.675190        3.216728\n",
       "2        3.090909        2.930000         3.370053        3.368828\n",
       "3        3.090909        2.925000         3.209392        2.919083\n",
       "4        3.750000        3.001673         3.253415        3.096344"
      ]
     },
     "execution_count": 49,
     "metadata": {},
     "output_type": "execute_result"
    }
   ],
   "source": [
    "y_pred_dt_test = pd.DataFrame(y_pred_dt_test)\n",
    "y_pred_rf_test = pd.DataFrame(y_pred_rf_test)\n",
    "y_pred_xgb_test = pd.DataFrame(y_pred_xgb_test)\n",
    "y_pred_nn_test = pd.DataFrame(y_pred_nn_test)\n",
    "\n",
    "df_X_test = pd.concat([y_pred_dt_test,y_pred_rf_test,y_pred_xgb_test,y_pred_nn_test],axis = 1)\n",
    "df_X_test.columns = ['y_pred_dt_test','y_pred_rf_test','y_pred_xgb_test','y_pred_nn_test']\n",
    "\n",
    "df_X_test.head()"
   ]
  },
  {
   "cell_type": "markdown",
   "metadata": {},
   "source": [
    "### Meta Model "
   ]
  },
  {
   "cell_type": "code",
   "execution_count": 50,
   "metadata": {},
   "outputs": [],
   "source": [
    "model = LinearRegression()\n",
    "model.fit(df_X_meta,y_meta)\n",
    "\n",
    "y_pred_test = model.predict(df_X_test)"
   ]
  },
  {
   "cell_type": "code",
   "execution_count": 51,
   "metadata": {},
   "outputs": [
    {
     "data": {
      "text/html": [
       "<div>\n",
       "<style scoped>\n",
       "    .dataframe tbody tr th:only-of-type {\n",
       "        vertical-align: middle;\n",
       "    }\n",
       "\n",
       "    .dataframe tbody tr th {\n",
       "        vertical-align: top;\n",
       "    }\n",
       "\n",
       "    .dataframe thead th {\n",
       "        text-align: right;\n",
       "    }\n",
       "</style>\n",
       "<table border=\"1\" class=\"dataframe\">\n",
       "  <thead>\n",
       "    <tr style=\"text-align: right;\">\n",
       "      <th></th>\n",
       "      <th>y_pred_test</th>\n",
       "      <th>y_test</th>\n",
       "    </tr>\n",
       "  </thead>\n",
       "  <tbody>\n",
       "    <tr>\n",
       "      <th>0</th>\n",
       "      <td>3.841951</td>\n",
       "      <td>5</td>\n",
       "    </tr>\n",
       "    <tr>\n",
       "      <th>1</th>\n",
       "      <td>3.571416</td>\n",
       "      <td>3</td>\n",
       "    </tr>\n",
       "    <tr>\n",
       "      <th>2</th>\n",
       "      <td>4.044325</td>\n",
       "      <td>5</td>\n",
       "    </tr>\n",
       "    <tr>\n",
       "      <th>3</th>\n",
       "      <td>3.218538</td>\n",
       "      <td>3</td>\n",
       "    </tr>\n",
       "    <tr>\n",
       "      <th>4</th>\n",
       "      <td>3.513452</td>\n",
       "      <td>3</td>\n",
       "    </tr>\n",
       "  </tbody>\n",
       "</table>\n",
       "</div>"
      ],
      "text/plain": [
       "   y_pred_test  y_test\n",
       "0     3.841951       5\n",
       "1     3.571416       3\n",
       "2     4.044325       5\n",
       "3     3.218538       3\n",
       "4     3.513452       3"
      ]
     },
     "execution_count": 51,
     "metadata": {},
     "output_type": "execute_result"
    }
   ],
   "source": [
    "y_pred_test = pd.DataFrame(y_pred_test)\n",
    "\n",
    "df_temp = pd.concat([y_pred_test,y_test],axis = 1)\n",
    "df_temp.columns = ['y_pred_test','y_test']\n",
    "\n",
    "df_temp.head()"
   ]
  },
  {
   "cell_type": "code",
   "execution_count": 52,
   "metadata": {},
   "outputs": [
    {
     "data": {
      "image/png": "[encoded data removed]",
      "text/plain": [
       "<Figure size 432x288 with 1 Axes>"
      ]
     },
     "metadata": {
      "needs_background": "light"
     },
     "output_type": "display_data"
    }
   ],
   "source": [
    "plt.scatter(df_temp['y_test'],df_temp['y_pred_test'])\n",
    "plt.xlabel('y_test',fontsize = 14)\n",
    "plt.ylabel('y_pred_test',fontsize = 14)\n",
    "plt.xlim(0,6)\n",
    "plt.ylim(0,6)\n",
    "plt.xticks(list(range(0,6)))\n",
    "plt.yticks(list(range(0,6)))\n",
    "plt.grid()\n",
    "y_lim = plt.ylim()\n",
    "x_lim = plt.xlim()\n",
    "plt.plot(x_lim,y_lim,color = 'g',linewidth = 0.5);"
   ]
  },
  {
   "cell_type": "code",
   "execution_count": 53,
   "metadata": {},
   "outputs": [
    {
     "data": {
      "text/plain": [
       "0.71522625602576"
      ]
     },
     "execution_count": 53,
     "metadata": {},
     "output_type": "execute_result"
    }
   ],
   "source": [
    "rmse(y_pred_test,y_test)"
   ]
  },
  {
   "cell_type": "code",
   "execution_count": 54,
   "metadata": {},
   "outputs": [
    {
     "data": {
      "text/plain": [
       "0.562514016574799"
      ]
     },
     "execution_count": 54,
     "metadata": {},
     "output_type": "execute_result"
    }
   ],
   "source": [
    "mean_absolute_error(y_pred_test,y_test)"
   ]
  }
 ],
 "metadata": {
  "kernelspec": {
   "display_name": "Python 3",
   "language": "python",
   "name": "python3"
  },
  "language_info": {
   "codemirror_mode": {
    "name": "ipython",
    "version": 3
   },
   "file_extension": ".py",
   "mimetype": "text/x-python",
   "name": "python",
   "nbconvert_exporter": "python",
   "pygments_lexer": "ipython3",
   "version": "3.7.7"
  }
 },
 "nbformat": 4,
 "nbformat_minor": 4
}
