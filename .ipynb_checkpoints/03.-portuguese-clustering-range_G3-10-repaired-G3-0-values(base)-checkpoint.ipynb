{
 "cells": [
  {
   "cell_type": "code",
   "execution_count": 1,
   "metadata": {},
   "outputs": [],
   "source": [
    "import numpy as np\n",
    "import pandas as pd\n",
    "\n",
    "import matplotlib.pyplot as plt\n",
    "import seaborn as sns\n",
    "%matplotlib inline\n",
    "\n",
    "from sklearn.preprocessing import StandardScaler\n",
    "\n",
    "from sklearn.decomposition import PCA\n",
    "\n",
    "from sklearn.cluster import KMeans\n",
    "\n",
    "import warnings\n",
    "warnings.filterwarnings('ignore')\n",
    "\n",
    "pd.set_option('display.max_columns',100)\n",
    "pd.set_option('display.max_rows',1000)"
   ]
  },
  {
   "cell_type": "code",
   "execution_count": 2,
   "metadata": {},
   "outputs": [
    {
     "data": {
      "text/html": [
       "<div>\n",
       "<style scoped>\n",
       "    .dataframe tbody tr th:only-of-type {\n",
       "        vertical-align: middle;\n",
       "    }\n",
       "\n",
       "    .dataframe tbody tr th {\n",
       "        vertical-align: top;\n",
       "    }\n",
       "\n",
       "    .dataframe thead th {\n",
       "        text-align: right;\n",
       "    }\n",
       "</style>\n",
       "<table border=\"1\" class=\"dataframe\">\n",
       "  <thead>\n",
       "    <tr style=\"text-align: right;\">\n",
       "      <th></th>\n",
       "      <th>school</th>\n",
       "      <th>sex</th>\n",
       "      <th>age</th>\n",
       "      <th>address</th>\n",
       "      <th>famsize</th>\n",
       "      <th>Pstatus</th>\n",
       "      <th>Medu</th>\n",
       "      <th>Fedu</th>\n",
       "      <th>traveltime</th>\n",
       "      <th>studytime</th>\n",
       "      <th>failures</th>\n",
       "      <th>schoolsup</th>\n",
       "      <th>famsup</th>\n",
       "      <th>paid</th>\n",
       "      <th>activities</th>\n",
       "      <th>nursery</th>\n",
       "      <th>higher</th>\n",
       "      <th>internet</th>\n",
       "      <th>romantic</th>\n",
       "      <th>famrel</th>\n",
       "      <th>freetime</th>\n",
       "      <th>goout</th>\n",
       "      <th>Dalc</th>\n",
       "      <th>Walc</th>\n",
       "      <th>health</th>\n",
       "      <th>absences</th>\n",
       "      <th>G3</th>\n",
       "      <th>Mjob_at_home</th>\n",
       "      <th>Mjob_other</th>\n",
       "      <th>Mjob_services</th>\n",
       "      <th>Mjob_teacher</th>\n",
       "      <th>Fjob_at_home</th>\n",
       "      <th>Fjob_other</th>\n",
       "      <th>Fjob_services</th>\n",
       "      <th>Fjob_teacher</th>\n",
       "      <th>reason_course</th>\n",
       "      <th>reason_home</th>\n",
       "      <th>reason_reputation</th>\n",
       "      <th>guardian_father</th>\n",
       "      <th>guardian_mother</th>\n",
       "    </tr>\n",
       "  </thead>\n",
       "  <tbody>\n",
       "    <tr>\n",
       "      <th>0</th>\n",
       "      <td>1</td>\n",
       "      <td>1</td>\n",
       "      <td>18</td>\n",
       "      <td>1</td>\n",
       "      <td>1</td>\n",
       "      <td>0</td>\n",
       "      <td>4</td>\n",
       "      <td>4</td>\n",
       "      <td>2</td>\n",
       "      <td>2</td>\n",
       "      <td>0</td>\n",
       "      <td>1</td>\n",
       "      <td>0</td>\n",
       "      <td>0</td>\n",
       "      <td>0</td>\n",
       "      <td>1</td>\n",
       "      <td>1</td>\n",
       "      <td>0</td>\n",
       "      <td>0</td>\n",
       "      <td>4</td>\n",
       "      <td>3</td>\n",
       "      <td>4</td>\n",
       "      <td>1</td>\n",
       "      <td>1</td>\n",
       "      <td>3</td>\n",
       "      <td>4</td>\n",
       "      <td>6</td>\n",
       "      <td>1</td>\n",
       "      <td>0</td>\n",
       "      <td>0</td>\n",
       "      <td>0</td>\n",
       "      <td>0</td>\n",
       "      <td>0</td>\n",
       "      <td>0</td>\n",
       "      <td>1</td>\n",
       "      <td>1</td>\n",
       "      <td>0</td>\n",
       "      <td>0</td>\n",
       "      <td>0</td>\n",
       "      <td>1</td>\n",
       "    </tr>\n",
       "    <tr>\n",
       "      <th>1</th>\n",
       "      <td>1</td>\n",
       "      <td>1</td>\n",
       "      <td>17</td>\n",
       "      <td>1</td>\n",
       "      <td>1</td>\n",
       "      <td>1</td>\n",
       "      <td>1</td>\n",
       "      <td>1</td>\n",
       "      <td>1</td>\n",
       "      <td>2</td>\n",
       "      <td>0</td>\n",
       "      <td>0</td>\n",
       "      <td>1</td>\n",
       "      <td>0</td>\n",
       "      <td>0</td>\n",
       "      <td>0</td>\n",
       "      <td>1</td>\n",
       "      <td>1</td>\n",
       "      <td>0</td>\n",
       "      <td>5</td>\n",
       "      <td>3</td>\n",
       "      <td>3</td>\n",
       "      <td>1</td>\n",
       "      <td>1</td>\n",
       "      <td>3</td>\n",
       "      <td>2</td>\n",
       "      <td>6</td>\n",
       "      <td>1</td>\n",
       "      <td>0</td>\n",
       "      <td>0</td>\n",
       "      <td>0</td>\n",
       "      <td>0</td>\n",
       "      <td>1</td>\n",
       "      <td>0</td>\n",
       "      <td>0</td>\n",
       "      <td>1</td>\n",
       "      <td>0</td>\n",
       "      <td>0</td>\n",
       "      <td>1</td>\n",
       "      <td>0</td>\n",
       "    </tr>\n",
       "    <tr>\n",
       "      <th>2</th>\n",
       "      <td>1</td>\n",
       "      <td>1</td>\n",
       "      <td>15</td>\n",
       "      <td>1</td>\n",
       "      <td>0</td>\n",
       "      <td>1</td>\n",
       "      <td>1</td>\n",
       "      <td>1</td>\n",
       "      <td>1</td>\n",
       "      <td>2</td>\n",
       "      <td>0</td>\n",
       "      <td>1</td>\n",
       "      <td>0</td>\n",
       "      <td>0</td>\n",
       "      <td>0</td>\n",
       "      <td>1</td>\n",
       "      <td>1</td>\n",
       "      <td>1</td>\n",
       "      <td>0</td>\n",
       "      <td>4</td>\n",
       "      <td>3</td>\n",
       "      <td>2</td>\n",
       "      <td>2</td>\n",
       "      <td>3</td>\n",
       "      <td>3</td>\n",
       "      <td>6</td>\n",
       "      <td>6</td>\n",
       "      <td>1</td>\n",
       "      <td>0</td>\n",
       "      <td>0</td>\n",
       "      <td>0</td>\n",
       "      <td>0</td>\n",
       "      <td>1</td>\n",
       "      <td>0</td>\n",
       "      <td>0</td>\n",
       "      <td>0</td>\n",
       "      <td>0</td>\n",
       "      <td>0</td>\n",
       "      <td>0</td>\n",
       "      <td>1</td>\n",
       "    </tr>\n",
       "    <tr>\n",
       "      <th>3</th>\n",
       "      <td>1</td>\n",
       "      <td>1</td>\n",
       "      <td>15</td>\n",
       "      <td>1</td>\n",
       "      <td>1</td>\n",
       "      <td>1</td>\n",
       "      <td>4</td>\n",
       "      <td>2</td>\n",
       "      <td>1</td>\n",
       "      <td>3</td>\n",
       "      <td>0</td>\n",
       "      <td>0</td>\n",
       "      <td>1</td>\n",
       "      <td>0</td>\n",
       "      <td>1</td>\n",
       "      <td>1</td>\n",
       "      <td>1</td>\n",
       "      <td>1</td>\n",
       "      <td>1</td>\n",
       "      <td>3</td>\n",
       "      <td>2</td>\n",
       "      <td>2</td>\n",
       "      <td>1</td>\n",
       "      <td>1</td>\n",
       "      <td>5</td>\n",
       "      <td>0</td>\n",
       "      <td>7</td>\n",
       "      <td>0</td>\n",
       "      <td>0</td>\n",
       "      <td>0</td>\n",
       "      <td>0</td>\n",
       "      <td>0</td>\n",
       "      <td>0</td>\n",
       "      <td>1</td>\n",
       "      <td>0</td>\n",
       "      <td>0</td>\n",
       "      <td>1</td>\n",
       "      <td>0</td>\n",
       "      <td>0</td>\n",
       "      <td>1</td>\n",
       "    </tr>\n",
       "    <tr>\n",
       "      <th>4</th>\n",
       "      <td>1</td>\n",
       "      <td>1</td>\n",
       "      <td>16</td>\n",
       "      <td>1</td>\n",
       "      <td>1</td>\n",
       "      <td>1</td>\n",
       "      <td>3</td>\n",
       "      <td>3</td>\n",
       "      <td>1</td>\n",
       "      <td>2</td>\n",
       "      <td>0</td>\n",
       "      <td>0</td>\n",
       "      <td>1</td>\n",
       "      <td>0</td>\n",
       "      <td>0</td>\n",
       "      <td>1</td>\n",
       "      <td>1</td>\n",
       "      <td>0</td>\n",
       "      <td>0</td>\n",
       "      <td>4</td>\n",
       "      <td>3</td>\n",
       "      <td>2</td>\n",
       "      <td>1</td>\n",
       "      <td>2</td>\n",
       "      <td>5</td>\n",
       "      <td>0</td>\n",
       "      <td>7</td>\n",
       "      <td>0</td>\n",
       "      <td>1</td>\n",
       "      <td>0</td>\n",
       "      <td>0</td>\n",
       "      <td>0</td>\n",
       "      <td>1</td>\n",
       "      <td>0</td>\n",
       "      <td>0</td>\n",
       "      <td>0</td>\n",
       "      <td>1</td>\n",
       "      <td>0</td>\n",
       "      <td>1</td>\n",
       "      <td>0</td>\n",
       "    </tr>\n",
       "  </tbody>\n",
       "</table>\n",
       "</div>"
      ],
      "text/plain": [
       "   school  sex  age  address  famsize  Pstatus  Medu  Fedu  traveltime  \\\n",
       "0       1    1   18        1        1        0     4     4           2   \n",
       "1       1    1   17        1        1        1     1     1           1   \n",
       "2       1    1   15        1        0        1     1     1           1   \n",
       "3       1    1   15        1        1        1     4     2           1   \n",
       "4       1    1   16        1        1        1     3     3           1   \n",
       "\n",
       "   studytime  failures  schoolsup  famsup  paid  activities  nursery  higher  \\\n",
       "0          2         0          1       0     0           0        1       1   \n",
       "1          2         0          0       1     0           0        0       1   \n",
       "2          2         0          1       0     0           0        1       1   \n",
       "3          3         0          0       1     0           1        1       1   \n",
       "4          2         0          0       1     0           0        1       1   \n",
       "\n",
       "   internet  romantic  famrel  freetime  goout  Dalc  Walc  health  absences  \\\n",
       "0         0         0       4         3      4     1     1       3         4   \n",
       "1         1         0       5         3      3     1     1       3         2   \n",
       "2         1         0       4         3      2     2     3       3         6   \n",
       "3         1         1       3         2      2     1     1       5         0   \n",
       "4         0         0       4         3      2     1     2       5         0   \n",
       "\n",
       "   G3  Mjob_at_home  Mjob_other  Mjob_services  Mjob_teacher  Fjob_at_home  \\\n",
       "0   6             1           0              0             0             0   \n",
       "1   6             1           0              0             0             0   \n",
       "2   6             1           0              0             0             0   \n",
       "3   7             0           0              0             0             0   \n",
       "4   7             0           1              0             0             0   \n",
       "\n",
       "   Fjob_other  Fjob_services  Fjob_teacher  reason_course  reason_home  \\\n",
       "0           0              0             1              1            0   \n",
       "1           1              0             0              1            0   \n",
       "2           1              0             0              0            0   \n",
       "3           0              1             0              0            1   \n",
       "4           1              0             0              0            1   \n",
       "\n",
       "   reason_reputation  guardian_father  guardian_mother  \n",
       "0                  0                0                1  \n",
       "1                  0                1                0  \n",
       "2                  0                0                1  \n",
       "3                  0                0                1  \n",
       "4                  0                1                0  "
      ]
     },
     "execution_count": 2,
     "metadata": {},
     "output_type": "execute_result"
    }
   ],
   "source": [
    "df_por = pd.read_pickle('df_por_modelling_range-G3-10_repaired-G3-0-values.pkl')\n",
    "\n",
    "df_por.head()"
   ]
  },
  {
   "cell_type": "markdown",
   "metadata": {},
   "source": [
    "## PCA "
   ]
  },
  {
   "cell_type": "code",
   "execution_count": 3,
   "metadata": {},
   "outputs": [],
   "source": [
    "X = np.array(df_por.drop('G3',axis = 1))"
   ]
  },
  {
   "cell_type": "code",
   "execution_count": 4,
   "metadata": {},
   "outputs": [
    {
     "data": {
      "text/plain": [
       "StandardScaler(copy=True, with_mean=True, with_std=True)"
      ]
     },
     "execution_count": 4,
     "metadata": {},
     "output_type": "execute_result"
    }
   ],
   "source": [
    "sc = StandardScaler()\n",
    "sc.fit(X)"
   ]
  },
  {
   "cell_type": "code",
   "execution_count": 5,
   "metadata": {},
   "outputs": [
    {
     "data": {
      "text/plain": [
       "array([[ 0.73094388,  0.83337685,  1.03169516, ..., -0.53160953,\n",
       "        -0.55539872,  0.65297291],\n",
       "       [ 0.73094388,  0.83337685,  0.21013668, ..., -0.53160953,\n",
       "         1.80050828, -1.53145709],\n",
       "       [ 0.73094388,  0.83337685, -1.43298028, ..., -0.53160953,\n",
       "        -0.55539872,  0.65297291],\n",
       "       ...,\n",
       "       [-1.36809408,  0.83337685,  1.03169516, ..., -0.53160953,\n",
       "        -0.55539872,  0.65297291],\n",
       "       [-1.36809408, -1.19993734,  0.21013668, ..., -0.53160953,\n",
       "        -0.55539872,  0.65297291],\n",
       "       [-1.36809408, -1.19993734,  1.03169516, ..., -0.53160953,\n",
       "        -0.55539872,  0.65297291]])"
      ]
     },
     "execution_count": 5,
     "metadata": {},
     "output_type": "execute_result"
    }
   ],
   "source": [
    "X = sc.transform(X)\n",
    "\n",
    "X"
   ]
  },
  {
   "cell_type": "code",
   "execution_count": 6,
   "metadata": {},
   "outputs": [
    {
     "data": {
      "text/plain": [
       "PCA(copy=True, iterated_power='auto', n_components=None, random_state=None,\n",
       "    svd_solver='auto', tol=0.0, whiten=False)"
      ]
     },
     "execution_count": 6,
     "metadata": {},
     "output_type": "execute_result"
    }
   ],
   "source": [
    "pca = PCA()\n",
    "pca.fit(X)"
   ]
  },
  {
   "cell_type": "code",
   "execution_count": 7,
   "metadata": {
    "scrolled": false
   },
   "outputs": [
    {
     "data": {
      "image/png": "[encoded data removed]",
      "text/plain": [
       "<Figure size 1152x576 with 1 Axes>"
      ]
     },
     "metadata": {
      "needs_background": "light"
     },
     "output_type": "display_data"
    }
   ],
   "source": [
    "plt.figure(figsize = (16,8))\n",
    "ax = sns.barplot(list(range(1 ,pca.n_components_ + 1)),pca.explained_variance_ratio_ * 100,color = '#1f77b4')\n",
    "plt.yticks(np.arange(0,11,1))\n",
    "plt.ylim(0,10)\n",
    "ax.yaxis.grid(True)\n",
    "plt.xlabel('PCA features',fontsize = 12)\n",
    "plt.ylabel('variance %',fontsize = 12)\n",
    "\n",
    "for rect,label in zip(ax.patches,np.around(pca.explained_variance_ratio_ * 100,1)):\n",
    "    height = rect.get_height()\n",
    "    ax.text(rect.get_x() + rect.get_width() / 2,height + 0.05,label,ha = 'center',va = 'bottom');"
   ]
  },
  {
   "cell_type": "markdown",
   "metadata": {},
   "source": [
    "## KMeans"
   ]
  },
  {
   "cell_type": "code",
   "execution_count": 8,
   "metadata": {},
   "outputs": [
    {
     "data": {
      "text/html": [
       "<div>\n",
       "<style scoped>\n",
       "    .dataframe tbody tr th:only-of-type {\n",
       "        vertical-align: middle;\n",
       "    }\n",
       "\n",
       "    .dataframe tbody tr th {\n",
       "        vertical-align: top;\n",
       "    }\n",
       "\n",
       "    .dataframe thead th {\n",
       "        text-align: right;\n",
       "    }\n",
       "</style>\n",
       "<table border=\"1\" class=\"dataframe\">\n",
       "  <thead>\n",
       "    <tr style=\"text-align: right;\">\n",
       "      <th></th>\n",
       "      <th>0</th>\n",
       "      <th>1</th>\n",
       "      <th>2</th>\n",
       "      <th>3</th>\n",
       "      <th>4</th>\n",
       "      <th>5</th>\n",
       "      <th>6</th>\n",
       "      <th>7</th>\n",
       "      <th>8</th>\n",
       "      <th>9</th>\n",
       "      <th>10</th>\n",
       "      <th>11</th>\n",
       "      <th>12</th>\n",
       "      <th>13</th>\n",
       "      <th>14</th>\n",
       "      <th>15</th>\n",
       "      <th>16</th>\n",
       "      <th>17</th>\n",
       "      <th>18</th>\n",
       "      <th>19</th>\n",
       "      <th>20</th>\n",
       "      <th>21</th>\n",
       "      <th>22</th>\n",
       "      <th>23</th>\n",
       "      <th>24</th>\n",
       "      <th>25</th>\n",
       "      <th>26</th>\n",
       "      <th>27</th>\n",
       "      <th>28</th>\n",
       "      <th>29</th>\n",
       "      <th>30</th>\n",
       "      <th>31</th>\n",
       "      <th>32</th>\n",
       "      <th>33</th>\n",
       "      <th>34</th>\n",
       "      <th>35</th>\n",
       "      <th>36</th>\n",
       "      <th>37</th>\n",
       "      <th>38</th>\n",
       "    </tr>\n",
       "  </thead>\n",
       "  <tbody>\n",
       "    <tr>\n",
       "      <th>0</th>\n",
       "      <td>-1.064655</td>\n",
       "      <td>-1.386065</td>\n",
       "      <td>0.424267</td>\n",
       "      <td>-2.515213</td>\n",
       "      <td>0.016725</td>\n",
       "      <td>2.550320</td>\n",
       "      <td>0.023941</td>\n",
       "      <td>-0.685586</td>\n",
       "      <td>1.902249</td>\n",
       "      <td>-0.005144</td>\n",
       "      <td>-0.804368</td>\n",
       "      <td>2.172631</td>\n",
       "      <td>1.271009</td>\n",
       "      <td>-0.234173</td>\n",
       "      <td>2.676208</td>\n",
       "      <td>0.886802</td>\n",
       "      <td>2.122329</td>\n",
       "      <td>-1.075100</td>\n",
       "      <td>0.559023</td>\n",
       "      <td>-0.000366</td>\n",
       "      <td>2.741512</td>\n",
       "      <td>-2.076293</td>\n",
       "      <td>-1.487494</td>\n",
       "      <td>0.153291</td>\n",
       "      <td>0.128048</td>\n",
       "      <td>0.195611</td>\n",
       "      <td>-0.387753</td>\n",
       "      <td>-0.515510</td>\n",
       "      <td>-0.792826</td>\n",
       "      <td>-0.025612</td>\n",
       "      <td>0.528988</td>\n",
       "      <td>-0.728186</td>\n",
       "      <td>-0.370668</td>\n",
       "      <td>0.542345</td>\n",
       "      <td>0.882501</td>\n",
       "      <td>-0.212962</td>\n",
       "      <td>-0.207432</td>\n",
       "      <td>-0.117560</td>\n",
       "      <td>-0.014002</td>\n",
       "    </tr>\n",
       "    <tr>\n",
       "      <th>1</th>\n",
       "      <td>1.364652</td>\n",
       "      <td>-1.695483</td>\n",
       "      <td>1.176100</td>\n",
       "      <td>1.072754</td>\n",
       "      <td>-0.282115</td>\n",
       "      <td>0.506349</td>\n",
       "      <td>0.590997</td>\n",
       "      <td>1.787064</td>\n",
       "      <td>0.650971</td>\n",
       "      <td>-0.198266</td>\n",
       "      <td>0.282317</td>\n",
       "      <td>-1.457431</td>\n",
       "      <td>0.678914</td>\n",
       "      <td>-2.907880</td>\n",
       "      <td>-0.003088</td>\n",
       "      <td>-0.325836</td>\n",
       "      <td>-0.070842</td>\n",
       "      <td>1.627198</td>\n",
       "      <td>0.241437</td>\n",
       "      <td>-1.095176</td>\n",
       "      <td>0.571739</td>\n",
       "      <td>-0.265733</td>\n",
       "      <td>-0.577111</td>\n",
       "      <td>0.290915</td>\n",
       "      <td>0.192902</td>\n",
       "      <td>-0.095116</td>\n",
       "      <td>-0.031064</td>\n",
       "      <td>-0.137630</td>\n",
       "      <td>0.056590</td>\n",
       "      <td>1.119121</td>\n",
       "      <td>0.447159</td>\n",
       "      <td>0.039175</td>\n",
       "      <td>-0.396784</td>\n",
       "      <td>0.375247</td>\n",
       "      <td>-0.036668</td>\n",
       "      <td>0.061341</td>\n",
       "      <td>-0.282591</td>\n",
       "      <td>-0.009217</td>\n",
       "      <td>0.028146</td>\n",
       "    </tr>\n",
       "    <tr>\n",
       "      <th>2</th>\n",
       "      <td>0.647821</td>\n",
       "      <td>-1.250520</td>\n",
       "      <td>-1.037277</td>\n",
       "      <td>0.008701</td>\n",
       "      <td>0.819222</td>\n",
       "      <td>-0.826050</td>\n",
       "      <td>-2.024283</td>\n",
       "      <td>0.361661</td>\n",
       "      <td>1.775373</td>\n",
       "      <td>-0.092571</td>\n",
       "      <td>0.405408</td>\n",
       "      <td>0.264489</td>\n",
       "      <td>1.532303</td>\n",
       "      <td>-1.736230</td>\n",
       "      <td>-0.491103</td>\n",
       "      <td>0.465128</td>\n",
       "      <td>1.656504</td>\n",
       "      <td>-0.776056</td>\n",
       "      <td>0.880257</td>\n",
       "      <td>0.456134</td>\n",
       "      <td>0.779867</td>\n",
       "      <td>1.794592</td>\n",
       "      <td>-1.689929</td>\n",
       "      <td>-0.147260</td>\n",
       "      <td>0.096685</td>\n",
       "      <td>0.066588</td>\n",
       "      <td>-0.194976</td>\n",
       "      <td>0.928095</td>\n",
       "      <td>0.090303</td>\n",
       "      <td>0.662172</td>\n",
       "      <td>-1.009224</td>\n",
       "      <td>-0.040994</td>\n",
       "      <td>0.591161</td>\n",
       "      <td>-0.089268</td>\n",
       "      <td>0.204691</td>\n",
       "      <td>1.003719</td>\n",
       "      <td>0.370196</td>\n",
       "      <td>-0.118349</td>\n",
       "      <td>-0.085395</td>\n",
       "    </tr>\n",
       "    <tr>\n",
       "      <th>3</th>\n",
       "      <td>-2.336449</td>\n",
       "      <td>-1.544932</td>\n",
       "      <td>0.498809</td>\n",
       "      <td>-0.487398</td>\n",
       "      <td>1.655443</td>\n",
       "      <td>0.051133</td>\n",
       "      <td>-0.885145</td>\n",
       "      <td>0.536834</td>\n",
       "      <td>-1.446241</td>\n",
       "      <td>1.242683</td>\n",
       "      <td>0.558329</td>\n",
       "      <td>-0.710508</td>\n",
       "      <td>-0.660324</td>\n",
       "      <td>0.050670</td>\n",
       "      <td>-0.728438</td>\n",
       "      <td>1.528791</td>\n",
       "      <td>-0.316885</td>\n",
       "      <td>-0.489221</td>\n",
       "      <td>-0.131293</td>\n",
       "      <td>0.687763</td>\n",
       "      <td>-0.673234</td>\n",
       "      <td>0.670444</td>\n",
       "      <td>1.697365</td>\n",
       "      <td>0.306856</td>\n",
       "      <td>0.009674</td>\n",
       "      <td>0.307264</td>\n",
       "      <td>0.114888</td>\n",
       "      <td>-0.883118</td>\n",
       "      <td>-0.484776</td>\n",
       "      <td>-0.813814</td>\n",
       "      <td>-0.424619</td>\n",
       "      <td>0.739817</td>\n",
       "      <td>0.331573</td>\n",
       "      <td>0.888384</td>\n",
       "      <td>0.844131</td>\n",
       "      <td>-0.148465</td>\n",
       "      <td>0.159961</td>\n",
       "      <td>0.656670</td>\n",
       "      <td>-0.382988</td>\n",
       "    </tr>\n",
       "    <tr>\n",
       "      <th>4</th>\n",
       "      <td>-0.660859</td>\n",
       "      <td>-1.891808</td>\n",
       "      <td>0.150075</td>\n",
       "      <td>2.696249</td>\n",
       "      <td>-0.681085</td>\n",
       "      <td>1.602953</td>\n",
       "      <td>-1.053221</td>\n",
       "      <td>0.905195</td>\n",
       "      <td>0.622334</td>\n",
       "      <td>0.183929</td>\n",
       "      <td>0.519090</td>\n",
       "      <td>-0.590905</td>\n",
       "      <td>-0.216624</td>\n",
       "      <td>0.150420</td>\n",
       "      <td>0.324168</td>\n",
       "      <td>-0.336094</td>\n",
       "      <td>0.526836</td>\n",
       "      <td>-0.059950</td>\n",
       "      <td>-1.283947</td>\n",
       "      <td>0.195613</td>\n",
       "      <td>-0.151617</td>\n",
       "      <td>-0.674455</td>\n",
       "      <td>2.020244</td>\n",
       "      <td>-0.006293</td>\n",
       "      <td>-0.114023</td>\n",
       "      <td>-0.238040</td>\n",
       "      <td>0.707090</td>\n",
       "      <td>0.271444</td>\n",
       "      <td>0.352965</td>\n",
       "      <td>-0.155560</td>\n",
       "      <td>0.669852</td>\n",
       "      <td>0.219407</td>\n",
       "      <td>0.867804</td>\n",
       "      <td>-0.294847</td>\n",
       "      <td>0.284602</td>\n",
       "      <td>-0.047915</td>\n",
       "      <td>-0.072976</td>\n",
       "      <td>-0.255362</td>\n",
       "      <td>-0.040759</td>\n",
       "    </tr>\n",
       "  </tbody>\n",
       "</table>\n",
       "</div>"
      ],
      "text/plain": [
       "          0         1         2         3         4         5         6  \\\n",
       "0 -1.064655 -1.386065  0.424267 -2.515213  0.016725  2.550320  0.023941   \n",
       "1  1.364652 -1.695483  1.176100  1.072754 -0.282115  0.506349  0.590997   \n",
       "2  0.647821 -1.250520 -1.037277  0.008701  0.819222 -0.826050 -2.024283   \n",
       "3 -2.336449 -1.544932  0.498809 -0.487398  1.655443  0.051133 -0.885145   \n",
       "4 -0.660859 -1.891808  0.150075  2.696249 -0.681085  1.602953 -1.053221   \n",
       "\n",
       "          7         8         9        10        11        12        13  \\\n",
       "0 -0.685586  1.902249 -0.005144 -0.804368  2.172631  1.271009 -0.234173   \n",
       "1  1.787064  0.650971 -0.198266  0.282317 -1.457431  0.678914 -2.907880   \n",
       "2  0.361661  1.775373 -0.092571  0.405408  0.264489  1.532303 -1.736230   \n",
       "3  0.536834 -1.446241  1.242683  0.558329 -0.710508 -0.660324  0.050670   \n",
       "4  0.905195  0.622334  0.183929  0.519090 -0.590905 -0.216624  0.150420   \n",
       "\n",
       "         14        15        16        17        18        19        20  \\\n",
       "0  2.676208  0.886802  2.122329 -1.075100  0.559023 -0.000366  2.741512   \n",
       "1 -0.003088 -0.325836 -0.070842  1.627198  0.241437 -1.095176  0.571739   \n",
       "2 -0.491103  0.465128  1.656504 -0.776056  0.880257  0.456134  0.779867   \n",
       "3 -0.728438  1.528791 -0.316885 -0.489221 -0.131293  0.687763 -0.673234   \n",
       "4  0.324168 -0.336094  0.526836 -0.059950 -1.283947  0.195613 -0.151617   \n",
       "\n",
       "         21        22        23        24        25        26        27  \\\n",
       "0 -2.076293 -1.487494  0.153291  0.128048  0.195611 -0.387753 -0.515510   \n",
       "1 -0.265733 -0.577111  0.290915  0.192902 -0.095116 -0.031064 -0.137630   \n",
       "2  1.794592 -1.689929 -0.147260  0.096685  0.066588 -0.194976  0.928095   \n",
       "3  0.670444  1.697365  0.306856  0.009674  0.307264  0.114888 -0.883118   \n",
       "4 -0.674455  2.020244 -0.006293 -0.114023 -0.238040  0.707090  0.271444   \n",
       "\n",
       "         28        29        30        31        32        33        34  \\\n",
       "0 -0.792826 -0.025612  0.528988 -0.728186 -0.370668  0.542345  0.882501   \n",
       "1  0.056590  1.119121  0.447159  0.039175 -0.396784  0.375247 -0.036668   \n",
       "2  0.090303  0.662172 -1.009224 -0.040994  0.591161 -0.089268  0.204691   \n",
       "3 -0.484776 -0.813814 -0.424619  0.739817  0.331573  0.888384  0.844131   \n",
       "4  0.352965 -0.155560  0.669852  0.219407  0.867804 -0.294847  0.284602   \n",
       "\n",
       "         35        36        37        38  \n",
       "0 -0.212962 -0.207432 -0.117560 -0.014002  \n",
       "1  0.061341 -0.282591 -0.009217  0.028146  \n",
       "2  1.003719  0.370196 -0.118349 -0.085395  \n",
       "3 -0.148465  0.159961  0.656670 -0.382988  \n",
       "4 -0.047915 -0.072976 -0.255362 -0.040759  "
      ]
     },
     "execution_count": 8,
     "metadata": {},
     "output_type": "execute_result"
    }
   ],
   "source": [
    "df_por_pca = pd.DataFrame(pca.transform(X))\n",
    "\n",
    "df_por_pca.head()"
   ]
  },
  {
   "cell_type": "code",
   "execution_count": 9,
   "metadata": {},
   "outputs": [
    {
     "data": {
      "text/plain": [
       "(649, 39)"
      ]
     },
     "execution_count": 9,
     "metadata": {},
     "output_type": "execute_result"
    }
   ],
   "source": [
    "df_por_pca.shape"
   ]
  },
  {
   "cell_type": "code",
   "execution_count": 10,
   "metadata": {},
   "outputs": [],
   "source": [
    "clusters = range(1,10)\n",
    "inertias = []\n",
    "\n",
    "for k in clusters:\n",
    "    model = KMeans(n_clusters = k)\n",
    "    model.fit(df_por_pca.iloc[:,:4])\n",
    "    inertias.append(model.inertia_)"
   ]
  },
  {
   "cell_type": "code",
   "execution_count": 11,
   "metadata": {
    "scrolled": false
   },
   "outputs": [
    {
     "data": {
      "image/png": "[encoded data removed]",
      "text/plain": [
       "<Figure size 504x504 with 1 Axes>"
      ]
     },
     "metadata": {
      "needs_background": "light"
     },
     "output_type": "display_data"
    }
   ],
   "source": [
    "plt.figure(figsize = (7,7))\n",
    "plt.plot(clusters,inertias,'-o')\n",
    "plt.xlabel('n clusters',fontsize = 12)\n",
    "plt.ylabel('inertia',fontsize = 12)\n",
    "plt.xticks(clusters);"
   ]
  },
  {
   "cell_type": "code",
   "execution_count": 12,
   "metadata": {},
   "outputs": [
    {
     "data": {
      "text/plain": [
       "KMeans(algorithm='auto', copy_x=True, init='k-means++', max_iter=300,\n",
       "       n_clusters=5, n_init=10, n_jobs=None, precompute_distances='auto',\n",
       "       random_state=42, tol=0.0001, verbose=0)"
      ]
     },
     "execution_count": 12,
     "metadata": {},
     "output_type": "execute_result"
    }
   ],
   "source": [
    "model = KMeans(n_clusters = 5,random_state = 42)\n",
    "model.fit(X)"
   ]
  },
  {
   "cell_type": "code",
   "execution_count": 13,
   "metadata": {},
   "outputs": [],
   "source": [
    "y_kmeans = model.predict(X)"
   ]
  },
  {
   "cell_type": "code",
   "execution_count": 14,
   "metadata": {},
   "outputs": [],
   "source": [
    "y_kmeans = pd.DataFrame(y_kmeans)\n",
    "\n",
    "y_kmeans.columns = ['cluster']"
   ]
  },
  {
   "cell_type": "code",
   "execution_count": 15,
   "metadata": {
    "scrolled": true
   },
   "outputs": [
    {
     "data": {
      "text/html": [
       "<div>\n",
       "<style scoped>\n",
       "    .dataframe tbody tr th:only-of-type {\n",
       "        vertical-align: middle;\n",
       "    }\n",
       "\n",
       "    .dataframe tbody tr th {\n",
       "        vertical-align: top;\n",
       "    }\n",
       "\n",
       "    .dataframe thead th {\n",
       "        text-align: right;\n",
       "    }\n",
       "</style>\n",
       "<table border=\"1\" class=\"dataframe\">\n",
       "  <thead>\n",
       "    <tr style=\"text-align: right;\">\n",
       "      <th></th>\n",
       "      <th>school</th>\n",
       "      <th>sex</th>\n",
       "      <th>age</th>\n",
       "      <th>address</th>\n",
       "      <th>famsize</th>\n",
       "      <th>Pstatus</th>\n",
       "      <th>Medu</th>\n",
       "      <th>Fedu</th>\n",
       "      <th>traveltime</th>\n",
       "      <th>studytime</th>\n",
       "      <th>failures</th>\n",
       "      <th>schoolsup</th>\n",
       "      <th>famsup</th>\n",
       "      <th>paid</th>\n",
       "      <th>activities</th>\n",
       "      <th>nursery</th>\n",
       "      <th>higher</th>\n",
       "      <th>internet</th>\n",
       "      <th>romantic</th>\n",
       "      <th>famrel</th>\n",
       "      <th>freetime</th>\n",
       "      <th>goout</th>\n",
       "      <th>Dalc</th>\n",
       "      <th>Walc</th>\n",
       "      <th>health</th>\n",
       "      <th>absences</th>\n",
       "      <th>G3</th>\n",
       "      <th>Mjob_at_home</th>\n",
       "      <th>Mjob_other</th>\n",
       "      <th>Mjob_services</th>\n",
       "      <th>Mjob_teacher</th>\n",
       "      <th>Fjob_at_home</th>\n",
       "      <th>Fjob_other</th>\n",
       "      <th>Fjob_services</th>\n",
       "      <th>Fjob_teacher</th>\n",
       "      <th>reason_course</th>\n",
       "      <th>reason_home</th>\n",
       "      <th>reason_reputation</th>\n",
       "      <th>guardian_father</th>\n",
       "      <th>guardian_mother</th>\n",
       "      <th>cluster</th>\n",
       "    </tr>\n",
       "  </thead>\n",
       "  <tbody>\n",
       "    <tr>\n",
       "      <th>0</th>\n",
       "      <td>1</td>\n",
       "      <td>1</td>\n",
       "      <td>18</td>\n",
       "      <td>1</td>\n",
       "      <td>1</td>\n",
       "      <td>0</td>\n",
       "      <td>4</td>\n",
       "      <td>4</td>\n",
       "      <td>2</td>\n",
       "      <td>2</td>\n",
       "      <td>0</td>\n",
       "      <td>1</td>\n",
       "      <td>0</td>\n",
       "      <td>0</td>\n",
       "      <td>0</td>\n",
       "      <td>1</td>\n",
       "      <td>1</td>\n",
       "      <td>0</td>\n",
       "      <td>0</td>\n",
       "      <td>4</td>\n",
       "      <td>3</td>\n",
       "      <td>4</td>\n",
       "      <td>1</td>\n",
       "      <td>1</td>\n",
       "      <td>3</td>\n",
       "      <td>4</td>\n",
       "      <td>6</td>\n",
       "      <td>1</td>\n",
       "      <td>0</td>\n",
       "      <td>0</td>\n",
       "      <td>0</td>\n",
       "      <td>0</td>\n",
       "      <td>0</td>\n",
       "      <td>0</td>\n",
       "      <td>1</td>\n",
       "      <td>1</td>\n",
       "      <td>0</td>\n",
       "      <td>0</td>\n",
       "      <td>0</td>\n",
       "      <td>1</td>\n",
       "      <td>1</td>\n",
       "    </tr>\n",
       "    <tr>\n",
       "      <th>1</th>\n",
       "      <td>1</td>\n",
       "      <td>1</td>\n",
       "      <td>17</td>\n",
       "      <td>1</td>\n",
       "      <td>1</td>\n",
       "      <td>1</td>\n",
       "      <td>1</td>\n",
       "      <td>1</td>\n",
       "      <td>1</td>\n",
       "      <td>2</td>\n",
       "      <td>0</td>\n",
       "      <td>0</td>\n",
       "      <td>1</td>\n",
       "      <td>0</td>\n",
       "      <td>0</td>\n",
       "      <td>0</td>\n",
       "      <td>1</td>\n",
       "      <td>1</td>\n",
       "      <td>0</td>\n",
       "      <td>5</td>\n",
       "      <td>3</td>\n",
       "      <td>3</td>\n",
       "      <td>1</td>\n",
       "      <td>1</td>\n",
       "      <td>3</td>\n",
       "      <td>2</td>\n",
       "      <td>6</td>\n",
       "      <td>1</td>\n",
       "      <td>0</td>\n",
       "      <td>0</td>\n",
       "      <td>0</td>\n",
       "      <td>0</td>\n",
       "      <td>1</td>\n",
       "      <td>0</td>\n",
       "      <td>0</td>\n",
       "      <td>1</td>\n",
       "      <td>0</td>\n",
       "      <td>0</td>\n",
       "      <td>1</td>\n",
       "      <td>0</td>\n",
       "      <td>2</td>\n",
       "    </tr>\n",
       "    <tr>\n",
       "      <th>2</th>\n",
       "      <td>1</td>\n",
       "      <td>1</td>\n",
       "      <td>15</td>\n",
       "      <td>1</td>\n",
       "      <td>0</td>\n",
       "      <td>1</td>\n",
       "      <td>1</td>\n",
       "      <td>1</td>\n",
       "      <td>1</td>\n",
       "      <td>2</td>\n",
       "      <td>0</td>\n",
       "      <td>1</td>\n",
       "      <td>0</td>\n",
       "      <td>0</td>\n",
       "      <td>0</td>\n",
       "      <td>1</td>\n",
       "      <td>1</td>\n",
       "      <td>1</td>\n",
       "      <td>0</td>\n",
       "      <td>4</td>\n",
       "      <td>3</td>\n",
       "      <td>2</td>\n",
       "      <td>2</td>\n",
       "      <td>3</td>\n",
       "      <td>3</td>\n",
       "      <td>6</td>\n",
       "      <td>6</td>\n",
       "      <td>1</td>\n",
       "      <td>0</td>\n",
       "      <td>0</td>\n",
       "      <td>0</td>\n",
       "      <td>0</td>\n",
       "      <td>1</td>\n",
       "      <td>0</td>\n",
       "      <td>0</td>\n",
       "      <td>0</td>\n",
       "      <td>0</td>\n",
       "      <td>0</td>\n",
       "      <td>0</td>\n",
       "      <td>1</td>\n",
       "      <td>3</td>\n",
       "    </tr>\n",
       "    <tr>\n",
       "      <th>3</th>\n",
       "      <td>1</td>\n",
       "      <td>1</td>\n",
       "      <td>15</td>\n",
       "      <td>1</td>\n",
       "      <td>1</td>\n",
       "      <td>1</td>\n",
       "      <td>4</td>\n",
       "      <td>2</td>\n",
       "      <td>1</td>\n",
       "      <td>3</td>\n",
       "      <td>0</td>\n",
       "      <td>0</td>\n",
       "      <td>1</td>\n",
       "      <td>0</td>\n",
       "      <td>1</td>\n",
       "      <td>1</td>\n",
       "      <td>1</td>\n",
       "      <td>1</td>\n",
       "      <td>1</td>\n",
       "      <td>3</td>\n",
       "      <td>2</td>\n",
       "      <td>2</td>\n",
       "      <td>1</td>\n",
       "      <td>1</td>\n",
       "      <td>5</td>\n",
       "      <td>0</td>\n",
       "      <td>7</td>\n",
       "      <td>0</td>\n",
       "      <td>0</td>\n",
       "      <td>0</td>\n",
       "      <td>0</td>\n",
       "      <td>0</td>\n",
       "      <td>0</td>\n",
       "      <td>1</td>\n",
       "      <td>0</td>\n",
       "      <td>0</td>\n",
       "      <td>1</td>\n",
       "      <td>0</td>\n",
       "      <td>0</td>\n",
       "      <td>1</td>\n",
       "      <td>1</td>\n",
       "    </tr>\n",
       "    <tr>\n",
       "      <th>4</th>\n",
       "      <td>1</td>\n",
       "      <td>1</td>\n",
       "      <td>16</td>\n",
       "      <td>1</td>\n",
       "      <td>1</td>\n",
       "      <td>1</td>\n",
       "      <td>3</td>\n",
       "      <td>3</td>\n",
       "      <td>1</td>\n",
       "      <td>2</td>\n",
       "      <td>0</td>\n",
       "      <td>0</td>\n",
       "      <td>1</td>\n",
       "      <td>0</td>\n",
       "      <td>0</td>\n",
       "      <td>1</td>\n",
       "      <td>1</td>\n",
       "      <td>0</td>\n",
       "      <td>0</td>\n",
       "      <td>4</td>\n",
       "      <td>3</td>\n",
       "      <td>2</td>\n",
       "      <td>1</td>\n",
       "      <td>2</td>\n",
       "      <td>5</td>\n",
       "      <td>0</td>\n",
       "      <td>7</td>\n",
       "      <td>0</td>\n",
       "      <td>1</td>\n",
       "      <td>0</td>\n",
       "      <td>0</td>\n",
       "      <td>0</td>\n",
       "      <td>1</td>\n",
       "      <td>0</td>\n",
       "      <td>0</td>\n",
       "      <td>0</td>\n",
       "      <td>1</td>\n",
       "      <td>0</td>\n",
       "      <td>1</td>\n",
       "      <td>0</td>\n",
       "      <td>2</td>\n",
       "    </tr>\n",
       "  </tbody>\n",
       "</table>\n",
       "</div>"
      ],
      "text/plain": [
       "   school  sex  age  address  famsize  Pstatus  Medu  Fedu  traveltime  \\\n",
       "0       1    1   18        1        1        0     4     4           2   \n",
       "1       1    1   17        1        1        1     1     1           1   \n",
       "2       1    1   15        1        0        1     1     1           1   \n",
       "3       1    1   15        1        1        1     4     2           1   \n",
       "4       1    1   16        1        1        1     3     3           1   \n",
       "\n",
       "   studytime  failures  schoolsup  famsup  paid  activities  nursery  higher  \\\n",
       "0          2         0          1       0     0           0        1       1   \n",
       "1          2         0          0       1     0           0        0       1   \n",
       "2          2         0          1       0     0           0        1       1   \n",
       "3          3         0          0       1     0           1        1       1   \n",
       "4          2         0          0       1     0           0        1       1   \n",
       "\n",
       "   internet  romantic  famrel  freetime  goout  Dalc  Walc  health  absences  \\\n",
       "0         0         0       4         3      4     1     1       3         4   \n",
       "1         1         0       5         3      3     1     1       3         2   \n",
       "2         1         0       4         3      2     2     3       3         6   \n",
       "3         1         1       3         2      2     1     1       5         0   \n",
       "4         0         0       4         3      2     1     2       5         0   \n",
       "\n",
       "   G3  Mjob_at_home  Mjob_other  Mjob_services  Mjob_teacher  Fjob_at_home  \\\n",
       "0   6             1           0              0             0             0   \n",
       "1   6             1           0              0             0             0   \n",
       "2   6             1           0              0             0             0   \n",
       "3   7             0           0              0             0             0   \n",
       "4   7             0           1              0             0             0   \n",
       "\n",
       "   Fjob_other  Fjob_services  Fjob_teacher  reason_course  reason_home  \\\n",
       "0           0              0             1              1            0   \n",
       "1           1              0             0              1            0   \n",
       "2           1              0             0              0            0   \n",
       "3           0              1             0              0            1   \n",
       "4           1              0             0              0            1   \n",
       "\n",
       "   reason_reputation  guardian_father  guardian_mother  cluster  \n",
       "0                  0                0                1        1  \n",
       "1                  0                1                0        2  \n",
       "2                  0                0                1        3  \n",
       "3                  0                0                1        1  \n",
       "4                  0                1                0        2  "
      ]
     },
     "execution_count": 15,
     "metadata": {},
     "output_type": "execute_result"
    }
   ],
   "source": [
    "df_por = pd.concat([df_por,y_kmeans],axis = 1)\n",
    "\n",
    "df_por.head()"
   ]
  },
  {
   "cell_type": "code",
   "execution_count": 16,
   "metadata": {},
   "outputs": [
    {
     "data": {
      "text/plain": [
       "0     85\n",
       "1    212\n",
       "2    121\n",
       "3    158\n",
       "4     73\n",
       "Name: cluster, dtype: int64"
      ]
     },
     "execution_count": 16,
     "metadata": {},
     "output_type": "execute_result"
    }
   ],
   "source": [
    "df_por['cluster'].value_counts().sort_index()"
   ]
  },
  {
   "cell_type": "code",
   "execution_count": 17,
   "metadata": {},
   "outputs": [],
   "source": [
    "df_por_cluster_0 = df_por[df_por['cluster'] == 0]"
   ]
  },
  {
   "cell_type": "code",
   "execution_count": 18,
   "metadata": {},
   "outputs": [
    {
     "data": {
      "image/png": "[encoded data removed]",
      "text/plain": [
       "<Figure size 720x576 with 1 Axes>"
      ]
     },
     "metadata": {
      "needs_background": "light"
     },
     "output_type": "display_data"
    }
   ],
   "source": [
    "plt.figure(figsize = (10,8))\n",
    "ax = sns.countplot(df_por_cluster_0['G3'])\n",
    "plt.yticks(np.arange(0,41,5))\n",
    "plt.xlim(0,10)\n",
    "plt.ylim(0,41)\n",
    "ax.yaxis.grid(True)\n",
    "plt.xlabel('G3(Final Grade)',fontsize = 12)\n",
    "plt.ylabel('Count',fontsize = 12)\n",
    "for p in ax.patches:\n",
    "    ax.text(p.get_x() + p.get_width() / 2,p.get_height() + 0.3,p.get_height(),ha = 'center')"
   ]
  },
  {
   "cell_type": "code",
   "execution_count": 19,
   "metadata": {},
   "outputs": [
    {
     "data": {
      "text/plain": [
       "5    0.44\n",
       "4    0.25\n",
       "6    0.22\n",
       "Name: G3, dtype: float64"
      ]
     },
     "execution_count": 19,
     "metadata": {},
     "output_type": "execute_result"
    }
   ],
   "source": [
    "round(df_por_cluster_0['G3'].value_counts(normalize = True).sort_values(ascending = False),2).head(3)"
   ]
  },
  {
   "cell_type": "code",
   "execution_count": 20,
   "metadata": {},
   "outputs": [],
   "source": [
    "df_por_cluster_1 = df_por[df_por['cluster'] == 1]"
   ]
  },
  {
   "cell_type": "code",
   "execution_count": 21,
   "metadata": {
    "scrolled": false
   },
   "outputs": [
    {
     "data": {
      "image/png": "[encoded data removed]",
      "text/plain": [
       "<Figure size 720x576 with 1 Axes>"
      ]
     },
     "metadata": {
      "needs_background": "light"
     },
     "output_type": "display_data"
    }
   ],
   "source": [
    "plt.figure(figsize = (10,8))\n",
    "ax = sns.countplot(df_por_cluster_1['G3'])\n",
    "plt.yticks(np.arange(0,70,5))\n",
    "plt.xlim(0,10)\n",
    "plt.ylim(0,70)\n",
    "ax.yaxis.grid(True)\n",
    "plt.xlabel('G3(Final Grade)',fontsize = 12)\n",
    "plt.ylabel('Count',fontsize = 12)\n",
    "for p in ax.patches:\n",
    "    ax.text(p.get_x() + p.get_width() / 2,p.get_height() + 0.3,p.get_height(),ha = 'center')"
   ]
  },
  {
   "cell_type": "code",
   "execution_count": 22,
   "metadata": {},
   "outputs": [
    {
     "data": {
      "text/plain": [
       "7    0.30\n",
       "6    0.24\n",
       "8    0.19\n",
       "Name: G3, dtype: float64"
      ]
     },
     "execution_count": 22,
     "metadata": {},
     "output_type": "execute_result"
    }
   ],
   "source": [
    "round(df_por_cluster_1['G3'].value_counts(normalize = True).sort_values(ascending = False),2).head(3)"
   ]
  },
  {
   "cell_type": "code",
   "execution_count": 23,
   "metadata": {},
   "outputs": [],
   "source": [
    "df_por_cluster_2 = df_por[df_por['cluster'] == 2]"
   ]
  },
  {
   "cell_type": "code",
   "execution_count": 24,
   "metadata": {},
   "outputs": [
    {
     "data": {
      "image/png": "[encoded data removed]",
      "text/plain": [
       "<Figure size 720x576 with 1 Axes>"
      ]
     },
     "metadata": {
      "needs_background": "light"
     },
     "output_type": "display_data"
    }
   ],
   "source": [
    "plt.figure(figsize = (10,8))\n",
    "ax = sns.countplot(df_por_cluster_2['G3'])\n",
    "plt.yticks(np.arange(0,46,5))\n",
    "plt.xlim(0,10)\n",
    "plt.ylim(0,46)\n",
    "ax.yaxis.grid(True)\n",
    "plt.xlabel('G3(Final Grade)',fontsize = 12)\n",
    "plt.ylabel('Count',fontsize = 12)\n",
    "for p in ax.patches:\n",
    "    ax.text(p.get_x() + p.get_width() / 2,p.get_height() + 0.3,p.get_height(),ha = 'center')"
   ]
  },
  {
   "cell_type": "code",
   "execution_count": 25,
   "metadata": {},
   "outputs": [
    {
     "data": {
      "text/plain": [
       "6    0.33\n",
       "7    0.27\n",
       "8    0.17\n",
       "Name: G3, dtype: float64"
      ]
     },
     "execution_count": 25,
     "metadata": {},
     "output_type": "execute_result"
    }
   ],
   "source": [
    "round(df_por_cluster_2['G3'].value_counts(normalize = True).sort_values(ascending = False),2).head(3)"
   ]
  },
  {
   "cell_type": "code",
   "execution_count": 26,
   "metadata": {},
   "outputs": [],
   "source": [
    "df_por_cluster_3 = df_por[df_por['cluster'] == 3]"
   ]
  },
  {
   "cell_type": "code",
   "execution_count": 27,
   "metadata": {},
   "outputs": [
    {
     "data": {
      "image/png": "[encoded data removed]",
      "text/plain": [
       "<Figure size 720x576 with 1 Axes>"
      ]
     },
     "metadata": {
      "needs_background": "light"
     },
     "output_type": "display_data"
    }
   ],
   "source": [
    "plt.figure(figsize = (10,8))\n",
    "ax = sns.countplot(df_por_cluster_3['G3'])\n",
    "plt.yticks(np.arange(0,51,5))\n",
    "plt.xlim(0,10)\n",
    "plt.ylim(0,51)\n",
    "ax.yaxis.grid(True)\n",
    "plt.xlabel('G3(Final Grade)',fontsize = 12)\n",
    "plt.ylabel('Count',fontsize = 12)\n",
    "for p in ax.patches:\n",
    "    ax.text(p.get_x() + p.get_width() / 2,p.get_height() + 0.3,p.get_height(),ha = 'center')"
   ]
  },
  {
   "cell_type": "code",
   "execution_count": 28,
   "metadata": {},
   "outputs": [
    {
     "data": {
      "text/plain": [
       "5    0.29\n",
       "6    0.28\n",
       "7    0.16\n",
       "Name: G3, dtype: float64"
      ]
     },
     "execution_count": 28,
     "metadata": {},
     "output_type": "execute_result"
    }
   ],
   "source": [
    "round(df_por_cluster_3['G3'].value_counts(normalize = True).sort_values(ascending = False),2).head(3)"
   ]
  },
  {
   "cell_type": "code",
   "execution_count": 29,
   "metadata": {},
   "outputs": [],
   "source": [
    "df_por_cluster_4 = df_por[df_por['cluster'] == 4]"
   ]
  },
  {
   "cell_type": "code",
   "execution_count": 30,
   "metadata": {
    "scrolled": false
   },
   "outputs": [
    {
     "data": {
      "image/png": "[encoded data removed]",
      "text/plain": [
       "<Figure size 720x576 with 1 Axes>"
      ]
     },
     "metadata": {
      "needs_background": "light"
     },
     "output_type": "display_data"
    }
   ],
   "source": [
    "plt.figure(figsize = (10,8))\n",
    "ax = sns.countplot(df_por_cluster_4['G3'])\n",
    "plt.yticks(np.arange(0,26,5))\n",
    "plt.xlim(0,10)\n",
    "plt.ylim(0,26)\n",
    "ax.yaxis.grid(True)\n",
    "plt.xlabel('G3(Final Grade)',fontsize = 12)\n",
    "plt.ylabel('Count',fontsize = 12)\n",
    "for p in ax.patches:\n",
    "    ax.text(p.get_x() + p.get_width() / 2,p.get_height() + 0.3,p.get_height(),ha = 'center')"
   ]
  },
  {
   "cell_type": "code",
   "execution_count": 31,
   "metadata": {},
   "outputs": [
    {
     "data": {
      "text/plain": [
       "6    0.29\n",
       "7    0.29\n",
       "8    0.16\n",
       "Name: G3, dtype: float64"
      ]
     },
     "execution_count": 31,
     "metadata": {},
     "output_type": "execute_result"
    }
   ],
   "source": [
    "round(df_por_cluster_4['G3'].value_counts(normalize = True).sort_values(ascending = False),2).head(3)"
   ]
  },
  {
   "cell_type": "code",
   "execution_count": null,
   "metadata": {},
   "outputs": [],
   "source": []
  }
 ],
 "metadata": {
  "kernelspec": {
   "display_name": "Python 3",
   "language": "python",
   "name": "python3"
  },
  "language_info": {
   "codemirror_mode": {
    "name": "ipython",
    "version": 3
   },
   "file_extension": ".py",
   "mimetype": "text/x-python",
   "name": "python",
   "nbconvert_exporter": "python",
   "pygments_lexer": "ipython3",
   "version": "3.7.6"
  }
 },
 "nbformat": 4,
 "nbformat_minor": 4
}
